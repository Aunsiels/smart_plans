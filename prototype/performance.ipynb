{
 "cells": [
  {
   "cell_type": "code",
   "execution_count": 1,
   "metadata": {},
   "outputs": [
    {
     "data": {
      "text/html": [
       "<script>requirejs.config({paths: { 'plotly': ['https://cdn.plot.ly/plotly-latest.min']},});if(!window.Plotly) {{require(['plotly'],function(plotly) {window.Plotly=plotly;});}}</script>"
      ],
      "text/vnd.plotly.v1+html": [
       "<script>requirejs.config({paths: { 'plotly': ['https://cdn.plot.ly/plotly-latest.min']},});if(!window.Plotly) {{require(['plotly'],function(plotly) {window.Plotly=plotly;});}}</script>"
      ]
     },
     "metadata": {},
     "output_type": "display_data"
    }
   ],
   "source": [
    "import pandas as pd\n",
    "import numpy as np\n",
    "from plotly.offline import download_plotlyjs, init_notebook_mode, plot, iplot\n",
    "import plotly\n",
    "from plotly.graph_objs import Scatter, Figure, Layout, Histogram\n",
    "init_notebook_mode(connected=True)\n",
    "np.random.seed(68)\n",
    "%matplotlib inline"
   ]
  },
  {
   "cell_type": "code",
   "execution_count": 2,
   "metadata": {
    "collapsed": true
   },
   "outputs": [],
   "source": [
    "df = pd.read_csv(\"performances2.csv\")"
   ]
  },
  {
   "cell_type": "code",
   "execution_count": 3,
   "metadata": {},
   "outputs": [
    {
     "data": {
      "text/html": [
       "<div>\n",
       "<table border=\"1\" class=\"dataframe\">\n",
       "  <thead>\n",
       "    <tr style=\"text-align: right;\">\n",
       "      <th></th>\n",
       "      <th>optim</th>\n",
       "      <th>n_functions</th>\n",
       "      <th>time</th>\n",
       "      <th>n_relations</th>\n",
       "      <th>size_max</th>\n",
       "    </tr>\n",
       "  </thead>\n",
       "  <tbody>\n",
       "    <tr>\n",
       "      <th>0</th>\n",
       "      <td>0</td>\n",
       "      <td>1</td>\n",
       "      <td>0.021501</td>\n",
       "      <td>10</td>\n",
       "      <td>10</td>\n",
       "    </tr>\n",
       "    <tr>\n",
       "      <th>1</th>\n",
       "      <td>1</td>\n",
       "      <td>1</td>\n",
       "      <td>0.021263</td>\n",
       "      <td>10</td>\n",
       "      <td>10</td>\n",
       "    </tr>\n",
       "    <tr>\n",
       "      <th>2</th>\n",
       "      <td>2</td>\n",
       "      <td>1</td>\n",
       "      <td>0.023237</td>\n",
       "      <td>10</td>\n",
       "      <td>10</td>\n",
       "    </tr>\n",
       "    <tr>\n",
       "      <th>3</th>\n",
       "      <td>3</td>\n",
       "      <td>1</td>\n",
       "      <td>0.019265</td>\n",
       "      <td>10</td>\n",
       "      <td>10</td>\n",
       "    </tr>\n",
       "    <tr>\n",
       "      <th>4</th>\n",
       "      <td>0</td>\n",
       "      <td>2</td>\n",
       "      <td>0.083337</td>\n",
       "      <td>10</td>\n",
       "      <td>10</td>\n",
       "    </tr>\n",
       "  </tbody>\n",
       "</table>\n",
       "</div>"
      ],
      "text/plain": [
       "   optim  n_functions      time  n_relations  size_max\n",
       "0      0            1  0.021501           10        10\n",
       "1      1            1  0.021263           10        10\n",
       "2      2            1  0.023237           10        10\n",
       "3      3            1  0.019265           10        10\n",
       "4      0            2  0.083337           10        10"
      ]
     },
     "execution_count": 3,
     "metadata": {},
     "output_type": "execute_result"
    }
   ],
   "source": [
    "df.head()"
   ]
  },
  {
   "cell_type": "code",
   "execution_count": 4,
   "metadata": {},
   "outputs": [
    {
     "data": {
      "text/plain": [
       "<matplotlib.axes._subplots.AxesSubplot at 0x7f8542319110>"
      ]
     },
     "execution_count": 4,
     "metadata": {},
     "output_type": "execute_result"
    },
    {
     "data": {
      "image/png": "[encoded data removed]",
      "text/plain": [
       "<matplotlib.figure.Figure at 0x7f85703a2fd0>"
      ]
     },
     "metadata": {},
     "output_type": "display_data"
    }
   ],
   "source": [
    "df.plot()"
   ]
  },
  {
   "cell_type": "code",
   "execution_count": 5,
   "metadata": {
    "collapsed": true
   },
   "outputs": [],
   "source": [
    "df_0 = df[(df[\"optim\"] == 0)].groupby(by=\"n_functions\").agg(np.mean)\n",
    "df_1 = df[(df[\"optim\"] == 1)].groupby(by=\"n_functions\").agg(np.mean)\n",
    "df_2 = df[(df[\"optim\"] == 2)].groupby(by=\"n_functions\").agg(np.mean)\n",
    "df_3 = df[(df[\"optim\"] == 3)].groupby(by=\"n_functions\").agg(np.mean)"
   ]
  },
  {
   "cell_type": "code",
   "execution_count": 6,
   "metadata": {
    "collapsed": true
   },
   "outputs": [],
   "source": [
    "df_0 = df_0[df_0.index <= 33]\n",
    "df_1 = df_1[df_1.index <= 33]\n",
    "df_2 = df_2[df_2.index <= 33]\n",
    "df_3 = df_3[df_3.index <= 33]"
   ]
  },
  {
   "cell_type": "code",
   "execution_count": 7,
   "metadata": {
    "collapsed": true
   },
   "outputs": [],
   "source": [
    "data0 = Scatter(x=df_0.index, y=df_0.time, name='Without Rule Order Optimization')\n",
    "data1 = Scatter(x=df_1.index, y=df_1.time, name='With Reverse Order')\n",
    "data2 = Scatter(x=df_2.index, y=df_2.time, name='With Rule Core Number Ordering')\n",
    "data3 = Scatter(x=df_3.index, y=df_3.time, name='With Reverse Rule Core Number Ordering')"
   ]
  },
  {
   "cell_type": "code",
   "execution_count": 8,
   "metadata": {},
   "outputs": [
    {
     "data": {
      "application/vnd.plotly.v1+json": {
       "data": [
        {
         "name": "Without Rule Order Optimization",
         "type": "scatter",
         "x": [
          1,
          2,
          3,
          4,
          5,
          6,
          7,
          8,
          9,
          10,
          11,
          12,
          13,
          14,
          15,
          16,
          17,
          18,
          19,
          20,
          21,
          22,
          23,
          24,
          25,
          26,
          27,
          28,
          29,
          30,
          31,
          32,
          33
         ],
         "y": [
          0.059358795483907066,
          0.16929582754770914,
          0.42414828141530353,
          0.646795908610026,
          1.1558541456858318,
          1.6100398699442546,
          2.712528347969055,
          3.486895720163981,
          5.22318700949351,
          6.532611568768819,
          8.76639473438263,
          10.658472696940104,
          11.92195955912272,
          16.195006648699444,
          22.853238979975384,
          26.185503880182903,
          31.78033932050069,
          36.8602861960729,
          44.911472837130226,
          46.4164529244105,
          59.469484408696495,
          69.81777115662892,
          76.78857227166493,
          86.74046198527019,
          104.0269871155421,
          109.34480237960815,
          129.72675895690918,
          138.7128748099009,
          153.33650573094687,
          175.50199727217355,
          198.25132071971893,
          205.36842171351114,
          227.41553286711374
         ]
        },
        {
         "name": "With Reverse Order",
         "type": "scatter",
         "x": [
          1,
          2,
          3,
          4,
          5,
          6,
          7,
          8,
          9,
          10,
          11,
          12,
          13,
          14,
          15,
          16,
          17,
          18,
          19,
          20,
          21,
          22,
          23,
          24,
          25,
          26,
          27,
          28,
          29,
          30,
          31,
          32,
          33
         ],
         "y": [
          0.061385393142700195,
          0.16687234242757162,
          0.4159810145696004,
          0.641319751739502,
          1.1411242882410686,
          1.829576849937439,
          2.8141396045684814,
          3.4868098497390747,
          5.2535176277160645,
          6.4943902889887495,
          8.749513030052185,
          10.346059560775757,
          11.89212397734324,
          16.284321506818134,
          22.84632929166158,
          25.859131415685017,
          31.77793248494466,
          36.74386167526245,
          45.21352104345957,
          46.60701298713684,
          59.263172467549644,
          69.40589757760365,
          76.24764164288838,
          86.88481020927429,
          102.31330879529317,
          109.36248870690663,
          128.73305197556815,
          138.8744435707728,
          154.06087187925974,
          170.68342435359955,
          194.5850514570872,
          205.6124767859777,
          225.72659842173258
         ]
        },
        {
         "name": "With Rule Core Number Ordering",
         "type": "scatter",
         "x": [
          1,
          2,
          3,
          4,
          5,
          6,
          7,
          8,
          9,
          10,
          11,
          12,
          13,
          14,
          15,
          16,
          17,
          18,
          19,
          20,
          21,
          22,
          23,
          24,
          25,
          26,
          27,
          28,
          29,
          30,
          31,
          32,
          33
         ],
         "y": [
          0.06479350725809734,
          0.17796035607655844,
          0.3884112437566121,
          0.6015483140945435,
          1.2079362471898396,
          1.6734452644983928,
          2.35691245396932,
          3.1779576937357583,
          4.975213487943013,
          6.427472670873006,
          8.30958350499471,
          9.43690284093221,
          10.395562648773193,
          14.443061470985413,
          20.274678071339924,
          21.442055622736614,
          25.510149518648785,
          29.203073024749756,
          37.4277446269989,
          38.89586595694224,
          49.00079846382141,
          56.31182928880056,
          64.11943817138672,
          68.86958825588226,
          80.64726074536641,
          86.69622580210368,
          108.22261230150859,
          118.1180686155955,
          130.34075299898782,
          148.09264210859934,
          154.8251437743505,
          163.70077367623648,
          180.2966032822927
         ]
        },
        {
         "name": "With Reverse Rule Core Number Ordering",
         "type": "scatter",
         "x": [
          1,
          2,
          3,
          4,
          5,
          6,
          7,
          8,
          9,
          10,
          11,
          12,
          13,
          14,
          15,
          16,
          17,
          18,
          19,
          20,
          21,
          22,
          23,
          24,
          25,
          26,
          27,
          28,
          29,
          30,
          31,
          32,
          33
         ],
         "y": [
          0.062404513359069824,
          0.17470844586690268,
          0.4038737217585246,
          0.6174099842707316,
          1.11288583278656,
          1.5068018436431885,
          2.27835222085317,
          3.3366814454396567,
          4.368183453877767,
          5.30056130886078,
          7.192718545595805,
          9.168956081072489,
          11.02404256661733,
          14.472469210624695,
          19.890576759974163,
          22.422446330388386,
          25.96099015076955,
          30.179044326146443,
          36.8040714263916,
          38.00308899084727,
          49.96363882223765,
          55.721447904904686,
          60.93838143348694,
          66.90064211686452,
          80.29174327850342,
          82.93049478530884,
          95.55959256490071,
          101.9998277425766,
          114.39951769510905,
          126.00026941299438,
          140.19040234883624,
          146.78705060482025,
          174.70333178838095
         ]
        }
       ],
       "layout": {
        "font": {
         "family": "Latin Modern Math",
         "size": 18
        },
        "legend": {
         "x": 0,
         "y": 1
        },
        "xaxis": {
         "autorange": true,
         "autotick": true,
         "showgrid": false,
         "showline": false,
         "showticklabels": true,
         "ticks": "",
         "title": "Number of Functions",
         "zeroline": true
        },
        "yaxis": {
         "autorange": true,
         "autotick": true,
         "showgrid": false,
         "showline": true,
         "showticklabels": true,
         "ticks": "",
         "title": "Time of Computation (in s)",
         "zeroline": true
        }
       }
      },
      "text/html": [
       "<div id=\"15741603-b609-4a57-850a-79609d217994\" style=\"height: 525px; width: 100%;\" class=\"plotly-graph-div\"></div><script type=\"text/javascript\">require([\"plotly\"], function(Plotly) { window.PLOTLYENV=window.PLOTLYENV || {};window.PLOTLYENV.BASE_URL=\"https://plot.ly\";Plotly.newPlot(\"15741603-b609-4a57-850a-79609d217994\", [{\"y\": [0.059358795483907066, 0.16929582754770914, 0.42414828141530353, 0.646795908610026, 1.1558541456858318, 1.6100398699442546, 2.712528347969055, 3.486895720163981, 5.22318700949351, 6.532611568768819, 8.76639473438263, 10.658472696940104, 11.92195955912272, 16.195006648699444, 22.853238979975384, 26.185503880182903, 31.78033932050069, 36.8602861960729, 44.911472837130226, 46.4164529244105, 59.469484408696495, 69.81777115662892, 76.78857227166493, 86.74046198527019, 104.0269871155421, 109.34480237960815, 129.72675895690918, 138.7128748099009, 153.33650573094687, 175.50199727217355, 198.25132071971893, 205.36842171351114, 227.41553286711374], \"x\": [1, 2, 3, 4, 5, 6, 7, 8, 9, 10, 11, 12, 13, 14, 15, 16, 17, 18, 19, 20, 21, 22, 23, 24, 25, 26, 27, 28, 29, 30, 31, 32, 33], \"type\": \"scatter\", \"name\": \"Without Rule Order Optimization\"}, {\"y\": [0.061385393142700195, 0.16687234242757162, 0.4159810145696004, 0.641319751739502, 1.1411242882410686, 1.829576849937439, 2.8141396045684814, 3.4868098497390747, 5.2535176277160645, 6.4943902889887495, 8.749513030052185, 10.346059560775757, 11.89212397734324, 16.284321506818134, 22.84632929166158, 25.859131415685017, 31.77793248494466, 36.74386167526245, 45.21352104345957, 46.60701298713684, 59.263172467549644, 69.40589757760365, 76.24764164288838, 86.88481020927429, 102.31330879529317, 109.36248870690663, 128.73305197556815, 138.8744435707728, 154.06087187925974, 170.68342435359955, 194.5850514570872, 205.6124767859777, 225.72659842173258], \"x\": [1, 2, 3, 4, 5, 6, 7, 8, 9, 10, 11, 12, 13, 14, 15, 16, 17, 18, 19, 20, 21, 22, 23, 24, 25, 26, 27, 28, 29, 30, 31, 32, 33], \"type\": \"scatter\", \"name\": \"With Reverse Order\"}, {\"y\": [0.06479350725809734, 0.17796035607655844, 0.3884112437566121, 0.6015483140945435, 1.2079362471898396, 1.6734452644983928, 2.35691245396932, 3.1779576937357583, 4.975213487943013, 6.427472670873006, 8.30958350499471, 9.43690284093221, 10.395562648773193, 14.443061470985413, 20.274678071339924, 21.442055622736614, 25.510149518648785, 29.203073024749756, 37.4277446269989, 38.89586595694224, 49.00079846382141, 56.31182928880056, 64.11943817138672, 68.86958825588226, 80.64726074536641, 86.69622580210368, 108.22261230150859, 118.1180686155955, 130.34075299898782, 148.09264210859934, 154.8251437743505, 163.70077367623648, 180.2966032822927], \"x\": [1, 2, 3, 4, 5, 6, 7, 8, 9, 10, 11, 12, 13, 14, 15, 16, 17, 18, 19, 20, 21, 22, 23, 24, 25, 26, 27, 28, 29, 30, 31, 32, 33], \"type\": \"scatter\", \"name\": \"With Rule Core Number Ordering\"}, {\"y\": [0.062404513359069824, 0.17470844586690268, 0.4038737217585246, 0.6174099842707316, 1.11288583278656, 1.5068018436431885, 2.27835222085317, 3.3366814454396567, 4.368183453877767, 5.30056130886078, 7.192718545595805, 9.168956081072489, 11.02404256661733, 14.472469210624695, 19.890576759974163, 22.422446330388386, 25.96099015076955, 30.179044326146443, 36.8040714263916, 38.00308899084727, 49.96363882223765, 55.721447904904686, 60.93838143348694, 66.90064211686452, 80.29174327850342, 82.93049478530884, 95.55959256490071, 101.9998277425766, 114.39951769510905, 126.00026941299438, 140.19040234883624, 146.78705060482025, 174.70333178838095], \"x\": [1, 2, 3, 4, 5, 6, 7, 8, 9, 10, 11, 12, 13, 14, 15, 16, 17, 18, 19, 20, 21, 22, 23, 24, 25, 26, 27, 28, 29, 30, 31, 32, 33], \"type\": \"scatter\", \"name\": \"With Reverse Rule Core Number Ordering\"}], {\"font\": {\"family\": \"Latin Modern Math\", \"size\": 18}, \"legend\": {\"y\": 1, \"x\": 0}, \"xaxis\": {\"showticklabels\": true, \"title\": \"Number of Functions\", \"ticks\": \"\", \"showgrid\": false, \"zeroline\": true, \"showline\": false, \"autotick\": true, \"autorange\": true}, \"yaxis\": {\"showticklabels\": true, \"title\": \"Time of Computation (in s)\", \"ticks\": \"\", \"showgrid\": false, \"zeroline\": true, \"showline\": true, \"autotick\": true, \"autorange\": true}}, {\"linkText\": \"Export to plot.ly\", \"showLink\": true})});</script>"
      ],
      "text/vnd.plotly.v1+html": [
       "<div id=\"15741603-b609-4a57-850a-79609d217994\" style=\"height: 525px; width: 100%;\" class=\"plotly-graph-div\"></div><script type=\"text/javascript\">require([\"plotly\"], function(Plotly) { window.PLOTLYENV=window.PLOTLYENV || {};window.PLOTLYENV.BASE_URL=\"https://plot.ly\";Plotly.newPlot(\"15741603-b609-4a57-850a-79609d217994\", [{\"y\": [0.059358795483907066, 0.16929582754770914, 0.42414828141530353, 0.646795908610026, 1.1558541456858318, 1.6100398699442546, 2.712528347969055, 3.486895720163981, 5.22318700949351, 6.532611568768819, 8.76639473438263, 10.658472696940104, 11.92195955912272, 16.195006648699444, 22.853238979975384, 26.185503880182903, 31.78033932050069, 36.8602861960729, 44.911472837130226, 46.4164529244105, 59.469484408696495, 69.81777115662892, 76.78857227166493, 86.74046198527019, 104.0269871155421, 109.34480237960815, 129.72675895690918, 138.7128748099009, 153.33650573094687, 175.50199727217355, 198.25132071971893, 205.36842171351114, 227.41553286711374], \"x\": [1, 2, 3, 4, 5, 6, 7, 8, 9, 10, 11, 12, 13, 14, 15, 16, 17, 18, 19, 20, 21, 22, 23, 24, 25, 26, 27, 28, 29, 30, 31, 32, 33], \"type\": \"scatter\", \"name\": \"Without Rule Order Optimization\"}, {\"y\": [0.061385393142700195, 0.16687234242757162, 0.4159810145696004, 0.641319751739502, 1.1411242882410686, 1.829576849937439, 2.8141396045684814, 3.4868098497390747, 5.2535176277160645, 6.4943902889887495, 8.749513030052185, 10.346059560775757, 11.89212397734324, 16.284321506818134, 22.84632929166158, 25.859131415685017, 31.77793248494466, 36.74386167526245, 45.21352104345957, 46.60701298713684, 59.263172467549644, 69.40589757760365, 76.24764164288838, 86.88481020927429, 102.31330879529317, 109.36248870690663, 128.73305197556815, 138.8744435707728, 154.06087187925974, 170.68342435359955, 194.5850514570872, 205.6124767859777, 225.72659842173258], \"x\": [1, 2, 3, 4, 5, 6, 7, 8, 9, 10, 11, 12, 13, 14, 15, 16, 17, 18, 19, 20, 21, 22, 23, 24, 25, 26, 27, 28, 29, 30, 31, 32, 33], \"type\": \"scatter\", \"name\": \"With Reverse Order\"}, {\"y\": [0.06479350725809734, 0.17796035607655844, 0.3884112437566121, 0.6015483140945435, 1.2079362471898396, 1.6734452644983928, 2.35691245396932, 3.1779576937357583, 4.975213487943013, 6.427472670873006, 8.30958350499471, 9.43690284093221, 10.395562648773193, 14.443061470985413, 20.274678071339924, 21.442055622736614, 25.510149518648785, 29.203073024749756, 37.4277446269989, 38.89586595694224, 49.00079846382141, 56.31182928880056, 64.11943817138672, 68.86958825588226, 80.64726074536641, 86.69622580210368, 108.22261230150859, 118.1180686155955, 130.34075299898782, 148.09264210859934, 154.8251437743505, 163.70077367623648, 180.2966032822927], \"x\": [1, 2, 3, 4, 5, 6, 7, 8, 9, 10, 11, 12, 13, 14, 15, 16, 17, 18, 19, 20, 21, 22, 23, 24, 25, 26, 27, 28, 29, 30, 31, 32, 33], \"type\": \"scatter\", \"name\": \"With Rule Core Number Ordering\"}, {\"y\": [0.062404513359069824, 0.17470844586690268, 0.4038737217585246, 0.6174099842707316, 1.11288583278656, 1.5068018436431885, 2.27835222085317, 3.3366814454396567, 4.368183453877767, 5.30056130886078, 7.192718545595805, 9.168956081072489, 11.02404256661733, 14.472469210624695, 19.890576759974163, 22.422446330388386, 25.96099015076955, 30.179044326146443, 36.8040714263916, 38.00308899084727, 49.96363882223765, 55.721447904904686, 60.93838143348694, 66.90064211686452, 80.29174327850342, 82.93049478530884, 95.55959256490071, 101.9998277425766, 114.39951769510905, 126.00026941299438, 140.19040234883624, 146.78705060482025, 174.70333178838095], \"x\": [1, 2, 3, 4, 5, 6, 7, 8, 9, 10, 11, 12, 13, 14, 15, 16, 17, 18, 19, 20, 21, 22, 23, 24, 25, 26, 27, 28, 29, 30, 31, 32, 33], \"type\": \"scatter\", \"name\": \"With Reverse Rule Core Number Ordering\"}], {\"font\": {\"family\": \"Latin Modern Math\", \"size\": 18}, \"legend\": {\"y\": 1, \"x\": 0}, \"xaxis\": {\"showticklabels\": true, \"title\": \"Number of Functions\", \"ticks\": \"\", \"showgrid\": false, \"zeroline\": true, \"showline\": false, \"autotick\": true, \"autorange\": true}, \"yaxis\": {\"showticklabels\": true, \"title\": \"Time of Computation (in s)\", \"ticks\": \"\", \"showgrid\": false, \"zeroline\": true, \"showline\": true, \"autotick\": true, \"autorange\": true}}, {\"linkText\": \"Export to plot.ly\", \"showLink\": true})});</script>"
      ]
     },
     "metadata": {},
     "output_type": "display_data"
    }
   ],
   "source": [
    "layout = Layout(\n",
    "  #  title='Comparisation Performance With Rule Order Optimization',\n",
    "    font=dict(family='Latin Modern Math', size=6*3),\n",
    "    xaxis=dict(\n",
    "        title='Number of Functions',\n",
    "        autorange=True,\n",
    "        showgrid=False,\n",
    "        zeroline=True,\n",
    "        showline=False,\n",
    "        autotick=True,\n",
    "        ticks='',\n",
    "        showticklabels=True\n",
    "    ),\n",
    "    yaxis=dict(\n",
    "        title='Time of Computation (in s)',\n",
    "        autorange=True,\n",
    "        showgrid=False,\n",
    "        zeroline=True,\n",
    "        showline=True,\n",
    "        autotick=True,\n",
    "        ticks='',\n",
    "        showticklabels=True\n",
    "    ),\n",
    "    legend=dict(x=0, y=1)\n",
    ")\n",
    "fig = Figure(data=[data0, data1, data2, data3], layout=layout)\n",
    "iplot(fig)"
   ]
  },
  {
   "cell_type": "code",
   "execution_count": 9,
   "metadata": {
    "collapsed": true
   },
   "outputs": [],
   "source": [
    "data3 = Scatter(x=df_0.index, y=(np.array(df_0.time)-np.array(df_2.time)))"
   ]
  },
  {
   "cell_type": "code",
   "execution_count": 10,
   "metadata": {},
   "outputs": [
    {
     "data": {
      "application/vnd.plotly.v1+json": {
       "data": [
        {
         "type": "scatter",
         "x": [
          1,
          2,
          3,
          4,
          5,
          6,
          7,
          8,
          9,
          10,
          11,
          12,
          13,
          14,
          15,
          16,
          17,
          18,
          19,
          20,
          21,
          22,
          23,
          24,
          25,
          26,
          27,
          28,
          29,
          30,
          31,
          32,
          33
         ],
         "y": [
          -0.005434711774190269,
          -0.008664528528849302,
          0.035737037658691406,
          0.04524759451548255,
          -0.05208210150400783,
          -0.06340539455413818,
          0.35561589399973537,
          0.30893802642822266,
          0.247973521550497,
          0.10513889789581299,
          0.4568112293879185,
          1.2215698560078927,
          1.5263969103495274,
          1.7519451777140311,
          2.5785609086354597,
          4.743448257446289,
          6.270189801851906,
          7.657213171323143,
          7.483728210131325,
          7.520586967468262,
          10.468685944875084,
          13.505941867828362,
          12.669134100278214,
          17.870873729387924,
          23.37972637017569,
          22.64857657750447,
          21.50414665540059,
          20.594806194305406,
          22.995752731959044,
          27.40935516357422,
          43.42617694536844,
          41.66764803727466,
          47.118929584821046
         ]
        }
       ],
       "layout": {}
      },
      "text/html": [
       "<div id=\"64f3c33c-c266-4f2c-88b7-206b798b5d9d\" style=\"height: 525px; width: 100%;\" class=\"plotly-graph-div\"></div><script type=\"text/javascript\">require([\"plotly\"], function(Plotly) { window.PLOTLYENV=window.PLOTLYENV || {};window.PLOTLYENV.BASE_URL=\"https://plot.ly\";Plotly.newPlot(\"64f3c33c-c266-4f2c-88b7-206b798b5d9d\", [{\"y\": [-0.005434711774190269, -0.008664528528849302, 0.035737037658691406, 0.04524759451548255, -0.05208210150400783, -0.06340539455413818, 0.35561589399973537, 0.30893802642822266, 0.247973521550497, 0.10513889789581299, 0.4568112293879185, 1.2215698560078927, 1.5263969103495274, 1.7519451777140311, 2.5785609086354597, 4.743448257446289, 6.270189801851906, 7.657213171323143, 7.483728210131325, 7.520586967468262, 10.468685944875084, 13.505941867828362, 12.669134100278214, 17.870873729387924, 23.37972637017569, 22.64857657750447, 21.50414665540059, 20.594806194305406, 22.995752731959044, 27.40935516357422, 43.42617694536844, 41.66764803727466, 47.118929584821046], \"x\": [1, 2, 3, 4, 5, 6, 7, 8, 9, 10, 11, 12, 13, 14, 15, 16, 17, 18, 19, 20, 21, 22, 23, 24, 25, 26, 27, 28, 29, 30, 31, 32, 33], \"type\": \"scatter\"}], {}, {\"linkText\": \"Export to plot.ly\", \"showLink\": true})});</script>"
      ],
      "text/vnd.plotly.v1+html": [
       "<div id=\"64f3c33c-c266-4f2c-88b7-206b798b5d9d\" style=\"height: 525px; width: 100%;\" class=\"plotly-graph-div\"></div><script type=\"text/javascript\">require([\"plotly\"], function(Plotly) { window.PLOTLYENV=window.PLOTLYENV || {};window.PLOTLYENV.BASE_URL=\"https://plot.ly\";Plotly.newPlot(\"64f3c33c-c266-4f2c-88b7-206b798b5d9d\", [{\"y\": [-0.005434711774190269, -0.008664528528849302, 0.035737037658691406, 0.04524759451548255, -0.05208210150400783, -0.06340539455413818, 0.35561589399973537, 0.30893802642822266, 0.247973521550497, 0.10513889789581299, 0.4568112293879185, 1.2215698560078927, 1.5263969103495274, 1.7519451777140311, 2.5785609086354597, 4.743448257446289, 6.270189801851906, 7.657213171323143, 7.483728210131325, 7.520586967468262, 10.468685944875084, 13.505941867828362, 12.669134100278214, 17.870873729387924, 23.37972637017569, 22.64857657750447, 21.50414665540059, 20.594806194305406, 22.995752731959044, 27.40935516357422, 43.42617694536844, 41.66764803727466, 47.118929584821046], \"x\": [1, 2, 3, 4, 5, 6, 7, 8, 9, 10, 11, 12, 13, 14, 15, 16, 17, 18, 19, 20, 21, 22, 23, 24, 25, 26, 27, 28, 29, 30, 31, 32, 33], \"type\": \"scatter\"}], {}, {\"linkText\": \"Export to plot.ly\", \"showLink\": true})});</script>"
      ]
     },
     "metadata": {},
     "output_type": "display_data"
    }
   ],
   "source": [
    "iplot([data3])"
   ]
  },
  {
   "cell_type": "code",
   "execution_count": 11,
   "metadata": {
    "collapsed": true
   },
   "outputs": [],
   "source": [
    "dt = (np.array(df_0.time)-np.array(df_2.time))"
   ]
  },
  {
   "cell_type": "code",
   "execution_count": 12,
   "metadata": {
    "collapsed": true
   },
   "outputs": [],
   "source": [
    "window_size = 5\n",
    "dt_smooth = []"
   ]
  },
  {
   "cell_type": "code",
   "execution_count": 13,
   "metadata": {
    "collapsed": true
   },
   "outputs": [],
   "source": [
    "for i in range(len(dt) - window_size):\n",
    "    dt_smooth.append(dt[i:i+5].mean())"
   ]
  },
  {
   "cell_type": "code",
   "execution_count": 14,
   "metadata": {
    "collapsed": true
   },
   "outputs": [],
   "source": [
    "data4 = Scatter(x=np.array(range(len(dt_smooth))), y=dt_smooth)"
   ]
  },
  {
   "cell_type": "code",
   "execution_count": 15,
   "metadata": {},
   "outputs": [
    {
     "data": {
      "application/vnd.plotly.v1+json": {
       "data": [
        {
         "type": "scatter",
         "x": [
          0,
          1,
          2,
          3,
          4,
          5,
          6,
          7,
          8,
          9,
          10,
          11,
          12,
          13,
          14,
          15,
          16,
          17,
          18,
          19,
          20,
          21,
          22,
          23,
          24,
          25,
          26,
          27
         ],
         "y": [
          0.00296065807342531,
          -0.008633478482564272,
          0.06422260602315266,
          0.1188628037770589,
          0.1594079891840618,
          0.19085218906402596,
          0.2948955138524373,
          0.4680863062540688,
          0.7115780830383297,
          1.0123724142710366,
          1.507056816418966,
          2.36438422203064,
          3.374108211199443,
          4.600271463394166,
          5.746628069877625,
          6.735033281644185,
          7.880080819129944,
          9.327231232325236,
          10.32961541811625,
          12.407044521967569,
          15.578872402509054,
          18.014850529034934,
          19.614491486549376,
          21.199625905354814,
          22.22460170586904,
          23.030527464548747,
          27.18604753812154,
          31.21874781449635
         ]
        }
       ],
       "layout": {}
      },
      "text/html": [
       "<div id=\"342f4f24-27ec-46a2-bb4a-6d96e8ac58ed\" style=\"height: 525px; width: 100%;\" class=\"plotly-graph-div\"></div><script type=\"text/javascript\">require([\"plotly\"], function(Plotly) { window.PLOTLYENV=window.PLOTLYENV || {};window.PLOTLYENV.BASE_URL=\"https://plot.ly\";Plotly.newPlot(\"342f4f24-27ec-46a2-bb4a-6d96e8ac58ed\", [{\"y\": [0.00296065807342531, -0.008633478482564272, 0.06422260602315266, 0.1188628037770589, 0.1594079891840618, 0.19085218906402596, 0.2948955138524373, 0.4680863062540688, 0.7115780830383297, 1.0123724142710366, 1.507056816418966, 2.36438422203064, 3.374108211199443, 4.600271463394166, 5.746628069877625, 6.735033281644185, 7.880080819129944, 9.327231232325236, 10.32961541811625, 12.407044521967569, 15.578872402509054, 18.014850529034934, 19.614491486549376, 21.199625905354814, 22.22460170586904, 23.030527464548747, 27.18604753812154, 31.21874781449635], \"x\": [0, 1, 2, 3, 4, 5, 6, 7, 8, 9, 10, 11, 12, 13, 14, 15, 16, 17, 18, 19, 20, 21, 22, 23, 24, 25, 26, 27], \"type\": \"scatter\"}], {}, {\"linkText\": \"Export to plot.ly\", \"showLink\": true})});</script>"
      ],
      "text/vnd.plotly.v1+html": [
       "<div id=\"342f4f24-27ec-46a2-bb4a-6d96e8ac58ed\" style=\"height: 525px; width: 100%;\" class=\"plotly-graph-div\"></div><script type=\"text/javascript\">require([\"plotly\"], function(Plotly) { window.PLOTLYENV=window.PLOTLYENV || {};window.PLOTLYENV.BASE_URL=\"https://plot.ly\";Plotly.newPlot(\"342f4f24-27ec-46a2-bb4a-6d96e8ac58ed\", [{\"y\": [0.00296065807342531, -0.008633478482564272, 0.06422260602315266, 0.1188628037770589, 0.1594079891840618, 0.19085218906402596, 0.2948955138524373, 0.4680863062540688, 0.7115780830383297, 1.0123724142710366, 1.507056816418966, 2.36438422203064, 3.374108211199443, 4.600271463394166, 5.746628069877625, 6.735033281644185, 7.880080819129944, 9.327231232325236, 10.32961541811625, 12.407044521967569, 15.578872402509054, 18.014850529034934, 19.614491486549376, 21.199625905354814, 22.22460170586904, 23.030527464548747, 27.18604753812154, 31.21874781449635], \"x\": [0, 1, 2, 3, 4, 5, 6, 7, 8, 9, 10, 11, 12, 13, 14, 15, 16, 17, 18, 19, 20, 21, 22, 23, 24, 25, 26, 27], \"type\": \"scatter\"}], {}, {\"linkText\": \"Export to plot.ly\", \"showLink\": true})});</script>"
      ]
     },
     "metadata": {},
     "output_type": "display_data"
    }
   ],
   "source": [
    "iplot([data4])"
   ]
  },
  {
   "cell_type": "code",
   "execution_count": 16,
   "metadata": {
    "collapsed": true
   },
   "outputs": [],
   "source": [
    "df05 = df[(df[\"n_relations\"] == 5)].groupby(by=\"n_functions\").agg(np.mean)\n",
    "df10 = df[(df[\"n_relations\"] == 10)].groupby(by=\"n_functions\").agg(np.mean)\n",
    "df15 = df[(df[\"n_relations\"] == 15)].groupby(by=\"n_functions\").agg(np.mean)\n",
    "df20 = df[(df[\"n_relations\"] == 20)].groupby(by=\"n_functions\").agg(np.mean)\n",
    "df30 = df[(df[\"n_relations\"] == 30)].groupby(by=\"n_functions\").agg(np.mean)"
   ]
  },
  {
   "cell_type": "code",
   "execution_count": 17,
   "metadata": {},
   "outputs": [],
   "source": [
    "data05 = Scatter(x=df05.index, y=df05.time, name=\"With 5 Relations\")\n",
    "data10 = Scatter(x=df10.index, y=df10.time, name=\"With 10 Relations\")\n",
    "data15 = Scatter(x=df15.index, y=df15.time, name=\"With 15 Relations\")\n",
    "data20 = Scatter(x=df20.index, y=df20.time, name=\"With 20 Relations\")\n",
    "data30 = Scatter(x=df30.index, y=df30.time, name=\"With 30 Relations\")"
   ]
  },
  {
   "cell_type": "code",
   "execution_count": 18,
   "metadata": {},
   "outputs": [
    {
     "data": {
      "application/vnd.plotly.v1+json": {
       "data": [
        {
         "name": "With 5 Relations",
         "type": "scatter",
         "x": [
          1,
          2,
          3,
          4,
          5,
          6,
          7,
          8,
          9,
          10,
          11,
          12,
          13,
          14,
          15,
          16,
          17,
          18,
          19,
          20,
          21,
          22,
          23,
          24,
          25,
          26,
          27,
          28,
          29,
          30,
          31,
          32,
          33
         ],
         "y": [
          0.0787283182144165,
          0.1474021077156067,
          0.16275161504745483,
          0.26862841844558716,
          0.784540057182312,
          1.0337851643562317,
          1.3570978045463562,
          1.5600057244300842,
          1.8672918677330017,
          4.0016666650772095,
          6.712294340133667,
          10.554746568202972,
          11.55058479309082,
          19.03319215774536,
          32.67226845026016,
          40.387652814388275,
          43.56571680307388,
          46.18970286846161,
          70.20925688743591,
          71.64433914422989,
          97.12753182649612,
          116.9278165102005,
          121.13066917657852,
          131.4403503537178,
          170.75617599487305,
          173.16071915626526,
          239.60857969522476,
          267.20530730485916,
          310.1047500371933,
          333.5666506886482,
          345.5831108093262,
          371.1799765229225,
          471.1675375699997
         ]
        },
        {
         "name": "With 10 Relations",
         "type": "scatter",
         "x": [
          1,
          2,
          3,
          4,
          5,
          6,
          7,
          8,
          9,
          10,
          11,
          12,
          13,
          14,
          15,
          16,
          17,
          18,
          19,
          20,
          21,
          22,
          23,
          24,
          25,
          26,
          27,
          28,
          29,
          30,
          31,
          32,
          33,
          34,
          35
         ],
         "y": [
          0.04130646586418152,
          0.12536096572875977,
          0.32523295283317566,
          0.7851551175117493,
          1.5386468172073364,
          2.3201889991760254,
          3.59023380279541,
          4.973387062549591,
          7.725611686706543,
          9.146566718816757,
          12.165721982717514,
          14.596853286027908,
          15.183636009693146,
          21.673481434583664,
          31.050935685634613,
          34.203220427036285,
          43.12315085530281,
          50.27082350850105,
          58.754369139671326,
          59.06045365333557,
          76.87137222290039,
          89.6394393146038,
          100.06346133351326,
          115.72539553046227,
          130.02547731995583,
          134.110600233078,
          149.29655075073242,
          158.3753190934658,
          165.64850199222565,
          195.59538820385933,
          238.0938755273819,
          243.43477654457092,
          249.91906213760376,
          266.97480496764183,
          293.32071125507355
         ]
        },
        {
         "name": "With 15 Relations",
         "type": "scatter",
         "x": [
          1,
          2,
          3,
          4,
          5,
          6,
          7,
          8,
          9,
          10,
          11,
          12,
          13,
          14,
          15,
          16,
          17,
          18,
          19,
          20,
          21,
          22,
          23,
          24,
          25,
          26,
          27,
          28,
          29,
          30,
          31,
          32,
          33,
          34,
          35
         ],
         "y": [
          0.1632179617881775,
          0.4454212188720703,
          1.0013094544410706,
          1.0381700992584229,
          1.3171842694282532,
          1.5893566012382507,
          2.1879672408103943,
          3.4874612092971797,
          6.391523778438568,
          6.729567110538483,
          6.872047543525696,
          6.956945240497589,
          12.08371090888977,
          14.040094316005707,
          14.622788608074188,
          15.406437337398529,
          21.19628483057022,
          29.00899839401245,
          34.44702285528183,
          36.806761503219604,
          37.88812094926834,
          38.24301552772522,
          44.91158217191696,
          48.21170616149902,
          60.31049048900604,
          71.33093392848969,
          77.10017895698547,
          77.61754244565964,
          94.79357850551605,
          108.37910342216492,
          109.29705274105072,
          112.17119473218918,
          117.36771702766418,
          125.1444981098175,
          139.58011496067047
         ]
        },
        {
         "name": "With 20 Relations",
         "type": "scatter",
         "x": [
          1,
          2,
          3,
          4,
          5,
          6,
          7,
          8,
          9,
          10,
          11,
          12,
          13,
          14,
          15,
          16,
          17,
          18,
          19,
          20,
          21,
          22,
          23,
          24,
          25,
          26,
          27,
          28,
          29,
          30,
          31,
          32,
          33,
          34,
          35
         ],
         "y": [
          0.019561767578125,
          0.12992024421691895,
          0.4315785765647888,
          0.5188602805137634,
          1.3485085368156433,
          2.0620325803756714,
          3.529064655303955,
          3.7055370807647705,
          4.451074242591858,
          5.236235678195953,
          6.264741897583008,
          7.222723543643952,
          7.474510073661804,
          8.361064732074738,
          10.35240888595581,
          10.341808199882507,
          12.047204434871674,
          14.138188421726227,
          14.401257753372192,
          15.116816639900208,
          19.720605432987213,
          22.86544770002365,
          25.729140281677246,
          26.692271947860718,
          29.720540463924408,
          31.78811550140381,
          34.417547166347504,
          38.006758153438575,
          40.63125282526016,
          46.21602147817612,
          49.49856650829315,
          59.86867421865463,
          65.9281912446022,
          72.48165208101273,
          76.45242512226105
         ]
        },
        {
         "name": "With 30 Relations",
         "type": "scatter",
         "x": [
          1,
          2,
          3,
          4,
          5,
          6,
          7,
          8,
          9,
          10,
          11,
          12,
          13,
          14,
          15,
          16,
          17,
          18,
          19,
          20,
          21,
          22,
          23,
          24,
          25,
          26,
          27,
          28,
          29,
          30,
          31,
          32,
          33,
          34,
          35
         ],
         "y": [
          0.02779233455657959,
          0.059789955615997314,
          0.2025158405303955,
          0.3646419048309326,
          0.3991742730140686,
          0.6042433977127075,
          0.9883016347885132,
          1.5327389240264893,
          1.5690391063690186,
          2.87195086479187,
          5.346786975860596,
          5.4874648451805115,
          6.3744553327560425,
          7.310974180698395,
          9.047897338867188,
          9.321366667747498,
          9.488609433174133,
          9.600861132144928,
          9.968939125537872,
          13.194806694984436,
          18.066638588905334,
          19.570260524749756,
          25.242735981941223,
          26.298134326934814,
          30.0807883143425,
          38.0000484585762,
          43.64361637830734,
          46.97757601737976,
          51.379887104034424,
          51.064947724342346,
          51.21139633655548,
          52.113685607910156,
          57.911529421806335,
          65.65277898311615,
          65.25485062599182
         ]
        }
       ],
       "layout": {
        "font": {
         "family": "Latin Modern Math",
         "size": 18
        },
        "legend": {
         "x": 0,
         "y": 1
        },
        "xaxis": {
         "autorange": true,
         "autotick": true,
         "showgrid": false,
         "showline": false,
         "showticklabels": true,
         "ticks": "",
         "title": "Number of Functions",
         "zeroline": true
        },
        "yaxis": {
         "autorange": true,
         "autotick": true,
         "showgrid": false,
         "showline": true,
         "showticklabels": true,
         "ticks": "",
         "title": "Time of Computation (in s)",
         "zeroline": true
        }
       }
      },
      "text/html": [
       "<div id=\"fa1d6a75-aeb2-4323-ae7c-13700a19a8a9\" style=\"height: 525px; width: 100%;\" class=\"plotly-graph-div\"></div><script type=\"text/javascript\">require([\"plotly\"], function(Plotly) { window.PLOTLYENV=window.PLOTLYENV || {};window.PLOTLYENV.BASE_URL=\"https://plot.ly\";Plotly.newPlot(\"fa1d6a75-aeb2-4323-ae7c-13700a19a8a9\", [{\"y\": [0.0787283182144165, 0.1474021077156067, 0.16275161504745483, 0.26862841844558716, 0.784540057182312, 1.0337851643562317, 1.3570978045463562, 1.5600057244300842, 1.8672918677330017, 4.0016666650772095, 6.712294340133667, 10.554746568202972, 11.55058479309082, 19.03319215774536, 32.67226845026016, 40.387652814388275, 43.56571680307388, 46.18970286846161, 70.20925688743591, 71.64433914422989, 97.12753182649612, 116.9278165102005, 121.13066917657852, 131.4403503537178, 170.75617599487305, 173.16071915626526, 239.60857969522476, 267.20530730485916, 310.1047500371933, 333.5666506886482, 345.5831108093262, 371.1799765229225, 471.1675375699997], \"x\": [1, 2, 3, 4, 5, 6, 7, 8, 9, 10, 11, 12, 13, 14, 15, 16, 17, 18, 19, 20, 21, 22, 23, 24, 25, 26, 27, 28, 29, 30, 31, 32, 33], \"type\": \"scatter\", \"name\": \"With 5 Relations\"}, {\"y\": [0.04130646586418152, 0.12536096572875977, 0.32523295283317566, 0.7851551175117493, 1.5386468172073364, 2.3201889991760254, 3.59023380279541, 4.973387062549591, 7.725611686706543, 9.146566718816757, 12.165721982717514, 14.596853286027908, 15.183636009693146, 21.673481434583664, 31.050935685634613, 34.203220427036285, 43.12315085530281, 50.27082350850105, 58.754369139671326, 59.06045365333557, 76.87137222290039, 89.6394393146038, 100.06346133351326, 115.72539553046227, 130.02547731995583, 134.110600233078, 149.29655075073242, 158.3753190934658, 165.64850199222565, 195.59538820385933, 238.0938755273819, 243.43477654457092, 249.91906213760376, 266.97480496764183, 293.32071125507355], \"x\": [1, 2, 3, 4, 5, 6, 7, 8, 9, 10, 11, 12, 13, 14, 15, 16, 17, 18, 19, 20, 21, 22, 23, 24, 25, 26, 27, 28, 29, 30, 31, 32, 33, 34, 35], \"type\": \"scatter\", \"name\": \"With 10 Relations\"}, {\"y\": [0.1632179617881775, 0.4454212188720703, 1.0013094544410706, 1.0381700992584229, 1.3171842694282532, 1.5893566012382507, 2.1879672408103943, 3.4874612092971797, 6.391523778438568, 6.729567110538483, 6.872047543525696, 6.956945240497589, 12.08371090888977, 14.040094316005707, 14.622788608074188, 15.406437337398529, 21.19628483057022, 29.00899839401245, 34.44702285528183, 36.806761503219604, 37.88812094926834, 38.24301552772522, 44.91158217191696, 48.21170616149902, 60.31049048900604, 71.33093392848969, 77.10017895698547, 77.61754244565964, 94.79357850551605, 108.37910342216492, 109.29705274105072, 112.17119473218918, 117.36771702766418, 125.1444981098175, 139.58011496067047], \"x\": [1, 2, 3, 4, 5, 6, 7, 8, 9, 10, 11, 12, 13, 14, 15, 16, 17, 18, 19, 20, 21, 22, 23, 24, 25, 26, 27, 28, 29, 30, 31, 32, 33, 34, 35], \"type\": \"scatter\", \"name\": \"With 15 Relations\"}, {\"y\": [0.019561767578125, 0.12992024421691895, 0.4315785765647888, 0.5188602805137634, 1.3485085368156433, 2.0620325803756714, 3.529064655303955, 3.7055370807647705, 4.451074242591858, 5.236235678195953, 6.264741897583008, 7.222723543643952, 7.474510073661804, 8.361064732074738, 10.35240888595581, 10.341808199882507, 12.047204434871674, 14.138188421726227, 14.401257753372192, 15.116816639900208, 19.720605432987213, 22.86544770002365, 25.729140281677246, 26.692271947860718, 29.720540463924408, 31.78811550140381, 34.417547166347504, 38.006758153438575, 40.63125282526016, 46.21602147817612, 49.49856650829315, 59.86867421865463, 65.9281912446022, 72.48165208101273, 76.45242512226105], \"x\": [1, 2, 3, 4, 5, 6, 7, 8, 9, 10, 11, 12, 13, 14, 15, 16, 17, 18, 19, 20, 21, 22, 23, 24, 25, 26, 27, 28, 29, 30, 31, 32, 33, 34, 35], \"type\": \"scatter\", \"name\": \"With 20 Relations\"}, {\"y\": [0.02779233455657959, 0.059789955615997314, 0.2025158405303955, 0.3646419048309326, 0.3991742730140686, 0.6042433977127075, 0.9883016347885132, 1.5327389240264893, 1.5690391063690186, 2.87195086479187, 5.346786975860596, 5.4874648451805115, 6.3744553327560425, 7.310974180698395, 9.047897338867188, 9.321366667747498, 9.488609433174133, 9.600861132144928, 9.968939125537872, 13.194806694984436, 18.066638588905334, 19.570260524749756, 25.242735981941223, 26.298134326934814, 30.0807883143425, 38.0000484585762, 43.64361637830734, 46.97757601737976, 51.379887104034424, 51.064947724342346, 51.21139633655548, 52.113685607910156, 57.911529421806335, 65.65277898311615, 65.25485062599182], \"x\": [1, 2, 3, 4, 5, 6, 7, 8, 9, 10, 11, 12, 13, 14, 15, 16, 17, 18, 19, 20, 21, 22, 23, 24, 25, 26, 27, 28, 29, 30, 31, 32, 33, 34, 35], \"type\": \"scatter\", \"name\": \"With 30 Relations\"}], {\"font\": {\"family\": \"Latin Modern Math\", \"size\": 18}, \"legend\": {\"y\": 1, \"x\": 0}, \"xaxis\": {\"showticklabels\": true, \"title\": \"Number of Functions\", \"ticks\": \"\", \"showgrid\": false, \"zeroline\": true, \"showline\": false, \"autotick\": true, \"autorange\": true}, \"yaxis\": {\"showticklabels\": true, \"title\": \"Time of Computation (in s)\", \"ticks\": \"\", \"showgrid\": false, \"zeroline\": true, \"showline\": true, \"autotick\": true, \"autorange\": true}}, {\"linkText\": \"Export to plot.ly\", \"showLink\": true})});</script>"
      ],
      "text/vnd.plotly.v1+html": [
       "<div id=\"fa1d6a75-aeb2-4323-ae7c-13700a19a8a9\" style=\"height: 525px; width: 100%;\" class=\"plotly-graph-div\"></div><script type=\"text/javascript\">require([\"plotly\"], function(Plotly) { window.PLOTLYENV=window.PLOTLYENV || {};window.PLOTLYENV.BASE_URL=\"https://plot.ly\";Plotly.newPlot(\"fa1d6a75-aeb2-4323-ae7c-13700a19a8a9\", [{\"y\": [0.0787283182144165, 0.1474021077156067, 0.16275161504745483, 0.26862841844558716, 0.784540057182312, 1.0337851643562317, 1.3570978045463562, 1.5600057244300842, 1.8672918677330017, 4.0016666650772095, 6.712294340133667, 10.554746568202972, 11.55058479309082, 19.03319215774536, 32.67226845026016, 40.387652814388275, 43.56571680307388, 46.18970286846161, 70.20925688743591, 71.64433914422989, 97.12753182649612, 116.9278165102005, 121.13066917657852, 131.4403503537178, 170.75617599487305, 173.16071915626526, 239.60857969522476, 267.20530730485916, 310.1047500371933, 333.5666506886482, 345.5831108093262, 371.1799765229225, 471.1675375699997], \"x\": [1, 2, 3, 4, 5, 6, 7, 8, 9, 10, 11, 12, 13, 14, 15, 16, 17, 18, 19, 20, 21, 22, 23, 24, 25, 26, 27, 28, 29, 30, 31, 32, 33], \"type\": \"scatter\", \"name\": \"With 5 Relations\"}, {\"y\": [0.04130646586418152, 0.12536096572875977, 0.32523295283317566, 0.7851551175117493, 1.5386468172073364, 2.3201889991760254, 3.59023380279541, 4.973387062549591, 7.725611686706543, 9.146566718816757, 12.165721982717514, 14.596853286027908, 15.183636009693146, 21.673481434583664, 31.050935685634613, 34.203220427036285, 43.12315085530281, 50.27082350850105, 58.754369139671326, 59.06045365333557, 76.87137222290039, 89.6394393146038, 100.06346133351326, 115.72539553046227, 130.02547731995583, 134.110600233078, 149.29655075073242, 158.3753190934658, 165.64850199222565, 195.59538820385933, 238.0938755273819, 243.43477654457092, 249.91906213760376, 266.97480496764183, 293.32071125507355], \"x\": [1, 2, 3, 4, 5, 6, 7, 8, 9, 10, 11, 12, 13, 14, 15, 16, 17, 18, 19, 20, 21, 22, 23, 24, 25, 26, 27, 28, 29, 30, 31, 32, 33, 34, 35], \"type\": \"scatter\", \"name\": \"With 10 Relations\"}, {\"y\": [0.1632179617881775, 0.4454212188720703, 1.0013094544410706, 1.0381700992584229, 1.3171842694282532, 1.5893566012382507, 2.1879672408103943, 3.4874612092971797, 6.391523778438568, 6.729567110538483, 6.872047543525696, 6.956945240497589, 12.08371090888977, 14.040094316005707, 14.622788608074188, 15.406437337398529, 21.19628483057022, 29.00899839401245, 34.44702285528183, 36.806761503219604, 37.88812094926834, 38.24301552772522, 44.91158217191696, 48.21170616149902, 60.31049048900604, 71.33093392848969, 77.10017895698547, 77.61754244565964, 94.79357850551605, 108.37910342216492, 109.29705274105072, 112.17119473218918, 117.36771702766418, 125.1444981098175, 139.58011496067047], \"x\": [1, 2, 3, 4, 5, 6, 7, 8, 9, 10, 11, 12, 13, 14, 15, 16, 17, 18, 19, 20, 21, 22, 23, 24, 25, 26, 27, 28, 29, 30, 31, 32, 33, 34, 35], \"type\": \"scatter\", \"name\": \"With 15 Relations\"}, {\"y\": [0.019561767578125, 0.12992024421691895, 0.4315785765647888, 0.5188602805137634, 1.3485085368156433, 2.0620325803756714, 3.529064655303955, 3.7055370807647705, 4.451074242591858, 5.236235678195953, 6.264741897583008, 7.222723543643952, 7.474510073661804, 8.361064732074738, 10.35240888595581, 10.341808199882507, 12.047204434871674, 14.138188421726227, 14.401257753372192, 15.116816639900208, 19.720605432987213, 22.86544770002365, 25.729140281677246, 26.692271947860718, 29.720540463924408, 31.78811550140381, 34.417547166347504, 38.006758153438575, 40.63125282526016, 46.21602147817612, 49.49856650829315, 59.86867421865463, 65.9281912446022, 72.48165208101273, 76.45242512226105], \"x\": [1, 2, 3, 4, 5, 6, 7, 8, 9, 10, 11, 12, 13, 14, 15, 16, 17, 18, 19, 20, 21, 22, 23, 24, 25, 26, 27, 28, 29, 30, 31, 32, 33, 34, 35], \"type\": \"scatter\", \"name\": \"With 20 Relations\"}, {\"y\": [0.02779233455657959, 0.059789955615997314, 0.2025158405303955, 0.3646419048309326, 0.3991742730140686, 0.6042433977127075, 0.9883016347885132, 1.5327389240264893, 1.5690391063690186, 2.87195086479187, 5.346786975860596, 5.4874648451805115, 6.3744553327560425, 7.310974180698395, 9.047897338867188, 9.321366667747498, 9.488609433174133, 9.600861132144928, 9.968939125537872, 13.194806694984436, 18.066638588905334, 19.570260524749756, 25.242735981941223, 26.298134326934814, 30.0807883143425, 38.0000484585762, 43.64361637830734, 46.97757601737976, 51.379887104034424, 51.064947724342346, 51.21139633655548, 52.113685607910156, 57.911529421806335, 65.65277898311615, 65.25485062599182], \"x\": [1, 2, 3, 4, 5, 6, 7, 8, 9, 10, 11, 12, 13, 14, 15, 16, 17, 18, 19, 20, 21, 22, 23, 24, 25, 26, 27, 28, 29, 30, 31, 32, 33, 34, 35], \"type\": \"scatter\", \"name\": \"With 30 Relations\"}], {\"font\": {\"family\": \"Latin Modern Math\", \"size\": 18}, \"legend\": {\"y\": 1, \"x\": 0}, \"xaxis\": {\"showticklabels\": true, \"title\": \"Number of Functions\", \"ticks\": \"\", \"showgrid\": false, \"zeroline\": true, \"showline\": false, \"autotick\": true, \"autorange\": true}, \"yaxis\": {\"showticklabels\": true, \"title\": \"Time of Computation (in s)\", \"ticks\": \"\", \"showgrid\": false, \"zeroline\": true, \"showline\": true, \"autotick\": true, \"autorange\": true}}, {\"linkText\": \"Export to plot.ly\", \"showLink\": true})});</script>"
      ]
     },
     "metadata": {},
     "output_type": "display_data"
    }
   ],
   "source": [
    "layout = Layout(\n",
    "    # title='Comparisation Performance With the Total Number of Relations',\n",
    "    font=dict(family='Latin Modern Math', size=6*3),\n",
    "    xaxis=dict(\n",
    "        title='Number of Functions',\n",
    "        autorange=True,\n",
    "        showgrid=False,\n",
    "        zeroline=True,\n",
    "        showline=False,\n",
    "        autotick=True,\n",
    "        ticks='',\n",
    "        showticklabels=True\n",
    "    ),\n",
    "    yaxis=dict(\n",
    "        title='Time of Computation (in s)',\n",
    "        autorange=True,\n",
    "        showgrid=False,\n",
    "        zeroline=True,\n",
    "        showline=True,\n",
    "        autotick=True,\n",
    "        ticks='',\n",
    "        showticklabels=True\n",
    "    ),\n",
    "    legend=dict(x=0, y=1)\n",
    ")\n",
    "fig = Figure(data=[data05, data10, data15, data20, data30], layout=layout)\n",
    "iplot(fig)"
   ]
  },
  {
   "cell_type": "code",
   "execution_count": null,
   "metadata": {
    "collapsed": true
   },
   "outputs": [],
   "source": []
  }
 ],
 "metadata": {
  "kernelspec": {
   "display_name": "Python 2",
   "language": "python",
   "name": "python2"
  },
  "language_info": {
   "codemirror_mode": {
    "name": "ipython",
    "version": 2
   },
   "file_extension": ".py",
   "mimetype": "text/x-python",
   "name": "python",
   "nbconvert_exporter": "python",
   "pygments_lexer": "ipython2",
   "version": "2.7.12"
  }
 },
 "nbformat": 4,
 "nbformat_minor": 2
}
