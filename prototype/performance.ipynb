{
 "cells": [
  {
   "cell_type": "code",
   "execution_count": 1,
   "metadata": {},
   "outputs": [
    {
     "data": {
      "text/html": [
       "<script>requirejs.config({paths: { 'plotly': ['https://cdn.plot.ly/plotly-latest.min']},});if(!window.Plotly) {{require(['plotly'],function(plotly) {window.Plotly=plotly;});}}</script>"
      ],
      "text/vnd.plotly.v1+html": [
       "<script>requirejs.config({paths: { 'plotly': ['https://cdn.plot.ly/plotly-latest.min']},});if(!window.Plotly) {{require(['plotly'],function(plotly) {window.Plotly=plotly;});}}</script>"
      ]
     },
     "metadata": {},
     "output_type": "display_data"
    }
   ],
   "source": [
    "import pandas as pd\n",
    "import numpy as np\n",
    "from plotly.offline import download_plotlyjs, init_notebook_mode, plot, iplot\n",
    "import plotly\n",
    "from plotly.graph_objs import Scatter, Figure, Layout, Histogram\n",
    "init_notebook_mode(connected=True)\n",
    "np.random.seed(68)\n",
    "%matplotlib inline"
   ]
  },
  {
   "cell_type": "code",
   "execution_count": 2,
   "metadata": {},
   "outputs": [],
   "source": [
    "df = pd.read_csv(\"performances2.csv\")"
   ]
  },
  {
   "cell_type": "code",
   "execution_count": 3,
   "metadata": {},
   "outputs": [
    {
     "data": {
      "text/html": [
       "<div>\n",
       "<style>\n",
       "    .dataframe thead tr:only-child th {\n",
       "        text-align: right;\n",
       "    }\n",
       "\n",
       "    .dataframe thead th {\n",
       "        text-align: left;\n",
       "    }\n",
       "\n",
       "    .dataframe tbody tr th {\n",
       "        vertical-align: top;\n",
       "    }\n",
       "</style>\n",
       "<table border=\"1\" class=\"dataframe\">\n",
       "  <thead>\n",
       "    <tr style=\"text-align: right;\">\n",
       "      <th></th>\n",
       "      <th>optim</th>\n",
       "      <th>n_functions</th>\n",
       "      <th>time</th>\n",
       "    </tr>\n",
       "  </thead>\n",
       "  <tbody>\n",
       "    <tr>\n",
       "      <th>0</th>\n",
       "      <td>True</td>\n",
       "      <td>1</td>\n",
       "      <td>0.010541</td>\n",
       "    </tr>\n",
       "    <tr>\n",
       "      <th>1</th>\n",
       "      <td>False</td>\n",
       "      <td>1</td>\n",
       "      <td>0.011677</td>\n",
       "    </tr>\n",
       "    <tr>\n",
       "      <th>2</th>\n",
       "      <td>True</td>\n",
       "      <td>2</td>\n",
       "      <td>0.128965</td>\n",
       "    </tr>\n",
       "    <tr>\n",
       "      <th>3</th>\n",
       "      <td>False</td>\n",
       "      <td>2</td>\n",
       "      <td>0.141864</td>\n",
       "    </tr>\n",
       "    <tr>\n",
       "      <th>4</th>\n",
       "      <td>True</td>\n",
       "      <td>3</td>\n",
       "      <td>0.165944</td>\n",
       "    </tr>\n",
       "  </tbody>\n",
       "</table>\n",
       "</div>"
      ],
      "text/plain": [
       "   optim  n_functions      time\n",
       "0   True            1  0.010541\n",
       "1  False            1  0.011677\n",
       "2   True            2  0.128965\n",
       "3  False            2  0.141864\n",
       "4   True            3  0.165944"
      ]
     },
     "execution_count": 3,
     "metadata": {},
     "output_type": "execute_result"
    }
   ],
   "source": [
    "df.head()"
   ]
  },
  {
   "cell_type": "code",
   "execution_count": 4,
   "metadata": {},
   "outputs": [
    {
     "data": {
      "text/plain": [
       "<matplotlib.axes._subplots.AxesSubplot at 0x7f423d700710>"
      ]
     },
     "execution_count": 4,
     "metadata": {},
     "output_type": "execute_result"
    },
    {
     "data": {
      "image/png": "[encoded data removed]",
      "text/plain": [
       "<matplotlib.figure.Figure at 0x7f423d98f490>"
      ]
     },
     "metadata": {},
     "output_type": "display_data"
    }
   ],
   "source": [
    "df.plot()"
   ]
  },
  {
   "cell_type": "code",
   "execution_count": 5,
   "metadata": {},
   "outputs": [],
   "source": [
    "df_true = df[df[\"optim\"] == True].groupby(by=\"n_functions\").agg(np.mean)\n",
    "df_false = df[df[\"optim\"] == False].groupby(by=\"n_functions\").agg(np.mean)"
   ]
  },
  {
   "cell_type": "code",
   "execution_count": 6,
   "metadata": {},
   "outputs": [
    {
     "data": {
      "text/plain": [
       "Int64Index([ 1,  2,  3,  4,  5,  6,  7,  8,  9, 10, 11, 12, 13, 14, 15, 16, 17,\n",
       "            18, 19, 20, 21, 22, 23, 24, 25, 26, 27, 28, 29, 30, 31, 32, 33, 34,\n",
       "            35, 36, 37, 38, 39, 40, 41, 42, 43, 44, 45],\n",
       "           dtype='int64', name=u'n_functions')"
      ]
     },
     "execution_count": 6,
     "metadata": {},
     "output_type": "execute_result"
    }
   ],
   "source": [
    "df_true.index"
   ]
  },
  {
   "cell_type": "code",
   "execution_count": 7,
   "metadata": {},
   "outputs": [],
   "source": [
    "data1 = Scatter(x=df_true.index, y=df_true.time)\n",
    "data2 = Scatter(x=df_false.index, y=df_false.time)"
   ]
  },
  {
   "cell_type": "code",
   "execution_count": 8,
   "metadata": {},
   "outputs": [
    {
     "data": {
      "application/vnd.plotly.v1+json": {
       "data": [
        {
         "type": "scatter",
         "x": [
          1,
          2,
          3,
          4,
          5,
          6,
          7,
          8,
          9,
          10,
          11,
          12,
          13,
          14,
          15,
          16,
          17,
          18,
          19,
          20,
          21,
          22,
          23,
          24,
          25,
          26,
          27,
          28,
          29,
          30,
          31,
          32,
          33,
          34,
          35,
          36,
          37,
          38,
          39,
          40,
          41,
          42,
          43,
          44,
          45
         ],
         "y": [
          0.01054096221923828,
          0.1289653778076172,
          0.16594409942626953,
          0.21251487731933594,
          0.3448929786682129,
          0.4911417961120606,
          0.5489187240600586,
          1.3815088272094729,
          1.8219149112701416,
          3.16999626159668,
          4.900802612304688,
          6.130144834518433,
          6.484280586242676,
          8.305670499801638,
          12.986247301101685,
          13.748278617858887,
          21.21848177909851,
          23.647502660751343,
          33.222995042800896,
          326.2762455940246,
          370.36025190353394,
          377.8110406398773,
          423.0226664543152,
          485.8867321014404,
          490.37107968330383,
          518.3138730525969,
          516.008820772171,
          654.7928957939147,
          681.3410627841951,
          735.0647876262665,
          870.9162769317627,
          879.7304992675781,
          917.9632258415222,
          925.2211308479308,
          1421.2680468559265,
          1651.2731759548187,
          1662.3426299095154,
          1779.7054114341736,
          2101.1304895877843,
          2218.95502114296,
          3440.505327701569,
          3631.476711034775,
          3703.2959520816803,
          4181.7084004879,
          6018.172171354295
         ]
        },
        {
         "type": "scatter",
         "x": [
          1,
          2,
          3,
          4,
          5,
          6,
          7,
          8,
          9,
          10,
          11,
          12,
          13,
          14,
          15,
          16,
          17,
          18,
          19,
          20,
          21,
          22,
          23,
          24,
          25,
          26,
          27,
          28,
          29,
          30,
          31,
          32,
          33,
          34,
          35,
          36,
          37,
          38,
          39,
          40,
          41,
          42,
          43,
          44,
          45
         ],
         "y": [
          0.011677265167236328,
          0.14186358451843262,
          0.1927132606506348,
          0.231919527053833,
          0.3856923580169678,
          0.5134708881378174,
          0.6017117500305176,
          1.5399837493896484,
          1.9933736324310305,
          3.915546417236328,
          6.144333600997925,
          7.669740200042725,
          8.25432276725769,
          10.023969650268556,
          15.865203619003296,
          16.59694528579712,
          25.916954755783078,
          27.647597789764404,
          40.113713264465325,
          348.37604808807373,
          398.8916876316071,
          436.4972913265228,
          495.0343372821808,
          554.5394470691681,
          671.7735710144042,
          676.0296947956085,
          629.563437461853,
          843.9482233524323,
          847.574826002121,
          910.1826739311218,
          1137.6202163696291,
          1154.9160966873171,
          1181.4347517490387,
          1209.8763618469236,
          1388.281306028366,
          1602.4945521354675,
          1657.8049628734589,
          1812.6288385391235,
          2218.2048552036285,
          2293.8472137451167,
          3325.470491886139,
          3514.669814348221,
          3633.4199934005737,
          4136.4357521533975,
          4940.054307937622
         ]
        }
       ],
       "layout": {}
      },
      "text/html": [
       "<div id=\"bb8b8b52-1511-44c0-9a30-ef845eecbf60\" style=\"height: 525px; width: 100%;\" class=\"plotly-graph-div\"></div><script type=\"text/javascript\">require([\"plotly\"], function(Plotly) { window.PLOTLYENV=window.PLOTLYENV || {};window.PLOTLYENV.BASE_URL=\"https://plot.ly\";Plotly.newPlot(\"bb8b8b52-1511-44c0-9a30-ef845eecbf60\", [{\"y\": [0.01054096221923828, 0.1289653778076172, 0.16594409942626953, 0.21251487731933594, 0.3448929786682129, 0.4911417961120606, 0.5489187240600586, 1.3815088272094729, 1.8219149112701416, 3.16999626159668, 4.900802612304688, 6.130144834518433, 6.484280586242676, 8.305670499801638, 12.986247301101685, 13.748278617858887, 21.21848177909851, 23.647502660751343, 33.222995042800896, 326.2762455940246, 370.36025190353394, 377.8110406398773, 423.0226664543152, 485.8867321014404, 490.37107968330383, 518.3138730525969, 516.008820772171, 654.7928957939147, 681.3410627841951, 735.0647876262665, 870.9162769317627, 879.7304992675781, 917.9632258415222, 925.2211308479308, 1421.2680468559265, 1651.2731759548187, 1662.3426299095154, 1779.7054114341736, 2101.1304895877843, 2218.95502114296, 3440.505327701569, 3631.476711034775, 3703.2959520816803, 4181.7084004879, 6018.172171354295], \"x\": [1, 2, 3, 4, 5, 6, 7, 8, 9, 10, 11, 12, 13, 14, 15, 16, 17, 18, 19, 20, 21, 22, 23, 24, 25, 26, 27, 28, 29, 30, 31, 32, 33, 34, 35, 36, 37, 38, 39, 40, 41, 42, 43, 44, 45], \"type\": \"scatter\"}, {\"y\": [0.011677265167236328, 0.14186358451843262, 0.1927132606506348, 0.231919527053833, 0.3856923580169678, 0.5134708881378174, 0.6017117500305176, 1.5399837493896484, 1.9933736324310305, 3.915546417236328, 6.144333600997925, 7.669740200042725, 8.25432276725769, 10.023969650268556, 15.865203619003296, 16.59694528579712, 25.916954755783078, 27.647597789764404, 40.113713264465325, 348.37604808807373, 398.8916876316071, 436.4972913265228, 495.0343372821808, 554.5394470691681, 671.7735710144042, 676.0296947956085, 629.563437461853, 843.9482233524323, 847.574826002121, 910.1826739311218, 1137.6202163696291, 1154.9160966873171, 1181.4347517490387, 1209.8763618469236, 1388.281306028366, 1602.4945521354675, 1657.8049628734589, 1812.6288385391235, 2218.2048552036285, 2293.8472137451167, 3325.470491886139, 3514.669814348221, 3633.4199934005737, 4136.4357521533975, 4940.054307937622], \"x\": [1, 2, 3, 4, 5, 6, 7, 8, 9, 10, 11, 12, 13, 14, 15, 16, 17, 18, 19, 20, 21, 22, 23, 24, 25, 26, 27, 28, 29, 30, 31, 32, 33, 34, 35, 36, 37, 38, 39, 40, 41, 42, 43, 44, 45], \"type\": \"scatter\"}], {}, {\"linkText\": \"Export to plot.ly\", \"showLink\": true})});</script>"
      ],
      "text/vnd.plotly.v1+html": [
       "<div id=\"bb8b8b52-1511-44c0-9a30-ef845eecbf60\" style=\"height: 525px; width: 100%;\" class=\"plotly-graph-div\"></div><script type=\"text/javascript\">require([\"plotly\"], function(Plotly) { window.PLOTLYENV=window.PLOTLYENV || {};window.PLOTLYENV.BASE_URL=\"https://plot.ly\";Plotly.newPlot(\"bb8b8b52-1511-44c0-9a30-ef845eecbf60\", [{\"y\": [0.01054096221923828, 0.1289653778076172, 0.16594409942626953, 0.21251487731933594, 0.3448929786682129, 0.4911417961120606, 0.5489187240600586, 1.3815088272094729, 1.8219149112701416, 3.16999626159668, 4.900802612304688, 6.130144834518433, 6.484280586242676, 8.305670499801638, 12.986247301101685, 13.748278617858887, 21.21848177909851, 23.647502660751343, 33.222995042800896, 326.2762455940246, 370.36025190353394, 377.8110406398773, 423.0226664543152, 485.8867321014404, 490.37107968330383, 518.3138730525969, 516.008820772171, 654.7928957939147, 681.3410627841951, 735.0647876262665, 870.9162769317627, 879.7304992675781, 917.9632258415222, 925.2211308479308, 1421.2680468559265, 1651.2731759548187, 1662.3426299095154, 1779.7054114341736, 2101.1304895877843, 2218.95502114296, 3440.505327701569, 3631.476711034775, 3703.2959520816803, 4181.7084004879, 6018.172171354295], \"x\": [1, 2, 3, 4, 5, 6, 7, 8, 9, 10, 11, 12, 13, 14, 15, 16, 17, 18, 19, 20, 21, 22, 23, 24, 25, 26, 27, 28, 29, 30, 31, 32, 33, 34, 35, 36, 37, 38, 39, 40, 41, 42, 43, 44, 45], \"type\": \"scatter\"}, {\"y\": [0.011677265167236328, 0.14186358451843262, 0.1927132606506348, 0.231919527053833, 0.3856923580169678, 0.5134708881378174, 0.6017117500305176, 1.5399837493896484, 1.9933736324310305, 3.915546417236328, 6.144333600997925, 7.669740200042725, 8.25432276725769, 10.023969650268556, 15.865203619003296, 16.59694528579712, 25.916954755783078, 27.647597789764404, 40.113713264465325, 348.37604808807373, 398.8916876316071, 436.4972913265228, 495.0343372821808, 554.5394470691681, 671.7735710144042, 676.0296947956085, 629.563437461853, 843.9482233524323, 847.574826002121, 910.1826739311218, 1137.6202163696291, 1154.9160966873171, 1181.4347517490387, 1209.8763618469236, 1388.281306028366, 1602.4945521354675, 1657.8049628734589, 1812.6288385391235, 2218.2048552036285, 2293.8472137451167, 3325.470491886139, 3514.669814348221, 3633.4199934005737, 4136.4357521533975, 4940.054307937622], \"x\": [1, 2, 3, 4, 5, 6, 7, 8, 9, 10, 11, 12, 13, 14, 15, 16, 17, 18, 19, 20, 21, 22, 23, 24, 25, 26, 27, 28, 29, 30, 31, 32, 33, 34, 35, 36, 37, 38, 39, 40, 41, 42, 43, 44, 45], \"type\": \"scatter\"}], {}, {\"linkText\": \"Export to plot.ly\", \"showLink\": true})});</script>"
      ]
     },
     "metadata": {},
     "output_type": "display_data"
    }
   ],
   "source": [
    "iplot([data1, data2])"
   ]
  },
  {
   "cell_type": "code",
   "execution_count": 9,
   "metadata": {},
   "outputs": [],
   "source": [
    "data3 = Scatter(x=df_true.index, y=(np.array(df_false.time)-np.array(df_true.time)))"
   ]
  },
  {
   "cell_type": "code",
   "execution_count": 10,
   "metadata": {},
   "outputs": [
    {
     "data": {
      "application/vnd.plotly.v1+json": {
       "data": [
        {
         "type": "scatter",
         "x": [
          1,
          2,
          3,
          4,
          5,
          6,
          7,
          8,
          9,
          10,
          11,
          12,
          13,
          14,
          15,
          16,
          17,
          18,
          19,
          20,
          21,
          22,
          23,
          24,
          25,
          26,
          27,
          28,
          29,
          30,
          31,
          32,
          33,
          34,
          35,
          36,
          37,
          38,
          39,
          40,
          41,
          42,
          43,
          44,
          45
         ],
         "y": [
          0.0011363029479980486,
          0.01289820671081543,
          0.026769161224365262,
          0.01940464973449707,
          0.04079937934875488,
          0.02232909202575678,
          0.052793025970458984,
          0.15847492218017556,
          0.1714587211608889,
          0.745550155639648,
          1.2435309886932364,
          1.539595365524292,
          1.7700421810150146,
          1.718299150466919,
          2.8789563179016113,
          2.8486666679382324,
          4.698472976684567,
          4.0000951290130615,
          6.890718221664429,
          22.09980249404913,
          28.531435728073177,
          58.68625068664551,
          72.0116708278656,
          68.65271496772772,
          181.40249133110035,
          157.7158217430116,
          113.554616689682,
          189.15532755851757,
          166.2337632179259,
          175.11788630485535,
          266.70393943786644,
          275.185597419739,
          263.4715259075165,
          284.6552309989928,
          -32.986740827560425,
          -48.778623819351196,
          -4.5376670360565186,
          32.92342710494995,
          117.07436561584427,
          74.89219260215668,
          -115.03483581543014,
          -116.80689668655396,
          -69.87595868110657,
          -45.272648334502264,
          -1078.1178634166727
         ]
        }
       ],
       "layout": {}
      },
      "text/html": [
       "<div id=\"7a086eee-563b-4f0d-99ac-1d9f0803fcb3\" style=\"height: 525px; width: 100%;\" class=\"plotly-graph-div\"></div><script type=\"text/javascript\">require([\"plotly\"], function(Plotly) { window.PLOTLYENV=window.PLOTLYENV || {};window.PLOTLYENV.BASE_URL=\"https://plot.ly\";Plotly.newPlot(\"7a086eee-563b-4f0d-99ac-1d9f0803fcb3\", [{\"y\": [0.0011363029479980486, 0.01289820671081543, 0.026769161224365262, 0.01940464973449707, 0.04079937934875488, 0.02232909202575678, 0.052793025970458984, 0.15847492218017556, 0.1714587211608889, 0.745550155639648, 1.2435309886932364, 1.539595365524292, 1.7700421810150146, 1.718299150466919, 2.8789563179016113, 2.8486666679382324, 4.698472976684567, 4.0000951290130615, 6.890718221664429, 22.09980249404913, 28.531435728073177, 58.68625068664551, 72.0116708278656, 68.65271496772772, 181.40249133110035, 157.7158217430116, 113.554616689682, 189.15532755851757, 166.2337632179259, 175.11788630485535, 266.70393943786644, 275.185597419739, 263.4715259075165, 284.6552309989928, -32.986740827560425, -48.778623819351196, -4.5376670360565186, 32.92342710494995, 117.07436561584427, 74.89219260215668, -115.03483581543014, -116.80689668655396, -69.87595868110657, -45.272648334502264, -1078.1178634166727], \"x\": [1, 2, 3, 4, 5, 6, 7, 8, 9, 10, 11, 12, 13, 14, 15, 16, 17, 18, 19, 20, 21, 22, 23, 24, 25, 26, 27, 28, 29, 30, 31, 32, 33, 34, 35, 36, 37, 38, 39, 40, 41, 42, 43, 44, 45], \"type\": \"scatter\"}], {}, {\"linkText\": \"Export to plot.ly\", \"showLink\": true})});</script>"
      ],
      "text/vnd.plotly.v1+html": [
       "<div id=\"7a086eee-563b-4f0d-99ac-1d9f0803fcb3\" style=\"height: 525px; width: 100%;\" class=\"plotly-graph-div\"></div><script type=\"text/javascript\">require([\"plotly\"], function(Plotly) { window.PLOTLYENV=window.PLOTLYENV || {};window.PLOTLYENV.BASE_URL=\"https://plot.ly\";Plotly.newPlot(\"7a086eee-563b-4f0d-99ac-1d9f0803fcb3\", [{\"y\": [0.0011363029479980486, 0.01289820671081543, 0.026769161224365262, 0.01940464973449707, 0.04079937934875488, 0.02232909202575678, 0.052793025970458984, 0.15847492218017556, 0.1714587211608889, 0.745550155639648, 1.2435309886932364, 1.539595365524292, 1.7700421810150146, 1.718299150466919, 2.8789563179016113, 2.8486666679382324, 4.698472976684567, 4.0000951290130615, 6.890718221664429, 22.09980249404913, 28.531435728073177, 58.68625068664551, 72.0116708278656, 68.65271496772772, 181.40249133110035, 157.7158217430116, 113.554616689682, 189.15532755851757, 166.2337632179259, 175.11788630485535, 266.70393943786644, 275.185597419739, 263.4715259075165, 284.6552309989928, -32.986740827560425, -48.778623819351196, -4.5376670360565186, 32.92342710494995, 117.07436561584427, 74.89219260215668, -115.03483581543014, -116.80689668655396, -69.87595868110657, -45.272648334502264, -1078.1178634166727], \"x\": [1, 2, 3, 4, 5, 6, 7, 8, 9, 10, 11, 12, 13, 14, 15, 16, 17, 18, 19, 20, 21, 22, 23, 24, 25, 26, 27, 28, 29, 30, 31, 32, 33, 34, 35, 36, 37, 38, 39, 40, 41, 42, 43, 44, 45], \"type\": \"scatter\"}], {}, {\"linkText\": \"Export to plot.ly\", \"showLink\": true})});</script>"
      ]
     },
     "metadata": {},
     "output_type": "display_data"
    }
   ],
   "source": [
    "iplot([data3])"
   ]
  },
  {
   "cell_type": "code",
   "execution_count": 11,
   "metadata": {},
   "outputs": [],
   "source": [
    "dt = (np.array(df_false.time)-np.array(df_true.time))"
   ]
  },
  {
   "cell_type": "code",
   "execution_count": 12,
   "metadata": {},
   "outputs": [],
   "source": [
    "window_size = 5\n",
    "dt_smooth = []"
   ]
  },
  {
   "cell_type": "code",
   "execution_count": 13,
   "metadata": {},
   "outputs": [],
   "source": [
    "for i in range(len(dt) - window_size):\n",
    "    dt_smooth.append(dt[i:i+5].mean())"
   ]
  },
  {
   "cell_type": "code",
   "execution_count": 14,
   "metadata": {},
   "outputs": [],
   "source": [
    "data4 = Scatter(x=range(len(dt_smooth)), y=dt_smooth)"
   ]
  },
  {
   "cell_type": "code",
   "execution_count": 15,
   "metadata": {},
   "outputs": [
    {
     "data": {
      "application/vnd.plotly.v1+json": {
       "data": [
        {
         "type": "scatter",
         "x": [
          0,
          1,
          2,
          3,
          4,
          5,
          6,
          7,
          8,
          9,
          10,
          11,
          12,
          13,
          14,
          15,
          16,
          17,
          18,
          19,
          20,
          21,
          22,
          23,
          24,
          25,
          26,
          27,
          28,
          29,
          30,
          31,
          32,
          33,
          34,
          35,
          36,
          37,
          38,
          39
         ],
         "y": [
          0.02020153999328614,
          0.024440097808837886,
          0.03241906166076659,
          0.05876021385192866,
          0.08917102813720702,
          0.23012118339538565,
          0.4743615627288816,
          0.7717220306396482,
          1.094035482406616,
          1.4034035682678219,
          1.8300848007202148,
          2.151111936569214,
          2.7828874588012686,
          3.228898048400878,
          4.26338186264038,
          8.107551097869884,
          13.244104909896873,
          24.04166045188906,
          37.64397559165957,
          49.99637494087223,
          81.85691270828247,
          107.69378991127014,
          118.66746311187744,
          142.09619445800783,
          161.61240410804749,
          160.35548310279847,
          182.15310664176945,
          214.47930278778085,
          229.34254245758066,
          253.02683601379402,
          211.40591058731087,
          148.30939793586734,
          92.36474504470823,
          46.255125284194925,
          12.738952207565216,
          34.31473889350864,
          21.06349649429285,
          -1.3903494358066382,
          -21.95022659301794,
          -54.41962938308725
         ]
        }
       ],
       "layout": {}
      },
      "text/html": [
       "<div id=\"d59441fa-0951-4066-b98a-813f21f9de29\" style=\"height: 525px; width: 100%;\" class=\"plotly-graph-div\"></div><script type=\"text/javascript\">require([\"plotly\"], function(Plotly) { window.PLOTLYENV=window.PLOTLYENV || {};window.PLOTLYENV.BASE_URL=\"https://plot.ly\";Plotly.newPlot(\"d59441fa-0951-4066-b98a-813f21f9de29\", [{\"y\": [0.02020153999328614, 0.024440097808837886, 0.03241906166076659, 0.05876021385192866, 0.08917102813720702, 0.23012118339538565, 0.4743615627288816, 0.7717220306396482, 1.094035482406616, 1.4034035682678219, 1.8300848007202148, 2.151111936569214, 2.7828874588012686, 3.228898048400878, 4.26338186264038, 8.107551097869884, 13.244104909896873, 24.04166045188906, 37.64397559165957, 49.99637494087223, 81.85691270828247, 107.69378991127014, 118.66746311187744, 142.09619445800783, 161.61240410804749, 160.35548310279847, 182.15310664176945, 214.47930278778085, 229.34254245758066, 253.02683601379402, 211.40591058731087, 148.30939793586734, 92.36474504470823, 46.255125284194925, 12.738952207565216, 34.31473889350864, 21.06349649429285, -1.3903494358066382, -21.95022659301794, -54.41962938308725], \"x\": [0, 1, 2, 3, 4, 5, 6, 7, 8, 9, 10, 11, 12, 13, 14, 15, 16, 17, 18, 19, 20, 21, 22, 23, 24, 25, 26, 27, 28, 29, 30, 31, 32, 33, 34, 35, 36, 37, 38, 39], \"type\": \"scatter\"}], {}, {\"linkText\": \"Export to plot.ly\", \"showLink\": true})});</script>"
      ],
      "text/vnd.plotly.v1+html": [
       "<div id=\"d59441fa-0951-4066-b98a-813f21f9de29\" style=\"height: 525px; width: 100%;\" class=\"plotly-graph-div\"></div><script type=\"text/javascript\">require([\"plotly\"], function(Plotly) { window.PLOTLYENV=window.PLOTLYENV || {};window.PLOTLYENV.BASE_URL=\"https://plot.ly\";Plotly.newPlot(\"d59441fa-0951-4066-b98a-813f21f9de29\", [{\"y\": [0.02020153999328614, 0.024440097808837886, 0.03241906166076659, 0.05876021385192866, 0.08917102813720702, 0.23012118339538565, 0.4743615627288816, 0.7717220306396482, 1.094035482406616, 1.4034035682678219, 1.8300848007202148, 2.151111936569214, 2.7828874588012686, 3.228898048400878, 4.26338186264038, 8.107551097869884, 13.244104909896873, 24.04166045188906, 37.64397559165957, 49.99637494087223, 81.85691270828247, 107.69378991127014, 118.66746311187744, 142.09619445800783, 161.61240410804749, 160.35548310279847, 182.15310664176945, 214.47930278778085, 229.34254245758066, 253.02683601379402, 211.40591058731087, 148.30939793586734, 92.36474504470823, 46.255125284194925, 12.738952207565216, 34.31473889350864, 21.06349649429285, -1.3903494358066382, -21.95022659301794, -54.41962938308725], \"x\": [0, 1, 2, 3, 4, 5, 6, 7, 8, 9, 10, 11, 12, 13, 14, 15, 16, 17, 18, 19, 20, 21, 22, 23, 24, 25, 26, 27, 28, 29, 30, 31, 32, 33, 34, 35, 36, 37, 38, 39], \"type\": \"scatter\"}], {}, {\"linkText\": \"Export to plot.ly\", \"showLink\": true})});</script>"
      ]
     },
     "metadata": {},
     "output_type": "display_data"
    }
   ],
   "source": [
    "iplot([data4])"
   ]
  },
  {
   "cell_type": "code",
   "execution_count": null,
   "metadata": {},
   "outputs": [],
   "source": []
  }
 ],
 "metadata": {
  "kernelspec": {
   "display_name": "Python 2",
   "language": "python",
   "name": "python2"
  },
  "language_info": {
   "codemirror_mode": {
    "name": "ipython",
    "version": 2
   },
   "file_extension": ".py",
   "mimetype": "text/x-python",
   "name": "python",
   "nbconvert_exporter": "python",
   "pygments_lexer": "ipython2",
   "version": "2.7.13"
  }
 },
 "nbformat": 4,
 "nbformat_minor": 2
}
