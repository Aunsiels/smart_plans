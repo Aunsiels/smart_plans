{
 "cells": [
  {
   "cell_type": "code",
   "execution_count": 1,
   "metadata": {},
   "outputs": [
    {
     "data": {
      "text/html": [
       "<script>requirejs.config({paths: { 'plotly': ['https://cdn.plot.ly/plotly-latest.min']},});if(!window.Plotly) {{require(['plotly'],function(plotly) {window.Plotly=plotly;});}}</script>"
      ],
      "text/vnd.plotly.v1+html": [
       "<script>requirejs.config({paths: { 'plotly': ['https://cdn.plot.ly/plotly-latest.min']},});if(!window.Plotly) {{require(['plotly'],function(plotly) {window.Plotly=plotly;});}}</script>"
      ]
     },
     "metadata": {},
     "output_type": "display_data"
    }
   ],
   "source": [
    "import pandas as pd\n",
    "import numpy as np\n",
    "from plotly.offline import download_plotlyjs, init_notebook_mode, plot, iplot\n",
    "import plotly\n",
    "from plotly.graph_objs import Scatter, Figure, Layout, Histogram\n",
    "init_notebook_mode(connected=True)\n",
    "np.random.seed(68)\n",
    "%matplotlib inline"
   ]
  },
  {
   "cell_type": "code",
   "execution_count": 2,
   "metadata": {},
   "outputs": [],
   "source": [
    "df = pd.read_csv(\"performances.csv\")"
   ]
  },
  {
   "cell_type": "code",
   "execution_count": 3,
   "metadata": {},
   "outputs": [
    {
     "data": {
      "text/html": [
       "<div>\n",
       "<style>\n",
       "    .dataframe thead tr:only-child th {\n",
       "        text-align: right;\n",
       "    }\n",
       "\n",
       "    .dataframe thead th {\n",
       "        text-align: left;\n",
       "    }\n",
       "\n",
       "    .dataframe tbody tr th {\n",
       "        vertical-align: top;\n",
       "    }\n",
       "</style>\n",
       "<table border=\"1\" class=\"dataframe\">\n",
       "  <thead>\n",
       "    <tr style=\"text-align: right;\">\n",
       "      <th></th>\n",
       "      <th>optim</th>\n",
       "      <th>n_functions</th>\n",
       "      <th>time</th>\n",
       "    </tr>\n",
       "  </thead>\n",
       "  <tbody>\n",
       "    <tr>\n",
       "      <th>0</th>\n",
       "      <td>True</td>\n",
       "      <td>1</td>\n",
       "      <td>0.046567</td>\n",
       "    </tr>\n",
       "    <tr>\n",
       "      <th>1</th>\n",
       "      <td>False</td>\n",
       "      <td>1</td>\n",
       "      <td>0.056738</td>\n",
       "    </tr>\n",
       "    <tr>\n",
       "      <th>2</th>\n",
       "      <td>True</td>\n",
       "      <td>2</td>\n",
       "      <td>0.072186</td>\n",
       "    </tr>\n",
       "    <tr>\n",
       "      <th>3</th>\n",
       "      <td>False</td>\n",
       "      <td>2</td>\n",
       "      <td>0.085179</td>\n",
       "    </tr>\n",
       "    <tr>\n",
       "      <th>4</th>\n",
       "      <td>True</td>\n",
       "      <td>3</td>\n",
       "      <td>0.376812</td>\n",
       "    </tr>\n",
       "  </tbody>\n",
       "</table>\n",
       "</div>"
      ],
      "text/plain": [
       "   optim  n_functions      time\n",
       "0   True            1  0.046567\n",
       "1  False            1  0.056738\n",
       "2   True            2  0.072186\n",
       "3  False            2  0.085179\n",
       "4   True            3  0.376812"
      ]
     },
     "execution_count": 3,
     "metadata": {},
     "output_type": "execute_result"
    }
   ],
   "source": [
    "df.head()"
   ]
  },
  {
   "cell_type": "code",
   "execution_count": 4,
   "metadata": {},
   "outputs": [
    {
     "data": {
      "text/plain": [
       "<matplotlib.axes._subplots.AxesSubplot at 0x7f4e4f978690>"
      ]
     },
     "execution_count": 4,
     "metadata": {},
     "output_type": "execute_result"
    },
    {
     "data": {
      "image/png": "[encoded data removed]",
      "text/plain": [
       "<matplotlib.figure.Figure at 0x7f4e4fc04490>"
      ]
     },
     "metadata": {},
     "output_type": "display_data"
    }
   ],
   "source": [
    "df.plot()"
   ]
  },
  {
   "cell_type": "code",
   "execution_count": 5,
   "metadata": {},
   "outputs": [],
   "source": [
    "df_true = df[df[\"optim\"] == True]\n",
    "df_false = df[df[\"optim\"] == False]"
   ]
  },
  {
   "cell_type": "code",
   "execution_count": 6,
   "metadata": {},
   "outputs": [],
   "source": [
    "data1 = Scatter(x=df_true.n_functions, y=df_true.time)\n",
    "data2 = Scatter(x=df_false.n_functions, y=df_false.time)"
   ]
  },
  {
   "cell_type": "code",
   "execution_count": 7,
   "metadata": {},
   "outputs": [
    {
     "data": {
      "application/vnd.plotly.v1+json": {
       "data": [
        {
         "type": "scatter",
         "x": [
          1,
          2,
          3,
          4,
          5,
          6,
          7,
          8,
          9,
          10,
          11,
          12,
          13,
          14,
          15,
          16,
          17,
          18,
          19,
          20,
          21,
          22,
          23,
          24,
          25,
          26,
          27,
          28,
          29,
          30,
          31,
          32,
          33,
          34,
          35,
          36,
          37,
          38,
          39,
          40
         ],
         "y": [
          0.04656696319580078,
          0.07218551635742188,
          0.3768124580383301,
          0.4080662727355957,
          0.4488639831542969,
          1.0013186931610107,
          1.0676367282867432,
          1.9757404327392576,
          3.766820907592773,
          3.9470877647399902,
          4.067132472991943,
          5.015470266342163,
          5.807443618774414,
          6.0421223640441895,
          9.099371433258057,
          13.036383867263794,
          13.533053874969482,
          15.728047370910645,
          20.025322437286373,
          25.23114252090454,
          27.472727537155148,
          28.51143455505371,
          32.72069811820984,
          34.23824167251587,
          42.10660409927368,
          43.44819116592407,
          47.771825313568115,
          55.35793209075928,
          63.06613945960999,
          80.29470300674437,
          75.65625023841858,
          88.97137498855591,
          77.83896756172179,
          81.5079667568207,
          93.6724500656128,
          95.38842511177064,
          119.56215715408324,
          143.45170044898987,
          143.46448278427127,
          208.75512599945068
         ]
        },
        {
         "type": "scatter",
         "x": [
          1,
          2,
          3,
          4,
          5,
          6,
          7,
          8,
          9,
          10,
          11,
          12,
          13,
          14,
          15,
          16,
          17,
          18,
          19,
          20,
          21,
          22,
          23,
          24,
          25,
          26,
          27,
          28,
          29,
          30,
          31,
          32,
          33,
          34,
          35,
          36,
          37,
          38,
          39,
          40
         ],
         "y": [
          0.056737661361694336,
          0.08517932891845703,
          0.4346039295196533,
          0.486459493637085,
          0.5657343864440918,
          1.2253668308258057,
          1.2782368659973145,
          2.457004308700561,
          4.876572132110597,
          4.557978868484497,
          4.922505855560303,
          6.093302488327026,
          7.179429531097412,
          7.491824388504027,
          11.255009174346924,
          16.026352882385257,
          16.691649675369266,
          19.199782848358158,
          24.836110353469852,
          31.23149800300598,
          34.35344672203064,
          35.90674924850464,
          41.354654788970954,
          43.11245083808899,
          52.64230990409851,
          54.617350578308105,
          60.10727405548096,
          69.30426144599915,
          79.60820126533507,
          90.12899136543274,
          104.79475474357605,
          100.8416998386383,
          99.22649216651917,
          103.49739575386049,
          119.32175278663635,
          121.24162769317628,
          141.5365493297577,
          182.67307686805725,
          203.8812186717987,
          212.1519780158997
         ]
        }
       ],
       "layout": {}
      },
      "text/html": [
       "<div id=\"1f19ede5-2403-49c1-81c9-5215279797bb\" style=\"height: 525px; width: 100%;\" class=\"plotly-graph-div\"></div><script type=\"text/javascript\">require([\"plotly\"], function(Plotly) { window.PLOTLYENV=window.PLOTLYENV || {};window.PLOTLYENV.BASE_URL=\"https://plot.ly\";Plotly.newPlot(\"1f19ede5-2403-49c1-81c9-5215279797bb\", [{\"y\": [0.04656696319580078, 0.07218551635742188, 0.3768124580383301, 0.4080662727355957, 0.4488639831542969, 1.0013186931610107, 1.0676367282867432, 1.9757404327392576, 3.766820907592773, 3.9470877647399902, 4.067132472991943, 5.015470266342163, 5.807443618774414, 6.0421223640441895, 9.099371433258057, 13.036383867263794, 13.533053874969482, 15.728047370910645, 20.025322437286373, 25.23114252090454, 27.472727537155148, 28.51143455505371, 32.72069811820984, 34.23824167251587, 42.10660409927368, 43.44819116592407, 47.771825313568115, 55.35793209075928, 63.06613945960999, 80.29470300674437, 75.65625023841858, 88.97137498855591, 77.83896756172179, 81.5079667568207, 93.6724500656128, 95.38842511177064, 119.56215715408324, 143.45170044898987, 143.46448278427127, 208.75512599945068], \"x\": [1, 2, 3, 4, 5, 6, 7, 8, 9, 10, 11, 12, 13, 14, 15, 16, 17, 18, 19, 20, 21, 22, 23, 24, 25, 26, 27, 28, 29, 30, 31, 32, 33, 34, 35, 36, 37, 38, 39, 40], \"type\": \"scatter\"}, {\"y\": [0.056737661361694336, 0.08517932891845703, 0.4346039295196533, 0.486459493637085, 0.5657343864440918, 1.2253668308258057, 1.2782368659973145, 2.457004308700561, 4.876572132110597, 4.557978868484497, 4.922505855560303, 6.093302488327026, 7.179429531097412, 7.491824388504027, 11.255009174346924, 16.026352882385257, 16.691649675369266, 19.199782848358158, 24.836110353469852, 31.23149800300598, 34.35344672203064, 35.90674924850464, 41.354654788970954, 43.11245083808899, 52.64230990409851, 54.617350578308105, 60.10727405548096, 69.30426144599915, 79.60820126533507, 90.12899136543274, 104.79475474357605, 100.8416998386383, 99.22649216651917, 103.49739575386049, 119.32175278663635, 121.24162769317628, 141.5365493297577, 182.67307686805725, 203.8812186717987, 212.1519780158997], \"x\": [1, 2, 3, 4, 5, 6, 7, 8, 9, 10, 11, 12, 13, 14, 15, 16, 17, 18, 19, 20, 21, 22, 23, 24, 25, 26, 27, 28, 29, 30, 31, 32, 33, 34, 35, 36, 37, 38, 39, 40], \"type\": \"scatter\"}], {}, {\"linkText\": \"Export to plot.ly\", \"showLink\": true})});</script>"
      ],
      "text/vnd.plotly.v1+html": [
       "<div id=\"1f19ede5-2403-49c1-81c9-5215279797bb\" style=\"height: 525px; width: 100%;\" class=\"plotly-graph-div\"></div><script type=\"text/javascript\">require([\"plotly\"], function(Plotly) { window.PLOTLYENV=window.PLOTLYENV || {};window.PLOTLYENV.BASE_URL=\"https://plot.ly\";Plotly.newPlot(\"1f19ede5-2403-49c1-81c9-5215279797bb\", [{\"y\": [0.04656696319580078, 0.07218551635742188, 0.3768124580383301, 0.4080662727355957, 0.4488639831542969, 1.0013186931610107, 1.0676367282867432, 1.9757404327392576, 3.766820907592773, 3.9470877647399902, 4.067132472991943, 5.015470266342163, 5.807443618774414, 6.0421223640441895, 9.099371433258057, 13.036383867263794, 13.533053874969482, 15.728047370910645, 20.025322437286373, 25.23114252090454, 27.472727537155148, 28.51143455505371, 32.72069811820984, 34.23824167251587, 42.10660409927368, 43.44819116592407, 47.771825313568115, 55.35793209075928, 63.06613945960999, 80.29470300674437, 75.65625023841858, 88.97137498855591, 77.83896756172179, 81.5079667568207, 93.6724500656128, 95.38842511177064, 119.56215715408324, 143.45170044898987, 143.46448278427127, 208.75512599945068], \"x\": [1, 2, 3, 4, 5, 6, 7, 8, 9, 10, 11, 12, 13, 14, 15, 16, 17, 18, 19, 20, 21, 22, 23, 24, 25, 26, 27, 28, 29, 30, 31, 32, 33, 34, 35, 36, 37, 38, 39, 40], \"type\": \"scatter\"}, {\"y\": [0.056737661361694336, 0.08517932891845703, 0.4346039295196533, 0.486459493637085, 0.5657343864440918, 1.2253668308258057, 1.2782368659973145, 2.457004308700561, 4.876572132110597, 4.557978868484497, 4.922505855560303, 6.093302488327026, 7.179429531097412, 7.491824388504027, 11.255009174346924, 16.026352882385257, 16.691649675369266, 19.199782848358158, 24.836110353469852, 31.23149800300598, 34.35344672203064, 35.90674924850464, 41.354654788970954, 43.11245083808899, 52.64230990409851, 54.617350578308105, 60.10727405548096, 69.30426144599915, 79.60820126533507, 90.12899136543274, 104.79475474357605, 100.8416998386383, 99.22649216651917, 103.49739575386049, 119.32175278663635, 121.24162769317628, 141.5365493297577, 182.67307686805725, 203.8812186717987, 212.1519780158997], \"x\": [1, 2, 3, 4, 5, 6, 7, 8, 9, 10, 11, 12, 13, 14, 15, 16, 17, 18, 19, 20, 21, 22, 23, 24, 25, 26, 27, 28, 29, 30, 31, 32, 33, 34, 35, 36, 37, 38, 39, 40], \"type\": \"scatter\"}], {}, {\"linkText\": \"Export to plot.ly\", \"showLink\": true})});</script>"
      ]
     },
     "metadata": {},
     "output_type": "display_data"
    }
   ],
   "source": [
    "iplot([data1, data2])"
   ]
  },
  {
   "cell_type": "code",
   "execution_count": 8,
   "metadata": {},
   "outputs": [],
   "source": [
    "data3 = Scatter(x=df_true.n_functions, y=(np.array(df_false.time)-np.array(df_true.time)))"
   ]
  },
  {
   "cell_type": "code",
   "execution_count": 9,
   "metadata": {},
   "outputs": [
    {
     "data": {
      "application/vnd.plotly.v1+json": {
       "data": [
        {
         "type": "scatter",
         "x": [
          1,
          2,
          3,
          4,
          5,
          6,
          7,
          8,
          9,
          10,
          11,
          12,
          13,
          14,
          15,
          16,
          17,
          18,
          19,
          20,
          21,
          22,
          23,
          24,
          25,
          26,
          27,
          28,
          29,
          30,
          31,
          32,
          33,
          34,
          35,
          36,
          37,
          38,
          39,
          40
         ],
         "y": [
          0.010170698165893555,
          0.012993812561035156,
          0.05779147148132324,
          0.07839322090148931,
          0.11687040328979492,
          0.22404813766479492,
          0.2106001377105713,
          0.4812638759613035,
          1.1097512245178236,
          0.6108911037445068,
          0.8553733825683594,
          1.0778322219848633,
          1.371985912322998,
          1.449702024459838,
          2.155637741088867,
          2.9899690151214635,
          3.158595800399784,
          3.4717354774475133,
          4.810787916183479,
          6.00035548210144,
          6.880719184875492,
          7.395314693450928,
          8.633956670761116,
          8.87420916557312,
          10.535705804824829,
          11.169159412384033,
          12.335448741912842,
          13.946329355239868,
          16.542061805725076,
          9.834288358688369,
          29.13850450515747,
          11.870324850082397,
          21.387524604797377,
          21.989428997039795,
          25.64930272102356,
          25.85320258140564,
          21.974392175674453,
          39.22137641906738,
          60.41673588752744,
          3.396852016449003
         ]
        }
       ],
       "layout": {}
      },
      "text/html": [
       "<div id=\"873bdef7-2f41-4b8c-a0ca-4c6c7a9c9926\" style=\"height: 525px; width: 100%;\" class=\"plotly-graph-div\"></div><script type=\"text/javascript\">require([\"plotly\"], function(Plotly) { window.PLOTLYENV=window.PLOTLYENV || {};window.PLOTLYENV.BASE_URL=\"https://plot.ly\";Plotly.newPlot(\"873bdef7-2f41-4b8c-a0ca-4c6c7a9c9926\", [{\"y\": [0.010170698165893555, 0.012993812561035156, 0.05779147148132324, 0.07839322090148931, 0.11687040328979492, 0.22404813766479492, 0.2106001377105713, 0.4812638759613035, 1.1097512245178236, 0.6108911037445068, 0.8553733825683594, 1.0778322219848633, 1.371985912322998, 1.449702024459838, 2.155637741088867, 2.9899690151214635, 3.158595800399784, 3.4717354774475133, 4.810787916183479, 6.00035548210144, 6.880719184875492, 7.395314693450928, 8.633956670761116, 8.87420916557312, 10.535705804824829, 11.169159412384033, 12.335448741912842, 13.946329355239868, 16.542061805725076, 9.834288358688369, 29.13850450515747, 11.870324850082397, 21.387524604797377, 21.989428997039795, 25.64930272102356, 25.85320258140564, 21.974392175674453, 39.22137641906738, 60.41673588752744, 3.396852016449003], \"x\": [1, 2, 3, 4, 5, 6, 7, 8, 9, 10, 11, 12, 13, 14, 15, 16, 17, 18, 19, 20, 21, 22, 23, 24, 25, 26, 27, 28, 29, 30, 31, 32, 33, 34, 35, 36, 37, 38, 39, 40], \"type\": \"scatter\"}], {}, {\"linkText\": \"Export to plot.ly\", \"showLink\": true})});</script>"
      ],
      "text/vnd.plotly.v1+html": [
       "<div id=\"873bdef7-2f41-4b8c-a0ca-4c6c7a9c9926\" style=\"height: 525px; width: 100%;\" class=\"plotly-graph-div\"></div><script type=\"text/javascript\">require([\"plotly\"], function(Plotly) { window.PLOTLYENV=window.PLOTLYENV || {};window.PLOTLYENV.BASE_URL=\"https://plot.ly\";Plotly.newPlot(\"873bdef7-2f41-4b8c-a0ca-4c6c7a9c9926\", [{\"y\": [0.010170698165893555, 0.012993812561035156, 0.05779147148132324, 0.07839322090148931, 0.11687040328979492, 0.22404813766479492, 0.2106001377105713, 0.4812638759613035, 1.1097512245178236, 0.6108911037445068, 0.8553733825683594, 1.0778322219848633, 1.371985912322998, 1.449702024459838, 2.155637741088867, 2.9899690151214635, 3.158595800399784, 3.4717354774475133, 4.810787916183479, 6.00035548210144, 6.880719184875492, 7.395314693450928, 8.633956670761116, 8.87420916557312, 10.535705804824829, 11.169159412384033, 12.335448741912842, 13.946329355239868, 16.542061805725076, 9.834288358688369, 29.13850450515747, 11.870324850082397, 21.387524604797377, 21.989428997039795, 25.64930272102356, 25.85320258140564, 21.974392175674453, 39.22137641906738, 60.41673588752744, 3.396852016449003], \"x\": [1, 2, 3, 4, 5, 6, 7, 8, 9, 10, 11, 12, 13, 14, 15, 16, 17, 18, 19, 20, 21, 22, 23, 24, 25, 26, 27, 28, 29, 30, 31, 32, 33, 34, 35, 36, 37, 38, 39, 40], \"type\": \"scatter\"}], {}, {\"linkText\": \"Export to plot.ly\", \"showLink\": true})});</script>"
      ]
     },
     "metadata": {},
     "output_type": "display_data"
    }
   ],
   "source": [
    "iplot([data3])"
   ]
  },
  {
   "cell_type": "code",
   "execution_count": 10,
   "metadata": {},
   "outputs": [],
   "source": [
    "dt = (np.array(df_false.time)-np.array(df_true.time))"
   ]
  },
  {
   "cell_type": "code",
   "execution_count": 11,
   "metadata": {},
   "outputs": [],
   "source": [
    "window_size = 5\n",
    "dt_smooth = []"
   ]
  },
  {
   "cell_type": "code",
   "execution_count": 12,
   "metadata": {},
   "outputs": [],
   "source": [
    "for i in range(len(dt) - window_size):\n",
    "    dt_smooth.append(dt[i:i+5].mean())"
   ]
  },
  {
   "cell_type": "code",
   "execution_count": 13,
   "metadata": {},
   "outputs": [],
   "source": [
    "data4 = Scatter(x=range(len(dt_smooth)), y=dt_smooth)"
   ]
  },
  {
   "cell_type": "code",
   "execution_count": 14,
   "metadata": {},
   "outputs": [
    {
     "data": {
      "application/vnd.plotly.v1+json": {
       "data": [
        {
         "type": "scatter",
         "x": [
          0,
          1,
          2,
          3,
          4,
          5,
          6,
          7,
          8,
          9,
          10,
          11,
          12,
          13,
          14,
          15,
          16,
          17,
          18,
          19,
          20,
          21,
          22,
          23,
          24,
          25,
          26,
          27,
          28,
          29,
          30,
          31,
          32,
          33,
          34
         ],
         "y": [
          0.05524392127990724,
          0.09801940917968752,
          0.13754067420959473,
          0.22223515510559078,
          0.4285067558288576,
          0.5273108959198,
          0.6535759449005129,
          0.8270223617553712,
          1.0051667690277104,
          1.0731569290161131,
          1.382106256484985,
          1.8090253829956062,
          2.2251780986785903,
          2.6451280117034934,
          3.317345190048221,
          4.086288738250736,
          4.864438772201542,
          5.711782550811771,
          6.7442267894744905,
          7.5569110393524195,
          8.463981103897098,
          9.321669149398804,
          10.309695959091188,
          11.37217049598694,
          12.905741024017328,
          12.765457534790038,
          16.359326553344726,
          16.266301774978636,
          17.75454082489014,
          18.84401426315308,
          22.00701713562012,
          21.349956750869755,
          23.370770215988166,
          26.937540578842164,
          34.623001956939696
         ]
        }
       ],
       "layout": {}
      },
      "text/html": [
       "<div id=\"a96f2600-2dad-4a5d-89e7-a211319f82d8\" style=\"height: 525px; width: 100%;\" class=\"plotly-graph-div\"></div><script type=\"text/javascript\">require([\"plotly\"], function(Plotly) { window.PLOTLYENV=window.PLOTLYENV || {};window.PLOTLYENV.BASE_URL=\"https://plot.ly\";Plotly.newPlot(\"a96f2600-2dad-4a5d-89e7-a211319f82d8\", [{\"y\": [0.05524392127990724, 0.09801940917968752, 0.13754067420959473, 0.22223515510559078, 0.4285067558288576, 0.5273108959198, 0.6535759449005129, 0.8270223617553712, 1.0051667690277104, 1.0731569290161131, 1.382106256484985, 1.8090253829956062, 2.2251780986785903, 2.6451280117034934, 3.317345190048221, 4.086288738250736, 4.864438772201542, 5.711782550811771, 6.7442267894744905, 7.5569110393524195, 8.463981103897098, 9.321669149398804, 10.309695959091188, 11.37217049598694, 12.905741024017328, 12.765457534790038, 16.359326553344726, 16.266301774978636, 17.75454082489014, 18.84401426315308, 22.00701713562012, 21.349956750869755, 23.370770215988166, 26.937540578842164, 34.623001956939696], \"x\": [0, 1, 2, 3, 4, 5, 6, 7, 8, 9, 10, 11, 12, 13, 14, 15, 16, 17, 18, 19, 20, 21, 22, 23, 24, 25, 26, 27, 28, 29, 30, 31, 32, 33, 34], \"type\": \"scatter\"}], {}, {\"linkText\": \"Export to plot.ly\", \"showLink\": true})});</script>"
      ],
      "text/vnd.plotly.v1+html": [
       "<div id=\"a96f2600-2dad-4a5d-89e7-a211319f82d8\" style=\"height: 525px; width: 100%;\" class=\"plotly-graph-div\"></div><script type=\"text/javascript\">require([\"plotly\"], function(Plotly) { window.PLOTLYENV=window.PLOTLYENV || {};window.PLOTLYENV.BASE_URL=\"https://plot.ly\";Plotly.newPlot(\"a96f2600-2dad-4a5d-89e7-a211319f82d8\", [{\"y\": [0.05524392127990724, 0.09801940917968752, 0.13754067420959473, 0.22223515510559078, 0.4285067558288576, 0.5273108959198, 0.6535759449005129, 0.8270223617553712, 1.0051667690277104, 1.0731569290161131, 1.382106256484985, 1.8090253829956062, 2.2251780986785903, 2.6451280117034934, 3.317345190048221, 4.086288738250736, 4.864438772201542, 5.711782550811771, 6.7442267894744905, 7.5569110393524195, 8.463981103897098, 9.321669149398804, 10.309695959091188, 11.37217049598694, 12.905741024017328, 12.765457534790038, 16.359326553344726, 16.266301774978636, 17.75454082489014, 18.84401426315308, 22.00701713562012, 21.349956750869755, 23.370770215988166, 26.937540578842164, 34.623001956939696], \"x\": [0, 1, 2, 3, 4, 5, 6, 7, 8, 9, 10, 11, 12, 13, 14, 15, 16, 17, 18, 19, 20, 21, 22, 23, 24, 25, 26, 27, 28, 29, 30, 31, 32, 33, 34], \"type\": \"scatter\"}], {}, {\"linkText\": \"Export to plot.ly\", \"showLink\": true})});</script>"
      ]
     },
     "metadata": {},
     "output_type": "display_data"
    }
   ],
   "source": [
    "iplot([data4])"
   ]
  },
  {
   "cell_type": "code",
   "execution_count": null,
   "metadata": {},
   "outputs": [],
   "source": []
  }
 ],
 "metadata": {
  "kernelspec": {
   "display_name": "Python 2",
   "language": "python",
   "name": "python2"
  },
  "language_info": {
   "codemirror_mode": {
    "name": "ipython",
    "version": 2
   },
   "file_extension": ".py",
   "mimetype": "text/x-python",
   "name": "python",
   "nbconvert_exporter": "python",
   "pygments_lexer": "ipython2",
   "version": "2.7.13"
  }
 },
 "nbformat": 4,
 "nbformat_minor": 2
}
