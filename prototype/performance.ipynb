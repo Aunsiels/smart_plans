{
 "cells": [
  {
   "cell_type": "code",
   "execution_count": 19,
   "metadata": {},
   "outputs": [
    {
     "data": {
      "text/html": [
       "<script>requirejs.config({paths: { 'plotly': ['https://cdn.plot.ly/plotly-latest.min']},});if(!window.Plotly) {{require(['plotly'],function(plotly) {window.Plotly=plotly;});}}</script>"
      ],
      "text/vnd.plotly.v1+html": [
       "<script>requirejs.config({paths: { 'plotly': ['https://cdn.plot.ly/plotly-latest.min']},});if(!window.Plotly) {{require(['plotly'],function(plotly) {window.Plotly=plotly;});}}</script>"
      ]
     },
     "metadata": {},
     "output_type": "display_data"
    }
   ],
   "source": [
    "import pandas as pd\n",
    "import numpy as np\n",
    "from plotly.offline import download_plotlyjs, init_notebook_mode, plot, iplot\n",
    "import plotly\n",
    "from plotly.graph_objs import Scatter, Figure, Layout, Histogram\n",
    "init_notebook_mode(connected=True)\n",
    "np.random.seed(68)\n",
    "%matplotlib inline"
   ]
  },
  {
   "cell_type": "code",
   "execution_count": 20,
   "metadata": {
    "collapsed": true
   },
   "outputs": [],
   "source": [
    "df = pd.read_csv(\"performances2.csv\")"
   ]
  },
  {
   "cell_type": "code",
   "execution_count": 21,
   "metadata": {},
   "outputs": [
    {
     "data": {
      "text/html": [
       "<div>\n",
       "<table border=\"1\" class=\"dataframe\">\n",
       "  <thead>\n",
       "    <tr style=\"text-align: right;\">\n",
       "      <th></th>\n",
       "      <th>optim</th>\n",
       "      <th>n_functions</th>\n",
       "      <th>time</th>\n",
       "      <th>n_relations</th>\n",
       "      <th>size_max</th>\n",
       "    </tr>\n",
       "  </thead>\n",
       "  <tbody>\n",
       "    <tr>\n",
       "      <th>0</th>\n",
       "      <td>0</td>\n",
       "      <td>1</td>\n",
       "      <td>0.021501</td>\n",
       "      <td>10</td>\n",
       "      <td>10</td>\n",
       "    </tr>\n",
       "    <tr>\n",
       "      <th>1</th>\n",
       "      <td>1</td>\n",
       "      <td>1</td>\n",
       "      <td>0.021263</td>\n",
       "      <td>10</td>\n",
       "      <td>10</td>\n",
       "    </tr>\n",
       "    <tr>\n",
       "      <th>2</th>\n",
       "      <td>2</td>\n",
       "      <td>1</td>\n",
       "      <td>0.023237</td>\n",
       "      <td>10</td>\n",
       "      <td>10</td>\n",
       "    </tr>\n",
       "    <tr>\n",
       "      <th>3</th>\n",
       "      <td>3</td>\n",
       "      <td>1</td>\n",
       "      <td>0.019265</td>\n",
       "      <td>10</td>\n",
       "      <td>10</td>\n",
       "    </tr>\n",
       "    <tr>\n",
       "      <th>4</th>\n",
       "      <td>0</td>\n",
       "      <td>2</td>\n",
       "      <td>0.083337</td>\n",
       "      <td>10</td>\n",
       "      <td>10</td>\n",
       "    </tr>\n",
       "  </tbody>\n",
       "</table>\n",
       "</div>"
      ],
      "text/plain": [
       "   optim  n_functions      time  n_relations  size_max\n",
       "0      0            1  0.021501           10        10\n",
       "1      1            1  0.021263           10        10\n",
       "2      2            1  0.023237           10        10\n",
       "3      3            1  0.019265           10        10\n",
       "4      0            2  0.083337           10        10"
      ]
     },
     "execution_count": 21,
     "metadata": {},
     "output_type": "execute_result"
    }
   ],
   "source": [
    "df.head()"
   ]
  },
  {
   "cell_type": "code",
   "execution_count": 22,
   "metadata": {},
   "outputs": [
    {
     "data": {
      "text/plain": [
       "<matplotlib.axes._subplots.AxesSubplot at 0x7f98d3fbb4d0>"
      ]
     },
     "execution_count": 22,
     "metadata": {},
     "output_type": "execute_result"
    },
    {
     "data": {
      "image/png": "[encoded data removed]",
      "text/plain": [
       "<matplotlib.figure.Figure at 0x7f98d8923e10>"
      ]
     },
     "metadata": {},
     "output_type": "display_data"
    }
   ],
   "source": [
    "df.plot()"
   ]
  },
  {
   "cell_type": "code",
   "execution_count": 23,
   "metadata": {
    "collapsed": true
   },
   "outputs": [],
   "source": [
    "df_0 = df[(df[\"optim\"] == 0)].groupby(by=\"n_functions\").agg(np.mean)\n",
    "df_1 = df[(df[\"optim\"] == 1)].groupby(by=\"n_functions\").agg(np.mean)\n",
    "df_2 = df[(df[\"optim\"] == 2)].groupby(by=\"n_functions\").agg(np.mean)\n",
    "df_3 = df[(df[\"optim\"] == 3)].groupby(by=\"n_functions\").agg(np.mean)"
   ]
  },
  {
   "cell_type": "code",
   "execution_count": 24,
   "metadata": {
    "collapsed": true
   },
   "outputs": [],
   "source": [
    "df_0 = df_0[df_0.index <= 33]\n",
    "df_1 = df_1[df_1.index <= 33]\n",
    "df_2 = df_2[df_2.index <= 33]\n",
    "df_3 = df_3[df_3.index <= 33]"
   ]
  },
  {
   "cell_type": "code",
   "execution_count": 25,
   "metadata": {
    "collapsed": true
   },
   "outputs": [],
   "source": [
    "data0 = Scatter(x=df_0.index, y=df_0.time, name='Without Rule Order Optimization')\n",
    "data1 = Scatter(x=df_1.index, y=df_1.time, name='With Reverse Order')\n",
    "data2 = Scatter(x=df_2.index, y=df_2.time, name='With Rule Core Number Ordering')\n",
    "data3 = Scatter(x=df_3.index, y=df_3.time, name='With Reverse Rule Core Number Ordering')"
   ]
  },
  {
   "cell_type": "code",
   "execution_count": 26,
   "metadata": {},
   "outputs": [
    {
     "data": {
      "application/vnd.plotly.v1+json": {
       "data": [
        {
         "name": "Without Rule Order Optimization",
         "type": "scatter",
         "x": [
          1,
          2,
          3,
          4,
          5,
          6,
          7,
          8,
          9,
          10,
          11,
          12,
          13,
          14,
          15,
          16,
          17,
          18,
          19,
          20,
          21,
          22,
          23,
          24,
          25,
          26,
          27,
          28,
          29,
          30,
          31,
          32,
          33
         ],
         "y": [
          0.05122436795915876,
          0.1507716178894043,
          0.3694196769169399,
          0.5872009141104562,
          1.0454974515097482,
          1.4433883939470564,
          2.393897090639387,
          3.069934436253139,
          4.567240170070103,
          5.698051452636719,
          7.7038421630859375,
          9.441609621047974,
          10.64875476700919,
          14.56611636706761,
          20.76737744467599,
          23.740594012396677,
          28.843398571014404,
          33.95606187411717,
          41.59129098483494,
          43.164028712681365,
          56.011523314884734,
          65.36014863422939,
          72.06606466429574,
          81.52355534689767,
          96.12270276887077,
          103.58180904388428,
          119.79310178756714,
          129.50281037603105,
          144.1198549611228,
          164.36802015985762,
          184.46213385037012,
          191.5611312729972,
          213.37133748190743
         ]
        },
        {
         "name": "With Reverse Order",
         "type": "scatter",
         "x": [
          1,
          2,
          3,
          4,
          5,
          6,
          7,
          8,
          9,
          10,
          11,
          12,
          13,
          14,
          15,
          16,
          17,
          18,
          19,
          20,
          21,
          22,
          23,
          24,
          25,
          26,
          27,
          28,
          29,
          30,
          31,
          32,
          33
         ],
         "y": [
          0.052943570273263116,
          0.1484647478376116,
          0.36236769812447683,
          0.5867515972682408,
          1.0324821472167969,
          1.6239299433571952,
          2.4820679937090193,
          3.06805750301906,
          4.591246775218418,
          5.664222036089216,
          7.698401144572666,
          9.168577875409808,
          10.605009760175433,
          14.64601298740932,
          20.764127322605678,
          23.412541593824113,
          28.840880972998484,
          33.786928619657246,
          41.84914336885725,
          43.38416273253305,
          55.48851728439331,
          65.11784155028207,
          71.6771194253649,
          81.94024082592556,
          94.66674750191825,
          102.455550466265,
          118.76946749006,
          129.8713196345738,
          144.9655965736934,
          160.25743791035242,
          181.28438186645508,
          191.6967166832515,
          211.96556503432137
         ]
        },
        {
         "name": "With Rule Core Number Ordering",
         "type": "scatter",
         "x": [
          1,
          2,
          3,
          4,
          5,
          6,
          7,
          8,
          9,
          10,
          11,
          12,
          13,
          14,
          15,
          16,
          17,
          18,
          19,
          20,
          21,
          22,
          23,
          24,
          25,
          26,
          27,
          28,
          29,
          30,
          31,
          32,
          33
         ],
         "y": [
          0.055826119014195034,
          0.15760486466544016,
          0.33958567891802105,
          0.5480607918330601,
          1.0904509680611747,
          1.5044347218104772,
          2.0889803000858853,
          2.8216945784432546,
          4.366005556924002,
          5.622740643365042,
          7.314464807510376,
          8.38141097341265,
          9.213487897600446,
          13.048029218401227,
          18.50413884435381,
          19.358028479984828,
          23.136245523180282,
          26.894493647984095,
          34.624773672648836,
          36.366169929504395,
          45.55692768096924,
          52.686702728271484,
          60.24434801510402,
          64.88764704976764,
          74.94532738413129,
          81.13877350943429,
          99.78193814413888,
          109.46249284063067,
          122.16392612457275,
          137.8658572946276,
          144.7726138659886,
          152.2412862437112,
          169.91720523153032
         ]
        },
        {
         "name": "With Reverse Rule Core Number Ordering",
         "type": "scatter",
         "x": [
          1,
          2,
          3,
          4,
          5,
          6,
          7,
          8,
          9,
          10,
          11,
          12,
          13,
          14,
          15,
          16,
          17,
          18,
          19,
          20,
          21,
          22,
          23,
          24,
          25,
          26,
          27,
          28,
          29,
          30,
          31,
          32,
          33
         ],
         "y": [
          0.05382616179330008,
          0.1558835506439209,
          0.35365445273263113,
          0.5693667275565011,
          1.022934947695051,
          1.3684354169028146,
          2.039600236075265,
          2.9641497135162354,
          3.855331999914987,
          4.665766988481794,
          6.363169363566807,
          8.190598283495222,
          9.796984502247401,
          12.969537428447179,
          17.95423892566136,
          20.223959071295603,
          23.52940276690892,
          27.85110773359026,
          34.109419209616526,
          35.88830634525844,
          45.6241626398904,
          52.27529001235962,
          57.27258586883545,
          63.17302465438843,
          74.6726063660213,
          78.12062893595014,
          88.64168681417193,
          95.76227528708321,
          108.30379213605609,
          119.10237901551383,
          131.52782682010104,
          138.15034300940377,
          164.55605837277002
         ]
        }
       ],
       "layout": {
        "font": {
         "family": "Latin Modern Math",
         "size": 18
        },
        "legend": {
         "x": 0,
         "y": 1
        },
        "xaxis": {
         "autorange": true,
         "autotick": true,
         "showgrid": false,
         "showline": false,
         "showticklabels": true,
         "ticks": "",
         "title": "Number of Functions",
         "zeroline": true
        },
        "yaxis": {
         "autorange": true,
         "autotick": true,
         "showgrid": false,
         "showline": true,
         "showticklabels": true,
         "ticks": "",
         "title": "Time of Computation (in s)",
         "zeroline": true
        }
       }
      },
      "text/html": [
       "<div id=\"fef566f0-1f97-4f1a-85d9-04fe432f63a1\" style=\"height: 525px; width: 100%;\" class=\"plotly-graph-div\"></div><script type=\"text/javascript\">require([\"plotly\"], function(Plotly) { window.PLOTLYENV=window.PLOTLYENV || {};window.PLOTLYENV.BASE_URL=\"https://plot.ly\";Plotly.newPlot(\"fef566f0-1f97-4f1a-85d9-04fe432f63a1\", [{\"y\": [0.05122436795915876, 0.1507716178894043, 0.3694196769169399, 0.5872009141104562, 1.0454974515097482, 1.4433883939470564, 2.393897090639387, 3.069934436253139, 4.567240170070103, 5.698051452636719, 7.7038421630859375, 9.441609621047974, 10.64875476700919, 14.56611636706761, 20.76737744467599, 23.740594012396677, 28.843398571014404, 33.95606187411717, 41.59129098483494, 43.164028712681365, 56.011523314884734, 65.36014863422939, 72.06606466429574, 81.52355534689767, 96.12270276887077, 103.58180904388428, 119.79310178756714, 129.50281037603105, 144.1198549611228, 164.36802015985762, 184.46213385037012, 191.5611312729972, 213.37133748190743], \"x\": [1, 2, 3, 4, 5, 6, 7, 8, 9, 10, 11, 12, 13, 14, 15, 16, 17, 18, 19, 20, 21, 22, 23, 24, 25, 26, 27, 28, 29, 30, 31, 32, 33], \"type\": \"scatter\", \"name\": \"Without Rule Order Optimization\"}, {\"y\": [0.052943570273263116, 0.1484647478376116, 0.36236769812447683, 0.5867515972682408, 1.0324821472167969, 1.6239299433571952, 2.4820679937090193, 3.06805750301906, 4.591246775218418, 5.664222036089216, 7.698401144572666, 9.168577875409808, 10.605009760175433, 14.64601298740932, 20.764127322605678, 23.412541593824113, 28.840880972998484, 33.786928619657246, 41.84914336885725, 43.38416273253305, 55.48851728439331, 65.11784155028207, 71.6771194253649, 81.94024082592556, 94.66674750191825, 102.455550466265, 118.76946749006, 129.8713196345738, 144.9655965736934, 160.25743791035242, 181.28438186645508, 191.6967166832515, 211.96556503432137], \"x\": [1, 2, 3, 4, 5, 6, 7, 8, 9, 10, 11, 12, 13, 14, 15, 16, 17, 18, 19, 20, 21, 22, 23, 24, 25, 26, 27, 28, 29, 30, 31, 32, 33], \"type\": \"scatter\", \"name\": \"With Reverse Order\"}, {\"y\": [0.055826119014195034, 0.15760486466544016, 0.33958567891802105, 0.5480607918330601, 1.0904509680611747, 1.5044347218104772, 2.0889803000858853, 2.8216945784432546, 4.366005556924002, 5.622740643365042, 7.314464807510376, 8.38141097341265, 9.213487897600446, 13.048029218401227, 18.50413884435381, 19.358028479984828, 23.136245523180282, 26.894493647984095, 34.624773672648836, 36.366169929504395, 45.55692768096924, 52.686702728271484, 60.24434801510402, 64.88764704976764, 74.94532738413129, 81.13877350943429, 99.78193814413888, 109.46249284063067, 122.16392612457275, 137.8658572946276, 144.7726138659886, 152.2412862437112, 169.91720523153032], \"x\": [1, 2, 3, 4, 5, 6, 7, 8, 9, 10, 11, 12, 13, 14, 15, 16, 17, 18, 19, 20, 21, 22, 23, 24, 25, 26, 27, 28, 29, 30, 31, 32, 33], \"type\": \"scatter\", \"name\": \"With Rule Core Number Ordering\"}, {\"y\": [0.05382616179330008, 0.1558835506439209, 0.35365445273263113, 0.5693667275565011, 1.022934947695051, 1.3684354169028146, 2.039600236075265, 2.9641497135162354, 3.855331999914987, 4.665766988481794, 6.363169363566807, 8.190598283495222, 9.796984502247401, 12.969537428447179, 17.95423892566136, 20.223959071295603, 23.52940276690892, 27.85110773359026, 34.109419209616526, 35.88830634525844, 45.6241626398904, 52.27529001235962, 57.27258586883545, 63.17302465438843, 74.6726063660213, 78.12062893595014, 88.64168681417193, 95.76227528708321, 108.30379213605609, 119.10237901551383, 131.52782682010104, 138.15034300940377, 164.55605837277002], \"x\": [1, 2, 3, 4, 5, 6, 7, 8, 9, 10, 11, 12, 13, 14, 15, 16, 17, 18, 19, 20, 21, 22, 23, 24, 25, 26, 27, 28, 29, 30, 31, 32, 33], \"type\": \"scatter\", \"name\": \"With Reverse Rule Core Number Ordering\"}], {\"font\": {\"family\": \"Latin Modern Math\", \"size\": 18}, \"legend\": {\"y\": 1, \"x\": 0}, \"xaxis\": {\"showticklabels\": true, \"title\": \"Number of Functions\", \"ticks\": \"\", \"showgrid\": false, \"zeroline\": true, \"showline\": false, \"autotick\": true, \"autorange\": true}, \"yaxis\": {\"showticklabels\": true, \"title\": \"Time of Computation (in s)\", \"ticks\": \"\", \"showgrid\": false, \"zeroline\": true, \"showline\": true, \"autotick\": true, \"autorange\": true}}, {\"linkText\": \"Export to plot.ly\", \"showLink\": true})});</script>"
      ],
      "text/vnd.plotly.v1+html": [
       "<div id=\"fef566f0-1f97-4f1a-85d9-04fe432f63a1\" style=\"height: 525px; width: 100%;\" class=\"plotly-graph-div\"></div><script type=\"text/javascript\">require([\"plotly\"], function(Plotly) { window.PLOTLYENV=window.PLOTLYENV || {};window.PLOTLYENV.BASE_URL=\"https://plot.ly\";Plotly.newPlot(\"fef566f0-1f97-4f1a-85d9-04fe432f63a1\", [{\"y\": [0.05122436795915876, 0.1507716178894043, 0.3694196769169399, 0.5872009141104562, 1.0454974515097482, 1.4433883939470564, 2.393897090639387, 3.069934436253139, 4.567240170070103, 5.698051452636719, 7.7038421630859375, 9.441609621047974, 10.64875476700919, 14.56611636706761, 20.76737744467599, 23.740594012396677, 28.843398571014404, 33.95606187411717, 41.59129098483494, 43.164028712681365, 56.011523314884734, 65.36014863422939, 72.06606466429574, 81.52355534689767, 96.12270276887077, 103.58180904388428, 119.79310178756714, 129.50281037603105, 144.1198549611228, 164.36802015985762, 184.46213385037012, 191.5611312729972, 213.37133748190743], \"x\": [1, 2, 3, 4, 5, 6, 7, 8, 9, 10, 11, 12, 13, 14, 15, 16, 17, 18, 19, 20, 21, 22, 23, 24, 25, 26, 27, 28, 29, 30, 31, 32, 33], \"type\": \"scatter\", \"name\": \"Without Rule Order Optimization\"}, {\"y\": [0.052943570273263116, 0.1484647478376116, 0.36236769812447683, 0.5867515972682408, 1.0324821472167969, 1.6239299433571952, 2.4820679937090193, 3.06805750301906, 4.591246775218418, 5.664222036089216, 7.698401144572666, 9.168577875409808, 10.605009760175433, 14.64601298740932, 20.764127322605678, 23.412541593824113, 28.840880972998484, 33.786928619657246, 41.84914336885725, 43.38416273253305, 55.48851728439331, 65.11784155028207, 71.6771194253649, 81.94024082592556, 94.66674750191825, 102.455550466265, 118.76946749006, 129.8713196345738, 144.9655965736934, 160.25743791035242, 181.28438186645508, 191.6967166832515, 211.96556503432137], \"x\": [1, 2, 3, 4, 5, 6, 7, 8, 9, 10, 11, 12, 13, 14, 15, 16, 17, 18, 19, 20, 21, 22, 23, 24, 25, 26, 27, 28, 29, 30, 31, 32, 33], \"type\": \"scatter\", \"name\": \"With Reverse Order\"}, {\"y\": [0.055826119014195034, 0.15760486466544016, 0.33958567891802105, 0.5480607918330601, 1.0904509680611747, 1.5044347218104772, 2.0889803000858853, 2.8216945784432546, 4.366005556924002, 5.622740643365042, 7.314464807510376, 8.38141097341265, 9.213487897600446, 13.048029218401227, 18.50413884435381, 19.358028479984828, 23.136245523180282, 26.894493647984095, 34.624773672648836, 36.366169929504395, 45.55692768096924, 52.686702728271484, 60.24434801510402, 64.88764704976764, 74.94532738413129, 81.13877350943429, 99.78193814413888, 109.46249284063067, 122.16392612457275, 137.8658572946276, 144.7726138659886, 152.2412862437112, 169.91720523153032], \"x\": [1, 2, 3, 4, 5, 6, 7, 8, 9, 10, 11, 12, 13, 14, 15, 16, 17, 18, 19, 20, 21, 22, 23, 24, 25, 26, 27, 28, 29, 30, 31, 32, 33], \"type\": \"scatter\", \"name\": \"With Rule Core Number Ordering\"}, {\"y\": [0.05382616179330008, 0.1558835506439209, 0.35365445273263113, 0.5693667275565011, 1.022934947695051, 1.3684354169028146, 2.039600236075265, 2.9641497135162354, 3.855331999914987, 4.665766988481794, 6.363169363566807, 8.190598283495222, 9.796984502247401, 12.969537428447179, 17.95423892566136, 20.223959071295603, 23.52940276690892, 27.85110773359026, 34.109419209616526, 35.88830634525844, 45.6241626398904, 52.27529001235962, 57.27258586883545, 63.17302465438843, 74.6726063660213, 78.12062893595014, 88.64168681417193, 95.76227528708321, 108.30379213605609, 119.10237901551383, 131.52782682010104, 138.15034300940377, 164.55605837277002], \"x\": [1, 2, 3, 4, 5, 6, 7, 8, 9, 10, 11, 12, 13, 14, 15, 16, 17, 18, 19, 20, 21, 22, 23, 24, 25, 26, 27, 28, 29, 30, 31, 32, 33], \"type\": \"scatter\", \"name\": \"With Reverse Rule Core Number Ordering\"}], {\"font\": {\"family\": \"Latin Modern Math\", \"size\": 18}, \"legend\": {\"y\": 1, \"x\": 0}, \"xaxis\": {\"showticklabels\": true, \"title\": \"Number of Functions\", \"ticks\": \"\", \"showgrid\": false, \"zeroline\": true, \"showline\": false, \"autotick\": true, \"autorange\": true}, \"yaxis\": {\"showticklabels\": true, \"title\": \"Time of Computation (in s)\", \"ticks\": \"\", \"showgrid\": false, \"zeroline\": true, \"showline\": true, \"autotick\": true, \"autorange\": true}}, {\"linkText\": \"Export to plot.ly\", \"showLink\": true})});</script>"
      ]
     },
     "metadata": {},
     "output_type": "display_data"
    }
   ],
   "source": [
    "layout = Layout(\n",
    "  #  title='Comparisation Performance With Rule Order Optimization',\n",
    "    font=dict(family='Latin Modern Math', size=6*3),\n",
    "    xaxis=dict(\n",
    "        title='Number of Functions',\n",
    "        autorange=True,\n",
    "        showgrid=False,\n",
    "        zeroline=True,\n",
    "        showline=False,\n",
    "        autotick=True,\n",
    "        ticks='',\n",
    "        showticklabels=True\n",
    "    ),\n",
    "    yaxis=dict(\n",
    "        title='Time of Computation (in s)',\n",
    "        autorange=True,\n",
    "        showgrid=False,\n",
    "        zeroline=True,\n",
    "        showline=True,\n",
    "        autotick=True,\n",
    "        ticks='',\n",
    "        showticklabels=True\n",
    "    ),\n",
    "    legend=dict(x=0, y=1)\n",
    ")\n",
    "fig = Figure(data=[data0, data1, data2, data3], layout=layout)\n",
    "iplot(fig)"
   ]
  },
  {
   "cell_type": "code",
   "execution_count": 27,
   "metadata": {
    "collapsed": true
   },
   "outputs": [],
   "source": [
    "data3 = Scatter(x=df_0.index, y=(np.array(df_0.time)-np.array(df_2.time)))"
   ]
  },
  {
   "cell_type": "code",
   "execution_count": 28,
   "metadata": {},
   "outputs": [
    {
     "data": {
      "application/vnd.plotly.v1+json": {
       "data": [
        {
         "type": "scatter",
         "x": [
          1,
          2,
          3,
          4,
          5,
          6,
          7,
          8,
          9,
          10,
          11,
          12,
          13,
          14,
          15,
          16,
          17,
          18,
          19,
          20,
          21,
          22,
          23,
          24,
          25,
          26,
          27,
          28,
          29,
          30,
          31,
          32,
          33
         ],
         "y": [
          -0.004601751055036275,
          -0.006833246776035862,
          0.029833997998918838,
          0.03914012227739605,
          -0.04495351655142654,
          -0.06104632786342079,
          0.30491679055350174,
          0.24823985780988433,
          0.20123461314610047,
          0.07531080927167633,
          0.3893773555755615,
          1.060198647635323,
          1.4352668694087445,
          1.5180871486663818,
          2.263238600322179,
          4.382565532411849,
          5.707153047834122,
          7.061568226133073,
          6.966517312186106,
          6.79785878317697,
          10.454595633915496,
          12.673445905957905,
          11.821716649191714,
          16.63590829713003,
          21.177375384739477,
          22.44303553444999,
          20.01116364342826,
          20.040317535400376,
          21.955928836550044,
          26.50216286523002,
          39.68951998438152,
          39.319845029286,
          43.454132250377114
         ]
        }
       ],
       "layout": {}
      },
      "text/html": [
       "<div id=\"91ff76a6-6e6b-45ea-8009-d3f0d18853e3\" style=\"height: 525px; width: 100%;\" class=\"plotly-graph-div\"></div><script type=\"text/javascript\">require([\"plotly\"], function(Plotly) { window.PLOTLYENV=window.PLOTLYENV || {};window.PLOTLYENV.BASE_URL=\"https://plot.ly\";Plotly.newPlot(\"91ff76a6-6e6b-45ea-8009-d3f0d18853e3\", [{\"y\": [-0.004601751055036275, -0.006833246776035862, 0.029833997998918838, 0.03914012227739605, -0.04495351655142654, -0.06104632786342079, 0.30491679055350174, 0.24823985780988433, 0.20123461314610047, 0.07531080927167633, 0.3893773555755615, 1.060198647635323, 1.4352668694087445, 1.5180871486663818, 2.263238600322179, 4.382565532411849, 5.707153047834122, 7.061568226133073, 6.966517312186106, 6.79785878317697, 10.454595633915496, 12.673445905957905, 11.821716649191714, 16.63590829713003, 21.177375384739477, 22.44303553444999, 20.01116364342826, 20.040317535400376, 21.955928836550044, 26.50216286523002, 39.68951998438152, 39.319845029286, 43.454132250377114], \"x\": [1, 2, 3, 4, 5, 6, 7, 8, 9, 10, 11, 12, 13, 14, 15, 16, 17, 18, 19, 20, 21, 22, 23, 24, 25, 26, 27, 28, 29, 30, 31, 32, 33], \"type\": \"scatter\"}], {}, {\"linkText\": \"Export to plot.ly\", \"showLink\": true})});</script>"
      ],
      "text/vnd.plotly.v1+html": [
       "<div id=\"91ff76a6-6e6b-45ea-8009-d3f0d18853e3\" style=\"height: 525px; width: 100%;\" class=\"plotly-graph-div\"></div><script type=\"text/javascript\">require([\"plotly\"], function(Plotly) { window.PLOTLYENV=window.PLOTLYENV || {};window.PLOTLYENV.BASE_URL=\"https://plot.ly\";Plotly.newPlot(\"91ff76a6-6e6b-45ea-8009-d3f0d18853e3\", [{\"y\": [-0.004601751055036275, -0.006833246776035862, 0.029833997998918838, 0.03914012227739605, -0.04495351655142654, -0.06104632786342079, 0.30491679055350174, 0.24823985780988433, 0.20123461314610047, 0.07531080927167633, 0.3893773555755615, 1.060198647635323, 1.4352668694087445, 1.5180871486663818, 2.263238600322179, 4.382565532411849, 5.707153047834122, 7.061568226133073, 6.966517312186106, 6.79785878317697, 10.454595633915496, 12.673445905957905, 11.821716649191714, 16.63590829713003, 21.177375384739477, 22.44303553444999, 20.01116364342826, 20.040317535400376, 21.955928836550044, 26.50216286523002, 39.68951998438152, 39.319845029286, 43.454132250377114], \"x\": [1, 2, 3, 4, 5, 6, 7, 8, 9, 10, 11, 12, 13, 14, 15, 16, 17, 18, 19, 20, 21, 22, 23, 24, 25, 26, 27, 28, 29, 30, 31, 32, 33], \"type\": \"scatter\"}], {}, {\"linkText\": \"Export to plot.ly\", \"showLink\": true})});</script>"
      ]
     },
     "metadata": {},
     "output_type": "display_data"
    }
   ],
   "source": [
    "iplot([data3])"
   ]
  },
  {
   "cell_type": "code",
   "execution_count": 29,
   "metadata": {
    "collapsed": true
   },
   "outputs": [],
   "source": [
    "dt = (np.array(df_0.time)-np.array(df_2.time))"
   ]
  },
  {
   "cell_type": "code",
   "execution_count": 30,
   "metadata": {
    "collapsed": true
   },
   "outputs": [],
   "source": [
    "window_size = 5\n",
    "dt_smooth = []"
   ]
  },
  {
   "cell_type": "code",
   "execution_count": 31,
   "metadata": {
    "collapsed": true
   },
   "outputs": [],
   "source": [
    "for i in range(len(dt) - window_size):\n",
    "    dt_smooth.append(dt[i:i+5].mean())"
   ]
  },
  {
   "cell_type": "code",
   "execution_count": 32,
   "metadata": {
    "collapsed": true
   },
   "outputs": [],
   "source": [
    "data4 = Scatter(x=np.array(range(len(dt_smooth))), y=dt_smooth)"
   ]
  },
  {
   "cell_type": "code",
   "execution_count": 33,
   "metadata": {},
   "outputs": [
    {
     "data": {
      "application/vnd.plotly.v1+json": {
       "data": [
        {
         "type": "scatter",
         "x": [
          0,
          1,
          2,
          3,
          4,
          5,
          6,
          7,
          8,
          9,
          10,
          11,
          12,
          13,
          14,
          15,
          16,
          17,
          18,
          19,
          20,
          21,
          22,
          23,
          24,
          25,
          26,
          27
         ],
         "y": [
          0.002517121178763242,
          -0.008771794182913661,
          0.05357821328299386,
          0.09725938524518696,
          0.12967828341892784,
          0.15373114858354842,
          0.24381588527134487,
          0.3948722566877091,
          0.6322776590074811,
          0.8956481661115374,
          1.333233724321638,
          2.1318713596888954,
          3.0612622397286553,
          4.186522511073521,
          5.276208543777466,
          6.183132580348424,
          7.3975386006491535,
          8.790797172273908,
          9.742826856885639,
          11.676705053874423,
          14.552608374186923,
          16.950296354293823,
          18.417839901787893,
          20.061560079029626,
          21.12556418691363,
          22.190521683011738,
          25.639818572998045,
          29.50155485016959
         ]
        }
       ],
       "layout": {}
      },
      "text/html": [
       "<div id=\"ea11c9b3-d0b3-4a02-8dc4-4f2f58ace5ce\" style=\"height: 525px; width: 100%;\" class=\"plotly-graph-div\"></div><script type=\"text/javascript\">require([\"plotly\"], function(Plotly) { window.PLOTLYENV=window.PLOTLYENV || {};window.PLOTLYENV.BASE_URL=\"https://plot.ly\";Plotly.newPlot(\"ea11c9b3-d0b3-4a02-8dc4-4f2f58ace5ce\", [{\"y\": [0.002517121178763242, -0.008771794182913661, 0.05357821328299386, 0.09725938524518696, 0.12967828341892784, 0.15373114858354842, 0.24381588527134487, 0.3948722566877091, 0.6322776590074811, 0.8956481661115374, 1.333233724321638, 2.1318713596888954, 3.0612622397286553, 4.186522511073521, 5.276208543777466, 6.183132580348424, 7.3975386006491535, 8.790797172273908, 9.742826856885639, 11.676705053874423, 14.552608374186923, 16.950296354293823, 18.417839901787893, 20.061560079029626, 21.12556418691363, 22.190521683011738, 25.639818572998045, 29.50155485016959], \"x\": [0, 1, 2, 3, 4, 5, 6, 7, 8, 9, 10, 11, 12, 13, 14, 15, 16, 17, 18, 19, 20, 21, 22, 23, 24, 25, 26, 27], \"type\": \"scatter\"}], {}, {\"linkText\": \"Export to plot.ly\", \"showLink\": true})});</script>"
      ],
      "text/vnd.plotly.v1+html": [
       "<div id=\"ea11c9b3-d0b3-4a02-8dc4-4f2f58ace5ce\" style=\"height: 525px; width: 100%;\" class=\"plotly-graph-div\"></div><script type=\"text/javascript\">require([\"plotly\"], function(Plotly) { window.PLOTLYENV=window.PLOTLYENV || {};window.PLOTLYENV.BASE_URL=\"https://plot.ly\";Plotly.newPlot(\"ea11c9b3-d0b3-4a02-8dc4-4f2f58ace5ce\", [{\"y\": [0.002517121178763242, -0.008771794182913661, 0.05357821328299386, 0.09725938524518696, 0.12967828341892784, 0.15373114858354842, 0.24381588527134487, 0.3948722566877091, 0.6322776590074811, 0.8956481661115374, 1.333233724321638, 2.1318713596888954, 3.0612622397286553, 4.186522511073521, 5.276208543777466, 6.183132580348424, 7.3975386006491535, 8.790797172273908, 9.742826856885639, 11.676705053874423, 14.552608374186923, 16.950296354293823, 18.417839901787893, 20.061560079029626, 21.12556418691363, 22.190521683011738, 25.639818572998045, 29.50155485016959], \"x\": [0, 1, 2, 3, 4, 5, 6, 7, 8, 9, 10, 11, 12, 13, 14, 15, 16, 17, 18, 19, 20, 21, 22, 23, 24, 25, 26, 27], \"type\": \"scatter\"}], {}, {\"linkText\": \"Export to plot.ly\", \"showLink\": true})});</script>"
      ]
     },
     "metadata": {},
     "output_type": "display_data"
    }
   ],
   "source": [
    "iplot([data4])"
   ]
  },
  {
   "cell_type": "code",
   "execution_count": 16,
   "metadata": {
    "collapsed": true
   },
   "outputs": [],
   "source": [
    "df05 = df[(df[\"n_relations\"] == 5)].groupby(by=\"n_functions\").agg(np.mean)\n",
    "df10 = df[(df[\"n_relations\"] == 10)].groupby(by=\"n_functions\").agg(np.mean)\n",
    "df15 = df[(df[\"n_relations\"] == 15)].groupby(by=\"n_functions\").agg(np.mean)\n",
    "df20 = df[(df[\"n_relations\"] == 20)].groupby(by=\"n_functions\").agg(np.mean)\n",
    "df30 = df[(df[\"n_relations\"] == 30)].groupby(by=\"n_functions\").agg(np.mean)"
   ]
  },
  {
   "cell_type": "code",
   "execution_count": 34,
   "metadata": {
    "collapsed": true
   },
   "outputs": [],
   "source": [
    "data05 = Scatter(x=df05.index, y=df05.time, name=\"With 5 Relations\")\n",
    "data10 = Scatter(x=df10.index, y=df10.time, name=\"With 10 Relations\")\n",
    "data15 = Scatter(x=df15.index, y=df15.time, name=\"With 15 Relations\")\n",
    "data20 = Scatter(x=df20.index, y=df20.time, name=\"With 20 Relations\")\n",
    "data30 = Scatter(x=df30.index, y=df30.time, name=\"With 30 Relations\")"
   ]
  },
  {
   "cell_type": "code",
   "execution_count": 35,
   "metadata": {},
   "outputs": [
    {
     "data": {
      "application/vnd.plotly.v1+json": {
       "data": [
        {
         "name": "With 5 Relations",
         "type": "scatter",
         "x": [
          1,
          2,
          3,
          4,
          5,
          6,
          7,
          8,
          9,
          10,
          11,
          12,
          13,
          14,
          15,
          16,
          17,
          18,
          19,
          20,
          21,
          22,
          23,
          24,
          25,
          26,
          27,
          28,
          29,
          30,
          31,
          32,
          33
         ],
         "y": [
          0.0787283182144165,
          0.1474021077156067,
          0.16275161504745483,
          0.26862841844558716,
          0.784540057182312,
          1.0337851643562317,
          1.3570978045463562,
          1.5600057244300842,
          1.8672918677330017,
          4.0016666650772095,
          6.712294340133667,
          10.554746568202972,
          11.55058479309082,
          19.03319215774536,
          32.67226845026016,
          40.387652814388275,
          43.56571680307388,
          46.18970286846161,
          70.20925688743591,
          71.64433914422989,
          97.12753182649612,
          116.9278165102005,
          121.13066917657852,
          131.4403503537178,
          170.75617599487305,
          173.16071915626526,
          239.60857969522476,
          267.20530730485916,
          310.1047500371933,
          333.5666506886482,
          345.5831108093262,
          371.1799765229225,
          471.1675375699997
         ]
        },
        {
         "name": "With 10 Relations",
         "type": "scatter",
         "x": [
          1,
          2,
          3,
          4,
          5,
          6,
          7,
          8,
          9,
          10,
          11,
          12,
          13,
          14,
          15,
          16,
          17,
          18,
          19,
          20,
          21,
          22,
          23,
          24,
          25,
          26,
          27,
          28,
          29,
          30,
          31,
          32,
          33,
          34,
          35
         ],
         "y": [
          0.04130646586418152,
          0.12536096572875977,
          0.32523295283317566,
          0.7851551175117493,
          1.5386468172073364,
          2.3201889991760254,
          3.59023380279541,
          4.973387062549591,
          7.725611686706543,
          9.146566718816757,
          12.165721982717514,
          14.596853286027908,
          15.183636009693146,
          21.673481434583664,
          31.050935685634613,
          34.203220427036285,
          43.12315085530281,
          50.27082350850105,
          58.754369139671326,
          59.06045365333557,
          76.87137222290039,
          89.6394393146038,
          100.06346133351326,
          115.72539553046227,
          130.02547731995583,
          134.110600233078,
          149.29655075073242,
          158.3753190934658,
          165.64850199222565,
          195.59538820385933,
          238.0938755273819,
          243.43477654457092,
          249.91906213760376,
          266.97480496764183,
          293.32071125507355
         ]
        },
        {
         "name": "With 15 Relations",
         "type": "scatter",
         "x": [
          1,
          2,
          3,
          4,
          5,
          6,
          7,
          8,
          9,
          10,
          11,
          12,
          13,
          14,
          15,
          16,
          17,
          18,
          19,
          20,
          21,
          22,
          23,
          24,
          25,
          26,
          27,
          28,
          29,
          30,
          31,
          32,
          33,
          34,
          35
         ],
         "y": [
          0.0827450156211853,
          0.2422170639038086,
          0.5232430994510651,
          0.6437371075153351,
          0.8626865744590759,
          1.0274453461170197,
          1.3515115678310394,
          2.060828775167465,
          3.53803214430809,
          3.7429401576519012,
          4.117259204387665,
          4.55510139465332,
          7.347796201705933,
          9.299887031316757,
          11.153924196958542,
          11.664598494768143,
          15.63227066397667,
          21.94231817126274,
          27.108702808618546,
          29.91389936208725,
          33.01722940802574,
          36.68878337740898,
          42.487869173288345,
          47.14313554763794,
          52.552231311798096,
          64.04962491989136,
          65.48149758577347,
          72.05389603972435,
          87.90257659554482,
          97.87528443336487,
          100.55067449808121,
          104.42734783887863,
          117.41120409965515,
          122.93771979212761,
          131.2342658340931
         ]
        },
        {
         "name": "With 20 Relations",
         "type": "scatter",
         "x": [
          1,
          2,
          3,
          4,
          5,
          6,
          7,
          8,
          9,
          10,
          11,
          12,
          13,
          14,
          15,
          16,
          17,
          18,
          19,
          20,
          21,
          22,
          23,
          24,
          25,
          26,
          27,
          28,
          29,
          30,
          31,
          32,
          33,
          34,
          35
         ],
         "y": [
          0.019561767578125,
          0.12992024421691895,
          0.4315785765647888,
          0.5188602805137634,
          1.3485085368156433,
          2.0620325803756714,
          3.529064655303955,
          3.7055370807647705,
          4.451074242591858,
          5.236235678195953,
          6.264741897583008,
          7.222723543643952,
          7.474510073661804,
          8.361064732074738,
          10.35240888595581,
          10.341808199882507,
          12.047204434871674,
          14.138188421726227,
          14.401257753372192,
          15.116816639900208,
          19.720605432987213,
          22.86544770002365,
          25.729140281677246,
          26.692271947860718,
          29.720540463924408,
          31.78811550140381,
          34.417547166347504,
          38.006758153438575,
          40.63125282526016,
          46.21602147817612,
          49.49856650829315,
          59.86867421865463,
          65.9281912446022,
          72.48165208101273,
          76.45242512226105
         ]
        },
        {
         "name": "With 30 Relations",
         "type": "scatter",
         "x": [
          1,
          2,
          3,
          4,
          5,
          6,
          7,
          8,
          9,
          10,
          11,
          12,
          13,
          14,
          15,
          16,
          17,
          18,
          19,
          20,
          21,
          22,
          23,
          24,
          25,
          26,
          27,
          28,
          29,
          30,
          31,
          32,
          33,
          34,
          35
         ],
         "y": [
          0.02779233455657959,
          0.059789955615997314,
          0.2025158405303955,
          0.3646419048309326,
          0.3991742730140686,
          0.6042433977127075,
          0.9883016347885132,
          1.5327389240264893,
          1.5690391063690186,
          2.87195086479187,
          5.346786975860596,
          5.4874648451805115,
          6.3744553327560425,
          7.310974180698395,
          9.047897338867188,
          9.321366667747498,
          9.488609433174133,
          9.600861132144928,
          9.968939125537872,
          13.194806694984436,
          18.066638588905334,
          19.570260524749756,
          25.242735981941223,
          26.298134326934814,
          30.0807883143425,
          38.0000484585762,
          43.64361637830734,
          46.97757601737976,
          51.379887104034424,
          51.064947724342346,
          51.21139633655548,
          52.113685607910156,
          57.911529421806335,
          65.65277898311615,
          65.25485062599182
         ]
        }
       ],
       "layout": {
        "font": {
         "family": "Latin Modern Math",
         "size": 18
        },
        "legend": {
         "x": 0,
         "y": 1
        },
        "xaxis": {
         "autorange": true,
         "autotick": true,
         "showgrid": false,
         "showline": false,
         "showticklabels": true,
         "ticks": "",
         "title": "Number of Functions",
         "zeroline": true
        },
        "yaxis": {
         "autorange": true,
         "autotick": true,
         "showgrid": false,
         "showline": true,
         "showticklabels": true,
         "ticks": "",
         "title": "Time of Computation (in s)",
         "zeroline": true
        }
       }
      },
      "text/html": [
       "<div id=\"f58d9bce-6f52-4f43-a5f8-fca300354d6a\" style=\"height: 525px; width: 100%;\" class=\"plotly-graph-div\"></div><script type=\"text/javascript\">require([\"plotly\"], function(Plotly) { window.PLOTLYENV=window.PLOTLYENV || {};window.PLOTLYENV.BASE_URL=\"https://plot.ly\";Plotly.newPlot(\"f58d9bce-6f52-4f43-a5f8-fca300354d6a\", [{\"y\": [0.0787283182144165, 0.1474021077156067, 0.16275161504745483, 0.26862841844558716, 0.784540057182312, 1.0337851643562317, 1.3570978045463562, 1.5600057244300842, 1.8672918677330017, 4.0016666650772095, 6.712294340133667, 10.554746568202972, 11.55058479309082, 19.03319215774536, 32.67226845026016, 40.387652814388275, 43.56571680307388, 46.18970286846161, 70.20925688743591, 71.64433914422989, 97.12753182649612, 116.9278165102005, 121.13066917657852, 131.4403503537178, 170.75617599487305, 173.16071915626526, 239.60857969522476, 267.20530730485916, 310.1047500371933, 333.5666506886482, 345.5831108093262, 371.1799765229225, 471.1675375699997], \"x\": [1, 2, 3, 4, 5, 6, 7, 8, 9, 10, 11, 12, 13, 14, 15, 16, 17, 18, 19, 20, 21, 22, 23, 24, 25, 26, 27, 28, 29, 30, 31, 32, 33], \"type\": \"scatter\", \"name\": \"With 5 Relations\"}, {\"y\": [0.04130646586418152, 0.12536096572875977, 0.32523295283317566, 0.7851551175117493, 1.5386468172073364, 2.3201889991760254, 3.59023380279541, 4.973387062549591, 7.725611686706543, 9.146566718816757, 12.165721982717514, 14.596853286027908, 15.183636009693146, 21.673481434583664, 31.050935685634613, 34.203220427036285, 43.12315085530281, 50.27082350850105, 58.754369139671326, 59.06045365333557, 76.87137222290039, 89.6394393146038, 100.06346133351326, 115.72539553046227, 130.02547731995583, 134.110600233078, 149.29655075073242, 158.3753190934658, 165.64850199222565, 195.59538820385933, 238.0938755273819, 243.43477654457092, 249.91906213760376, 266.97480496764183, 293.32071125507355], \"x\": [1, 2, 3, 4, 5, 6, 7, 8, 9, 10, 11, 12, 13, 14, 15, 16, 17, 18, 19, 20, 21, 22, 23, 24, 25, 26, 27, 28, 29, 30, 31, 32, 33, 34, 35], \"type\": \"scatter\", \"name\": \"With 10 Relations\"}, {\"y\": [0.0827450156211853, 0.2422170639038086, 0.5232430994510651, 0.6437371075153351, 0.8626865744590759, 1.0274453461170197, 1.3515115678310394, 2.060828775167465, 3.53803214430809, 3.7429401576519012, 4.117259204387665, 4.55510139465332, 7.347796201705933, 9.299887031316757, 11.153924196958542, 11.664598494768143, 15.63227066397667, 21.94231817126274, 27.108702808618546, 29.91389936208725, 33.01722940802574, 36.68878337740898, 42.487869173288345, 47.14313554763794, 52.552231311798096, 64.04962491989136, 65.48149758577347, 72.05389603972435, 87.90257659554482, 97.87528443336487, 100.55067449808121, 104.42734783887863, 117.41120409965515, 122.93771979212761, 131.2342658340931], \"x\": [1, 2, 3, 4, 5, 6, 7, 8, 9, 10, 11, 12, 13, 14, 15, 16, 17, 18, 19, 20, 21, 22, 23, 24, 25, 26, 27, 28, 29, 30, 31, 32, 33, 34, 35], \"type\": \"scatter\", \"name\": \"With 15 Relations\"}, {\"y\": [0.019561767578125, 0.12992024421691895, 0.4315785765647888, 0.5188602805137634, 1.3485085368156433, 2.0620325803756714, 3.529064655303955, 3.7055370807647705, 4.451074242591858, 5.236235678195953, 6.264741897583008, 7.222723543643952, 7.474510073661804, 8.361064732074738, 10.35240888595581, 10.341808199882507, 12.047204434871674, 14.138188421726227, 14.401257753372192, 15.116816639900208, 19.720605432987213, 22.86544770002365, 25.729140281677246, 26.692271947860718, 29.720540463924408, 31.78811550140381, 34.417547166347504, 38.006758153438575, 40.63125282526016, 46.21602147817612, 49.49856650829315, 59.86867421865463, 65.9281912446022, 72.48165208101273, 76.45242512226105], \"x\": [1, 2, 3, 4, 5, 6, 7, 8, 9, 10, 11, 12, 13, 14, 15, 16, 17, 18, 19, 20, 21, 22, 23, 24, 25, 26, 27, 28, 29, 30, 31, 32, 33, 34, 35], \"type\": \"scatter\", \"name\": \"With 20 Relations\"}, {\"y\": [0.02779233455657959, 0.059789955615997314, 0.2025158405303955, 0.3646419048309326, 0.3991742730140686, 0.6042433977127075, 0.9883016347885132, 1.5327389240264893, 1.5690391063690186, 2.87195086479187, 5.346786975860596, 5.4874648451805115, 6.3744553327560425, 7.310974180698395, 9.047897338867188, 9.321366667747498, 9.488609433174133, 9.600861132144928, 9.968939125537872, 13.194806694984436, 18.066638588905334, 19.570260524749756, 25.242735981941223, 26.298134326934814, 30.0807883143425, 38.0000484585762, 43.64361637830734, 46.97757601737976, 51.379887104034424, 51.064947724342346, 51.21139633655548, 52.113685607910156, 57.911529421806335, 65.65277898311615, 65.25485062599182], \"x\": [1, 2, 3, 4, 5, 6, 7, 8, 9, 10, 11, 12, 13, 14, 15, 16, 17, 18, 19, 20, 21, 22, 23, 24, 25, 26, 27, 28, 29, 30, 31, 32, 33, 34, 35], \"type\": \"scatter\", \"name\": \"With 30 Relations\"}], {\"font\": {\"family\": \"Latin Modern Math\", \"size\": 18}, \"legend\": {\"y\": 1, \"x\": 0}, \"xaxis\": {\"showticklabels\": true, \"title\": \"Number of Functions\", \"ticks\": \"\", \"showgrid\": false, \"zeroline\": true, \"showline\": false, \"autotick\": true, \"autorange\": true}, \"yaxis\": {\"showticklabels\": true, \"title\": \"Time of Computation (in s)\", \"ticks\": \"\", \"showgrid\": false, \"zeroline\": true, \"showline\": true, \"autotick\": true, \"autorange\": true}}, {\"linkText\": \"Export to plot.ly\", \"showLink\": true})});</script>"
      ],
      "text/vnd.plotly.v1+html": [
       "<div id=\"f58d9bce-6f52-4f43-a5f8-fca300354d6a\" style=\"height: 525px; width: 100%;\" class=\"plotly-graph-div\"></div><script type=\"text/javascript\">require([\"plotly\"], function(Plotly) { window.PLOTLYENV=window.PLOTLYENV || {};window.PLOTLYENV.BASE_URL=\"https://plot.ly\";Plotly.newPlot(\"f58d9bce-6f52-4f43-a5f8-fca300354d6a\", [{\"y\": [0.0787283182144165, 0.1474021077156067, 0.16275161504745483, 0.26862841844558716, 0.784540057182312, 1.0337851643562317, 1.3570978045463562, 1.5600057244300842, 1.8672918677330017, 4.0016666650772095, 6.712294340133667, 10.554746568202972, 11.55058479309082, 19.03319215774536, 32.67226845026016, 40.387652814388275, 43.56571680307388, 46.18970286846161, 70.20925688743591, 71.64433914422989, 97.12753182649612, 116.9278165102005, 121.13066917657852, 131.4403503537178, 170.75617599487305, 173.16071915626526, 239.60857969522476, 267.20530730485916, 310.1047500371933, 333.5666506886482, 345.5831108093262, 371.1799765229225, 471.1675375699997], \"x\": [1, 2, 3, 4, 5, 6, 7, 8, 9, 10, 11, 12, 13, 14, 15, 16, 17, 18, 19, 20, 21, 22, 23, 24, 25, 26, 27, 28, 29, 30, 31, 32, 33], \"type\": \"scatter\", \"name\": \"With 5 Relations\"}, {\"y\": [0.04130646586418152, 0.12536096572875977, 0.32523295283317566, 0.7851551175117493, 1.5386468172073364, 2.3201889991760254, 3.59023380279541, 4.973387062549591, 7.725611686706543, 9.146566718816757, 12.165721982717514, 14.596853286027908, 15.183636009693146, 21.673481434583664, 31.050935685634613, 34.203220427036285, 43.12315085530281, 50.27082350850105, 58.754369139671326, 59.06045365333557, 76.87137222290039, 89.6394393146038, 100.06346133351326, 115.72539553046227, 130.02547731995583, 134.110600233078, 149.29655075073242, 158.3753190934658, 165.64850199222565, 195.59538820385933, 238.0938755273819, 243.43477654457092, 249.91906213760376, 266.97480496764183, 293.32071125507355], \"x\": [1, 2, 3, 4, 5, 6, 7, 8, 9, 10, 11, 12, 13, 14, 15, 16, 17, 18, 19, 20, 21, 22, 23, 24, 25, 26, 27, 28, 29, 30, 31, 32, 33, 34, 35], \"type\": \"scatter\", \"name\": \"With 10 Relations\"}, {\"y\": [0.0827450156211853, 0.2422170639038086, 0.5232430994510651, 0.6437371075153351, 0.8626865744590759, 1.0274453461170197, 1.3515115678310394, 2.060828775167465, 3.53803214430809, 3.7429401576519012, 4.117259204387665, 4.55510139465332, 7.347796201705933, 9.299887031316757, 11.153924196958542, 11.664598494768143, 15.63227066397667, 21.94231817126274, 27.108702808618546, 29.91389936208725, 33.01722940802574, 36.68878337740898, 42.487869173288345, 47.14313554763794, 52.552231311798096, 64.04962491989136, 65.48149758577347, 72.05389603972435, 87.90257659554482, 97.87528443336487, 100.55067449808121, 104.42734783887863, 117.41120409965515, 122.93771979212761, 131.2342658340931], \"x\": [1, 2, 3, 4, 5, 6, 7, 8, 9, 10, 11, 12, 13, 14, 15, 16, 17, 18, 19, 20, 21, 22, 23, 24, 25, 26, 27, 28, 29, 30, 31, 32, 33, 34, 35], \"type\": \"scatter\", \"name\": \"With 15 Relations\"}, {\"y\": [0.019561767578125, 0.12992024421691895, 0.4315785765647888, 0.5188602805137634, 1.3485085368156433, 2.0620325803756714, 3.529064655303955, 3.7055370807647705, 4.451074242591858, 5.236235678195953, 6.264741897583008, 7.222723543643952, 7.474510073661804, 8.361064732074738, 10.35240888595581, 10.341808199882507, 12.047204434871674, 14.138188421726227, 14.401257753372192, 15.116816639900208, 19.720605432987213, 22.86544770002365, 25.729140281677246, 26.692271947860718, 29.720540463924408, 31.78811550140381, 34.417547166347504, 38.006758153438575, 40.63125282526016, 46.21602147817612, 49.49856650829315, 59.86867421865463, 65.9281912446022, 72.48165208101273, 76.45242512226105], \"x\": [1, 2, 3, 4, 5, 6, 7, 8, 9, 10, 11, 12, 13, 14, 15, 16, 17, 18, 19, 20, 21, 22, 23, 24, 25, 26, 27, 28, 29, 30, 31, 32, 33, 34, 35], \"type\": \"scatter\", \"name\": \"With 20 Relations\"}, {\"y\": [0.02779233455657959, 0.059789955615997314, 0.2025158405303955, 0.3646419048309326, 0.3991742730140686, 0.6042433977127075, 0.9883016347885132, 1.5327389240264893, 1.5690391063690186, 2.87195086479187, 5.346786975860596, 5.4874648451805115, 6.3744553327560425, 7.310974180698395, 9.047897338867188, 9.321366667747498, 9.488609433174133, 9.600861132144928, 9.968939125537872, 13.194806694984436, 18.066638588905334, 19.570260524749756, 25.242735981941223, 26.298134326934814, 30.0807883143425, 38.0000484585762, 43.64361637830734, 46.97757601737976, 51.379887104034424, 51.064947724342346, 51.21139633655548, 52.113685607910156, 57.911529421806335, 65.65277898311615, 65.25485062599182], \"x\": [1, 2, 3, 4, 5, 6, 7, 8, 9, 10, 11, 12, 13, 14, 15, 16, 17, 18, 19, 20, 21, 22, 23, 24, 25, 26, 27, 28, 29, 30, 31, 32, 33, 34, 35], \"type\": \"scatter\", \"name\": \"With 30 Relations\"}], {\"font\": {\"family\": \"Latin Modern Math\", \"size\": 18}, \"legend\": {\"y\": 1, \"x\": 0}, \"xaxis\": {\"showticklabels\": true, \"title\": \"Number of Functions\", \"ticks\": \"\", \"showgrid\": false, \"zeroline\": true, \"showline\": false, \"autotick\": true, \"autorange\": true}, \"yaxis\": {\"showticklabels\": true, \"title\": \"Time of Computation (in s)\", \"ticks\": \"\", \"showgrid\": false, \"zeroline\": true, \"showline\": true, \"autotick\": true, \"autorange\": true}}, {\"linkText\": \"Export to plot.ly\", \"showLink\": true})});</script>"
      ]
     },
     "metadata": {},
     "output_type": "display_data"
    }
   ],
   "source": [
    "layout = Layout(\n",
    "    # title='Comparisation Performance With the Total Number of Relations',\n",
    "    font=dict(family='Latin Modern Math', size=6*3),\n",
    "    xaxis=dict(\n",
    "        title='Number of Functions',\n",
    "        autorange=True,\n",
    "        showgrid=False,\n",
    "        zeroline=True,\n",
    "        showline=False,\n",
    "        autotick=True,\n",
    "        ticks='',\n",
    "        showticklabels=True\n",
    "    ),\n",
    "    yaxis=dict(\n",
    "        title='Time of Computation (in s)',\n",
    "        autorange=True,\n",
    "        showgrid=False,\n",
    "        zeroline=True,\n",
    "        showline=True,\n",
    "        autotick=True,\n",
    "        ticks='',\n",
    "        showticklabels=True\n",
    "    ),\n",
    "    legend=dict(x=0, y=1)\n",
    ")\n",
    "fig = Figure(data=[data05, data10, data15, data20, data30], layout=layout)\n",
    "iplot(fig)"
   ]
  },
  {
   "cell_type": "code",
   "execution_count": null,
   "metadata": {
    "collapsed": true
   },
   "outputs": [],
   "source": []
  }
 ],
 "metadata": {
  "kernelspec": {
   "display_name": "Python 2",
   "language": "python",
   "name": "python2"
  },
  "language_info": {
   "codemirror_mode": {
    "name": "ipython",
    "version": 2
   },
   "file_extension": ".py",
   "mimetype": "text/x-python",
   "name": "python",
   "nbconvert_exporter": "python",
   "pygments_lexer": "ipython2",
   "version": "2.7.12"
  }
 },
 "nbformat": 4,
 "nbformat_minor": 2
}
