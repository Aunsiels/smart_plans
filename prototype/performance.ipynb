{
 "cells": [
  {
   "cell_type": "code",
   "execution_count": 1,
   "metadata": {},
   "outputs": [
    {
     "data": {
      "text/html": [
       "<script>requirejs.config({paths: { 'plotly': ['https://cdn.plot.ly/plotly-latest.min']},});if(!window.Plotly) {{require(['plotly'],function(plotly) {window.Plotly=plotly;});}}</script>"
      ],
      "text/vnd.plotly.v1+html": [
       "<script>requirejs.config({paths: { 'plotly': ['https://cdn.plot.ly/plotly-latest.min']},});if(!window.Plotly) {{require(['plotly'],function(plotly) {window.Plotly=plotly;});}}</script>"
      ]
     },
     "metadata": {},
     "output_type": "display_data"
    }
   ],
   "source": [
    "import pandas as pd\n",
    "import numpy as np\n",
    "from plotly.offline import download_plotlyjs, init_notebook_mode, plot, iplot\n",
    "import plotly\n",
    "from plotly.graph_objs import Scatter, Figure, Layout, Histogram\n",
    "init_notebook_mode(connected=True)\n",
    "np.random.seed(68)\n",
    "%matplotlib inline"
   ]
  },
  {
   "cell_type": "code",
   "execution_count": 2,
   "metadata": {
    "collapsed": true
   },
   "outputs": [],
   "source": [
    "df = pd.read_csv(\"performances2.csv\")"
   ]
  },
  {
   "cell_type": "code",
   "execution_count": 3,
   "metadata": {},
   "outputs": [
    {
     "data": {
      "text/html": [
       "<div>\n",
       "<table border=\"1\" class=\"dataframe\">\n",
       "  <thead>\n",
       "    <tr style=\"text-align: right;\">\n",
       "      <th></th>\n",
       "      <th>optim</th>\n",
       "      <th>n_functions</th>\n",
       "      <th>time</th>\n",
       "      <th>n_relations</th>\n",
       "      <th>size_max</th>\n",
       "    </tr>\n",
       "  </thead>\n",
       "  <tbody>\n",
       "    <tr>\n",
       "      <th>0</th>\n",
       "      <td>0</td>\n",
       "      <td>1</td>\n",
       "      <td>0.021501</td>\n",
       "      <td>10</td>\n",
       "      <td>10</td>\n",
       "    </tr>\n",
       "    <tr>\n",
       "      <th>1</th>\n",
       "      <td>1</td>\n",
       "      <td>1</td>\n",
       "      <td>0.021263</td>\n",
       "      <td>10</td>\n",
       "      <td>10</td>\n",
       "    </tr>\n",
       "    <tr>\n",
       "      <th>2</th>\n",
       "      <td>2</td>\n",
       "      <td>1</td>\n",
       "      <td>0.023237</td>\n",
       "      <td>10</td>\n",
       "      <td>10</td>\n",
       "    </tr>\n",
       "    <tr>\n",
       "      <th>3</th>\n",
       "      <td>3</td>\n",
       "      <td>1</td>\n",
       "      <td>0.019265</td>\n",
       "      <td>10</td>\n",
       "      <td>10</td>\n",
       "    </tr>\n",
       "    <tr>\n",
       "      <th>4</th>\n",
       "      <td>0</td>\n",
       "      <td>2</td>\n",
       "      <td>0.083337</td>\n",
       "      <td>10</td>\n",
       "      <td>10</td>\n",
       "    </tr>\n",
       "  </tbody>\n",
       "</table>\n",
       "</div>"
      ],
      "text/plain": [
       "   optim  n_functions      time  n_relations  size_max\n",
       "0      0            1  0.021501           10        10\n",
       "1      1            1  0.021263           10        10\n",
       "2      2            1  0.023237           10        10\n",
       "3      3            1  0.019265           10        10\n",
       "4      0            2  0.083337           10        10"
      ]
     },
     "execution_count": 3,
     "metadata": {},
     "output_type": "execute_result"
    }
   ],
   "source": [
    "df.head()"
   ]
  },
  {
   "cell_type": "code",
   "execution_count": 4,
   "metadata": {},
   "outputs": [
    {
     "data": {
      "text/plain": [
       "<matplotlib.axes._subplots.AxesSubplot at 0x7f8807e54190>"
      ]
     },
     "execution_count": 4,
     "metadata": {},
     "output_type": "execute_result"
    },
    {
     "data": {
      "image/png": "[encoded data removed]",
      "text/plain": [
       "<matplotlib.figure.Figure at 0x7f88346fb850>"
      ]
     },
     "metadata": {},
     "output_type": "display_data"
    }
   ],
   "source": [
    "df.plot()"
   ]
  },
  {
   "cell_type": "code",
   "execution_count": 22,
   "metadata": {
    "collapsed": true
   },
   "outputs": [],
   "source": [
    "df_0 = df[(df[\"optim\"] == 0)].groupby(by=\"n_functions\").agg(np.mean)\n",
    "df_1 = df[(df[\"optim\"] == 1)].groupby(by=\"n_functions\").agg(np.mean)\n",
    "df_2 = df[(df[\"optim\"] == 2)].groupby(by=\"n_functions\").agg(np.mean)\n",
    "df_3 = df[(df[\"optim\"] == 3)].groupby(by=\"n_functions\").agg(np.mean)"
   ]
  },
  {
   "cell_type": "code",
   "execution_count": 23,
   "metadata": {
    "collapsed": true
   },
   "outputs": [],
   "source": [
    "df_0 = df_0[df_0.index <= 33]\n",
    "df_1 = df_1[df_1.index <= 33]\n",
    "df_2 = df_2[df_2.index <= 33]\n",
    "df_3 = df_3[df_3.index <= 33]"
   ]
  },
  {
   "cell_type": "code",
   "execution_count": 24,
   "metadata": {
    "collapsed": true
   },
   "outputs": [],
   "source": [
    "data0 = Scatter(x=df_0.index, y=df_0.time, name='Without Rule Order Optimization')\n",
    "data1 = Scatter(x=df_1.index, y=df_1.time, name='With Reverse Order')\n",
    "data2 = Scatter(x=df_2.index, y=df_2.time, name='With Rule Core Number Ordering')\n",
    "data3 = Scatter(x=df_3.index, y=df_3.time, name='With Reverse Rule Core Number Ordering')"
   ]
  },
  {
   "cell_type": "code",
   "execution_count": 37,
   "metadata": {},
   "outputs": [
    {
     "data": {
      "application/vnd.plotly.v1+json": {
       "data": [
        {
         "name": "Without Rule Order Optimization",
         "type": "scatter",
         "x": [
          1,
          2,
          3,
          4,
          5,
          6,
          7,
          8,
          9,
          10,
          11,
          12,
          13,
          14,
          15,
          16,
          17,
          18,
          19,
          20,
          21,
          22,
          23,
          24,
          25,
          26,
          27,
          28,
          29,
          30,
          31,
          32,
          33
         ],
         "y": [
          0.05959262847900391,
          0.16992220878601075,
          0.4419394493103027,
          0.6683410167694092,
          1.2230830669403077,
          1.6792556762695312,
          2.8663884162902833,
          3.688294553756714,
          5.10918116569519,
          6.426596355438233,
          8.374284934997558,
          9.884501123428345,
          11.283713817596436,
          14.23253002166748,
          19.13179087638855,
          22.591541624069215,
          27.460436868667603,
          31.21651248931885,
          38.48166880607605,
          40.303484964370725,
          49.46739439964294,
          57.16516427993774,
          63.431688451766966,
          71.42527923583984,
          85.00305905342103,
          93.31200017929078,
          112.43102250099182,
          120.48024053573609,
          136.19444899559022,
          150.7227737903595,
          159.476655960083,
          169.65092105865477,
          193.60245776176453
         ]
        },
        {
         "name": "With Reverse Order",
         "type": "scatter",
         "x": [
          1,
          2,
          3,
          4,
          5,
          6,
          7,
          8,
          9,
          10,
          11,
          12,
          13,
          14,
          15,
          16,
          17,
          18,
          19,
          20,
          21,
          22,
          23,
          24,
          25,
          26,
          27,
          28,
          29,
          30,
          31,
          32,
          33
         ],
         "y": [
          0.06128702163696289,
          0.16707186698913573,
          0.43144636154174804,
          0.662518310546875,
          1.2091745376586913,
          1.9370402812957763,
          2.9732107639312746,
          3.660204029083252,
          5.17698483467102,
          6.366050052642822,
          8.322460889816284,
          9.506992149353028,
          11.253220510482787,
          14.390223932266235,
          19.158949518203734,
          22.39151773452759,
          27.495298004150392,
          31.122620582580566,
          38.87268614768982,
          40.57109980583191,
          49.38430805206299,
          55.99146366119385,
          62.82734637260437,
          71.51567058563232,
          85.19319977760316,
          93.40755157470703,
          111.49584350585937,
          120.21168537139893,
          136.87840270996094,
          144.44560074806213,
          159.09798493385316,
          169.45586252212524,
          191.1727249145508
         ]
        },
        {
         "name": "With Rule Core Number Ordering",
         "type": "scatter",
         "x": [
          1,
          2,
          3,
          4,
          5,
          6,
          7,
          8,
          9,
          10,
          11,
          12,
          13,
          14,
          15,
          16,
          17,
          18,
          19,
          20,
          21,
          22,
          23,
          24,
          25,
          26,
          27,
          28,
          29,
          30,
          31,
          32,
          33
         ],
         "y": [
          0.06530799865722656,
          0.17616682052612304,
          0.39560251235961913,
          0.6347551822662354,
          1.2808809757232666,
          1.7960852146148683,
          2.5138463497161867,
          3.4053903102874754,
          5.0619645595550535,
          6.532463693618775,
          7.766426706314087,
          8.336934661865234,
          10.095126581192016,
          13.397731924057007,
          18.20134620666504,
          19.155434322357177,
          22.638940382003785,
          25.069029378890992,
          33.31276512145996,
          35.337556982040404,
          42.33052105903626,
          46.576001262664796,
          54.965042686462404,
          58.24122190475464,
          68.86589770317077,
          76.16415328979492,
          98.41083426475525,
          107.1833520412445,
          121.82490553855897,
          133.09630603790282,
          132.73345608711242,
          139.63976521492003,
          158.660267162323
         ]
        },
        {
         "name": "With Reverse Rule Core Number Ordering",
         "type": "scatter",
         "x": [
          1,
          2,
          3,
          4,
          5,
          6,
          7,
          8,
          9,
          10,
          11,
          12,
          13,
          14,
          15,
          16,
          17,
          18,
          19,
          20,
          21,
          22,
          23,
          24,
          25,
          26,
          27,
          28,
          29,
          30,
          31,
          32,
          33
         ],
         "y": [
          0.06230597496032715,
          0.17590131759643554,
          0.41647729873657224,
          0.6552706241607666,
          1.2014616489410401,
          1.5961220741271973,
          2.4102528572082518,
          3.6100670337677,
          4.3713541507720945,
          5.259848642349244,
          7.0356344223022464,
          8.903191137313843,
          11.030605506896972,
          13.715042781829833,
          18.19642105102539,
          20.91668291091919,
          23.928580713272094,
          27.3825701713562,
          33.60089468955994,
          35.06480164527893,
          45.028618574142456,
          48.49267768859863,
          52.073580503463745,
          58.78171329498291,
          70.72545742988586,
          73.61996293067932,
          85.57841105461121,
          91.01056680679321,
          104.95394005775452,
          109.85902881622314,
          118.97698130607603,
          124.45927777290345,
          156.3813449859619
         ]
        }
       ],
       "layout": {
        "font": {
         "family": "Latin Modern Math",
         "size": 18
        },
        "legend": {
         "x": 0,
         "y": 1
        },
        "xaxis": {
         "autorange": true,
         "autotick": true,
         "showgrid": false,
         "showline": false,
         "showticklabels": true,
         "ticks": "",
         "title": "Number of Functions",
         "zeroline": true
        },
        "yaxis": {
         "autorange": true,
         "autotick": true,
         "showgrid": false,
         "showline": true,
         "showticklabels": true,
         "ticks": "",
         "title": "Time of Computation (in s)",
         "zeroline": true
        }
       }
      },
      "text/html": [
       "<div id=\"77f9765e-7613-4062-99bd-cfa7147222f5\" style=\"height: 525px; width: 100%;\" class=\"plotly-graph-div\"></div><script type=\"text/javascript\">require([\"plotly\"], function(Plotly) { window.PLOTLYENV=window.PLOTLYENV || {};window.PLOTLYENV.BASE_URL=\"https://plot.ly\";Plotly.newPlot(\"77f9765e-7613-4062-99bd-cfa7147222f5\", [{\"y\": [0.05959262847900391, 0.16992220878601075, 0.4419394493103027, 0.6683410167694092, 1.2230830669403077, 1.6792556762695312, 2.8663884162902833, 3.688294553756714, 5.10918116569519, 6.426596355438233, 8.374284934997558, 9.884501123428345, 11.283713817596436, 14.23253002166748, 19.13179087638855, 22.591541624069215, 27.460436868667603, 31.21651248931885, 38.48166880607605, 40.303484964370725, 49.46739439964294, 57.16516427993774, 63.431688451766966, 71.42527923583984, 85.00305905342103, 93.31200017929078, 112.43102250099182, 120.48024053573609, 136.19444899559022, 150.7227737903595, 159.476655960083, 169.65092105865477, 193.60245776176453], \"x\": [1, 2, 3, 4, 5, 6, 7, 8, 9, 10, 11, 12, 13, 14, 15, 16, 17, 18, 19, 20, 21, 22, 23, 24, 25, 26, 27, 28, 29, 30, 31, 32, 33], \"type\": \"scatter\", \"name\": \"Without Rule Order Optimization\"}, {\"y\": [0.06128702163696289, 0.16707186698913573, 0.43144636154174804, 0.662518310546875, 1.2091745376586913, 1.9370402812957763, 2.9732107639312746, 3.660204029083252, 5.17698483467102, 6.366050052642822, 8.322460889816284, 9.506992149353028, 11.253220510482787, 14.390223932266235, 19.158949518203734, 22.39151773452759, 27.495298004150392, 31.122620582580566, 38.87268614768982, 40.57109980583191, 49.38430805206299, 55.99146366119385, 62.82734637260437, 71.51567058563232, 85.19319977760316, 93.40755157470703, 111.49584350585937, 120.21168537139893, 136.87840270996094, 144.44560074806213, 159.09798493385316, 169.45586252212524, 191.1727249145508], \"x\": [1, 2, 3, 4, 5, 6, 7, 8, 9, 10, 11, 12, 13, 14, 15, 16, 17, 18, 19, 20, 21, 22, 23, 24, 25, 26, 27, 28, 29, 30, 31, 32, 33], \"type\": \"scatter\", \"name\": \"With Reverse Order\"}, {\"y\": [0.06530799865722656, 0.17616682052612304, 0.39560251235961913, 0.6347551822662354, 1.2808809757232666, 1.7960852146148683, 2.5138463497161867, 3.4053903102874754, 5.0619645595550535, 6.532463693618775, 7.766426706314087, 8.336934661865234, 10.095126581192016, 13.397731924057007, 18.20134620666504, 19.155434322357177, 22.638940382003785, 25.069029378890992, 33.31276512145996, 35.337556982040404, 42.33052105903626, 46.576001262664796, 54.965042686462404, 58.24122190475464, 68.86589770317077, 76.16415328979492, 98.41083426475525, 107.1833520412445, 121.82490553855897, 133.09630603790282, 132.73345608711242, 139.63976521492003, 158.660267162323], \"x\": [1, 2, 3, 4, 5, 6, 7, 8, 9, 10, 11, 12, 13, 14, 15, 16, 17, 18, 19, 20, 21, 22, 23, 24, 25, 26, 27, 28, 29, 30, 31, 32, 33], \"type\": \"scatter\", \"name\": \"With Rule Core Number Ordering\"}, {\"y\": [0.06230597496032715, 0.17590131759643554, 0.41647729873657224, 0.6552706241607666, 1.2014616489410401, 1.5961220741271973, 2.4102528572082518, 3.6100670337677, 4.3713541507720945, 5.259848642349244, 7.0356344223022464, 8.903191137313843, 11.030605506896972, 13.715042781829833, 18.19642105102539, 20.91668291091919, 23.928580713272094, 27.3825701713562, 33.60089468955994, 35.06480164527893, 45.028618574142456, 48.49267768859863, 52.073580503463745, 58.78171329498291, 70.72545742988586, 73.61996293067932, 85.57841105461121, 91.01056680679321, 104.95394005775452, 109.85902881622314, 118.97698130607603, 124.45927777290345, 156.3813449859619], \"x\": [1, 2, 3, 4, 5, 6, 7, 8, 9, 10, 11, 12, 13, 14, 15, 16, 17, 18, 19, 20, 21, 22, 23, 24, 25, 26, 27, 28, 29, 30, 31, 32, 33], \"type\": \"scatter\", \"name\": \"With Reverse Rule Core Number Ordering\"}], {\"font\": {\"family\": \"Latin Modern Math\", \"size\": 18}, \"legend\": {\"y\": 1, \"x\": 0}, \"xaxis\": {\"showticklabels\": true, \"title\": \"Number of Functions\", \"ticks\": \"\", \"showgrid\": false, \"zeroline\": true, \"showline\": false, \"autotick\": true, \"autorange\": true}, \"yaxis\": {\"showticklabels\": true, \"title\": \"Time of Computation (in s)\", \"ticks\": \"\", \"showgrid\": false, \"zeroline\": true, \"showline\": true, \"autotick\": true, \"autorange\": true}}, {\"linkText\": \"Export to plot.ly\", \"showLink\": true})});</script>"
      ],
      "text/vnd.plotly.v1+html": [
       "<div id=\"77f9765e-7613-4062-99bd-cfa7147222f5\" style=\"height: 525px; width: 100%;\" class=\"plotly-graph-div\"></div><script type=\"text/javascript\">require([\"plotly\"], function(Plotly) { window.PLOTLYENV=window.PLOTLYENV || {};window.PLOTLYENV.BASE_URL=\"https://plot.ly\";Plotly.newPlot(\"77f9765e-7613-4062-99bd-cfa7147222f5\", [{\"y\": [0.05959262847900391, 0.16992220878601075, 0.4419394493103027, 0.6683410167694092, 1.2230830669403077, 1.6792556762695312, 2.8663884162902833, 3.688294553756714, 5.10918116569519, 6.426596355438233, 8.374284934997558, 9.884501123428345, 11.283713817596436, 14.23253002166748, 19.13179087638855, 22.591541624069215, 27.460436868667603, 31.21651248931885, 38.48166880607605, 40.303484964370725, 49.46739439964294, 57.16516427993774, 63.431688451766966, 71.42527923583984, 85.00305905342103, 93.31200017929078, 112.43102250099182, 120.48024053573609, 136.19444899559022, 150.7227737903595, 159.476655960083, 169.65092105865477, 193.60245776176453], \"x\": [1, 2, 3, 4, 5, 6, 7, 8, 9, 10, 11, 12, 13, 14, 15, 16, 17, 18, 19, 20, 21, 22, 23, 24, 25, 26, 27, 28, 29, 30, 31, 32, 33], \"type\": \"scatter\", \"name\": \"Without Rule Order Optimization\"}, {\"y\": [0.06128702163696289, 0.16707186698913573, 0.43144636154174804, 0.662518310546875, 1.2091745376586913, 1.9370402812957763, 2.9732107639312746, 3.660204029083252, 5.17698483467102, 6.366050052642822, 8.322460889816284, 9.506992149353028, 11.253220510482787, 14.390223932266235, 19.158949518203734, 22.39151773452759, 27.495298004150392, 31.122620582580566, 38.87268614768982, 40.57109980583191, 49.38430805206299, 55.99146366119385, 62.82734637260437, 71.51567058563232, 85.19319977760316, 93.40755157470703, 111.49584350585937, 120.21168537139893, 136.87840270996094, 144.44560074806213, 159.09798493385316, 169.45586252212524, 191.1727249145508], \"x\": [1, 2, 3, 4, 5, 6, 7, 8, 9, 10, 11, 12, 13, 14, 15, 16, 17, 18, 19, 20, 21, 22, 23, 24, 25, 26, 27, 28, 29, 30, 31, 32, 33], \"type\": \"scatter\", \"name\": \"With Reverse Order\"}, {\"y\": [0.06530799865722656, 0.17616682052612304, 0.39560251235961913, 0.6347551822662354, 1.2808809757232666, 1.7960852146148683, 2.5138463497161867, 3.4053903102874754, 5.0619645595550535, 6.532463693618775, 7.766426706314087, 8.336934661865234, 10.095126581192016, 13.397731924057007, 18.20134620666504, 19.155434322357177, 22.638940382003785, 25.069029378890992, 33.31276512145996, 35.337556982040404, 42.33052105903626, 46.576001262664796, 54.965042686462404, 58.24122190475464, 68.86589770317077, 76.16415328979492, 98.41083426475525, 107.1833520412445, 121.82490553855897, 133.09630603790282, 132.73345608711242, 139.63976521492003, 158.660267162323], \"x\": [1, 2, 3, 4, 5, 6, 7, 8, 9, 10, 11, 12, 13, 14, 15, 16, 17, 18, 19, 20, 21, 22, 23, 24, 25, 26, 27, 28, 29, 30, 31, 32, 33], \"type\": \"scatter\", \"name\": \"With Rule Core Number Ordering\"}, {\"y\": [0.06230597496032715, 0.17590131759643554, 0.41647729873657224, 0.6552706241607666, 1.2014616489410401, 1.5961220741271973, 2.4102528572082518, 3.6100670337677, 4.3713541507720945, 5.259848642349244, 7.0356344223022464, 8.903191137313843, 11.030605506896972, 13.715042781829833, 18.19642105102539, 20.91668291091919, 23.928580713272094, 27.3825701713562, 33.60089468955994, 35.06480164527893, 45.028618574142456, 48.49267768859863, 52.073580503463745, 58.78171329498291, 70.72545742988586, 73.61996293067932, 85.57841105461121, 91.01056680679321, 104.95394005775452, 109.85902881622314, 118.97698130607603, 124.45927777290345, 156.3813449859619], \"x\": [1, 2, 3, 4, 5, 6, 7, 8, 9, 10, 11, 12, 13, 14, 15, 16, 17, 18, 19, 20, 21, 22, 23, 24, 25, 26, 27, 28, 29, 30, 31, 32, 33], \"type\": \"scatter\", \"name\": \"With Reverse Rule Core Number Ordering\"}], {\"font\": {\"family\": \"Latin Modern Math\", \"size\": 18}, \"legend\": {\"y\": 1, \"x\": 0}, \"xaxis\": {\"showticklabels\": true, \"title\": \"Number of Functions\", \"ticks\": \"\", \"showgrid\": false, \"zeroline\": true, \"showline\": false, \"autotick\": true, \"autorange\": true}, \"yaxis\": {\"showticklabels\": true, \"title\": \"Time of Computation (in s)\", \"ticks\": \"\", \"showgrid\": false, \"zeroline\": true, \"showline\": true, \"autotick\": true, \"autorange\": true}}, {\"linkText\": \"Export to plot.ly\", \"showLink\": true})});</script>"
      ]
     },
     "metadata": {},
     "output_type": "display_data"
    }
   ],
   "source": [
    "layout = Layout(\n",
    "  #  title='Comparisation Performance With Rule Order Optimization',\n",
    "    font=dict(family='Latin Modern Math', size=6*3),\n",
    "    xaxis=dict(\n",
    "        title='Number of Functions',\n",
    "        autorange=True,\n",
    "        showgrid=False,\n",
    "        zeroline=True,\n",
    "        showline=False,\n",
    "        autotick=True,\n",
    "        ticks='',\n",
    "        showticklabels=True\n",
    "    ),\n",
    "    yaxis=dict(\n",
    "        title='Time of Computation (in s)',\n",
    "        autorange=True,\n",
    "        showgrid=False,\n",
    "        zeroline=True,\n",
    "        showline=True,\n",
    "        autotick=True,\n",
    "        ticks='',\n",
    "        showticklabels=True\n",
    "    ),\n",
    "    legend=dict(x=0, y=1)\n",
    ")\n",
    "fig = Figure(data=[data0, data1, data2, data3], layout=layout)\n",
    "iplot(fig)"
   ]
  },
  {
   "cell_type": "code",
   "execution_count": 8,
   "metadata": {
    "collapsed": true
   },
   "outputs": [],
   "source": [
    "data3 = Scatter(x=df_0.index, y=(np.array(df_0.time)-np.array(df_2.time)))"
   ]
  },
  {
   "cell_type": "code",
   "execution_count": 9,
   "metadata": {},
   "outputs": [
    {
     "data": {
      "application/vnd.plotly.v1+json": {
       "data": [
        {
         "type": "scatter",
         "x": [
          1,
          2,
          3,
          4,
          5,
          6,
          7,
          8,
          9,
          10,
          11,
          12,
          13,
          14,
          15,
          16,
          17,
          18,
          19,
          20,
          21,
          22,
          23,
          24,
          25,
          26,
          27,
          28,
          29,
          30,
          31,
          32,
          33,
          34,
          35
         ],
         "y": [
          -0.005715370178222649,
          -0.006244611740112288,
          0.04633693695068358,
          0.03358583450317376,
          -0.057797908782958984,
          -0.11682953834533705,
          0.3525420665740966,
          0.28290424346923837,
          0.047216606140136896,
          -0.10586733818054217,
          0.6078582286834706,
          1.547566461563111,
          1.1885872364044197,
          0.8347980976104736,
          0.93044466972351,
          3.4361073017120383,
          4.821496486663818,
          6.1474831104278564,
          5.16890368461609,
          4.965927982330321,
          7.136873340606684,
          10.589163017272945,
          8.466645765304563,
          13.1840573310852,
          16.137161350250253,
          17.147846889495852,
          14.020188236236564,
          13.296888494491583,
          14.369543457031256,
          17.626467752456676,
          26.743199872970592,
          30.01115584373474,
          34.94219059944152,
          12.127890467643738,
          12.164046347141266
         ]
        }
       ],
       "layout": {}
      },
      "text/html": [
       "<div id=\"0a1fda1e-34b1-4b39-b631-ab20dbdb3e14\" style=\"height: 525px; width: 100%;\" class=\"plotly-graph-div\"></div><script type=\"text/javascript\">require([\"plotly\"], function(Plotly) { window.PLOTLYENV=window.PLOTLYENV || {};window.PLOTLYENV.BASE_URL=\"https://plot.ly\";Plotly.newPlot(\"0a1fda1e-34b1-4b39-b631-ab20dbdb3e14\", [{\"y\": [-0.005715370178222649, -0.006244611740112288, 0.04633693695068358, 0.03358583450317376, -0.057797908782958984, -0.11682953834533705, 0.3525420665740966, 0.28290424346923837, 0.047216606140136896, -0.10586733818054217, 0.6078582286834706, 1.547566461563111, 1.1885872364044197, 0.8347980976104736, 0.93044466972351, 3.4361073017120383, 4.821496486663818, 6.1474831104278564, 5.16890368461609, 4.965927982330321, 7.136873340606684, 10.589163017272945, 8.466645765304563, 13.1840573310852, 16.137161350250253, 17.147846889495852, 14.020188236236564, 13.296888494491583, 14.369543457031256, 17.626467752456676, 26.743199872970592, 30.01115584373474, 34.94219059944152, 12.127890467643738, 12.164046347141266], \"x\": [1, 2, 3, 4, 5, 6, 7, 8, 9, 10, 11, 12, 13, 14, 15, 16, 17, 18, 19, 20, 21, 22, 23, 24, 25, 26, 27, 28, 29, 30, 31, 32, 33, 34, 35], \"type\": \"scatter\"}], {}, {\"linkText\": \"Export to plot.ly\", \"showLink\": true})});</script>"
      ],
      "text/vnd.plotly.v1+html": [
       "<div id=\"0a1fda1e-34b1-4b39-b631-ab20dbdb3e14\" style=\"height: 525px; width: 100%;\" class=\"plotly-graph-div\"></div><script type=\"text/javascript\">require([\"plotly\"], function(Plotly) { window.PLOTLYENV=window.PLOTLYENV || {};window.PLOTLYENV.BASE_URL=\"https://plot.ly\";Plotly.newPlot(\"0a1fda1e-34b1-4b39-b631-ab20dbdb3e14\", [{\"y\": [-0.005715370178222649, -0.006244611740112288, 0.04633693695068358, 0.03358583450317376, -0.057797908782958984, -0.11682953834533705, 0.3525420665740966, 0.28290424346923837, 0.047216606140136896, -0.10586733818054217, 0.6078582286834706, 1.547566461563111, 1.1885872364044197, 0.8347980976104736, 0.93044466972351, 3.4361073017120383, 4.821496486663818, 6.1474831104278564, 5.16890368461609, 4.965927982330321, 7.136873340606684, 10.589163017272945, 8.466645765304563, 13.1840573310852, 16.137161350250253, 17.147846889495852, 14.020188236236564, 13.296888494491583, 14.369543457031256, 17.626467752456676, 26.743199872970592, 30.01115584373474, 34.94219059944152, 12.127890467643738, 12.164046347141266], \"x\": [1, 2, 3, 4, 5, 6, 7, 8, 9, 10, 11, 12, 13, 14, 15, 16, 17, 18, 19, 20, 21, 22, 23, 24, 25, 26, 27, 28, 29, 30, 31, 32, 33, 34, 35], \"type\": \"scatter\"}], {}, {\"linkText\": \"Export to plot.ly\", \"showLink\": true})});</script>"
      ]
     },
     "metadata": {},
     "output_type": "display_data"
    }
   ],
   "source": [
    "iplot([data3])"
   ]
  },
  {
   "cell_type": "code",
   "execution_count": 10,
   "metadata": {
    "collapsed": true
   },
   "outputs": [],
   "source": [
    "dt = (np.array(df_0.time)-np.array(df_2.time))"
   ]
  },
  {
   "cell_type": "code",
   "execution_count": 11,
   "metadata": {
    "collapsed": true
   },
   "outputs": [],
   "source": [
    "window_size = 5\n",
    "dt_smooth = []"
   ]
  },
  {
   "cell_type": "code",
   "execution_count": 12,
   "metadata": {
    "collapsed": true
   },
   "outputs": [],
   "source": [
    "for i in range(len(dt) - window_size):\n",
    "    dt_smooth.append(dt[i:i+5].mean())"
   ]
  },
  {
   "cell_type": "code",
   "execution_count": 13,
   "metadata": {
    "collapsed": true
   },
   "outputs": [],
   "source": [
    "data4 = Scatter(x=np.array(range(len(dt_smooth))), y=dt_smooth)"
   ]
  },
  {
   "cell_type": "code",
   "execution_count": 14,
   "metadata": {},
   "outputs": [
    {
     "data": {
      "application/vnd.plotly.v1+json": {
       "data": [
        {
         "type": "scatter",
         "x": [
          0,
          1,
          2,
          3,
          4,
          5,
          6,
          7,
          8,
          9,
          10,
          11,
          12,
          13,
          14,
          15,
          16,
          17,
          18,
          19,
          20,
          21,
          22,
          23,
          24,
          25,
          26,
          27,
          28,
          29
         ],
         "y": [
          0.002032976150512683,
          -0.020189857482910196,
          0.05156747817993158,
          0.09888093948364254,
          0.10160709381103517,
          0.09199320793151852,
          0.23693076133728005,
          0.47593564033508295,
          0.6570722389221192,
          0.8145885372161865,
          1.021850938796997,
          1.5875007534027106,
          2.242286758422852,
          3.2340659332275394,
          4.100887050628662,
          4.907983713150025,
          5.648136920928954,
          6.80167022705078,
          7.265502758026121,
          8.868533487319942,
          11.10278016090393,
          13.104974870681763,
          13.791179914474487,
          14.75722846031189,
          14.994325685501101,
          15.292186965942387,
          17.211257562637336,
          20.40945108413697,
          24.738511505126958,
          24.290180907249454
         ]
        }
       ],
       "layout": {}
      },
      "text/html": [
       "<div id=\"50bd2cf0-7f90-4afd-a23a-7a6fda25ccb5\" style=\"height: 525px; width: 100%;\" class=\"plotly-graph-div\"></div><script type=\"text/javascript\">require([\"plotly\"], function(Plotly) { window.PLOTLYENV=window.PLOTLYENV || {};window.PLOTLYENV.BASE_URL=\"https://plot.ly\";Plotly.newPlot(\"50bd2cf0-7f90-4afd-a23a-7a6fda25ccb5\", [{\"y\": [0.002032976150512683, -0.020189857482910196, 0.05156747817993158, 0.09888093948364254, 0.10160709381103517, 0.09199320793151852, 0.23693076133728005, 0.47593564033508295, 0.6570722389221192, 0.8145885372161865, 1.021850938796997, 1.5875007534027106, 2.242286758422852, 3.2340659332275394, 4.100887050628662, 4.907983713150025, 5.648136920928954, 6.80167022705078, 7.265502758026121, 8.868533487319942, 11.10278016090393, 13.104974870681763, 13.791179914474487, 14.75722846031189, 14.994325685501101, 15.292186965942387, 17.211257562637336, 20.40945108413697, 24.738511505126958, 24.290180907249454], \"x\": [0, 1, 2, 3, 4, 5, 6, 7, 8, 9, 10, 11, 12, 13, 14, 15, 16, 17, 18, 19, 20, 21, 22, 23, 24, 25, 26, 27, 28, 29], \"type\": \"scatter\"}], {}, {\"linkText\": \"Export to plot.ly\", \"showLink\": true})});</script>"
      ],
      "text/vnd.plotly.v1+html": [
       "<div id=\"50bd2cf0-7f90-4afd-a23a-7a6fda25ccb5\" style=\"height: 525px; width: 100%;\" class=\"plotly-graph-div\"></div><script type=\"text/javascript\">require([\"plotly\"], function(Plotly) { window.PLOTLYENV=window.PLOTLYENV || {};window.PLOTLYENV.BASE_URL=\"https://plot.ly\";Plotly.newPlot(\"50bd2cf0-7f90-4afd-a23a-7a6fda25ccb5\", [{\"y\": [0.002032976150512683, -0.020189857482910196, 0.05156747817993158, 0.09888093948364254, 0.10160709381103517, 0.09199320793151852, 0.23693076133728005, 0.47593564033508295, 0.6570722389221192, 0.8145885372161865, 1.021850938796997, 1.5875007534027106, 2.242286758422852, 3.2340659332275394, 4.100887050628662, 4.907983713150025, 5.648136920928954, 6.80167022705078, 7.265502758026121, 8.868533487319942, 11.10278016090393, 13.104974870681763, 13.791179914474487, 14.75722846031189, 14.994325685501101, 15.292186965942387, 17.211257562637336, 20.40945108413697, 24.738511505126958, 24.290180907249454], \"x\": [0, 1, 2, 3, 4, 5, 6, 7, 8, 9, 10, 11, 12, 13, 14, 15, 16, 17, 18, 19, 20, 21, 22, 23, 24, 25, 26, 27, 28, 29], \"type\": \"scatter\"}], {}, {\"linkText\": \"Export to plot.ly\", \"showLink\": true})});</script>"
      ]
     },
     "metadata": {},
     "output_type": "display_data"
    }
   ],
   "source": [
    "iplot([data4])"
   ]
  },
  {
   "cell_type": "code",
   "execution_count": 15,
   "metadata": {
    "collapsed": true
   },
   "outputs": [],
   "source": [
    "df05 = df[(df[\"n_relations\"] == 5)].groupby(by=\"n_functions\").agg(np.mean)\n",
    "df10 = df[(df[\"n_relations\"] == 10)].groupby(by=\"n_functions\").agg(np.mean)\n",
    "df15 = df[(df[\"n_relations\"] == 15)].groupby(by=\"n_functions\").agg(np.mean)\n",
    "df20 = df[(df[\"n_relations\"] == 20)].groupby(by=\"n_functions\").agg(np.mean)\n",
    "df30 = df[(df[\"n_relations\"] == 30)].groupby(by=\"n_functions\").agg(np.mean)"
   ]
  },
  {
   "cell_type": "code",
   "execution_count": 16,
   "metadata": {},
   "outputs": [],
   "source": [
    "data05 = Scatter(x=df05.index, y=df05.time, name=\"With 5 Relations\")\n",
    "data10 = Scatter(x=df10.index, y=df10.time, name=\"With 10 Relations\")\n",
    "data15 = Scatter(x=df15.index, y=df15.time, name=\"With 15 Relations\")\n",
    "data20 = Scatter(x=df20.index, y=df20.time, name=\"With 20 Relations\")\n",
    "data30 = Scatter(x=df30.index, y=df30.time, name=\"With 30 Relations\")"
   ]
  },
  {
   "cell_type": "code",
   "execution_count": 38,
   "metadata": {},
   "outputs": [
    {
     "data": {
      "application/vnd.plotly.v1+json": {
       "data": [
        {
         "name": "With 5 Relations",
         "type": "scatter",
         "x": [
          1,
          2,
          3,
          4,
          5,
          6,
          7,
          8,
          9,
          10,
          11,
          12,
          13,
          14,
          15,
          16,
          17,
          18,
          19,
          20,
          21,
          22,
          23,
          24,
          25,
          26,
          27,
          28,
          29,
          30,
          31,
          32,
          33
         ],
         "y": [
          0.0787283182144165,
          0.1474021077156067,
          0.16275161504745483,
          0.26862841844558716,
          0.784540057182312,
          1.0337851643562317,
          1.3570978045463562,
          1.5600057244300842,
          1.8672918677330017,
          4.0016666650772095,
          6.712294340133667,
          10.554746568202972,
          11.55058479309082,
          19.03319215774536,
          32.67226845026016,
          40.387652814388275,
          43.56571680307388,
          46.18970286846161,
          70.20925688743591,
          71.64433914422989,
          97.12753182649612,
          116.9278165102005,
          121.13066917657852,
          131.4403503537178,
          170.75617599487305,
          173.16071915626526,
          239.60857969522476,
          267.20530730485916,
          310.1047500371933,
          333.5666506886482,
          345.5831108093262,
          371.1799765229225,
          471.1675375699997
         ]
        },
        {
         "name": "With 10 Relations",
         "type": "scatter",
         "x": [
          1,
          2,
          3,
          4,
          5,
          6,
          7,
          8,
          9,
          10,
          11,
          12,
          13,
          14,
          15,
          16,
          17,
          18,
          19,
          20,
          21,
          22,
          23,
          24,
          25,
          26,
          27,
          28,
          29,
          30,
          31,
          32,
          33,
          34,
          35
         ],
         "y": [
          0.02131664752960205,
          0.07879424095153809,
          0.308676540851593,
          1.0858057141304016,
          2.293843150138855,
          3.471211314201355,
          5.392191648483276,
          7.669201970100403,
          10.370426893234253,
          11.891778111457825,
          14.177637934684753,
          15.567643642425537,
          17.09507191181183,
          20.924085438251495,
          26.665271282196045,
          30.861705720424652,
          40.60625445842743,
          44.55066496133804,
          51.3085418343544,
          52.33345526456833,
          59.96065580844879,
          62.67509335279465,
          74.6079449057579,
          92.31239348649979,
          96.36652219295502,
          106.3497679233551,
          115.12521696090698,
          118.80012202262878,
          127.90515315532684,
          133.4279134273529,
          157.26622146368027,
          158.6737521290779,
          162.39601826667786,
          182.21563720703125,
          222.3368628025055
         ]
        },
        {
         "name": "With 15 Relations",
         "type": "scatter",
         "x": [
          1,
          2,
          3,
          4,
          5,
          6,
          7,
          8,
          9,
          10,
          11,
          12,
          13,
          14,
          15,
          16,
          17,
          18,
          19,
          20,
          21,
          22,
          23,
          24,
          25,
          26,
          27,
          28,
          29,
          30,
          31,
          32,
          33,
          34,
          35
         ],
         "y": [
          0.1632179617881775,
          0.4454212188720703,
          1.0013094544410706,
          1.0381700992584229,
          1.3171842694282532,
          1.5893566012382507,
          2.1879672408103943,
          3.4874612092971797,
          6.391523778438568,
          6.729567110538483,
          6.872047543525696,
          6.956945240497589,
          12.08371090888977,
          14.040094316005707,
          14.622788608074188,
          15.406437337398529,
          21.19628483057022,
          29.00899839401245,
          34.44702285528183,
          36.806761503219604,
          37.88812094926834,
          38.24301552772522,
          44.91158217191696,
          48.21170616149902,
          60.31049048900604,
          71.33093392848969,
          77.10017895698547,
          77.61754244565964,
          94.79357850551605,
          108.37910342216492,
          109.29705274105072,
          112.17119473218918,
          117.36771702766418,
          125.1444981098175,
          139.58011496067047
         ]
        },
        {
         "name": "With 20 Relations",
         "type": "scatter",
         "x": [
          1,
          2,
          3,
          4,
          5,
          6,
          7,
          8,
          9,
          10,
          11,
          12,
          13,
          14,
          15,
          16,
          17,
          18,
          19,
          20,
          21,
          22,
          23,
          24,
          25,
          26,
          27,
          28,
          29,
          30,
          31,
          32,
          33,
          34,
          35
         ],
         "y": [
          0.019561767578125,
          0.12992024421691895,
          0.4315785765647888,
          0.5188602805137634,
          1.3485085368156433,
          2.0620325803756714,
          3.529064655303955,
          3.7055370807647705,
          4.451074242591858,
          5.236235678195953,
          6.264741897583008,
          7.222723543643952,
          7.474510073661804,
          8.361064732074738,
          10.35240888595581,
          10.341808199882507,
          12.047204434871674,
          14.138188421726227,
          14.401257753372192,
          15.116816639900208,
          19.720605432987213,
          22.86544770002365,
          25.729140281677246,
          26.692271947860718,
          29.720540463924408,
          31.78811550140381,
          34.417547166347504,
          38.006758153438575,
          40.63125282526016,
          46.21602147817612,
          49.49856650829315,
          59.86867421865463,
          65.9281912446022,
          72.48165208101273,
          76.45242512226105
         ]
        },
        {
         "name": "With 30 Relations",
         "type": "scatter",
         "x": [
          1,
          2,
          3,
          4,
          5,
          6,
          7,
          8,
          9,
          10,
          11,
          12,
          13,
          14,
          15,
          16,
          17,
          18,
          19,
          20,
          21,
          22,
          23,
          24,
          25,
          26,
          27,
          28,
          29,
          30,
          31,
          32,
          33,
          34,
          35
         ],
         "y": [
          0.02779233455657959,
          0.059789955615997314,
          0.2025158405303955,
          0.3646419048309326,
          0.3991742730140686,
          0.6042433977127075,
          0.9883016347885132,
          1.5327389240264893,
          1.5690391063690186,
          2.87195086479187,
          5.346786975860596,
          5.4874648451805115,
          6.3744553327560425,
          7.310974180698395,
          9.047897338867188,
          9.321366667747498,
          9.488609433174133,
          9.600861132144928,
          9.968939125537872,
          13.194806694984436,
          18.066638588905334,
          19.570260524749756,
          25.242735981941223,
          26.298134326934814,
          30.0807883143425,
          38.0000484585762,
          43.64361637830734,
          46.97757601737976,
          51.379887104034424,
          51.064947724342346,
          51.21139633655548,
          52.113685607910156,
          57.911529421806335,
          65.65277898311615,
          65.25485062599182
         ]
        }
       ],
       "layout": {
        "font": {
         "family": "Latin Modern Math",
         "size": 18
        },
        "legend": {
         "x": 0,
         "y": 1
        },
        "xaxis": {
         "autorange": true,
         "autotick": true,
         "showgrid": false,
         "showline": false,
         "showticklabels": true,
         "ticks": "",
         "title": "Number of Functions",
         "zeroline": true
        },
        "yaxis": {
         "autorange": true,
         "autotick": true,
         "showgrid": false,
         "showline": true,
         "showticklabels": true,
         "ticks": "",
         "title": "Time of Computation (in s)",
         "zeroline": true
        }
       }
      },
      "text/html": [
       "<div id=\"3546720c-31f3-4235-8adc-45a0a6994d6e\" style=\"height: 525px; width: 100%;\" class=\"plotly-graph-div\"></div><script type=\"text/javascript\">require([\"plotly\"], function(Plotly) { window.PLOTLYENV=window.PLOTLYENV || {};window.PLOTLYENV.BASE_URL=\"https://plot.ly\";Plotly.newPlot(\"3546720c-31f3-4235-8adc-45a0a6994d6e\", [{\"y\": [0.0787283182144165, 0.1474021077156067, 0.16275161504745483, 0.26862841844558716, 0.784540057182312, 1.0337851643562317, 1.3570978045463562, 1.5600057244300842, 1.8672918677330017, 4.0016666650772095, 6.712294340133667, 10.554746568202972, 11.55058479309082, 19.03319215774536, 32.67226845026016, 40.387652814388275, 43.56571680307388, 46.18970286846161, 70.20925688743591, 71.64433914422989, 97.12753182649612, 116.9278165102005, 121.13066917657852, 131.4403503537178, 170.75617599487305, 173.16071915626526, 239.60857969522476, 267.20530730485916, 310.1047500371933, 333.5666506886482, 345.5831108093262, 371.1799765229225, 471.1675375699997], \"x\": [1, 2, 3, 4, 5, 6, 7, 8, 9, 10, 11, 12, 13, 14, 15, 16, 17, 18, 19, 20, 21, 22, 23, 24, 25, 26, 27, 28, 29, 30, 31, 32, 33], \"type\": \"scatter\", \"name\": \"With 5 Relations\"}, {\"y\": [0.02131664752960205, 0.07879424095153809, 0.308676540851593, 1.0858057141304016, 2.293843150138855, 3.471211314201355, 5.392191648483276, 7.669201970100403, 10.370426893234253, 11.891778111457825, 14.177637934684753, 15.567643642425537, 17.09507191181183, 20.924085438251495, 26.665271282196045, 30.861705720424652, 40.60625445842743, 44.55066496133804, 51.3085418343544, 52.33345526456833, 59.96065580844879, 62.67509335279465, 74.6079449057579, 92.31239348649979, 96.36652219295502, 106.3497679233551, 115.12521696090698, 118.80012202262878, 127.90515315532684, 133.4279134273529, 157.26622146368027, 158.6737521290779, 162.39601826667786, 182.21563720703125, 222.3368628025055], \"x\": [1, 2, 3, 4, 5, 6, 7, 8, 9, 10, 11, 12, 13, 14, 15, 16, 17, 18, 19, 20, 21, 22, 23, 24, 25, 26, 27, 28, 29, 30, 31, 32, 33, 34, 35], \"type\": \"scatter\", \"name\": \"With 10 Relations\"}, {\"y\": [0.1632179617881775, 0.4454212188720703, 1.0013094544410706, 1.0381700992584229, 1.3171842694282532, 1.5893566012382507, 2.1879672408103943, 3.4874612092971797, 6.391523778438568, 6.729567110538483, 6.872047543525696, 6.956945240497589, 12.08371090888977, 14.040094316005707, 14.622788608074188, 15.406437337398529, 21.19628483057022, 29.00899839401245, 34.44702285528183, 36.806761503219604, 37.88812094926834, 38.24301552772522, 44.91158217191696, 48.21170616149902, 60.31049048900604, 71.33093392848969, 77.10017895698547, 77.61754244565964, 94.79357850551605, 108.37910342216492, 109.29705274105072, 112.17119473218918, 117.36771702766418, 125.1444981098175, 139.58011496067047], \"x\": [1, 2, 3, 4, 5, 6, 7, 8, 9, 10, 11, 12, 13, 14, 15, 16, 17, 18, 19, 20, 21, 22, 23, 24, 25, 26, 27, 28, 29, 30, 31, 32, 33, 34, 35], \"type\": \"scatter\", \"name\": \"With 15 Relations\"}, {\"y\": [0.019561767578125, 0.12992024421691895, 0.4315785765647888, 0.5188602805137634, 1.3485085368156433, 2.0620325803756714, 3.529064655303955, 3.7055370807647705, 4.451074242591858, 5.236235678195953, 6.264741897583008, 7.222723543643952, 7.474510073661804, 8.361064732074738, 10.35240888595581, 10.341808199882507, 12.047204434871674, 14.138188421726227, 14.401257753372192, 15.116816639900208, 19.720605432987213, 22.86544770002365, 25.729140281677246, 26.692271947860718, 29.720540463924408, 31.78811550140381, 34.417547166347504, 38.006758153438575, 40.63125282526016, 46.21602147817612, 49.49856650829315, 59.86867421865463, 65.9281912446022, 72.48165208101273, 76.45242512226105], \"x\": [1, 2, 3, 4, 5, 6, 7, 8, 9, 10, 11, 12, 13, 14, 15, 16, 17, 18, 19, 20, 21, 22, 23, 24, 25, 26, 27, 28, 29, 30, 31, 32, 33, 34, 35], \"type\": \"scatter\", \"name\": \"With 20 Relations\"}, {\"y\": [0.02779233455657959, 0.059789955615997314, 0.2025158405303955, 0.3646419048309326, 0.3991742730140686, 0.6042433977127075, 0.9883016347885132, 1.5327389240264893, 1.5690391063690186, 2.87195086479187, 5.346786975860596, 5.4874648451805115, 6.3744553327560425, 7.310974180698395, 9.047897338867188, 9.321366667747498, 9.488609433174133, 9.600861132144928, 9.968939125537872, 13.194806694984436, 18.066638588905334, 19.570260524749756, 25.242735981941223, 26.298134326934814, 30.0807883143425, 38.0000484585762, 43.64361637830734, 46.97757601737976, 51.379887104034424, 51.064947724342346, 51.21139633655548, 52.113685607910156, 57.911529421806335, 65.65277898311615, 65.25485062599182], \"x\": [1, 2, 3, 4, 5, 6, 7, 8, 9, 10, 11, 12, 13, 14, 15, 16, 17, 18, 19, 20, 21, 22, 23, 24, 25, 26, 27, 28, 29, 30, 31, 32, 33, 34, 35], \"type\": \"scatter\", \"name\": \"With 30 Relations\"}], {\"font\": {\"family\": \"Latin Modern Math\", \"size\": 18}, \"legend\": {\"y\": 1, \"x\": 0}, \"xaxis\": {\"showticklabels\": true, \"title\": \"Number of Functions\", \"ticks\": \"\", \"showgrid\": false, \"zeroline\": true, \"showline\": false, \"autotick\": true, \"autorange\": true}, \"yaxis\": {\"showticklabels\": true, \"title\": \"Time of Computation (in s)\", \"ticks\": \"\", \"showgrid\": false, \"zeroline\": true, \"showline\": true, \"autotick\": true, \"autorange\": true}}, {\"linkText\": \"Export to plot.ly\", \"showLink\": true})});</script>"
      ],
      "text/vnd.plotly.v1+html": [
       "<div id=\"3546720c-31f3-4235-8adc-45a0a6994d6e\" style=\"height: 525px; width: 100%;\" class=\"plotly-graph-div\"></div><script type=\"text/javascript\">require([\"plotly\"], function(Plotly) { window.PLOTLYENV=window.PLOTLYENV || {};window.PLOTLYENV.BASE_URL=\"https://plot.ly\";Plotly.newPlot(\"3546720c-31f3-4235-8adc-45a0a6994d6e\", [{\"y\": [0.0787283182144165, 0.1474021077156067, 0.16275161504745483, 0.26862841844558716, 0.784540057182312, 1.0337851643562317, 1.3570978045463562, 1.5600057244300842, 1.8672918677330017, 4.0016666650772095, 6.712294340133667, 10.554746568202972, 11.55058479309082, 19.03319215774536, 32.67226845026016, 40.387652814388275, 43.56571680307388, 46.18970286846161, 70.20925688743591, 71.64433914422989, 97.12753182649612, 116.9278165102005, 121.13066917657852, 131.4403503537178, 170.75617599487305, 173.16071915626526, 239.60857969522476, 267.20530730485916, 310.1047500371933, 333.5666506886482, 345.5831108093262, 371.1799765229225, 471.1675375699997], \"x\": [1, 2, 3, 4, 5, 6, 7, 8, 9, 10, 11, 12, 13, 14, 15, 16, 17, 18, 19, 20, 21, 22, 23, 24, 25, 26, 27, 28, 29, 30, 31, 32, 33], \"type\": \"scatter\", \"name\": \"With 5 Relations\"}, {\"y\": [0.02131664752960205, 0.07879424095153809, 0.308676540851593, 1.0858057141304016, 2.293843150138855, 3.471211314201355, 5.392191648483276, 7.669201970100403, 10.370426893234253, 11.891778111457825, 14.177637934684753, 15.567643642425537, 17.09507191181183, 20.924085438251495, 26.665271282196045, 30.861705720424652, 40.60625445842743, 44.55066496133804, 51.3085418343544, 52.33345526456833, 59.96065580844879, 62.67509335279465, 74.6079449057579, 92.31239348649979, 96.36652219295502, 106.3497679233551, 115.12521696090698, 118.80012202262878, 127.90515315532684, 133.4279134273529, 157.26622146368027, 158.6737521290779, 162.39601826667786, 182.21563720703125, 222.3368628025055], \"x\": [1, 2, 3, 4, 5, 6, 7, 8, 9, 10, 11, 12, 13, 14, 15, 16, 17, 18, 19, 20, 21, 22, 23, 24, 25, 26, 27, 28, 29, 30, 31, 32, 33, 34, 35], \"type\": \"scatter\", \"name\": \"With 10 Relations\"}, {\"y\": [0.1632179617881775, 0.4454212188720703, 1.0013094544410706, 1.0381700992584229, 1.3171842694282532, 1.5893566012382507, 2.1879672408103943, 3.4874612092971797, 6.391523778438568, 6.729567110538483, 6.872047543525696, 6.956945240497589, 12.08371090888977, 14.040094316005707, 14.622788608074188, 15.406437337398529, 21.19628483057022, 29.00899839401245, 34.44702285528183, 36.806761503219604, 37.88812094926834, 38.24301552772522, 44.91158217191696, 48.21170616149902, 60.31049048900604, 71.33093392848969, 77.10017895698547, 77.61754244565964, 94.79357850551605, 108.37910342216492, 109.29705274105072, 112.17119473218918, 117.36771702766418, 125.1444981098175, 139.58011496067047], \"x\": [1, 2, 3, 4, 5, 6, 7, 8, 9, 10, 11, 12, 13, 14, 15, 16, 17, 18, 19, 20, 21, 22, 23, 24, 25, 26, 27, 28, 29, 30, 31, 32, 33, 34, 35], \"type\": \"scatter\", \"name\": \"With 15 Relations\"}, {\"y\": [0.019561767578125, 0.12992024421691895, 0.4315785765647888, 0.5188602805137634, 1.3485085368156433, 2.0620325803756714, 3.529064655303955, 3.7055370807647705, 4.451074242591858, 5.236235678195953, 6.264741897583008, 7.222723543643952, 7.474510073661804, 8.361064732074738, 10.35240888595581, 10.341808199882507, 12.047204434871674, 14.138188421726227, 14.401257753372192, 15.116816639900208, 19.720605432987213, 22.86544770002365, 25.729140281677246, 26.692271947860718, 29.720540463924408, 31.78811550140381, 34.417547166347504, 38.006758153438575, 40.63125282526016, 46.21602147817612, 49.49856650829315, 59.86867421865463, 65.9281912446022, 72.48165208101273, 76.45242512226105], \"x\": [1, 2, 3, 4, 5, 6, 7, 8, 9, 10, 11, 12, 13, 14, 15, 16, 17, 18, 19, 20, 21, 22, 23, 24, 25, 26, 27, 28, 29, 30, 31, 32, 33, 34, 35], \"type\": \"scatter\", \"name\": \"With 20 Relations\"}, {\"y\": [0.02779233455657959, 0.059789955615997314, 0.2025158405303955, 0.3646419048309326, 0.3991742730140686, 0.6042433977127075, 0.9883016347885132, 1.5327389240264893, 1.5690391063690186, 2.87195086479187, 5.346786975860596, 5.4874648451805115, 6.3744553327560425, 7.310974180698395, 9.047897338867188, 9.321366667747498, 9.488609433174133, 9.600861132144928, 9.968939125537872, 13.194806694984436, 18.066638588905334, 19.570260524749756, 25.242735981941223, 26.298134326934814, 30.0807883143425, 38.0000484585762, 43.64361637830734, 46.97757601737976, 51.379887104034424, 51.064947724342346, 51.21139633655548, 52.113685607910156, 57.911529421806335, 65.65277898311615, 65.25485062599182], \"x\": [1, 2, 3, 4, 5, 6, 7, 8, 9, 10, 11, 12, 13, 14, 15, 16, 17, 18, 19, 20, 21, 22, 23, 24, 25, 26, 27, 28, 29, 30, 31, 32, 33, 34, 35], \"type\": \"scatter\", \"name\": \"With 30 Relations\"}], {\"font\": {\"family\": \"Latin Modern Math\", \"size\": 18}, \"legend\": {\"y\": 1, \"x\": 0}, \"xaxis\": {\"showticklabels\": true, \"title\": \"Number of Functions\", \"ticks\": \"\", \"showgrid\": false, \"zeroline\": true, \"showline\": false, \"autotick\": true, \"autorange\": true}, \"yaxis\": {\"showticklabels\": true, \"title\": \"Time of Computation (in s)\", \"ticks\": \"\", \"showgrid\": false, \"zeroline\": true, \"showline\": true, \"autotick\": true, \"autorange\": true}}, {\"linkText\": \"Export to plot.ly\", \"showLink\": true})});</script>"
      ]
     },
     "metadata": {},
     "output_type": "display_data"
    }
   ],
   "source": [
    "layout = Layout(\n",
    "    # title='Comparisation Performance With the Total Number of Relations',\n",
    "    font=dict(family='Latin Modern Math', size=6*3),\n",
    "    xaxis=dict(\n",
    "        title='Number of Functions',\n",
    "        autorange=True,\n",
    "        showgrid=False,\n",
    "        zeroline=True,\n",
    "        showline=False,\n",
    "        autotick=True,\n",
    "        ticks='',\n",
    "        showticklabels=True\n",
    "    ),\n",
    "    yaxis=dict(\n",
    "        title='Time of Computation (in s)',\n",
    "        autorange=True,\n",
    "        showgrid=False,\n",
    "        zeroline=True,\n",
    "        showline=True,\n",
    "        autotick=True,\n",
    "        ticks='',\n",
    "        showticklabels=True\n",
    "    ),\n",
    "    legend=dict(x=0, y=1)\n",
    ")\n",
    "fig = Figure(data=[data05, data10, data15, data20, data30], layout=layout)\n",
    "iplot(fig)"
   ]
  },
  {
   "cell_type": "code",
   "execution_count": null,
   "metadata": {
    "collapsed": true
   },
   "outputs": [],
   "source": []
  }
 ],
 "metadata": {
  "kernelspec": {
   "display_name": "Python 2",
   "language": "python",
   "name": "python2"
  },
  "language_info": {
   "codemirror_mode": {
    "name": "ipython",
    "version": 2
   },
   "file_extension": ".py",
   "mimetype": "text/x-python",
   "name": "python",
   "nbconvert_exporter": "python",
   "pygments_lexer": "ipython2",
   "version": "2.7.12"
  }
 },
 "nbformat": 4,
 "nbformat_minor": 2
}
