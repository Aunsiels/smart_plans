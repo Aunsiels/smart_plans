{
 "cells": [
  {
   "cell_type": "code",
   "execution_count": 1,
   "metadata": {},
   "outputs": [
    {
     "data": {
      "text/html": [
       "<script>requirejs.config({paths: { 'plotly': ['https://cdn.plot.ly/plotly-latest.min']},});if(!window.Plotly) {{require(['plotly'],function(plotly) {window.Plotly=plotly;});}}</script>"
      ],
      "text/vnd.plotly.v1+html": [
       "<script>requirejs.config({paths: { 'plotly': ['https://cdn.plot.ly/plotly-latest.min']},});if(!window.Plotly) {{require(['plotly'],function(plotly) {window.Plotly=plotly;});}}</script>"
      ]
     },
     "metadata": {},
     "output_type": "display_data"
    }
   ],
   "source": [
    "import pandas as pd\n",
    "%matplotlib inline\n",
    "from plotly.offline import download_plotlyjs, init_notebook_mode, plot, iplot\n",
    "import plotly\n",
    "import numpy as np\n",
    "from plotly.graph_objs import Scatter, Figure, Layout, Histogram, Box\n",
    "init_notebook_mode(connected=True)"
   ]
  },
  {
   "cell_type": "code",
   "execution_count": 2,
   "metadata": {
    "collapsed": true
   },
   "outputs": [],
   "source": [
    "df = pd.read_csv(\"pali_vs_susie_all.csv\", header=None, names=[\"pali\", \"susie\", \"t_pali\", \"t_susie\",\n",
    "                                                          \"n_relations\", \"size_max_function\", \"n_functions\"])"
   ]
  },
  {
   "cell_type": "code",
   "execution_count": 3,
   "metadata": {
    "collapsed": true
   },
   "outputs": [],
   "source": [
    "df[\"pali\"] = ~df[\"pali\"]\n",
    "df[\"susie\"] = ~df[\"susie\"]"
   ]
  },
  {
   "cell_type": "code",
   "execution_count": 4,
   "metadata": {},
   "outputs": [
    {
     "data": {
      "text/html": [
       "<div>\n",
       "<table border=\"1\" class=\"dataframe\">\n",
       "  <thead>\n",
       "    <tr style=\"text-align: right;\">\n",
       "      <th></th>\n",
       "      <th>pali</th>\n",
       "      <th>susie</th>\n",
       "      <th>t_pali</th>\n",
       "      <th>t_susie</th>\n",
       "      <th>n_relations</th>\n",
       "      <th>size_max_function</th>\n",
       "      <th>n_functions</th>\n",
       "    </tr>\n",
       "  </thead>\n",
       "  <tbody>\n",
       "    <tr>\n",
       "      <th>0</th>\n",
       "      <td>True</td>\n",
       "      <td>False</td>\n",
       "      <td>0.177095</td>\n",
       "      <td>0.013366</td>\n",
       "      <td>2</td>\n",
       "      <td>3</td>\n",
       "      <td>30</td>\n",
       "    </tr>\n",
       "    <tr>\n",
       "      <th>1</th>\n",
       "      <td>False</td>\n",
       "      <td>False</td>\n",
       "      <td>0.170848</td>\n",
       "      <td>0.003454</td>\n",
       "      <td>2</td>\n",
       "      <td>3</td>\n",
       "      <td>30</td>\n",
       "    </tr>\n",
       "    <tr>\n",
       "      <th>2</th>\n",
       "      <td>True</td>\n",
       "      <td>True</td>\n",
       "      <td>0.184365</td>\n",
       "      <td>0.006765</td>\n",
       "      <td>2</td>\n",
       "      <td>3</td>\n",
       "      <td>30</td>\n",
       "    </tr>\n",
       "    <tr>\n",
       "      <th>3</th>\n",
       "      <td>False</td>\n",
       "      <td>False</td>\n",
       "      <td>0.239455</td>\n",
       "      <td>0.005627</td>\n",
       "      <td>2</td>\n",
       "      <td>3</td>\n",
       "      <td>30</td>\n",
       "    </tr>\n",
       "    <tr>\n",
       "      <th>4</th>\n",
       "      <td>True</td>\n",
       "      <td>True</td>\n",
       "      <td>0.171328</td>\n",
       "      <td>0.007712</td>\n",
       "      <td>2</td>\n",
       "      <td>3</td>\n",
       "      <td>30</td>\n",
       "    </tr>\n",
       "  </tbody>\n",
       "</table>\n",
       "</div>"
      ],
      "text/plain": [
       "    pali  susie    t_pali   t_susie  n_relations  size_max_function  \\\n",
       "0   True  False  0.177095  0.013366            2                  3   \n",
       "1  False  False  0.170848  0.003454            2                  3   \n",
       "2   True   True  0.184365  0.006765            2                  3   \n",
       "3  False  False  0.239455  0.005627            2                  3   \n",
       "4   True   True  0.171328  0.007712            2                  3   \n",
       "\n",
       "   n_functions  \n",
       "0           30  \n",
       "1           30  \n",
       "2           30  \n",
       "3           30  \n",
       "4           30  "
      ]
     },
     "execution_count": 4,
     "metadata": {},
     "output_type": "execute_result"
    }
   ],
   "source": [
    "df.head()"
   ]
  },
  {
   "cell_type": "code",
   "execution_count": 5,
   "metadata": {},
   "outputs": [
    {
     "data": {
      "text/html": [
       "<div>\n",
       "<table border=\"1\" class=\"dataframe\">\n",
       "  <thead>\n",
       "    <tr style=\"text-align: right;\">\n",
       "      <th></th>\n",
       "      <th>pali</th>\n",
       "      <th>susie</th>\n",
       "    </tr>\n",
       "  </thead>\n",
       "  <tbody>\n",
       "    <tr>\n",
       "      <th>count</th>\n",
       "      <td>3306</td>\n",
       "      <td>3306</td>\n",
       "    </tr>\n",
       "    <tr>\n",
       "      <th>unique</th>\n",
       "      <td>2</td>\n",
       "      <td>2</td>\n",
       "    </tr>\n",
       "    <tr>\n",
       "      <th>top</th>\n",
       "      <td>False</td>\n",
       "      <td>False</td>\n",
       "    </tr>\n",
       "    <tr>\n",
       "      <th>freq</th>\n",
       "      <td>2635</td>\n",
       "      <td>3074</td>\n",
       "    </tr>\n",
       "  </tbody>\n",
       "</table>\n",
       "</div>"
      ],
      "text/plain": [
       "         pali  susie\n",
       "count    3306   3306\n",
       "unique      2      2\n",
       "top     False  False\n",
       "freq     2635   3074"
      ]
     },
     "execution_count": 5,
     "metadata": {},
     "output_type": "execute_result"
    }
   ],
   "source": [
    "df[[\"pali\", \"susie\"]].describe()"
   ]
  },
  {
   "cell_type": "code",
   "execution_count": 6,
   "metadata": {
    "collapsed": true
   },
   "outputs": [],
   "source": [
    "df_n_functions = df[df[\"n_relations\"] == 10]"
   ]
  },
  {
   "cell_type": "code",
   "execution_count": 7,
   "metadata": {
    "collapsed": true
   },
   "outputs": [],
   "source": [
    "df_grouped = df_n_functions[[\"pali\", \"susie\", \"n_functions\"]].groupby(by=\"n_functions\")"
   ]
  },
  {
   "cell_type": "code",
   "execution_count": 8,
   "metadata": {
    "collapsed": true
   },
   "outputs": [],
   "source": [
    "means = df_grouped.agg(\"mean\")"
   ]
  },
  {
   "cell_type": "code",
   "execution_count": 9,
   "metadata": {},
   "outputs": [
    {
     "data": {
      "text/plain": [
       "<matplotlib.axes._subplots.AxesSubplot at 0x7f2bf3daa710>"
      ]
     },
     "execution_count": 9,
     "metadata": {},
     "output_type": "execute_result"
    },
    {
     "data": {
      "image/png": "[encoded data removed]",
      "text/plain": [
       "<matplotlib.figure.Figure at 0x7f2bf3df4b50>"
      ]
     },
     "metadata": {},
     "output_type": "display_data"
    }
   ],
   "source": [
    "means.plot(kind=\"line\")"
   ]
  },
  {
   "cell_type": "code",
   "execution_count": 10,
   "metadata": {},
   "outputs": [
    {
     "data": {
      "text/plain": [
       "Int64Index([5, 10, 15, 20, 25, 30, 35, 40], dtype='int64', name=u'n_functions')"
      ]
     },
     "execution_count": 10,
     "metadata": {},
     "output_type": "execute_result"
    }
   ],
   "source": [
    "means.index"
   ]
  },
  {
   "cell_type": "code",
   "execution_count": 11,
   "metadata": {
    "collapsed": true
   },
   "outputs": [],
   "source": [
    "data = []\n",
    "data.append(Scatter(x=means.index, y=100*np.array(means[\"pali\"]), name=\"Pali\",\n",
    "                   line = dict(\n",
    "        color = ('rgb(0, 0, 0)'),\n",
    "        width = 4))) # dash options include 'dash', 'dot', and 'dashdot'))\n",
    "data.append(Scatter(x=means.index, y=100*np.array(means[\"susie\"]), name=\"Susie\",\n",
    "                   line = dict(\n",
    "        color = ('rgb(0, 0, 0)'),\n",
    "        width = 4,\n",
    "        dash = 'dot')))"
   ]
  },
  {
   "cell_type": "code",
   "execution_count": 12,
   "metadata": {},
   "outputs": [
    {
     "data": {
      "application/vnd.plotly.v1+json": {
       "data": [
        {
         "line": {
          "color": "rgb(0, 0, 0)",
          "width": 4
         },
         "name": "Pali",
         "type": "scatter",
         "x": [
          5,
          10,
          15,
          20,
          25,
          30,
          35,
          40
         ],
         "y": [
          2,
          4,
          6,
          15,
          19.5,
          21,
          32.5,
          37.735849056603776
         ]
        },
        {
         "line": {
          "color": "rgb(0, 0, 0)",
          "dash": "dot",
          "width": 4
         },
         "name": "Susie",
         "type": "scatter",
         "x": [
          5,
          10,
          15,
          20,
          25,
          30,
          35,
          40
         ],
         "y": [
          0,
          1,
          2.5,
          1.5,
          3.5000000000000004,
          4.25,
          7.5,
          14.150943396226415
         ]
        }
       ],
       "layout": {
        "font": {
         "family": "Latin Modern Math",
         "size": 18
        },
        "legend": {
         "x": 0,
         "y": 1
        },
        "xaxis": {
         "autorange": true,
         "autotick": true,
         "showgrid": false,
         "showline": false,
         "showticklabels": true,
         "ticks": "",
         "title": "Number of Functions",
         "zeroline": false
        },
        "yaxis": {
         "autorange": true,
         "autotick": true,
         "showgrid": false,
         "showline": true,
         "showticklabels": true,
         "ticks": "",
         "title": "Percentage of Answered Queries",
         "zeroline": true
        }
       }
      },
      "text/html": [
       "<div id=\"76e24bd8-c313-4ed5-9681-ac979794a073\" style=\"height: 525px; width: 100%;\" class=\"plotly-graph-div\"></div><script type=\"text/javascript\">require([\"plotly\"], function(Plotly) { window.PLOTLYENV=window.PLOTLYENV || {};window.PLOTLYENV.BASE_URL=\"https://plot.ly\";Plotly.newPlot(\"76e24bd8-c313-4ed5-9681-ac979794a073\", [{\"y\": [2.0, 4.0, 6.0, 15.0, 19.5, 21.0, 32.5, 37.735849056603776], \"x\": [5, 10, 15, 20, 25, 30, 35, 40], \"line\": {\"color\": \"rgb(0, 0, 0)\", \"width\": 4}, \"type\": \"scatter\", \"name\": \"Pali\"}, {\"y\": [0.0, 1.0, 2.5, 1.5, 3.5000000000000004, 4.25, 7.5, 14.150943396226415], \"x\": [5, 10, 15, 20, 25, 30, 35, 40], \"line\": {\"dash\": \"dot\", \"width\": 4, \"color\": \"rgb(0, 0, 0)\"}, \"type\": \"scatter\", \"name\": \"Susie\"}], {\"font\": {\"family\": \"Latin Modern Math\", \"size\": 18}, \"legend\": {\"y\": 1, \"x\": 0}, \"xaxis\": {\"showticklabels\": true, \"title\": \"Number of Functions\", \"ticks\": \"\", \"showgrid\": false, \"zeroline\": false, \"showline\": false, \"autotick\": true, \"autorange\": true}, \"yaxis\": {\"showticklabels\": true, \"title\": \"Percentage of Answered Queries\", \"ticks\": \"\", \"showgrid\": false, \"zeroline\": true, \"showline\": true, \"autotick\": true, \"autorange\": true}}, {\"linkText\": \"Export to plot.ly\", \"showLink\": true})});</script>"
      ],
      "text/vnd.plotly.v1+html": [
       "<div id=\"76e24bd8-c313-4ed5-9681-ac979794a073\" style=\"height: 525px; width: 100%;\" class=\"plotly-graph-div\"></div><script type=\"text/javascript\">require([\"plotly\"], function(Plotly) { window.PLOTLYENV=window.PLOTLYENV || {};window.PLOTLYENV.BASE_URL=\"https://plot.ly\";Plotly.newPlot(\"76e24bd8-c313-4ed5-9681-ac979794a073\", [{\"y\": [2.0, 4.0, 6.0, 15.0, 19.5, 21.0, 32.5, 37.735849056603776], \"x\": [5, 10, 15, 20, 25, 30, 35, 40], \"line\": {\"color\": \"rgb(0, 0, 0)\", \"width\": 4}, \"type\": \"scatter\", \"name\": \"Pali\"}, {\"y\": [0.0, 1.0, 2.5, 1.5, 3.5000000000000004, 4.25, 7.5, 14.150943396226415], \"x\": [5, 10, 15, 20, 25, 30, 35, 40], \"line\": {\"dash\": \"dot\", \"width\": 4, \"color\": \"rgb(0, 0, 0)\"}, \"type\": \"scatter\", \"name\": \"Susie\"}], {\"font\": {\"family\": \"Latin Modern Math\", \"size\": 18}, \"legend\": {\"y\": 1, \"x\": 0}, \"xaxis\": {\"showticklabels\": true, \"title\": \"Number of Functions\", \"ticks\": \"\", \"showgrid\": false, \"zeroline\": false, \"showline\": false, \"autotick\": true, \"autorange\": true}, \"yaxis\": {\"showticklabels\": true, \"title\": \"Percentage of Answered Queries\", \"ticks\": \"\", \"showgrid\": false, \"zeroline\": true, \"showline\": true, \"autotick\": true, \"autorange\": true}}, {\"linkText\": \"Export to plot.ly\", \"showLink\": true})});</script>"
      ]
     },
     "metadata": {},
     "output_type": "display_data"
    }
   ],
   "source": [
    "layout = Layout(\n",
    "  #  title='Comparisation Performance With Rule Order Optimization',\n",
    "    font=dict(family='Latin Modern Math', size=6*3),\n",
    "    xaxis=dict(\n",
    "        title='Number of Functions',\n",
    "        autorange=True,\n",
    "        showgrid=False,\n",
    "        zeroline=False,\n",
    "        showline=False,\n",
    "        autotick=True,\n",
    "        ticks='',\n",
    "        showticklabels=True\n",
    "    ),\n",
    "    yaxis=dict(\n",
    "        title='Percentage of Answered Queries',\n",
    "        autorange=True,\n",
    "        showgrid=False,\n",
    "        zeroline=True,\n",
    "        showline=True,\n",
    "        autotick=True,\n",
    "        ticks='',\n",
    "        showticklabels=True\n",
    "    ),\n",
    "    legend=dict(x=0, y=1)\n",
    ")\n",
    "fig = Figure(data=data, layout=layout)\n",
    "iplot(fig)"
   ]
  },
  {
   "cell_type": "code",
   "execution_count": 13,
   "metadata": {
    "collapsed": true
   },
   "outputs": [],
   "source": [
    "df_n_relations = df[df[\"n_functions\"] == 30]"
   ]
  },
  {
   "cell_type": "code",
   "execution_count": 14,
   "metadata": {
    "collapsed": true
   },
   "outputs": [],
   "source": [
    "df_grouped = df_n_relations[[\"pali\", \"susie\", \"n_relations\"]].groupby(by=\"n_relations\")"
   ]
  },
  {
   "cell_type": "code",
   "execution_count": 15,
   "metadata": {
    "collapsed": true
   },
   "outputs": [],
   "source": [
    "means = df_grouped.agg(\"mean\")"
   ]
  },
  {
   "cell_type": "code",
   "execution_count": 16,
   "metadata": {},
   "outputs": [
    {
     "data": {
      "text/plain": [
       "<matplotlib.axes._subplots.AxesSubplot at 0x7f2bf3cb26d0>"
      ]
     },
     "execution_count": 16,
     "metadata": {},
     "output_type": "execute_result"
    },
    {
     "data": {
      "image/png": "[encoded data removed]",
      "text/plain": [
       "<matplotlib.figure.Figure at 0x7f2bf3d10490>"
      ]
     },
     "metadata": {},
     "output_type": "display_data"
    }
   ],
   "source": [
    "means.plot(kind=\"line\")"
   ]
  },
  {
   "cell_type": "code",
   "execution_count": 17,
   "metadata": {
    "collapsed": true
   },
   "outputs": [],
   "source": [
    "data = []\n",
    "data.append(Scatter(x=means.index, y=100*np.array(means[\"pali\"]), name=\"Pali\",\n",
    "                   line = dict(\n",
    "        color = ('rgb(0, 0, 0)'),\n",
    "        width = 4))) # dash options include 'dash', 'dot', and 'dashdot'))\n",
    "data.append(Scatter(x=means.index, y=100*np.array(means[\"susie\"]), name=\"Susie\",\n",
    "                   line = dict(\n",
    "        color = ('rgb(0, 0, 0)'),\n",
    "        width = 4,\n",
    "        dash = 'dot')))"
   ]
  },
  {
   "cell_type": "code",
   "execution_count": 18,
   "metadata": {},
   "outputs": [
    {
     "data": {
      "application/vnd.plotly.v1+json": {
       "data": [
        {
         "line": {
          "color": "rgb(0, 0, 0)",
          "width": 4
         },
         "name": "Pali",
         "type": "scatter",
         "x": [
          2,
          4,
          6,
          8,
          10,
          12,
          14,
          16,
          18
         ],
         "y": [
          46.5,
          48.5,
          35,
          29.5,
          21,
          13.5,
          4.5,
          13.5,
          3.5000000000000004
         ]
        },
        {
         "line": {
          "color": "rgb(0, 0, 0)",
          "dash": "dot",
          "width": 4
         },
         "name": "Susie",
         "type": "scatter",
         "x": [
          2,
          4,
          6,
          8,
          10,
          12,
          14,
          16,
          18
         ],
         "y": [
          43.5,
          19,
          9,
          5.5,
          4.25,
          3.5000000000000004,
          1.5,
          2,
          0
         ]
        }
       ],
       "layout": {
        "font": {
         "family": "Latin Modern Math",
         "size": 18
        },
        "legend": {
         "x": 1,
         "y": 1
        },
        "xaxis": {
         "autorange": true,
         "autotick": true,
         "showgrid": false,
         "showline": false,
         "showticklabels": true,
         "ticks": "",
         "title": "Number of Relations",
         "zeroline": false
        },
        "yaxis": {
         "autorange": true,
         "autotick": true,
         "showgrid": false,
         "showline": true,
         "showticklabels": true,
         "ticks": "",
         "title": "Percentage of Answered Queries",
         "zeroline": true
        }
       }
      },
      "text/html": [
       "<div id=\"175ef0b2-292c-4be7-b869-d7b1c2533a18\" style=\"height: 525px; width: 100%;\" class=\"plotly-graph-div\"></div><script type=\"text/javascript\">require([\"plotly\"], function(Plotly) { window.PLOTLYENV=window.PLOTLYENV || {};window.PLOTLYENV.BASE_URL=\"https://plot.ly\";Plotly.newPlot(\"175ef0b2-292c-4be7-b869-d7b1c2533a18\", [{\"y\": [46.5, 48.5, 35.0, 29.5, 21.0, 13.5, 4.5, 13.5, 3.5000000000000004], \"x\": [2, 4, 6, 8, 10, 12, 14, 16, 18], \"line\": {\"color\": \"rgb(0, 0, 0)\", \"width\": 4}, \"type\": \"scatter\", \"name\": \"Pali\"}, {\"y\": [43.5, 19.0, 9.0, 5.5, 4.25, 3.5000000000000004, 1.5, 2.0, 0.0], \"x\": [2, 4, 6, 8, 10, 12, 14, 16, 18], \"line\": {\"dash\": \"dot\", \"width\": 4, \"color\": \"rgb(0, 0, 0)\"}, \"type\": \"scatter\", \"name\": \"Susie\"}], {\"font\": {\"family\": \"Latin Modern Math\", \"size\": 18}, \"legend\": {\"y\": 1, \"x\": 1}, \"xaxis\": {\"showticklabels\": true, \"title\": \"Number of Relations\", \"ticks\": \"\", \"showgrid\": false, \"zeroline\": false, \"showline\": false, \"autotick\": true, \"autorange\": true}, \"yaxis\": {\"showticklabels\": true, \"title\": \"Percentage of Answered Queries\", \"ticks\": \"\", \"showgrid\": false, \"zeroline\": true, \"showline\": true, \"autotick\": true, \"autorange\": true}}, {\"linkText\": \"Export to plot.ly\", \"showLink\": true})});</script>"
      ],
      "text/vnd.plotly.v1+html": [
       "<div id=\"175ef0b2-292c-4be7-b869-d7b1c2533a18\" style=\"height: 525px; width: 100%;\" class=\"plotly-graph-div\"></div><script type=\"text/javascript\">require([\"plotly\"], function(Plotly) { window.PLOTLYENV=window.PLOTLYENV || {};window.PLOTLYENV.BASE_URL=\"https://plot.ly\";Plotly.newPlot(\"175ef0b2-292c-4be7-b869-d7b1c2533a18\", [{\"y\": [46.5, 48.5, 35.0, 29.5, 21.0, 13.5, 4.5, 13.5, 3.5000000000000004], \"x\": [2, 4, 6, 8, 10, 12, 14, 16, 18], \"line\": {\"color\": \"rgb(0, 0, 0)\", \"width\": 4}, \"type\": \"scatter\", \"name\": \"Pali\"}, {\"y\": [43.5, 19.0, 9.0, 5.5, 4.25, 3.5000000000000004, 1.5, 2.0, 0.0], \"x\": [2, 4, 6, 8, 10, 12, 14, 16, 18], \"line\": {\"dash\": \"dot\", \"width\": 4, \"color\": \"rgb(0, 0, 0)\"}, \"type\": \"scatter\", \"name\": \"Susie\"}], {\"font\": {\"family\": \"Latin Modern Math\", \"size\": 18}, \"legend\": {\"y\": 1, \"x\": 1}, \"xaxis\": {\"showticklabels\": true, \"title\": \"Number of Relations\", \"ticks\": \"\", \"showgrid\": false, \"zeroline\": false, \"showline\": false, \"autotick\": true, \"autorange\": true}, \"yaxis\": {\"showticklabels\": true, \"title\": \"Percentage of Answered Queries\", \"ticks\": \"\", \"showgrid\": false, \"zeroline\": true, \"showline\": true, \"autotick\": true, \"autorange\": true}}, {\"linkText\": \"Export to plot.ly\", \"showLink\": true})});</script>"
      ]
     },
     "metadata": {},
     "output_type": "display_data"
    }
   ],
   "source": [
    "layout = Layout(\n",
    "  #  title='Comparisation Performance With Rule Order Optimization',\n",
    "    font=dict(family='Latin Modern Math', size=6*3),\n",
    "    xaxis=dict(\n",
    "        title='Number of Relations',\n",
    "        autorange=True,\n",
    "        showgrid=False,\n",
    "        zeroline=False,\n",
    "        showline=False,\n",
    "        autotick=True,\n",
    "        ticks='',\n",
    "        showticklabels=True\n",
    "    ),\n",
    "    yaxis=dict(\n",
    "        title='Percentage of Answered Queries',\n",
    "        autorange=True,\n",
    "        showgrid=False,\n",
    "        zeroline=True,\n",
    "        showline=True,\n",
    "        autotick=True,\n",
    "        ticks='',\n",
    "        showticklabels=True\n",
    "    ),\n",
    "    legend=dict(x=1, y=1)\n",
    ")\n",
    "fig = Figure(data=data, layout=layout)\n",
    "iplot(fig)"
   ]
  },
  {
   "cell_type": "code",
   "execution_count": null,
   "metadata": {
    "collapsed": true
   },
   "outputs": [],
   "source": []
  }
 ],
 "metadata": {
  "kernelspec": {
   "display_name": "Python 2",
   "language": "python",
   "name": "python2"
  },
  "language_info": {
   "codemirror_mode": {
    "name": "ipython",
    "version": 2
   },
   "file_extension": ".py",
   "mimetype": "text/x-python",
   "name": "python",
   "nbconvert_exporter": "python",
   "pygments_lexer": "ipython2",
   "version": "2.7.12"
  }
 },
 "nbformat": 4,
 "nbformat_minor": 2
}
