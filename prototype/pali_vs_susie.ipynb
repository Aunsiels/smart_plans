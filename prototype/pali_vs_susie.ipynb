{
 "cells": [
  {
   "cell_type": "code",
   "execution_count": 1,
   "metadata": {},
   "outputs": [
    {
     "data": {
      "text/html": [
       "<script>requirejs.config({paths: { 'plotly': ['https://cdn.plot.ly/plotly-latest.min']},});if(!window.Plotly) {{require(['plotly'],function(plotly) {window.Plotly=plotly;});}}</script>"
      ],
      "text/vnd.plotly.v1+html": [
       "<script>requirejs.config({paths: { 'plotly': ['https://cdn.plot.ly/plotly-latest.min']},});if(!window.Plotly) {{require(['plotly'],function(plotly) {window.Plotly=plotly;});}}</script>"
      ]
     },
     "metadata": {},
     "output_type": "display_data"
    }
   ],
   "source": [
    "import pandas as pd\n",
    "%matplotlib inline\n",
    "from plotly.offline import download_plotlyjs, init_notebook_mode, plot, iplot\n",
    "import plotly\n",
    "import numpy as np\n",
    "from plotly.graph_objs import Scatter, Figure, Layout, Histogram, Box\n",
    "init_notebook_mode(connected=True)"
   ]
  },
  {
   "cell_type": "code",
   "execution_count": 2,
   "metadata": {},
   "outputs": [],
   "source": [
    "df = pd.read_csv(\"pali_vs_susie.csv\", header=None, names=[\"pali\", \"susie\", \"t_pali\", \"t_susie\",\n",
    "                                                          \"n_relations\", \"size_max_function\", \"n_functions\"])"
   ]
  },
  {
   "cell_type": "code",
   "execution_count": 3,
   "metadata": {},
   "outputs": [],
   "source": [
    "df[\"pali\"] = ~df[\"pali\"]\n",
    "df[\"susie\"] = ~df[\"susie\"]"
   ]
  },
  {
   "cell_type": "code",
   "execution_count": 4,
   "metadata": {},
   "outputs": [
    {
     "data": {
      "text/html": [
       "<div>\n",
       "<style scoped>\n",
       "    .dataframe tbody tr th:only-of-type {\n",
       "        vertical-align: middle;\n",
       "    }\n",
       "\n",
       "    .dataframe tbody tr th {\n",
       "        vertical-align: top;\n",
       "    }\n",
       "\n",
       "    .dataframe thead th {\n",
       "        text-align: right;\n",
       "    }\n",
       "</style>\n",
       "<table border=\"1\" class=\"dataframe\">\n",
       "  <thead>\n",
       "    <tr style=\"text-align: right;\">\n",
       "      <th></th>\n",
       "      <th>pali</th>\n",
       "      <th>susie</th>\n",
       "      <th>t_pali</th>\n",
       "      <th>t_susie</th>\n",
       "      <th>n_relations</th>\n",
       "      <th>size_max_function</th>\n",
       "      <th>n_functions</th>\n",
       "    </tr>\n",
       "  </thead>\n",
       "  <tbody>\n",
       "    <tr>\n",
       "      <th>0</th>\n",
       "      <td>False</td>\n",
       "      <td>False</td>\n",
       "      <td>0.049613</td>\n",
       "      <td>0.004216</td>\n",
       "      <td>10</td>\n",
       "      <td>3</td>\n",
       "      <td>30</td>\n",
       "    </tr>\n",
       "    <tr>\n",
       "      <th>1</th>\n",
       "      <td>False</td>\n",
       "      <td>False</td>\n",
       "      <td>0.033637</td>\n",
       "      <td>0.003272</td>\n",
       "      <td>10</td>\n",
       "      <td>3</td>\n",
       "      <td>30</td>\n",
       "    </tr>\n",
       "    <tr>\n",
       "      <th>2</th>\n",
       "      <td>False</td>\n",
       "      <td>False</td>\n",
       "      <td>0.041984</td>\n",
       "      <td>0.004240</td>\n",
       "      <td>10</td>\n",
       "      <td>3</td>\n",
       "      <td>30</td>\n",
       "    </tr>\n",
       "    <tr>\n",
       "      <th>3</th>\n",
       "      <td>True</td>\n",
       "      <td>False</td>\n",
       "      <td>0.042741</td>\n",
       "      <td>0.009742</td>\n",
       "      <td>10</td>\n",
       "      <td>3</td>\n",
       "      <td>30</td>\n",
       "    </tr>\n",
       "    <tr>\n",
       "      <th>4</th>\n",
       "      <td>False</td>\n",
       "      <td>False</td>\n",
       "      <td>0.046592</td>\n",
       "      <td>0.003973</td>\n",
       "      <td>10</td>\n",
       "      <td>3</td>\n",
       "      <td>30</td>\n",
       "    </tr>\n",
       "  </tbody>\n",
       "</table>\n",
       "</div>"
      ],
      "text/plain": [
       "    pali  susie    t_pali   t_susie  n_relations  size_max_function  \\\n",
       "0  False  False  0.049613  0.004216           10                  3   \n",
       "1  False  False  0.033637  0.003272           10                  3   \n",
       "2  False  False  0.041984  0.004240           10                  3   \n",
       "3   True  False  0.042741  0.009742           10                  3   \n",
       "4  False  False  0.046592  0.003973           10                  3   \n",
       "\n",
       "   n_functions  \n",
       "0           30  \n",
       "1           30  \n",
       "2           30  \n",
       "3           30  \n",
       "4           30  "
      ]
     },
     "execution_count": 4,
     "metadata": {},
     "output_type": "execute_result"
    }
   ],
   "source": [
    "df.head()"
   ]
  },
  {
   "cell_type": "code",
   "execution_count": 5,
   "metadata": {},
   "outputs": [
    {
     "data": {
      "text/html": [
       "<div>\n",
       "<style scoped>\n",
       "    .dataframe tbody tr th:only-of-type {\n",
       "        vertical-align: middle;\n",
       "    }\n",
       "\n",
       "    .dataframe tbody tr th {\n",
       "        vertical-align: top;\n",
       "    }\n",
       "\n",
       "    .dataframe thead th {\n",
       "        text-align: right;\n",
       "    }\n",
       "</style>\n",
       "<table border=\"1\" class=\"dataframe\">\n",
       "  <thead>\n",
       "    <tr style=\"text-align: right;\">\n",
       "      <th></th>\n",
       "      <th>pali</th>\n",
       "      <th>susie</th>\n",
       "    </tr>\n",
       "  </thead>\n",
       "  <tbody>\n",
       "    <tr>\n",
       "      <th>count</th>\n",
       "      <td>10706</td>\n",
       "      <td>10706</td>\n",
       "    </tr>\n",
       "    <tr>\n",
       "      <th>unique</th>\n",
       "      <td>2</td>\n",
       "      <td>2</td>\n",
       "    </tr>\n",
       "    <tr>\n",
       "      <th>top</th>\n",
       "      <td>False</td>\n",
       "      <td>False</td>\n",
       "    </tr>\n",
       "    <tr>\n",
       "      <th>freq</th>\n",
       "      <td>7426</td>\n",
       "      <td>9781</td>\n",
       "    </tr>\n",
       "  </tbody>\n",
       "</table>\n",
       "</div>"
      ],
      "text/plain": [
       "         pali  susie\n",
       "count   10706  10706\n",
       "unique      2      2\n",
       "top     False  False\n",
       "freq     7426   9781"
      ]
     },
     "execution_count": 5,
     "metadata": {},
     "output_type": "execute_result"
    }
   ],
   "source": [
    "df[[\"pali\", \"susie\"]].describe()"
   ]
  },
  {
   "cell_type": "code",
   "execution_count": 6,
   "metadata": {},
   "outputs": [],
   "source": [
    "df_n_functions = df[df[\"n_relations\"] == 10]"
   ]
  },
  {
   "cell_type": "code",
   "execution_count": 7,
   "metadata": {},
   "outputs": [],
   "source": [
    "df_grouped = df_n_functions[[\"pali\", \"susie\", \"n_functions\"]].groupby(by=\"n_functions\")"
   ]
  },
  {
   "cell_type": "code",
   "execution_count": 8,
   "metadata": {},
   "outputs": [],
   "source": [
    "means = df_grouped.agg(\"mean\")"
   ]
  },
  {
   "cell_type": "code",
   "execution_count": 9,
   "metadata": {},
   "outputs": [
    {
     "data": {
      "text/plain": [
       "<matplotlib.axes._subplots.AxesSubplot at 0x7f06f1fc2ba8>"
      ]
     },
     "execution_count": 9,
     "metadata": {},
     "output_type": "execute_result"
    },
    {
     "data": {
      "image/png": "[encoded data removed]",
      "text/plain": [
       "<Figure size 432x288 with 1 Axes>"
      ]
     },
     "metadata": {},
     "output_type": "display_data"
    }
   ],
   "source": [
    "means.plot(kind=\"line\")"
   ]
  },
  {
   "cell_type": "code",
   "execution_count": 16,
   "metadata": {},
   "outputs": [
    {
     "data": {
      "text/plain": [
       "Int64Index([0, 5, 10, 15, 20, 25, 30, 35, 40, 45, 50, 55, 60, 65, 70, 75, 80,\n",
       "            85],\n",
       "           dtype='int64', name='n_functions')"
      ]
     },
     "execution_count": 16,
     "metadata": {},
     "output_type": "execute_result"
    }
   ],
   "source": [
    "means.index"
   ]
  },
  {
   "cell_type": "code",
   "execution_count": 26,
   "metadata": {},
   "outputs": [],
   "source": [
    "data = []\n",
    "data.append(Scatter(x=means.index, y=100*np.array(means[\"pali\"]), name=\"Pali\",\n",
    "                   line = dict(\n",
    "        color = ('rgb(0, 0, 0)'),\n",
    "        width = 4))) # dash options include 'dash', 'dot', and 'dashdot'))\n",
    "data.append(Scatter(x=means.index, y=100*np.array(means[\"susie\"]), name=\"Susie\",\n",
    "                   line = dict(\n",
    "        color = ('rgb(0, 0, 0)'),\n",
    "        width = 4,\n",
    "        dash = 'dot')))"
   ]
  },
  {
   "cell_type": "code",
   "execution_count": 27,
   "metadata": {},
   "outputs": [
    {
     "data": {
      "application/vnd.plotly.v1+json": {
       "data": [
        {
         "line": {
          "color": "rgb(0, 0, 0)",
          "width": 4
         },
         "name": "Pali",
         "type": "scatter",
         "x": [
          0,
          5,
          10,
          15,
          20,
          25,
          30,
          35,
          40,
          45,
          50,
          55,
          60,
          65,
          70,
          75,
          80,
          85
         ],
         "y": [
          0,
          2.5,
          3.75,
          7.249999999999999,
          11.75,
          21,
          26.111111111111114,
          34.75,
          37,
          48.25,
          46.25,
          44.5,
          50.24999999999999,
          49.5,
          55.00000000000001,
          51,
          45.5,
          54.71698113207547
         ]
        },
        {
         "line": {
          "color": "rgb(0, 0, 0)",
          "dash": "dot",
          "width": 4
         },
         "name": "Susie",
         "type": "scatter",
         "x": [
          0,
          5,
          10,
          15,
          20,
          25,
          30,
          35,
          40,
          45,
          50,
          55,
          60,
          65,
          70,
          75,
          80,
          85
         ],
         "y": [
          0,
          0,
          1,
          1.25,
          1.5,
          3,
          3.7777777777777777,
          3.5000000000000004,
          4.5,
          9,
          7.000000000000001,
          11,
          12,
          15.25,
          13.5,
          19,
          19,
          22.641509433962266
         ]
        }
       ],
       "layout": {
        "font": {
         "family": "Latin Modern Math",
         "size": 18
        },
        "legend": {
         "x": 0,
         "y": 1
        },
        "xaxis": {
         "autorange": true,
         "autotick": true,
         "showgrid": false,
         "showline": false,
         "showticklabels": true,
         "ticks": "",
         "title": "Number of Functions",
         "zeroline": false
        },
        "yaxis": {
         "autorange": true,
         "autotick": true,
         "showgrid": false,
         "showline": true,
         "showticklabels": true,
         "ticks": "",
         "title": "Percentage of Answered Queries",
         "zeroline": true
        }
       }
      },
      "text/html": [
       "<div id=\"81328d32-dc35-4eee-9624-195760ae4110\" style=\"height: 525px; width: 100%;\" class=\"plotly-graph-div\"></div><script type=\"text/javascript\">require([\"plotly\"], function(Plotly) { window.PLOTLYENV=window.PLOTLYENV || {};window.PLOTLYENV.BASE_URL=\"https://plot.ly\";Plotly.newPlot(\"81328d32-dc35-4eee-9624-195760ae4110\", [{\"type\": \"scatter\", \"x\": [0, 5, 10, 15, 20, 25, 30, 35, 40, 45, 50, 55, 60, 65, 70, 75, 80, 85], \"y\": [0.0, 2.5, 3.75, 7.249999999999999, 11.75, 21.0, 26.111111111111114, 34.75, 37.0, 48.25, 46.25, 44.5, 50.24999999999999, 49.5, 55.00000000000001, 51.0, 45.5, 54.71698113207547], \"name\": \"Pali\", \"line\": {\"color\": \"rgb(0, 0, 0)\", \"width\": 4}}, {\"type\": \"scatter\", \"x\": [0, 5, 10, 15, 20, 25, 30, 35, 40, 45, 50, 55, 60, 65, 70, 75, 80, 85], \"y\": [0.0, 0.0, 1.0, 1.25, 1.5, 3.0, 3.7777777777777777, 3.5000000000000004, 4.5, 9.0, 7.000000000000001, 11.0, 12.0, 15.25, 13.5, 19.0, 19.0, 22.641509433962266], \"name\": \"Susie\", \"line\": {\"color\": \"rgb(0, 0, 0)\", \"width\": 4, \"dash\": \"dot\"}}], {\"font\": {\"family\": \"Latin Modern Math\", \"size\": 18}, \"xaxis\": {\"title\": \"Number of Functions\", \"autorange\": true, \"showgrid\": false, \"zeroline\": false, \"showline\": false, \"autotick\": true, \"ticks\": \"\", \"showticklabels\": true}, \"yaxis\": {\"title\": \"Percentage of Answered Queries\", \"autorange\": true, \"showgrid\": false, \"zeroline\": true, \"showline\": true, \"autotick\": true, \"ticks\": \"\", \"showticklabels\": true}, \"legend\": {\"x\": 0, \"y\": 1}}, {\"showLink\": true, \"linkText\": \"Export to plot.ly\"})});</script>"
      ],
      "text/vnd.plotly.v1+html": [
       "<div id=\"81328d32-dc35-4eee-9624-195760ae4110\" style=\"height: 525px; width: 100%;\" class=\"plotly-graph-div\"></div><script type=\"text/javascript\">require([\"plotly\"], function(Plotly) { window.PLOTLYENV=window.PLOTLYENV || {};window.PLOTLYENV.BASE_URL=\"https://plot.ly\";Plotly.newPlot(\"81328d32-dc35-4eee-9624-195760ae4110\", [{\"type\": \"scatter\", \"x\": [0, 5, 10, 15, 20, 25, 30, 35, 40, 45, 50, 55, 60, 65, 70, 75, 80, 85], \"y\": [0.0, 2.5, 3.75, 7.249999999999999, 11.75, 21.0, 26.111111111111114, 34.75, 37.0, 48.25, 46.25, 44.5, 50.24999999999999, 49.5, 55.00000000000001, 51.0, 45.5, 54.71698113207547], \"name\": \"Pali\", \"line\": {\"color\": \"rgb(0, 0, 0)\", \"width\": 4}}, {\"type\": \"scatter\", \"x\": [0, 5, 10, 15, 20, 25, 30, 35, 40, 45, 50, 55, 60, 65, 70, 75, 80, 85], \"y\": [0.0, 0.0, 1.0, 1.25, 1.5, 3.0, 3.7777777777777777, 3.5000000000000004, 4.5, 9.0, 7.000000000000001, 11.0, 12.0, 15.25, 13.5, 19.0, 19.0, 22.641509433962266], \"name\": \"Susie\", \"line\": {\"color\": \"rgb(0, 0, 0)\", \"width\": 4, \"dash\": \"dot\"}}], {\"font\": {\"family\": \"Latin Modern Math\", \"size\": 18}, \"xaxis\": {\"title\": \"Number of Functions\", \"autorange\": true, \"showgrid\": false, \"zeroline\": false, \"showline\": false, \"autotick\": true, \"ticks\": \"\", \"showticklabels\": true}, \"yaxis\": {\"title\": \"Percentage of Answered Queries\", \"autorange\": true, \"showgrid\": false, \"zeroline\": true, \"showline\": true, \"autotick\": true, \"ticks\": \"\", \"showticklabels\": true}, \"legend\": {\"x\": 0, \"y\": 1}}, {\"showLink\": true, \"linkText\": \"Export to plot.ly\"})});</script>"
      ]
     },
     "metadata": {},
     "output_type": "display_data"
    }
   ],
   "source": [
    "layout = Layout(\n",
    "  #  title='Comparisation Performance With Rule Order Optimization',\n",
    "    font=dict(family='Latin Modern Math', size=6*3),\n",
    "    xaxis=dict(\n",
    "        title='Number of Functions',\n",
    "        autorange=True,\n",
    "        showgrid=False,\n",
    "        zeroline=False,\n",
    "        showline=False,\n",
    "        autotick=True,\n",
    "        ticks='',\n",
    "        showticklabels=True\n",
    "    ),\n",
    "    yaxis=dict(\n",
    "        title='Percentage of Answered Queries',\n",
    "        autorange=True,\n",
    "        showgrid=False,\n",
    "        zeroline=True,\n",
    "        showline=True,\n",
    "        autotick=True,\n",
    "        ticks='',\n",
    "        showticklabels=True\n",
    "    ),\n",
    "    legend=dict(x=0, y=1)\n",
    ")\n",
    "fig = Figure(data=data, layout=layout)\n",
    "iplot(fig)"
   ]
  },
  {
   "cell_type": "code",
   "execution_count": 28,
   "metadata": {},
   "outputs": [],
   "source": [
    "df_n_relations = df[df[\"n_functions\"] == 30]"
   ]
  },
  {
   "cell_type": "code",
   "execution_count": 29,
   "metadata": {},
   "outputs": [],
   "source": [
    "df_grouped = df_n_relations[[\"pali\", \"susie\", \"n_relations\"]].groupby(by=\"n_relations\")"
   ]
  },
  {
   "cell_type": "code",
   "execution_count": 30,
   "metadata": {},
   "outputs": [],
   "source": [
    "means = df_grouped.agg(\"mean\")"
   ]
  },
  {
   "cell_type": "code",
   "execution_count": 31,
   "metadata": {},
   "outputs": [
    {
     "data": {
      "text/plain": [
       "<matplotlib.axes._subplots.AxesSubplot at 0x7f06ed835080>"
      ]
     },
     "execution_count": 31,
     "metadata": {},
     "output_type": "execute_result"
    },
    {
     "data": {
      "image/png": "[encoded data removed]",
      "text/plain": [
       "<Figure size 432x288 with 1 Axes>"
      ]
     },
     "metadata": {},
     "output_type": "display_data"
    }
   ],
   "source": [
    "means.plot(kind=\"line\")"
   ]
  },
  {
   "cell_type": "code",
   "execution_count": 32,
   "metadata": {},
   "outputs": [],
   "source": [
    "data = []\n",
    "data.append(Scatter(x=means.index, y=100*np.array(means[\"pali\"]), name=\"Pali\",\n",
    "                   line = dict(\n",
    "        color = ('rgb(0, 0, 0)'),\n",
    "        width = 4))) # dash options include 'dash', 'dot', and 'dashdot'))\n",
    "data.append(Scatter(x=means.index, y=100*np.array(means[\"susie\"]), name=\"Susie\",\n",
    "                   line = dict(\n",
    "        color = ('rgb(0, 0, 0)'),\n",
    "        width = 4,\n",
    "        dash = 'dot')))"
   ]
  },
  {
   "cell_type": "code",
   "execution_count": 34,
   "metadata": {},
   "outputs": [
    {
     "data": {
      "application/vnd.plotly.v1+json": {
       "data": [
        {
         "line": {
          "color": "rgb(0, 0, 0)",
          "width": 4
         },
         "name": "Pali",
         "type": "scatter",
         "x": [
          2,
          4,
          6,
          8,
          10,
          12,
          14,
          16,
          18
         ],
         "y": [
          50,
          50.5,
          49.25,
          40.5,
          26.111111111111114,
          19.5,
          17.75,
          16.75,
          11.25
         ]
        },
        {
         "line": {
          "color": "rgb(0, 0, 0)",
          "dash": "dot",
          "width": 4
         },
         "name": "Susie",
         "type": "scatter",
         "x": [
          2,
          4,
          6,
          8,
          10,
          12,
          14,
          16,
          18
         ],
         "y": [
          47.25,
          28.499999999999996,
          18.5,
          8.75,
          3.7777777777777777,
          3,
          2.75,
          2.5,
          2.25
         ]
        }
       ],
       "layout": {
        "font": {
         "family": "Latin Modern Math",
         "size": 18
        },
        "legend": {
         "x": 1,
         "y": 1
        },
        "xaxis": {
         "autorange": true,
         "autotick": true,
         "showgrid": false,
         "showline": false,
         "showticklabels": true,
         "ticks": "",
         "title": "Number of Relations",
         "zeroline": false
        },
        "yaxis": {
         "autorange": true,
         "autotick": true,
         "showgrid": false,
         "showline": true,
         "showticklabels": true,
         "ticks": "",
         "title": "Percentage of Answered Queries",
         "zeroline": true
        }
       }
      },
      "text/html": [
       "<div id=\"a3ab4723-936d-48b4-a592-d1c377afbdf5\" style=\"height: 525px; width: 100%;\" class=\"plotly-graph-div\"></div><script type=\"text/javascript\">require([\"plotly\"], function(Plotly) { window.PLOTLYENV=window.PLOTLYENV || {};window.PLOTLYENV.BASE_URL=\"https://plot.ly\";Plotly.newPlot(\"a3ab4723-936d-48b4-a592-d1c377afbdf5\", [{\"type\": \"scatter\", \"x\": [2, 4, 6, 8, 10, 12, 14, 16, 18], \"y\": [50.0, 50.5, 49.25, 40.5, 26.111111111111114, 19.5, 17.75, 16.75, 11.25], \"name\": \"Pali\", \"line\": {\"color\": \"rgb(0, 0, 0)\", \"width\": 4}}, {\"type\": \"scatter\", \"x\": [2, 4, 6, 8, 10, 12, 14, 16, 18], \"y\": [47.25, 28.499999999999996, 18.5, 8.75, 3.7777777777777777, 3.0, 2.75, 2.5, 2.25], \"name\": \"Susie\", \"line\": {\"color\": \"rgb(0, 0, 0)\", \"width\": 4, \"dash\": \"dot\"}}], {\"font\": {\"family\": \"Latin Modern Math\", \"size\": 18}, \"xaxis\": {\"title\": \"Number of Relations\", \"autorange\": true, \"showgrid\": false, \"zeroline\": false, \"showline\": false, \"autotick\": true, \"ticks\": \"\", \"showticklabels\": true}, \"yaxis\": {\"title\": \"Percentage of Answered Queries\", \"autorange\": true, \"showgrid\": false, \"zeroline\": true, \"showline\": true, \"autotick\": true, \"ticks\": \"\", \"showticklabels\": true}, \"legend\": {\"x\": 1, \"y\": 1}}, {\"showLink\": true, \"linkText\": \"Export to plot.ly\"})});</script>"
      ],
      "text/vnd.plotly.v1+html": [
       "<div id=\"a3ab4723-936d-48b4-a592-d1c377afbdf5\" style=\"height: 525px; width: 100%;\" class=\"plotly-graph-div\"></div><script type=\"text/javascript\">require([\"plotly\"], function(Plotly) { window.PLOTLYENV=window.PLOTLYENV || {};window.PLOTLYENV.BASE_URL=\"https://plot.ly\";Plotly.newPlot(\"a3ab4723-936d-48b4-a592-d1c377afbdf5\", [{\"type\": \"scatter\", \"x\": [2, 4, 6, 8, 10, 12, 14, 16, 18], \"y\": [50.0, 50.5, 49.25, 40.5, 26.111111111111114, 19.5, 17.75, 16.75, 11.25], \"name\": \"Pali\", \"line\": {\"color\": \"rgb(0, 0, 0)\", \"width\": 4}}, {\"type\": \"scatter\", \"x\": [2, 4, 6, 8, 10, 12, 14, 16, 18], \"y\": [47.25, 28.499999999999996, 18.5, 8.75, 3.7777777777777777, 3.0, 2.75, 2.5, 2.25], \"name\": \"Susie\", \"line\": {\"color\": \"rgb(0, 0, 0)\", \"width\": 4, \"dash\": \"dot\"}}], {\"font\": {\"family\": \"Latin Modern Math\", \"size\": 18}, \"xaxis\": {\"title\": \"Number of Relations\", \"autorange\": true, \"showgrid\": false, \"zeroline\": false, \"showline\": false, \"autotick\": true, \"ticks\": \"\", \"showticklabels\": true}, \"yaxis\": {\"title\": \"Percentage of Answered Queries\", \"autorange\": true, \"showgrid\": false, \"zeroline\": true, \"showline\": true, \"autotick\": true, \"ticks\": \"\", \"showticklabels\": true}, \"legend\": {\"x\": 1, \"y\": 1}}, {\"showLink\": true, \"linkText\": \"Export to plot.ly\"})});</script>"
      ]
     },
     "metadata": {},
     "output_type": "display_data"
    }
   ],
   "source": [
    "layout = Layout(\n",
    "  #  title='Comparisation Performance With Rule Order Optimization',\n",
    "    font=dict(family='Latin Modern Math', size=6*3),\n",
    "    xaxis=dict(\n",
    "        title='Number of Relations',\n",
    "        autorange=True,\n",
    "        showgrid=False,\n",
    "        zeroline=False,\n",
    "        showline=False,\n",
    "        autotick=True,\n",
    "        ticks='',\n",
    "        showticklabels=True\n",
    "    ),\n",
    "    yaxis=dict(\n",
    "        title='Percentage of Answered Queries',\n",
    "        autorange=True,\n",
    "        showgrid=False,\n",
    "        zeroline=True,\n",
    "        showline=True,\n",
    "        autotick=True,\n",
    "        ticks='',\n",
    "        showticklabels=True\n",
    "    ),\n",
    "    legend=dict(x=1, y=1)\n",
    ")\n",
    "fig = Figure(data=data, layout=layout)\n",
    "iplot(fig)"
   ]
  },
  {
   "cell_type": "code",
   "execution_count": null,
   "metadata": {},
   "outputs": [],
   "source": []
  }
 ],
 "metadata": {
  "kernelspec": {
   "display_name": "Python 3",
   "language": "python",
   "name": "python3"
  },
  "language_info": {
   "codemirror_mode": {
    "name": "ipython",
    "version": 3
   },
   "file_extension": ".py",
   "mimetype": "text/x-python",
   "name": "python",
   "nbconvert_exporter": "python",
   "pygments_lexer": "ipython3",
   "version": "3.6.4"
  }
 },
 "nbformat": 4,
 "nbformat_minor": 2
}
