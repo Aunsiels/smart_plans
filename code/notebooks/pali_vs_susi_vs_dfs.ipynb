{
 "cells": [
  {
   "cell_type": "code",
   "execution_count": 1,
   "metadata": {},
   "outputs": [
    {
     "data": {
      "text/html": [
       "<script>requirejs.config({paths: { 'plotly': ['https://cdn.plot.ly/plotly-latest.min']},});if(!window.Plotly) {{require(['plotly'],function(plotly) {window.Plotly=plotly;});}}</script>"
      ],
      "text/vnd.plotly.v1+html": [
       "<script>requirejs.config({paths: { 'plotly': ['https://cdn.plot.ly/plotly-latest.min']},});if(!window.Plotly) {{require(['plotly'],function(plotly) {window.Plotly=plotly;});}}</script>"
      ]
     },
     "metadata": {},
     "output_type": "display_data"
    }
   ],
   "source": [
    "import pandas as pd\n",
    "%matplotlib inline\n",
    "from plotly.offline import download_plotlyjs, init_notebook_mode, plot, iplot\n",
    "import plotly\n",
    "import numpy as np\n",
    "from plotly.graph_objs import Scatter, Figure, Layout, Histogram, Box\n",
    "init_notebook_mode(connected=True)"
   ]
  },
  {
   "cell_type": "code",
   "execution_count": 2,
   "metadata": {},
   "outputs": [],
   "source": [
    "df = pd.read_csv(\"pali_vs_susie_vs_dfs.csv\", header=None, names=[\"pali_not_weak\", \"pali_weak\", \"pali_not_weak_sub\", \"pali_weak_sub\",\n",
    "                                                                 \"dfs_weak\", \"dfs_strong\", \"dfs_weak_sub\", \"dfs_strong_sub\",\n",
    "                                                                 \"susie\", \"susie_sub\", \"t_pali_not_weak\",\n",
    "                                                               \"t_pali_weak\",  \"t_pali_sub_not_weak\",\n",
    "                                                               \"t_pali_sub_weak\", \"dfs_weak_sub_time\", \"dfs_strong_sub_time\",\n",
    "                                                                 \"dfs_weak_time\", \"dfs_strong_time\",\n",
    "                                                                 \"t_susie\", \"t_susie_sub\",\n",
    "                                                          \"n_relations\", \"size_max_function\", \"n_functions\"])"
   ]
  },
  {
   "cell_type": "code",
   "execution_count": 3,
   "metadata": {},
   "outputs": [
    {
     "data": {
      "text/html": [
       "<div>\n",
       "<style scoped>\n",
       "    .dataframe tbody tr th:only-of-type {\n",
       "        vertical-align: middle;\n",
       "    }\n",
       "\n",
       "    .dataframe tbody tr th {\n",
       "        vertical-align: top;\n",
       "    }\n",
       "\n",
       "    .dataframe thead th {\n",
       "        text-align: right;\n",
       "    }\n",
       "</style>\n",
       "<table border=\"1\" class=\"dataframe\">\n",
       "  <thead>\n",
       "    <tr style=\"text-align: right;\">\n",
       "      <th></th>\n",
       "      <th>pali_not_weak</th>\n",
       "      <th>pali_weak</th>\n",
       "      <th>pali_not_weak_sub</th>\n",
       "      <th>pali_weak_sub</th>\n",
       "      <th>dfs_weak</th>\n",
       "      <th>dfs_strong</th>\n",
       "      <th>dfs_weak_sub</th>\n",
       "      <th>dfs_strong_sub</th>\n",
       "      <th>susie</th>\n",
       "      <th>susie_sub</th>\n",
       "      <th>...</th>\n",
       "      <th>t_pali_sub_weak</th>\n",
       "      <th>dfs_weak_sub_time</th>\n",
       "      <th>dfs_strong_sub_time</th>\n",
       "      <th>dfs_weak_time</th>\n",
       "      <th>dfs_strong_time</th>\n",
       "      <th>t_susie</th>\n",
       "      <th>t_susie_sub</th>\n",
       "      <th>n_relations</th>\n",
       "      <th>size_max_function</th>\n",
       "      <th>n_functions</th>\n",
       "    </tr>\n",
       "  </thead>\n",
       "  <tbody>\n",
       "    <tr>\n",
       "      <th>0</th>\n",
       "      <td>False</td>\n",
       "      <td>False</td>\n",
       "      <td>False</td>\n",
       "      <td>False</td>\n",
       "      <td>False</td>\n",
       "      <td>False</td>\n",
       "      <td>False</td>\n",
       "      <td>False</td>\n",
       "      <td>True</td>\n",
       "      <td>False</td>\n",
       "      <td>...</td>\n",
       "      <td>0.004133</td>\n",
       "      <td>0.000205</td>\n",
       "      <td>0.002384</td>\n",
       "      <td>0.000828</td>\n",
       "      <td>0.000754</td>\n",
       "      <td>0.000807</td>\n",
       "      <td>0.001546</td>\n",
       "      <td>10</td>\n",
       "      <td>3</td>\n",
       "      <td>5</td>\n",
       "    </tr>\n",
       "    <tr>\n",
       "      <th>1</th>\n",
       "      <td>True</td>\n",
       "      <td>True</td>\n",
       "      <td>True</td>\n",
       "      <td>True</td>\n",
       "      <td>True</td>\n",
       "      <td>True</td>\n",
       "      <td>True</td>\n",
       "      <td>True</td>\n",
       "      <td>True</td>\n",
       "      <td>True</td>\n",
       "      <td>...</td>\n",
       "      <td>0.002841</td>\n",
       "      <td>0.000069</td>\n",
       "      <td>0.000082</td>\n",
       "      <td>0.000103</td>\n",
       "      <td>0.000105</td>\n",
       "      <td>0.000847</td>\n",
       "      <td>0.002207</td>\n",
       "      <td>10</td>\n",
       "      <td>3</td>\n",
       "      <td>5</td>\n",
       "    </tr>\n",
       "    <tr>\n",
       "      <th>2</th>\n",
       "      <td>True</td>\n",
       "      <td>True</td>\n",
       "      <td>False</td>\n",
       "      <td>False</td>\n",
       "      <td>True</td>\n",
       "      <td>True</td>\n",
       "      <td>False</td>\n",
       "      <td>False</td>\n",
       "      <td>True</td>\n",
       "      <td>False</td>\n",
       "      <td>...</td>\n",
       "      <td>0.002721</td>\n",
       "      <td>0.000252</td>\n",
       "      <td>0.000085</td>\n",
       "      <td>0.000351</td>\n",
       "      <td>0.000047</td>\n",
       "      <td>0.000973</td>\n",
       "      <td>0.001603</td>\n",
       "      <td>10</td>\n",
       "      <td>3</td>\n",
       "      <td>5</td>\n",
       "    </tr>\n",
       "    <tr>\n",
       "      <th>3</th>\n",
       "      <td>True</td>\n",
       "      <td>True</td>\n",
       "      <td>False</td>\n",
       "      <td>False</td>\n",
       "      <td>True</td>\n",
       "      <td>True</td>\n",
       "      <td>False</td>\n",
       "      <td>False</td>\n",
       "      <td>True</td>\n",
       "      <td>False</td>\n",
       "      <td>...</td>\n",
       "      <td>0.002506</td>\n",
       "      <td>0.000153</td>\n",
       "      <td>0.000085</td>\n",
       "      <td>0.001250</td>\n",
       "      <td>0.000492</td>\n",
       "      <td>0.000885</td>\n",
       "      <td>0.001556</td>\n",
       "      <td>10</td>\n",
       "      <td>3</td>\n",
       "      <td>5</td>\n",
       "    </tr>\n",
       "    <tr>\n",
       "      <th>4</th>\n",
       "      <td>True</td>\n",
       "      <td>True</td>\n",
       "      <td>True</td>\n",
       "      <td>True</td>\n",
       "      <td>True</td>\n",
       "      <td>True</td>\n",
       "      <td>True</td>\n",
       "      <td>True</td>\n",
       "      <td>True</td>\n",
       "      <td>True</td>\n",
       "      <td>...</td>\n",
       "      <td>0.004361</td>\n",
       "      <td>0.000075</td>\n",
       "      <td>0.000095</td>\n",
       "      <td>0.000128</td>\n",
       "      <td>0.000130</td>\n",
       "      <td>0.000963</td>\n",
       "      <td>0.002430</td>\n",
       "      <td>10</td>\n",
       "      <td>3</td>\n",
       "      <td>5</td>\n",
       "    </tr>\n",
       "  </tbody>\n",
       "</table>\n",
       "<p>5 rows × 23 columns</p>\n",
       "</div>"
      ],
      "text/plain": [
       "   pali_not_weak  pali_weak  pali_not_weak_sub  pali_weak_sub  dfs_weak  \\\n",
       "0          False      False              False          False     False   \n",
       "1           True       True               True           True      True   \n",
       "2           True       True              False          False      True   \n",
       "3           True       True              False          False      True   \n",
       "4           True       True               True           True      True   \n",
       "\n",
       "   dfs_strong  dfs_weak_sub  dfs_strong_sub  susie  susie_sub     ...       \\\n",
       "0       False         False           False   True      False     ...        \n",
       "1        True          True            True   True       True     ...        \n",
       "2        True         False           False   True      False     ...        \n",
       "3        True         False           False   True      False     ...        \n",
       "4        True          True            True   True       True     ...        \n",
       "\n",
       "   t_pali_sub_weak  dfs_weak_sub_time  dfs_strong_sub_time  dfs_weak_time  \\\n",
       "0         0.004133           0.000205             0.002384       0.000828   \n",
       "1         0.002841           0.000069             0.000082       0.000103   \n",
       "2         0.002721           0.000252             0.000085       0.000351   \n",
       "3         0.002506           0.000153             0.000085       0.001250   \n",
       "4         0.004361           0.000075             0.000095       0.000128   \n",
       "\n",
       "   dfs_strong_time   t_susie  t_susie_sub  n_relations  size_max_function  \\\n",
       "0         0.000754  0.000807     0.001546           10                  3   \n",
       "1         0.000105  0.000847     0.002207           10                  3   \n",
       "2         0.000047  0.000973     0.001603           10                  3   \n",
       "3         0.000492  0.000885     0.001556           10                  3   \n",
       "4         0.000130  0.000963     0.002430           10                  3   \n",
       "\n",
       "   n_functions  \n",
       "0            5  \n",
       "1            5  \n",
       "2            5  \n",
       "3            5  \n",
       "4            5  \n",
       "\n",
       "[5 rows x 23 columns]"
      ]
     },
     "execution_count": 3,
     "metadata": {},
     "output_type": "execute_result"
    }
   ],
   "source": [
    "df.head()"
   ]
  },
  {
   "cell_type": "code",
   "execution_count": 4,
   "metadata": {},
   "outputs": [],
   "source": [
    "df[\"pali_not_weak\"] = ~df[\"pali_not_weak\"]\n",
    "df[\"pali_weak\"] = ~df[\"pali_weak\"]\n",
    "df[\"pali_not_weak_sub\"] = ~df[\"pali_not_weak_sub\"]\n",
    "df[\"pali_weak_sub\"] = ~df[\"pali_weak_sub\"]\n",
    "df[\"dfs_weak\"] = ~df[\"dfs_weak\"]\n",
    "df[\"dfs_strong\"] = ~df[\"dfs_strong\"]\n",
    "df[\"dfs_weak_sub\"] = ~df[\"dfs_weak_sub\"]\n",
    "df[\"dfs_strong_sub\"] = ~df[\"dfs_strong_sub\"]\n",
    "df[\"susie\"] = ~df[\"susie\"]\n",
    "df[\"susie_sub\"] = ~df[\"susie_sub\"]"
   ]
  },
  {
   "cell_type": "code",
   "execution_count": 5,
   "metadata": {},
   "outputs": [
    {
     "data": {
      "text/html": [
       "<div>\n",
       "<style scoped>\n",
       "    .dataframe tbody tr th:only-of-type {\n",
       "        vertical-align: middle;\n",
       "    }\n",
       "\n",
       "    .dataframe tbody tr th {\n",
       "        vertical-align: top;\n",
       "    }\n",
       "\n",
       "    .dataframe thead th {\n",
       "        text-align: right;\n",
       "    }\n",
       "</style>\n",
       "<table border=\"1\" class=\"dataframe\">\n",
       "  <thead>\n",
       "    <tr style=\"text-align: right;\">\n",
       "      <th></th>\n",
       "      <th>pali_not_weak</th>\n",
       "      <th>pali_weak</th>\n",
       "      <th>pali_not_weak_sub</th>\n",
       "      <th>pali_weak_sub</th>\n",
       "      <th>dfs_weak</th>\n",
       "      <th>dfs_strong</th>\n",
       "      <th>dfs_weak_sub</th>\n",
       "      <th>dfs_strong_sub</th>\n",
       "      <th>susie</th>\n",
       "      <th>susie_sub</th>\n",
       "      <th>...</th>\n",
       "      <th>t_pali_sub_weak</th>\n",
       "      <th>dfs_weak_sub_time</th>\n",
       "      <th>dfs_strong_sub_time</th>\n",
       "      <th>dfs_weak_time</th>\n",
       "      <th>dfs_strong_time</th>\n",
       "      <th>t_susie</th>\n",
       "      <th>t_susie_sub</th>\n",
       "      <th>n_relations</th>\n",
       "      <th>size_max_function</th>\n",
       "      <th>n_functions</th>\n",
       "    </tr>\n",
       "  </thead>\n",
       "  <tbody>\n",
       "    <tr>\n",
       "      <th>0</th>\n",
       "      <td>True</td>\n",
       "      <td>True</td>\n",
       "      <td>True</td>\n",
       "      <td>True</td>\n",
       "      <td>True</td>\n",
       "      <td>True</td>\n",
       "      <td>True</td>\n",
       "      <td>True</td>\n",
       "      <td>False</td>\n",
       "      <td>True</td>\n",
       "      <td>...</td>\n",
       "      <td>0.004133</td>\n",
       "      <td>0.000205</td>\n",
       "      <td>0.002384</td>\n",
       "      <td>0.000828</td>\n",
       "      <td>0.000754</td>\n",
       "      <td>0.000807</td>\n",
       "      <td>0.001546</td>\n",
       "      <td>10</td>\n",
       "      <td>3</td>\n",
       "      <td>5</td>\n",
       "    </tr>\n",
       "    <tr>\n",
       "      <th>1</th>\n",
       "      <td>False</td>\n",
       "      <td>False</td>\n",
       "      <td>False</td>\n",
       "      <td>False</td>\n",
       "      <td>False</td>\n",
       "      <td>False</td>\n",
       "      <td>False</td>\n",
       "      <td>False</td>\n",
       "      <td>False</td>\n",
       "      <td>False</td>\n",
       "      <td>...</td>\n",
       "      <td>0.002841</td>\n",
       "      <td>0.000069</td>\n",
       "      <td>0.000082</td>\n",
       "      <td>0.000103</td>\n",
       "      <td>0.000105</td>\n",
       "      <td>0.000847</td>\n",
       "      <td>0.002207</td>\n",
       "      <td>10</td>\n",
       "      <td>3</td>\n",
       "      <td>5</td>\n",
       "    </tr>\n",
       "    <tr>\n",
       "      <th>2</th>\n",
       "      <td>False</td>\n",
       "      <td>False</td>\n",
       "      <td>True</td>\n",
       "      <td>True</td>\n",
       "      <td>False</td>\n",
       "      <td>False</td>\n",
       "      <td>True</td>\n",
       "      <td>True</td>\n",
       "      <td>False</td>\n",
       "      <td>True</td>\n",
       "      <td>...</td>\n",
       "      <td>0.002721</td>\n",
       "      <td>0.000252</td>\n",
       "      <td>0.000085</td>\n",
       "      <td>0.000351</td>\n",
       "      <td>0.000047</td>\n",
       "      <td>0.000973</td>\n",
       "      <td>0.001603</td>\n",
       "      <td>10</td>\n",
       "      <td>3</td>\n",
       "      <td>5</td>\n",
       "    </tr>\n",
       "    <tr>\n",
       "      <th>3</th>\n",
       "      <td>False</td>\n",
       "      <td>False</td>\n",
       "      <td>True</td>\n",
       "      <td>True</td>\n",
       "      <td>False</td>\n",
       "      <td>False</td>\n",
       "      <td>True</td>\n",
       "      <td>True</td>\n",
       "      <td>False</td>\n",
       "      <td>True</td>\n",
       "      <td>...</td>\n",
       "      <td>0.002506</td>\n",
       "      <td>0.000153</td>\n",
       "      <td>0.000085</td>\n",
       "      <td>0.001250</td>\n",
       "      <td>0.000492</td>\n",
       "      <td>0.000885</td>\n",
       "      <td>0.001556</td>\n",
       "      <td>10</td>\n",
       "      <td>3</td>\n",
       "      <td>5</td>\n",
       "    </tr>\n",
       "    <tr>\n",
       "      <th>4</th>\n",
       "      <td>False</td>\n",
       "      <td>False</td>\n",
       "      <td>False</td>\n",
       "      <td>False</td>\n",
       "      <td>False</td>\n",
       "      <td>False</td>\n",
       "      <td>False</td>\n",
       "      <td>False</td>\n",
       "      <td>False</td>\n",
       "      <td>False</td>\n",
       "      <td>...</td>\n",
       "      <td>0.004361</td>\n",
       "      <td>0.000075</td>\n",
       "      <td>0.000095</td>\n",
       "      <td>0.000128</td>\n",
       "      <td>0.000130</td>\n",
       "      <td>0.000963</td>\n",
       "      <td>0.002430</td>\n",
       "      <td>10</td>\n",
       "      <td>3</td>\n",
       "      <td>5</td>\n",
       "    </tr>\n",
       "  </tbody>\n",
       "</table>\n",
       "<p>5 rows × 23 columns</p>\n",
       "</div>"
      ],
      "text/plain": [
       "   pali_not_weak  pali_weak  pali_not_weak_sub  pali_weak_sub  dfs_weak  \\\n",
       "0           True       True               True           True      True   \n",
       "1          False      False              False          False     False   \n",
       "2          False      False               True           True     False   \n",
       "3          False      False               True           True     False   \n",
       "4          False      False              False          False     False   \n",
       "\n",
       "   dfs_strong  dfs_weak_sub  dfs_strong_sub  susie  susie_sub     ...       \\\n",
       "0        True          True            True  False       True     ...        \n",
       "1       False         False           False  False      False     ...        \n",
       "2       False          True            True  False       True     ...        \n",
       "3       False          True            True  False       True     ...        \n",
       "4       False         False           False  False      False     ...        \n",
       "\n",
       "   t_pali_sub_weak  dfs_weak_sub_time  dfs_strong_sub_time  dfs_weak_time  \\\n",
       "0         0.004133           0.000205             0.002384       0.000828   \n",
       "1         0.002841           0.000069             0.000082       0.000103   \n",
       "2         0.002721           0.000252             0.000085       0.000351   \n",
       "3         0.002506           0.000153             0.000085       0.001250   \n",
       "4         0.004361           0.000075             0.000095       0.000128   \n",
       "\n",
       "   dfs_strong_time   t_susie  t_susie_sub  n_relations  size_max_function  \\\n",
       "0         0.000754  0.000807     0.001546           10                  3   \n",
       "1         0.000105  0.000847     0.002207           10                  3   \n",
       "2         0.000047  0.000973     0.001603           10                  3   \n",
       "3         0.000492  0.000885     0.001556           10                  3   \n",
       "4         0.000130  0.000963     0.002430           10                  3   \n",
       "\n",
       "   n_functions  \n",
       "0            5  \n",
       "1            5  \n",
       "2            5  \n",
       "3            5  \n",
       "4            5  \n",
       "\n",
       "[5 rows x 23 columns]"
      ]
     },
     "execution_count": 5,
     "metadata": {},
     "output_type": "execute_result"
    }
   ],
   "source": [
    "df.head()"
   ]
  },
  {
   "cell_type": "code",
   "execution_count": 6,
   "metadata": {},
   "outputs": [
    {
     "data": {
      "text/html": [
       "<div>\n",
       "<style scoped>\n",
       "    .dataframe tbody tr th:only-of-type {\n",
       "        vertical-align: middle;\n",
       "    }\n",
       "\n",
       "    .dataframe tbody tr th {\n",
       "        vertical-align: top;\n",
       "    }\n",
       "\n",
       "    .dataframe thead th {\n",
       "        text-align: right;\n",
       "    }\n",
       "</style>\n",
       "<table border=\"1\" class=\"dataframe\">\n",
       "  <thead>\n",
       "    <tr style=\"text-align: right;\">\n",
       "      <th></th>\n",
       "      <th>pali_not_weak</th>\n",
       "      <th>pali_weak</th>\n",
       "      <th>pali_not_weak_sub</th>\n",
       "      <th>pali_weak_sub</th>\n",
       "      <th>dfs_strong</th>\n",
       "      <th>dfs_weak</th>\n",
       "      <th>dfs_strong_sub</th>\n",
       "      <th>dfs_weak_sub</th>\n",
       "      <th>susie</th>\n",
       "    </tr>\n",
       "  </thead>\n",
       "  <tbody>\n",
       "    <tr>\n",
       "      <th>count</th>\n",
       "      <td>19800</td>\n",
       "      <td>19800</td>\n",
       "      <td>19800</td>\n",
       "      <td>19800</td>\n",
       "      <td>19800</td>\n",
       "      <td>19800</td>\n",
       "      <td>19800</td>\n",
       "      <td>19800</td>\n",
       "      <td>19800</td>\n",
       "    </tr>\n",
       "    <tr>\n",
       "      <th>unique</th>\n",
       "      <td>2</td>\n",
       "      <td>2</td>\n",
       "      <td>2</td>\n",
       "      <td>2</td>\n",
       "      <td>2</td>\n",
       "      <td>2</td>\n",
       "      <td>2</td>\n",
       "      <td>2</td>\n",
       "      <td>2</td>\n",
       "    </tr>\n",
       "    <tr>\n",
       "      <th>top</th>\n",
       "      <td>False</td>\n",
       "      <td>True</td>\n",
       "      <td>True</td>\n",
       "      <td>True</td>\n",
       "      <td>False</td>\n",
       "      <td>True</td>\n",
       "      <td>True</td>\n",
       "      <td>True</td>\n",
       "      <td>False</td>\n",
       "    </tr>\n",
       "    <tr>\n",
       "      <th>freq</th>\n",
       "      <td>10745</td>\n",
       "      <td>10721</td>\n",
       "      <td>18302</td>\n",
       "      <td>18302</td>\n",
       "      <td>10716</td>\n",
       "      <td>11388</td>\n",
       "      <td>18302</td>\n",
       "      <td>18302</td>\n",
       "      <td>17087</td>\n",
       "    </tr>\n",
       "  </tbody>\n",
       "</table>\n",
       "</div>"
      ],
      "text/plain": [
       "       pali_not_weak pali_weak pali_not_weak_sub pali_weak_sub dfs_strong  \\\n",
       "count          19800     19800             19800         19800      19800   \n",
       "unique             2         2                 2             2          2   \n",
       "top            False      True              True          True      False   \n",
       "freq           10745     10721             18302         18302      10716   \n",
       "\n",
       "       dfs_weak dfs_strong_sub dfs_weak_sub  susie  \n",
       "count     19800          19800        19800  19800  \n",
       "unique        2              2            2      2  \n",
       "top        True           True         True  False  \n",
       "freq      11388          18302        18302  17087  "
      ]
     },
     "execution_count": 6,
     "metadata": {},
     "output_type": "execute_result"
    }
   ],
   "source": [
    "df[[\"pali_not_weak\", \"pali_weak\", \"pali_not_weak_sub\", \"pali_weak_sub\",\n",
    "    \"dfs_strong\", \"dfs_weak\", \"dfs_strong_sub\", \"dfs_weak_sub\", \"susie\"]].describe()"
   ]
  },
  {
   "cell_type": "code",
   "execution_count": 7,
   "metadata": {},
   "outputs": [],
   "source": [
    "df_n_functions = df[df[\"n_relations\"] == 10]"
   ]
  },
  {
   "cell_type": "code",
   "execution_count": 8,
   "metadata": {},
   "outputs": [
    {
     "data": {
      "text/html": [
       "<div>\n",
       "<style scoped>\n",
       "    .dataframe tbody tr th:only-of-type {\n",
       "        vertical-align: middle;\n",
       "    }\n",
       "\n",
       "    .dataframe tbody tr th {\n",
       "        vertical-align: top;\n",
       "    }\n",
       "\n",
       "    .dataframe thead th {\n",
       "        text-align: right;\n",
       "    }\n",
       "</style>\n",
       "<table border=\"1\" class=\"dataframe\">\n",
       "  <thead>\n",
       "    <tr style=\"text-align: right;\">\n",
       "      <th></th>\n",
       "      <th>pali_not_weak</th>\n",
       "      <th>pali_weak</th>\n",
       "      <th>pali_not_weak_sub</th>\n",
       "      <th>pali_weak_sub</th>\n",
       "      <th>dfs_strong</th>\n",
       "      <th>dfs_weak</th>\n",
       "      <th>dfs_strong_sub</th>\n",
       "      <th>dfs_weak_sub</th>\n",
       "      <th>susie</th>\n",
       "      <th>susie_sub</th>\n",
       "    </tr>\n",
       "  </thead>\n",
       "  <tbody>\n",
       "    <tr>\n",
       "      <th>count</th>\n",
       "      <td>13400</td>\n",
       "      <td>13400</td>\n",
       "      <td>13400</td>\n",
       "      <td>13400</td>\n",
       "      <td>13400</td>\n",
       "      <td>13400</td>\n",
       "      <td>13400</td>\n",
       "      <td>13400</td>\n",
       "      <td>13400</td>\n",
       "      <td>13400</td>\n",
       "    </tr>\n",
       "    <tr>\n",
       "      <th>unique</th>\n",
       "      <td>2</td>\n",
       "      <td>2</td>\n",
       "      <td>2</td>\n",
       "      <td>2</td>\n",
       "      <td>2</td>\n",
       "      <td>2</td>\n",
       "      <td>2</td>\n",
       "      <td>2</td>\n",
       "      <td>2</td>\n",
       "      <td>2</td>\n",
       "    </tr>\n",
       "    <tr>\n",
       "      <th>top</th>\n",
       "      <td>False</td>\n",
       "      <td>False</td>\n",
       "      <td>True</td>\n",
       "      <td>True</td>\n",
       "      <td>False</td>\n",
       "      <td>True</td>\n",
       "      <td>True</td>\n",
       "      <td>True</td>\n",
       "      <td>False</td>\n",
       "      <td>True</td>\n",
       "    </tr>\n",
       "    <tr>\n",
       "      <th>freq</th>\n",
       "      <td>7987</td>\n",
       "      <td>6772</td>\n",
       "      <td>12012</td>\n",
       "      <td>12012</td>\n",
       "      <td>7965</td>\n",
       "      <td>7113</td>\n",
       "      <td>12012</td>\n",
       "      <td>12012</td>\n",
       "      <td>12260</td>\n",
       "      <td>12012</td>\n",
       "    </tr>\n",
       "  </tbody>\n",
       "</table>\n",
       "</div>"
      ],
      "text/plain": [
       "       pali_not_weak pali_weak pali_not_weak_sub pali_weak_sub dfs_strong  \\\n",
       "count          13400     13400             13400         13400      13400   \n",
       "unique             2         2                 2             2          2   \n",
       "top            False     False              True          True      False   \n",
       "freq            7987      6772             12012         12012       7965   \n",
       "\n",
       "       dfs_weak dfs_strong_sub dfs_weak_sub  susie susie_sub  \n",
       "count     13400          13400        13400  13400     13400  \n",
       "unique        2              2            2      2         2  \n",
       "top        True           True         True  False      True  \n",
       "freq       7113          12012        12012  12260     12012  "
      ]
     },
     "execution_count": 8,
     "metadata": {},
     "output_type": "execute_result"
    }
   ],
   "source": [
    "df_n_functions[[\"pali_not_weak\", \"pali_weak\", \"pali_not_weak_sub\", \"pali_weak_sub\",\n",
    "    \"dfs_strong\", \"dfs_weak\", \"dfs_strong_sub\", \"dfs_weak_sub\", \"susie\", \"susie_sub\"]].describe()"
   ]
  },
  {
   "cell_type": "code",
   "execution_count": 9,
   "metadata": {},
   "outputs": [],
   "source": [
    "df_grouped = df_n_functions[[\"pali_not_weak\", \"pali_weak\", \"pali_not_weak_sub\", \"pali_weak_sub\",\n",
    "    \"dfs_strong\", \"dfs_weak\", \"dfs_strong_sub\", \"dfs_weak_sub\", \"susie\", \"susie_sub\",\n",
    "                             \"n_functions\"]].groupby(by=\"n_functions\")"
   ]
  },
  {
   "cell_type": "code",
   "execution_count": 10,
   "metadata": {},
   "outputs": [],
   "source": [
    "df_grouped = df_n_functions[[# \"pali_not_weak\", \"pali_weak\", \"pali_not_weak_sub\", \"pali_weak_sub\",\n",
    "    \"dfs_strong\", \"dfs_weak\", \"susie\", \"susie_sub\",\n",
    "                             \"n_functions\"]].groupby(by=\"n_functions\")"
   ]
  },
  {
   "cell_type": "code",
   "execution_count": 11,
   "metadata": {},
   "outputs": [],
   "source": [
    "means = df_grouped.agg(\"mean\")"
   ]
  },
  {
   "cell_type": "code",
   "execution_count": 12,
   "metadata": {},
   "outputs": [
    {
     "data": {
      "text/plain": [
       "<matplotlib.axes._subplots.AxesSubplot at 0x7f908824c390>"
      ]
     },
     "execution_count": 12,
     "metadata": {},
     "output_type": "execute_result"
    },
    {
     "data": {
      "image/png": "[encoded data removed]",
      "text/plain": [
       "<Figure size 432x288 with 1 Axes>"
      ]
     },
     "metadata": {},
     "output_type": "display_data"
    }
   ],
   "source": [
    "means.plot(kind=\"line\")"
   ]
  },
  {
   "cell_type": "code",
   "execution_count": 13,
   "metadata": {},
   "outputs": [
    {
     "data": {
      "text/plain": [
       "Int64Index([5, 10, 15, 20, 25, 30, 35, 40, 45], dtype='int64', name='n_functions')"
      ]
     },
     "execution_count": 13,
     "metadata": {},
     "output_type": "execute_result"
    }
   ],
   "source": [
    "means.index"
   ]
  },
  {
   "cell_type": "code",
   "execution_count": 14,
   "metadata": {},
   "outputs": [],
   "source": [
    "data = []\n",
    "data.append(Scatter(x=means.index, y=100*np.array(means[\"dfs_strong\"]), name=\"Ours Strong\",\n",
    "                   line = dict(\n",
    "        color = ('rgb(0, 0, 0)'),\n",
    "        width = 4))) # dash options include 'dash', 'dot', and 'dashdot'))\n",
    "data.append(Scatter(x=means.index, y=100*np.array(means[\"dfs_weak\"]), name=\"Ours Weak\",\n",
    "                   line = dict(\n",
    "        color = ('rgb(0, 0, 0)'),\n",
    "        width = 4, dash = \"dashdot\"))) # dash options include 'dash', 'dot', and 'dashdot\n",
    "data.append(Scatter(x=means.index, y=100*np.array(means[\"susie\"]), name=\"Smusie\",\n",
    "                   line = dict(\n",
    "        color = ('rgb(0, 0, 0)'),\n",
    "        width = 4,\n",
    "        dash = 'dot')))\n",
    "# data.append(Scatter(x=means.index, y=100*np.array(means[\"susie_sub\"]), name=\"With Subfunctions\",\n",
    "#                   line = dict(\n",
    "#        color = ('rgb(0, 0, 0)'),\n",
    "#        width = 4)))"
   ]
  },
  {
   "cell_type": "code",
   "execution_count": 15,
   "metadata": {},
   "outputs": [
    {
     "data": {
      "application/vnd.plotly.v1+json": {
       "data": [
        {
         "line": {
          "color": "rgb(0, 0, 0)",
          "width": 4
         },
         "name": "Ours Strong",
         "type": "scatter",
         "x": [
          5,
          10,
          15,
          20,
          25,
          30,
          35,
          40,
          45
         ],
         "y": [
          4.214285714285714,
          12.642857142857142,
          12.642857142857142,
          30.214285714285715,
          37.57142857142857,
          59.954545454545446,
          51.28571428571429,
          71.21428571428572,
          74.21428571428571
         ]
        },
        {
         "line": {
          "color": "rgb(0, 0, 0)",
          "dash": "dashdot",
          "width": 4
         },
         "name": "Ours Weak",
         "type": "scatter",
         "x": [
          5,
          10,
          15,
          20,
          25,
          30,
          35,
          40,
          45
         ],
         "y": [
          6.571428571428571,
          21,
          20.285714285714285,
          44.642857142857146,
          53.57142857142857,
          75.68181818181819,
          68.64285714285714,
          85.85714285714286,
          88.57142857142857
         ]
        },
        {
         "line": {
          "color": "rgb(0, 0, 0)",
          "dash": "dot",
          "width": 4
         },
         "name": "Smusie",
         "type": "scatter",
         "x": [
          5,
          10,
          15,
          20,
          25,
          30,
          35,
          40,
          45
         ],
         "y": [
          0.5,
          2.7142857142857144,
          2.357142857142857,
          7.428571428571429,
          7.357142857142857,
          13.272727272727272,
          10.071428571428571,
          16.357142857142858,
          13.785714285714285
         ]
        }
       ],
       "layout": {
        "font": {
         "family": "Latin Modern Math",
         "size": 18
        },
        "legend": {
         "x": 0,
         "y": 1
        },
        "xaxis": {
         "autorange": true,
         "autotick": true,
         "showgrid": false,
         "showline": false,
         "showticklabels": true,
         "ticks": "",
         "title": "Number of Functions",
         "zeroline": false
        },
        "yaxis": {
         "autorange": true,
         "autotick": true,
         "showgrid": false,
         "showline": true,
         "showticklabels": true,
         "ticks": "",
         "title": "Percentage of Answered Queries",
         "zeroline": true
        }
       }
      },
      "text/html": [
       "<div id=\"5343fab7-c8a7-4eed-89b9-1f28782c2299\" style=\"height: 525px; width: 100%;\" class=\"plotly-graph-div\"></div><script type=\"text/javascript\">require([\"plotly\"], function(Plotly) { window.PLOTLYENV=window.PLOTLYENV || {};window.PLOTLYENV.BASE_URL=\"https://plot.ly\";Plotly.newPlot(\"5343fab7-c8a7-4eed-89b9-1f28782c2299\", [{\"type\": \"scatter\", \"x\": [5, 10, 15, 20, 25, 30, 35, 40, 45], \"y\": [4.214285714285714, 12.642857142857142, 12.642857142857142, 30.214285714285715, 37.57142857142857, 59.954545454545446, 51.28571428571429, 71.21428571428572, 74.21428571428571], \"name\": \"Ours Strong\", \"line\": {\"color\": \"rgb(0, 0, 0)\", \"width\": 4}}, {\"type\": \"scatter\", \"x\": [5, 10, 15, 20, 25, 30, 35, 40, 45], \"y\": [6.571428571428571, 21.0, 20.285714285714285, 44.642857142857146, 53.57142857142857, 75.68181818181819, 68.64285714285714, 85.85714285714286, 88.57142857142857], \"name\": \"Ours Weak\", \"line\": {\"color\": \"rgb(0, 0, 0)\", \"width\": 4, \"dash\": \"dashdot\"}}, {\"type\": \"scatter\", \"x\": [5, 10, 15, 20, 25, 30, 35, 40, 45], \"y\": [0.5, 2.7142857142857144, 2.357142857142857, 7.428571428571429, 7.357142857142857, 13.272727272727272, 10.071428571428571, 16.357142857142858, 13.785714285714285], \"name\": \"Smusie\", \"line\": {\"color\": \"rgb(0, 0, 0)\", \"width\": 4, \"dash\": \"dot\"}}], {\"font\": {\"family\": \"Latin Modern Math\", \"size\": 18}, \"xaxis\": {\"title\": \"Number of Functions\", \"autorange\": true, \"showgrid\": false, \"zeroline\": false, \"showline\": false, \"autotick\": true, \"ticks\": \"\", \"showticklabels\": true}, \"yaxis\": {\"title\": \"Percentage of Answered Queries\", \"autorange\": true, \"showgrid\": false, \"zeroline\": true, \"showline\": true, \"autotick\": true, \"ticks\": \"\", \"showticklabels\": true}, \"legend\": {\"x\": 0, \"y\": 1}}, {\"showLink\": true, \"linkText\": \"Export to plot.ly\"})});</script>"
      ],
      "text/vnd.plotly.v1+html": [
       "<div id=\"5343fab7-c8a7-4eed-89b9-1f28782c2299\" style=\"height: 525px; width: 100%;\" class=\"plotly-graph-div\"></div><script type=\"text/javascript\">require([\"plotly\"], function(Plotly) { window.PLOTLYENV=window.PLOTLYENV || {};window.PLOTLYENV.BASE_URL=\"https://plot.ly\";Plotly.newPlot(\"5343fab7-c8a7-4eed-89b9-1f28782c2299\", [{\"type\": \"scatter\", \"x\": [5, 10, 15, 20, 25, 30, 35, 40, 45], \"y\": [4.214285714285714, 12.642857142857142, 12.642857142857142, 30.214285714285715, 37.57142857142857, 59.954545454545446, 51.28571428571429, 71.21428571428572, 74.21428571428571], \"name\": \"Ours Strong\", \"line\": {\"color\": \"rgb(0, 0, 0)\", \"width\": 4}}, {\"type\": \"scatter\", \"x\": [5, 10, 15, 20, 25, 30, 35, 40, 45], \"y\": [6.571428571428571, 21.0, 20.285714285714285, 44.642857142857146, 53.57142857142857, 75.68181818181819, 68.64285714285714, 85.85714285714286, 88.57142857142857], \"name\": \"Ours Weak\", \"line\": {\"color\": \"rgb(0, 0, 0)\", \"width\": 4, \"dash\": \"dashdot\"}}, {\"type\": \"scatter\", \"x\": [5, 10, 15, 20, 25, 30, 35, 40, 45], \"y\": [0.5, 2.7142857142857144, 2.357142857142857, 7.428571428571429, 7.357142857142857, 13.272727272727272, 10.071428571428571, 16.357142857142858, 13.785714285714285], \"name\": \"Smusie\", \"line\": {\"color\": \"rgb(0, 0, 0)\", \"width\": 4, \"dash\": \"dot\"}}], {\"font\": {\"family\": \"Latin Modern Math\", \"size\": 18}, \"xaxis\": {\"title\": \"Number of Functions\", \"autorange\": true, \"showgrid\": false, \"zeroline\": false, \"showline\": false, \"autotick\": true, \"ticks\": \"\", \"showticklabels\": true}, \"yaxis\": {\"title\": \"Percentage of Answered Queries\", \"autorange\": true, \"showgrid\": false, \"zeroline\": true, \"showline\": true, \"autotick\": true, \"ticks\": \"\", \"showticklabels\": true}, \"legend\": {\"x\": 0, \"y\": 1}}, {\"showLink\": true, \"linkText\": \"Export to plot.ly\"})});</script>"
      ]
     },
     "metadata": {},
     "output_type": "display_data"
    }
   ],
   "source": [
    "layout = Layout(\n",
    "  #  title='Comparisation Performance With Rule Order Optimization',\n",
    "    font=dict(family='Latin Modern Math', size=6*3),\n",
    "    xaxis=dict(\n",
    "        title='Number of Functions',\n",
    "        autorange=True,\n",
    "        showgrid=False,\n",
    "        zeroline=False,\n",
    "        showline=False,\n",
    "        autotick=True,\n",
    "        ticks='',\n",
    "        showticklabels=True\n",
    "    ),\n",
    "    yaxis=dict(\n",
    "        title='Percentage of Answered Queries',\n",
    "        autorange=True,\n",
    "        showgrid=False,\n",
    "        zeroline=True,\n",
    "        showline=True,\n",
    "        autotick=True,\n",
    "        ticks='',\n",
    "        showticklabels=True\n",
    "    ),\n",
    "    legend=dict(x=0, y=1)\n",
    ")\n",
    "fig = Figure(data=data, layout=layout)\n",
    "iplot(fig)"
   ]
  },
  {
   "cell_type": "code",
   "execution_count": 16,
   "metadata": {},
   "outputs": [],
   "source": [
    "df_n_relations = df[df[\"n_functions\"] == 30]"
   ]
  },
  {
   "cell_type": "code",
   "execution_count": 17,
   "metadata": {},
   "outputs": [],
   "source": [
    "df_grouped = df_n_relations[[\"dfs_strong\", \"dfs_weak\", \"susie\", \"susie_sub\", \"n_relations\"]].groupby(by=\"n_relations\")"
   ]
  },
  {
   "cell_type": "code",
   "execution_count": 18,
   "metadata": {},
   "outputs": [],
   "source": [
    "means = df_grouped.agg(\"mean\")"
   ]
  },
  {
   "cell_type": "code",
   "execution_count": 19,
   "metadata": {},
   "outputs": [
    {
     "data": {
      "text/plain": [
       "<matplotlib.axes._subplots.AxesSubplot at 0x7f9088192dd8>"
      ]
     },
     "execution_count": 19,
     "metadata": {},
     "output_type": "execute_result"
    },
    {
     "data": {
      "image/png": "[encoded data removed]",
      "text/plain": [
       "<Figure size 432x288 with 1 Axes>"
      ]
     },
     "metadata": {},
     "output_type": "display_data"
    }
   ],
   "source": [
    "means.plot(kind=\"line\")"
   ]
  },
  {
   "cell_type": "code",
   "execution_count": 20,
   "metadata": {},
   "outputs": [],
   "source": [
    "data = []\n",
    "data.append(Scatter(x=means.index, y=100*np.array(means[\"dfs_strong\"]), name=\"Ours Strong\",\n",
    "                   line = dict(\n",
    "        color = ('rgb(0, 0, 0)'),\n",
    "        width = 4))) # dash options include 'dash', 'dot', and 'dashdot'))\n",
    "data.append(Scatter(x=means.index, y=100*np.array(means[\"dfs_weak\"]), name=\"Ours Weak\",\n",
    "                   line = dict(\n",
    "        color = ('rgb(0, 0, 0)'),\n",
    "        width = 4,\n",
    "        dash = \"dashdot\"))) # dash options include 'dash', 'dot', and 'dashdot'))\n",
    "data.append(Scatter(x=means.index, y=100*np.array(means[\"susie\"]), name=\"Smusie\",\n",
    "                   line = dict(\n",
    "        color = ('rgb(0, 0, 0)'),\n",
    "        width = 4,\n",
    "        dash = 'dot')))\n",
    "#data.append(Scatter(x=means.index, y=100*np.array(means[\"susie_sub\"]), name=\"With Subfunctions\",\n",
    "#                   line = dict(\n",
    "#        color = ('rgb(0, 0, 0)'),\n",
    "#        width = 4)))"
   ]
  },
  {
   "cell_type": "code",
   "execution_count": 21,
   "metadata": {},
   "outputs": [
    {
     "data": {
      "application/vnd.plotly.v1+json": {
       "data": [
        {
         "line": {
          "color": "rgb(0, 0, 0)",
          "width": 4
         },
         "name": "Ours Strong",
         "type": "scatter",
         "x": [
          2,
          4,
          6,
          8,
          10,
          12,
          14,
          16,
          18
         ],
         "y": [
          100,
          96.875,
          82.625,
          75.625,
          59.954545454545446,
          41.625,
          27.250000000000004,
          18.5,
          13.625000000000002
         ]
        },
        {
         "line": {
          "color": "rgb(0, 0, 0)",
          "dash": "dashdot",
          "width": 4
         },
         "name": "Ours Weak",
         "type": "scatter",
         "x": [
          2,
          4,
          6,
          8,
          10,
          12,
          14,
          16,
          18
         ],
         "y": [
          100,
          99.625,
          93,
          88.125,
          75.68181818181819,
          60.62499999999999,
          41.75,
          28.249999999999996,
          23
         ]
        },
        {
         "line": {
          "color": "rgb(0, 0, 0)",
          "dash": "dot",
          "width": 4
         },
         "name": "Smusie",
         "type": "scatter",
         "x": [
          2,
          4,
          6,
          8,
          10,
          12,
          14,
          16,
          18
         ],
         "y": [
          93.5,
          39.125,
          22.5,
          22.125,
          13.272727272727272,
          7.875,
          4.625,
          3.75,
          3.125
         ]
        }
       ],
       "layout": {
        "font": {
         "family": "Latin Modern Math",
         "size": 18
        },
        "legend": {
         "x": 0.6,
         "y": 1
        },
        "xaxis": {
         "autorange": true,
         "autotick": true,
         "showgrid": false,
         "showline": false,
         "showticklabels": true,
         "ticks": "",
         "title": "Number of Relations",
         "zeroline": false
        },
        "yaxis": {
         "autorange": true,
         "autotick": true,
         "showgrid": false,
         "showline": true,
         "showticklabels": true,
         "ticks": "",
         "title": "Percentage of Answered Queries",
         "zeroline": true
        }
       }
      },
      "text/html": [
       "<div id=\"67a35f5c-bd44-42bf-8dd7-3f64aa000d3e\" style=\"height: 525px; width: 100%;\" class=\"plotly-graph-div\"></div><script type=\"text/javascript\">require([\"plotly\"], function(Plotly) { window.PLOTLYENV=window.PLOTLYENV || {};window.PLOTLYENV.BASE_URL=\"https://plot.ly\";Plotly.newPlot(\"67a35f5c-bd44-42bf-8dd7-3f64aa000d3e\", [{\"type\": \"scatter\", \"x\": [2, 4, 6, 8, 10, 12, 14, 16, 18], \"y\": [100.0, 96.875, 82.625, 75.625, 59.954545454545446, 41.625, 27.250000000000004, 18.5, 13.625000000000002], \"name\": \"Ours Strong\", \"line\": {\"color\": \"rgb(0, 0, 0)\", \"width\": 4}}, {\"type\": \"scatter\", \"x\": [2, 4, 6, 8, 10, 12, 14, 16, 18], \"y\": [100.0, 99.625, 93.0, 88.125, 75.68181818181819, 60.62499999999999, 41.75, 28.249999999999996, 23.0], \"name\": \"Ours Weak\", \"line\": {\"color\": \"rgb(0, 0, 0)\", \"width\": 4, \"dash\": \"dashdot\"}}, {\"type\": \"scatter\", \"x\": [2, 4, 6, 8, 10, 12, 14, 16, 18], \"y\": [93.5, 39.125, 22.5, 22.125, 13.272727272727272, 7.875, 4.625, 3.75, 3.125], \"name\": \"Smusie\", \"line\": {\"color\": \"rgb(0, 0, 0)\", \"width\": 4, \"dash\": \"dot\"}}], {\"font\": {\"family\": \"Latin Modern Math\", \"size\": 18}, \"xaxis\": {\"title\": \"Number of Relations\", \"autorange\": true, \"showgrid\": false, \"zeroline\": false, \"showline\": false, \"autotick\": true, \"ticks\": \"\", \"showticklabels\": true}, \"yaxis\": {\"title\": \"Percentage of Answered Queries\", \"autorange\": true, \"showgrid\": false, \"zeroline\": true, \"showline\": true, \"autotick\": true, \"ticks\": \"\", \"showticklabels\": true}, \"legend\": {\"x\": 0.6, \"y\": 1}}, {\"showLink\": true, \"linkText\": \"Export to plot.ly\"})});</script>"
      ],
      "text/vnd.plotly.v1+html": [
       "<div id=\"67a35f5c-bd44-42bf-8dd7-3f64aa000d3e\" style=\"height: 525px; width: 100%;\" class=\"plotly-graph-div\"></div><script type=\"text/javascript\">require([\"plotly\"], function(Plotly) { window.PLOTLYENV=window.PLOTLYENV || {};window.PLOTLYENV.BASE_URL=\"https://plot.ly\";Plotly.newPlot(\"67a35f5c-bd44-42bf-8dd7-3f64aa000d3e\", [{\"type\": \"scatter\", \"x\": [2, 4, 6, 8, 10, 12, 14, 16, 18], \"y\": [100.0, 96.875, 82.625, 75.625, 59.954545454545446, 41.625, 27.250000000000004, 18.5, 13.625000000000002], \"name\": \"Ours Strong\", \"line\": {\"color\": \"rgb(0, 0, 0)\", \"width\": 4}}, {\"type\": \"scatter\", \"x\": [2, 4, 6, 8, 10, 12, 14, 16, 18], \"y\": [100.0, 99.625, 93.0, 88.125, 75.68181818181819, 60.62499999999999, 41.75, 28.249999999999996, 23.0], \"name\": \"Ours Weak\", \"line\": {\"color\": \"rgb(0, 0, 0)\", \"width\": 4, \"dash\": \"dashdot\"}}, {\"type\": \"scatter\", \"x\": [2, 4, 6, 8, 10, 12, 14, 16, 18], \"y\": [93.5, 39.125, 22.5, 22.125, 13.272727272727272, 7.875, 4.625, 3.75, 3.125], \"name\": \"Smusie\", \"line\": {\"color\": \"rgb(0, 0, 0)\", \"width\": 4, \"dash\": \"dot\"}}], {\"font\": {\"family\": \"Latin Modern Math\", \"size\": 18}, \"xaxis\": {\"title\": \"Number of Relations\", \"autorange\": true, \"showgrid\": false, \"zeroline\": false, \"showline\": false, \"autotick\": true, \"ticks\": \"\", \"showticklabels\": true}, \"yaxis\": {\"title\": \"Percentage of Answered Queries\", \"autorange\": true, \"showgrid\": false, \"zeroline\": true, \"showline\": true, \"autotick\": true, \"ticks\": \"\", \"showticklabels\": true}, \"legend\": {\"x\": 0.6, \"y\": 1}}, {\"showLink\": true, \"linkText\": \"Export to plot.ly\"})});</script>"
      ]
     },
     "metadata": {},
     "output_type": "display_data"
    }
   ],
   "source": [
    "layout = Layout(\n",
    "  #  title='Comparisation Performance With Rule Order Optimization',\n",
    "    font=dict(family='Latin Modern Math', size=6*3),\n",
    "    xaxis=dict(\n",
    "        title='Number of Relations',\n",
    "        autorange=True,\n",
    "        showgrid=False,\n",
    "        zeroline=False,\n",
    "        showline=False,\n",
    "        autotick=True,\n",
    "        ticks='',\n",
    "        showticklabels=True\n",
    "    ),\n",
    "    yaxis=dict(\n",
    "        title='Percentage of Answered Queries',\n",
    "        autorange=True,\n",
    "        showgrid=False,\n",
    "        zeroline=True,\n",
    "        showline=True,\n",
    "        autotick=True,\n",
    "        ticks='',\n",
    "        showticklabels=True\n",
    "    ),\n",
    "    legend=dict(x=0.6, y=1)\n",
    ")\n",
    "fig = Figure(data=data, layout=layout)\n",
    "iplot(fig)"
   ]
  },
  {
   "cell_type": "markdown",
   "metadata": {},
   "source": [
    "RUNTIME"
   ]
  },
  {
   "cell_type": "code",
   "execution_count": 46,
   "metadata": {},
   "outputs": [],
   "source": [
    "df_grouped = df_n_functions[[\"dfs_weak_time\", \"dfs_strong_time\",\n",
    "                                                                 \"t_susie\",\n",
    "                             \"n_functions\"]].groupby(by=\"n_functions\")"
   ]
  },
  {
   "cell_type": "code",
   "execution_count": 47,
   "metadata": {},
   "outputs": [],
   "source": [
    "df_grouped = df_n_functions[[\"dfs_weak_time\", \"dfs_strong_time\",\n",
    "                                                                 \"t_susie\",\n",
    "                             \"n_functions\"]].groupby(by=\"n_functions\")"
   ]
  },
  {
   "cell_type": "code",
   "execution_count": 48,
   "metadata": {},
   "outputs": [],
   "source": [
    "means = df_grouped.agg(\"mean\")"
   ]
  },
  {
   "cell_type": "code",
   "execution_count": 49,
   "metadata": {},
   "outputs": [
    {
     "data": {
      "text/plain": [
       "<matplotlib.axes._subplots.AxesSubplot at 0x7f9085f0a9e8>"
      ]
     },
     "execution_count": 49,
     "metadata": {},
     "output_type": "execute_result"
    },
    {
     "data": {
      "image/png": "[encoded data removed]",
      "text/plain": [
       "<Figure size 432x288 with 1 Axes>"
      ]
     },
     "metadata": {},
     "output_type": "display_data"
    }
   ],
   "source": [
    "means.plot(kind=\"line\")"
   ]
  },
  {
   "cell_type": "code",
   "execution_count": 50,
   "metadata": {},
   "outputs": [
    {
     "data": {
      "text/plain": [
       "Int64Index([5, 10, 15, 20, 25, 30, 35, 40, 45], dtype='int64', name='n_functions')"
      ]
     },
     "execution_count": 50,
     "metadata": {},
     "output_type": "execute_result"
    }
   ],
   "source": [
    "means.index"
   ]
  },
  {
   "cell_type": "code",
   "execution_count": 51,
   "metadata": {},
   "outputs": [],
   "source": [
    "data = []\n",
    "data.append(Scatter(x=means.index, y=np.array(means[\"dfs_strong_time\"]), name=\"Ours Strong Time\",\n",
    "                   line = dict(\n",
    "        color = ('rgb(0, 0, 0)'),\n",
    "        width = 4))) # dash options include 'dash', 'dot', and 'dashdot'))\n",
    "data.append(Scatter(x=means.index, y=np.array(means[\"dfs_weak_time\"]), name=\"Ours Weak Time\",\n",
    "                   line = dict(\n",
    "        color = ('rgb(0, 0, 0)'),\n",
    "        width = 4, dash = \"dashdot\"))) # dash options include 'dash', 'dot', and 'dashdot\n",
    "data.append(Scatter(x=means.index, y=np.array(means[\"t_susie\"]), name=\"Smusie Time\",\n",
    "                   line = dict(\n",
    "        color = ('rgb(0, 0, 0)'),\n",
    "        width = 4,\n",
    "        dash = 'dot')))\n",
    "# data.append(Scatter(x=means.index, y=100*np.array(means[\"susie_sub\"]), name=\"With Subfunctions\",\n",
    "#                   line = dict(\n",
    "#        color = ('rgb(0, 0, 0)'),\n",
    "#        width = 4)))"
   ]
  },
  {
   "cell_type": "code",
   "execution_count": 52,
   "metadata": {},
   "outputs": [
    {
     "data": {
      "application/vnd.plotly.v1+json": {
       "data": [
        {
         "line": {
          "color": "rgb(0, 0, 0)",
          "width": 4
         },
         "name": "Ours Strong Time",
         "type": "scatter",
         "x": [
          5,
          10,
          15,
          20,
          25,
          30,
          35,
          40,
          45
         ],
         "y": [
          0.001647470167704991,
          0.01738036240850176,
          0.045763320411954606,
          0.15251926183700562,
          0.25576852304594855,
          0.4276786583120173,
          0.6054533081395286,
          0.8307049640587398,
          0.9872278259481703
         ]
        },
        {
         "line": {
          "color": "rgb(0, 0, 0)",
          "dash": "dashdot",
          "width": 4
         },
         "name": "Ours Weak Time",
         "type": "scatter",
         "x": [
          5,
          10,
          15,
          20,
          25,
          30,
          35,
          40,
          45
         ],
         "y": [
          0.002046881914138794,
          0.022985485451562065,
          0.0577995160647801,
          0.1754979123388018,
          0.29882825221334186,
          0.4860778575593775,
          0.6824411877564022,
          0.9180378469399043,
          1.0925100936208452
         ]
        },
        {
         "line": {
          "color": "rgb(0, 0, 0)",
          "dash": "dot",
          "width": 4
         },
         "name": "Smusie Time",
         "type": "scatter",
         "x": [
          5,
          10,
          15,
          20,
          25,
          30,
          35,
          40,
          45
         ],
         "y": [
          0.0008164589745657785,
          0.002088442529950823,
          0.003610053062438965,
          0.00585975102015904,
          0.008611933333533151,
          0.011785966157913209,
          0.015276234320231846,
          0.019569121258599418,
          0.024061469861439297
         ]
        }
       ],
       "layout": {
        "font": {
         "family": "Latin Modern Math",
         "size": 18
        },
        "legend": {
         "x": 0,
         "y": 1
        },
        "xaxis": {
         "autorange": true,
         "autotick": true,
         "showgrid": false,
         "showline": false,
         "showticklabels": true,
         "ticks": "",
         "title": "Number of Functions",
         "zeroline": false
        },
        "yaxis": {
         "autorange": true,
         "autotick": true,
         "showgrid": false,
         "showline": true,
         "showticklabels": true,
         "ticks": "",
         "title": "Runtime in seconds",
         "zeroline": true
        }
       }
      },
      "text/html": [
       "<div id=\"90b298f8-d55a-44fe-a8ba-e70a7295259a\" style=\"height: 525px; width: 100%;\" class=\"plotly-graph-div\"></div><script type=\"text/javascript\">require([\"plotly\"], function(Plotly) { window.PLOTLYENV=window.PLOTLYENV || {};window.PLOTLYENV.BASE_URL=\"https://plot.ly\";Plotly.newPlot(\"90b298f8-d55a-44fe-a8ba-e70a7295259a\", [{\"type\": \"scatter\", \"x\": [5, 10, 15, 20, 25, 30, 35, 40, 45], \"y\": [0.001647470167704991, 0.01738036240850176, 0.045763320411954606, 0.15251926183700562, 0.25576852304594855, 0.4276786583120173, 0.6054533081395286, 0.8307049640587398, 0.9872278259481703], \"name\": \"Ours Strong Time\", \"line\": {\"color\": \"rgb(0, 0, 0)\", \"width\": 4}}, {\"type\": \"scatter\", \"x\": [5, 10, 15, 20, 25, 30, 35, 40, 45], \"y\": [0.002046881914138794, 0.022985485451562065, 0.0577995160647801, 0.1754979123388018, 0.29882825221334186, 0.4860778575593775, 0.6824411877564022, 0.9180378469399043, 1.0925100936208452], \"name\": \"Ours Weak Time\", \"line\": {\"color\": \"rgb(0, 0, 0)\", \"width\": 4, \"dash\": \"dashdot\"}}, {\"type\": \"scatter\", \"x\": [5, 10, 15, 20, 25, 30, 35, 40, 45], \"y\": [0.0008164589745657785, 0.002088442529950823, 0.003610053062438965, 0.00585975102015904, 0.008611933333533151, 0.011785966157913209, 0.015276234320231846, 0.019569121258599418, 0.024061469861439297], \"name\": \"Smusie Time\", \"line\": {\"color\": \"rgb(0, 0, 0)\", \"width\": 4, \"dash\": \"dot\"}}], {\"font\": {\"family\": \"Latin Modern Math\", \"size\": 18}, \"xaxis\": {\"title\": \"Number of Functions\", \"autorange\": true, \"showgrid\": false, \"zeroline\": false, \"showline\": false, \"autotick\": true, \"ticks\": \"\", \"showticklabels\": true}, \"yaxis\": {\"title\": \"Runtime in seconds\", \"autorange\": true, \"showgrid\": false, \"zeroline\": true, \"showline\": true, \"autotick\": true, \"ticks\": \"\", \"showticklabels\": true}, \"legend\": {\"x\": 0, \"y\": 1}}, {\"showLink\": true, \"linkText\": \"Export to plot.ly\"})});</script>"
      ],
      "text/vnd.plotly.v1+html": [
       "<div id=\"90b298f8-d55a-44fe-a8ba-e70a7295259a\" style=\"height: 525px; width: 100%;\" class=\"plotly-graph-div\"></div><script type=\"text/javascript\">require([\"plotly\"], function(Plotly) { window.PLOTLYENV=window.PLOTLYENV || {};window.PLOTLYENV.BASE_URL=\"https://plot.ly\";Plotly.newPlot(\"90b298f8-d55a-44fe-a8ba-e70a7295259a\", [{\"type\": \"scatter\", \"x\": [5, 10, 15, 20, 25, 30, 35, 40, 45], \"y\": [0.001647470167704991, 0.01738036240850176, 0.045763320411954606, 0.15251926183700562, 0.25576852304594855, 0.4276786583120173, 0.6054533081395286, 0.8307049640587398, 0.9872278259481703], \"name\": \"Ours Strong Time\", \"line\": {\"color\": \"rgb(0, 0, 0)\", \"width\": 4}}, {\"type\": \"scatter\", \"x\": [5, 10, 15, 20, 25, 30, 35, 40, 45], \"y\": [0.002046881914138794, 0.022985485451562065, 0.0577995160647801, 0.1754979123388018, 0.29882825221334186, 0.4860778575593775, 0.6824411877564022, 0.9180378469399043, 1.0925100936208452], \"name\": \"Ours Weak Time\", \"line\": {\"color\": \"rgb(0, 0, 0)\", \"width\": 4, \"dash\": \"dashdot\"}}, {\"type\": \"scatter\", \"x\": [5, 10, 15, 20, 25, 30, 35, 40, 45], \"y\": [0.0008164589745657785, 0.002088442529950823, 0.003610053062438965, 0.00585975102015904, 0.008611933333533151, 0.011785966157913209, 0.015276234320231846, 0.019569121258599418, 0.024061469861439297], \"name\": \"Smusie Time\", \"line\": {\"color\": \"rgb(0, 0, 0)\", \"width\": 4, \"dash\": \"dot\"}}], {\"font\": {\"family\": \"Latin Modern Math\", \"size\": 18}, \"xaxis\": {\"title\": \"Number of Functions\", \"autorange\": true, \"showgrid\": false, \"zeroline\": false, \"showline\": false, \"autotick\": true, \"ticks\": \"\", \"showticklabels\": true}, \"yaxis\": {\"title\": \"Runtime in seconds\", \"autorange\": true, \"showgrid\": false, \"zeroline\": true, \"showline\": true, \"autotick\": true, \"ticks\": \"\", \"showticklabels\": true}, \"legend\": {\"x\": 0, \"y\": 1}}, {\"showLink\": true, \"linkText\": \"Export to plot.ly\"})});</script>"
      ]
     },
     "metadata": {},
     "output_type": "display_data"
    }
   ],
   "source": [
    "layout = Layout(\n",
    "  #  title='Comparisation Performance With Rule Order Optimization',\n",
    "    font=dict(family='Latin Modern Math', size=6*3),\n",
    "    xaxis=dict(\n",
    "        title='Number of Functions',\n",
    "        autorange=True,\n",
    "        showgrid=False,\n",
    "        zeroline=False,\n",
    "        showline=False,\n",
    "        autotick=True,\n",
    "        ticks='',\n",
    "        showticklabels=True\n",
    "    ),\n",
    "    yaxis=dict(\n",
    "        title='Runtime in seconds',\n",
    "        autorange=True,\n",
    "        showgrid=False,\n",
    "        zeroline=True,\n",
    "        showline=True,\n",
    "        autotick=True,\n",
    "        ticks='',\n",
    "        showticklabels=True\n",
    "    ),\n",
    "    legend=dict(x=0, y=1)\n",
    ")\n",
    "fig = Figure(data=data, layout=layout)\n",
    "iplot(fig)"
   ]
  },
  {
   "cell_type": "code",
   "execution_count": null,
   "metadata": {},
   "outputs": [],
   "source": []
  },
  {
   "cell_type": "code",
   "execution_count": 35,
   "metadata": {},
   "outputs": [],
   "source": [
    "df_n_relations = df[df[\"n_functions\"] == 30]"
   ]
  },
  {
   "cell_type": "code",
   "execution_count": 36,
   "metadata": {},
   "outputs": [],
   "source": [
    "df_grouped = df_n_relations[[\"dfs_weak_time\", \"dfs_strong_time\",\n",
    "                                                                 \"t_susie\", \"n_relations\"]].groupby(by=\"n_relations\")"
   ]
  },
  {
   "cell_type": "code",
   "execution_count": 37,
   "metadata": {},
   "outputs": [],
   "source": [
    "means = df_grouped.agg(\"mean\")"
   ]
  },
  {
   "cell_type": "code",
   "execution_count": 38,
   "metadata": {},
   "outputs": [
    {
     "data": {
      "text/plain": [
       "<matplotlib.axes._subplots.AxesSubplot at 0x7f9085f2ba90>"
      ]
     },
     "execution_count": 38,
     "metadata": {},
     "output_type": "execute_result"
    },
    {
     "data": {
      "image/png": "[encoded data removed]",
      "text/plain": [
       "<Figure size 432x288 with 1 Axes>"
      ]
     },
     "metadata": {},
     "output_type": "display_data"
    }
   ],
   "source": [
    "means.plot(kind=\"line\")"
   ]
  },
  {
   "cell_type": "code",
   "execution_count": 43,
   "metadata": {},
   "outputs": [],
   "source": [
    "data = []\n",
    "data.append(Scatter(x=means.index, y=np.array(means[\"dfs_strong_time\"]), name=\"Ours Strong Time\",\n",
    "                   line = dict(\n",
    "        color = ('rgb(0, 0, 0)'),\n",
    "        width = 4))) # dash options include 'dash', 'dot', and 'dashdot'))\n",
    "data.append(Scatter(x=means.index, y=np.array(means[\"dfs_weak_time\"]), name=\"Ours Weak Time\",\n",
    "                   line = dict(\n",
    "        color = ('rgb(0, 0, 0)'),\n",
    "        width = 4,\n",
    "        dash = \"dashdot\"))) # dash options include 'dash', 'dot', and 'dashdot'))\n",
    "data.append(Scatter(x=means.index, y=np.array(means[\"t_susie\"]), name=\"Smusie Time\",\n",
    "                   line = dict(\n",
    "        color = ('rgb(0, 0, 0)'),\n",
    "        width = 4,\n",
    "        dash = 'dot')))\n",
    "#data.append(Scatter(x=means.index, y=100*np.array(means[\"susie_sub\"]), name=\"With Subfunctions\",\n",
    "#                   line = dict(\n",
    "#        color = ('rgb(0, 0, 0)'),\n",
    "#        width = 4)))"
   ]
  },
  {
   "cell_type": "code",
   "execution_count": 44,
   "metadata": {},
   "outputs": [
    {
     "data": {
      "application/vnd.plotly.v1+json": {
       "data": [
        {
         "line": {
          "color": "rgb(0, 0, 0)",
          "width": 4
         },
         "name": "Ours Strong Time",
         "type": "scatter",
         "x": [
          2,
          4,
          6,
          8,
          10,
          12,
          14,
          16,
          18
         ],
         "y": [
          0.5296082445979118,
          0.49519176602363585,
          0.48585387408733366,
          0.4658207589387894,
          0.4276786583120173,
          0.37097344011068345,
          0.29102297335863114,
          0.24542446285486222,
          0.18713029474020004
         ]
        },
        {
         "line": {
          "color": "rgb(0, 0, 0)",
          "dash": "dashdot",
          "width": 4
         },
         "name": "Ours Weak Time",
         "type": "scatter",
         "x": [
          2,
          4,
          6,
          8,
          10,
          12,
          14,
          16,
          18
         ],
         "y": [
          0.5608805775642395,
          0.5300370353460312,
          0.5319216752052307,
          0.5253729528188705,
          0.4860778575593775,
          0.43354089885950087,
          0.3468239715695381,
          0.301828433573246,
          0.23919994831085206
         ]
        },
        {
         "line": {
          "color": "rgb(0, 0, 0)",
          "dash": "dot",
          "width": 4
         },
         "name": "Smusie Time",
         "type": "scatter",
         "x": [
          2,
          4,
          6,
          8,
          10,
          12,
          14,
          16,
          18
         ],
         "y": [
          0.00831613302230835,
          0.011576578915119172,
          0.011842293739318848,
          0.01177938848733902,
          0.011785966157913209,
          0.011478975713253022,
          0.011019971370697022,
          0.01065509021282196,
          0.010491442680358887
         ]
        }
       ],
       "layout": {
        "font": {
         "family": "Latin Modern Math",
         "size": 18
        },
        "legend": {
         "x": 0.7,
         "y": 1
        },
        "xaxis": {
         "autorange": true,
         "autotick": true,
         "showgrid": false,
         "showline": false,
         "showticklabels": true,
         "ticks": "",
         "title": "Number of Relations",
         "zeroline": false
        },
        "yaxis": {
         "autorange": true,
         "autotick": true,
         "showgrid": false,
         "showline": true,
         "showticklabels": true,
         "ticks": "",
         "title": "Runtime in seconds",
         "zeroline": true
        }
       }
      },
      "text/html": [
       "<div id=\"3d74e7db-e354-4bf2-883a-dd04ca79a11d\" style=\"height: 525px; width: 100%;\" class=\"plotly-graph-div\"></div><script type=\"text/javascript\">require([\"plotly\"], function(Plotly) { window.PLOTLYENV=window.PLOTLYENV || {};window.PLOTLYENV.BASE_URL=\"https://plot.ly\";Plotly.newPlot(\"3d74e7db-e354-4bf2-883a-dd04ca79a11d\", [{\"type\": \"scatter\", \"x\": [2, 4, 6, 8, 10, 12, 14, 16, 18], \"y\": [0.5296082445979118, 0.49519176602363585, 0.48585387408733366, 0.4658207589387894, 0.4276786583120173, 0.37097344011068345, 0.29102297335863114, 0.24542446285486222, 0.18713029474020004], \"name\": \"Ours Strong Time\", \"line\": {\"color\": \"rgb(0, 0, 0)\", \"width\": 4}}, {\"type\": \"scatter\", \"x\": [2, 4, 6, 8, 10, 12, 14, 16, 18], \"y\": [0.5608805775642395, 0.5300370353460312, 0.5319216752052307, 0.5253729528188705, 0.4860778575593775, 0.43354089885950087, 0.3468239715695381, 0.301828433573246, 0.23919994831085206], \"name\": \"Ours Weak Time\", \"line\": {\"color\": \"rgb(0, 0, 0)\", \"width\": 4, \"dash\": \"dashdot\"}}, {\"type\": \"scatter\", \"x\": [2, 4, 6, 8, 10, 12, 14, 16, 18], \"y\": [0.00831613302230835, 0.011576578915119172, 0.011842293739318848, 0.01177938848733902, 0.011785966157913209, 0.011478975713253022, 0.011019971370697022, 0.01065509021282196, 0.010491442680358887], \"name\": \"Smusie Time\", \"line\": {\"color\": \"rgb(0, 0, 0)\", \"width\": 4, \"dash\": \"dot\"}}], {\"font\": {\"family\": \"Latin Modern Math\", \"size\": 18}, \"xaxis\": {\"title\": \"Number of Relations\", \"autorange\": true, \"showgrid\": false, \"zeroline\": false, \"showline\": false, \"autotick\": true, \"ticks\": \"\", \"showticklabels\": true}, \"yaxis\": {\"title\": \"Runtime in seconds\", \"autorange\": true, \"showgrid\": false, \"zeroline\": true, \"showline\": true, \"autotick\": true, \"ticks\": \"\", \"showticklabels\": true}, \"legend\": {\"x\": 0.7, \"y\": 1}}, {\"showLink\": true, \"linkText\": \"Export to plot.ly\"})});</script>"
      ],
      "text/vnd.plotly.v1+html": [
       "<div id=\"3d74e7db-e354-4bf2-883a-dd04ca79a11d\" style=\"height: 525px; width: 100%;\" class=\"plotly-graph-div\"></div><script type=\"text/javascript\">require([\"plotly\"], function(Plotly) { window.PLOTLYENV=window.PLOTLYENV || {};window.PLOTLYENV.BASE_URL=\"https://plot.ly\";Plotly.newPlot(\"3d74e7db-e354-4bf2-883a-dd04ca79a11d\", [{\"type\": \"scatter\", \"x\": [2, 4, 6, 8, 10, 12, 14, 16, 18], \"y\": [0.5296082445979118, 0.49519176602363585, 0.48585387408733366, 0.4658207589387894, 0.4276786583120173, 0.37097344011068345, 0.29102297335863114, 0.24542446285486222, 0.18713029474020004], \"name\": \"Ours Strong Time\", \"line\": {\"color\": \"rgb(0, 0, 0)\", \"width\": 4}}, {\"type\": \"scatter\", \"x\": [2, 4, 6, 8, 10, 12, 14, 16, 18], \"y\": [0.5608805775642395, 0.5300370353460312, 0.5319216752052307, 0.5253729528188705, 0.4860778575593775, 0.43354089885950087, 0.3468239715695381, 0.301828433573246, 0.23919994831085206], \"name\": \"Ours Weak Time\", \"line\": {\"color\": \"rgb(0, 0, 0)\", \"width\": 4, \"dash\": \"dashdot\"}}, {\"type\": \"scatter\", \"x\": [2, 4, 6, 8, 10, 12, 14, 16, 18], \"y\": [0.00831613302230835, 0.011576578915119172, 0.011842293739318848, 0.01177938848733902, 0.011785966157913209, 0.011478975713253022, 0.011019971370697022, 0.01065509021282196, 0.010491442680358887], \"name\": \"Smusie Time\", \"line\": {\"color\": \"rgb(0, 0, 0)\", \"width\": 4, \"dash\": \"dot\"}}], {\"font\": {\"family\": \"Latin Modern Math\", \"size\": 18}, \"xaxis\": {\"title\": \"Number of Relations\", \"autorange\": true, \"showgrid\": false, \"zeroline\": false, \"showline\": false, \"autotick\": true, \"ticks\": \"\", \"showticklabels\": true}, \"yaxis\": {\"title\": \"Runtime in seconds\", \"autorange\": true, \"showgrid\": false, \"zeroline\": true, \"showline\": true, \"autotick\": true, \"ticks\": \"\", \"showticklabels\": true}, \"legend\": {\"x\": 0.7, \"y\": 1}}, {\"showLink\": true, \"linkText\": \"Export to plot.ly\"})});</script>"
      ]
     },
     "metadata": {},
     "output_type": "display_data"
    }
   ],
   "source": [
    "layout = Layout(\n",
    "  #  title='Comparisation Performance With Rule Order Optimization',\n",
    "    font=dict(family='Latin Modern Math', size=6*3),\n",
    "    xaxis=dict(\n",
    "        title='Number of Relations',\n",
    "        autorange=True,\n",
    "        showgrid=False,\n",
    "        zeroline=False,\n",
    "        showline=False,\n",
    "        autotick=True,\n",
    "        ticks='',\n",
    "        showticklabels=True\n",
    "    ),\n",
    "    yaxis=dict(\n",
    "        title='Runtime in seconds',\n",
    "        autorange=True,\n",
    "        showgrid=False,\n",
    "        zeroline=True,\n",
    "        showline=True,\n",
    "        autotick=True,\n",
    "        ticks='',\n",
    "        showticklabels=True\n",
    "    ),\n",
    "    legend=dict(x=0.7, y=1)\n",
    ")\n",
    "fig = Figure(data=data, layout=layout)\n",
    "iplot(fig)"
   ]
  },
  {
   "cell_type": "code",
   "execution_count": null,
   "metadata": {},
   "outputs": [],
   "source": []
  }
 ],
 "metadata": {
  "kernelspec": {
   "display_name": "Python 3",
   "language": "python",
   "name": "python3"
  },
  "language_info": {
   "codemirror_mode": {
    "name": "ipython",
    "version": 3
   },
   "file_extension": ".py",
   "mimetype": "text/x-python",
   "name": "python",
   "nbconvert_exporter": "python",
   "pygments_lexer": "ipython3",
   "version": "3.6.5"
  }
 },
 "nbformat": 4,
 "nbformat_minor": 2
}
