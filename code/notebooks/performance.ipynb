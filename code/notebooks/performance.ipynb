{
 "cells": [
  {
   "cell_type": "code",
   "execution_count": 1,
   "metadata": {},
   "outputs": [
    {
     "data": {
      "text/html": [
       "<script>requirejs.config({paths: { 'plotly': ['https://cdn.plot.ly/plotly-latest.min']},});if(!window.Plotly) {{require(['plotly'],function(plotly) {window.Plotly=plotly;});}}</script>"
      ],
      "text/vnd.plotly.v1+html": [
       "<script>requirejs.config({paths: { 'plotly': ['https://cdn.plot.ly/plotly-latest.min']},});if(!window.Plotly) {{require(['plotly'],function(plotly) {window.Plotly=plotly;});}}</script>"
      ]
     },
     "metadata": {},
     "output_type": "display_data"
    }
   ],
   "source": [
    "import pandas as pd\n",
    "import numpy as np\n",
    "from plotly.offline import download_plotlyjs, init_notebook_mode, plot, iplot\n",
    "import plotly\n",
    "from plotly.graph_objs import Scatter, Figure, Layout, Histogram\n",
    "init_notebook_mode(connected=True)\n",
    "np.random.seed(68)\n",
    "%matplotlib inline"
   ]
  },
  {
   "cell_type": "code",
   "execution_count": 2,
   "metadata": {},
   "outputs": [],
   "source": [
    "df = pd.read_csv(\"performances2.csv\")"
   ]
  },
  {
   "cell_type": "code",
   "execution_count": 3,
   "metadata": {},
   "outputs": [
    {
     "data": {
      "text/html": [
       "<div>\n",
       "<style scoped>\n",
       "    .dataframe tbody tr th:only-of-type {\n",
       "        vertical-align: middle;\n",
       "    }\n",
       "\n",
       "    .dataframe tbody tr th {\n",
       "        vertical-align: top;\n",
       "    }\n",
       "\n",
       "    .dataframe thead th {\n",
       "        text-align: right;\n",
       "    }\n",
       "</style>\n",
       "<table border=\"1\" class=\"dataframe\">\n",
       "  <thead>\n",
       "    <tr style=\"text-align: right;\">\n",
       "      <th></th>\n",
       "      <th>optim</th>\n",
       "      <th>n_functions</th>\n",
       "      <th>time</th>\n",
       "      <th>n_relations</th>\n",
       "      <th>size_max</th>\n",
       "    </tr>\n",
       "  </thead>\n",
       "  <tbody>\n",
       "    <tr>\n",
       "      <th>0</th>\n",
       "      <td>0</td>\n",
       "      <td>1</td>\n",
       "      <td>0.021501</td>\n",
       "      <td>10</td>\n",
       "      <td>10</td>\n",
       "    </tr>\n",
       "    <tr>\n",
       "      <th>1</th>\n",
       "      <td>1</td>\n",
       "      <td>1</td>\n",
       "      <td>0.021263</td>\n",
       "      <td>10</td>\n",
       "      <td>10</td>\n",
       "    </tr>\n",
       "    <tr>\n",
       "      <th>2</th>\n",
       "      <td>2</td>\n",
       "      <td>1</td>\n",
       "      <td>0.023237</td>\n",
       "      <td>10</td>\n",
       "      <td>10</td>\n",
       "    </tr>\n",
       "    <tr>\n",
       "      <th>3</th>\n",
       "      <td>3</td>\n",
       "      <td>1</td>\n",
       "      <td>0.019265</td>\n",
       "      <td>10</td>\n",
       "      <td>10</td>\n",
       "    </tr>\n",
       "    <tr>\n",
       "      <th>4</th>\n",
       "      <td>0</td>\n",
       "      <td>2</td>\n",
       "      <td>0.083337</td>\n",
       "      <td>10</td>\n",
       "      <td>10</td>\n",
       "    </tr>\n",
       "  </tbody>\n",
       "</table>\n",
       "</div>"
      ],
      "text/plain": [
       "   optim  n_functions      time  n_relations  size_max\n",
       "0      0            1  0.021501           10        10\n",
       "1      1            1  0.021263           10        10\n",
       "2      2            1  0.023237           10        10\n",
       "3      3            1  0.019265           10        10\n",
       "4      0            2  0.083337           10        10"
      ]
     },
     "execution_count": 3,
     "metadata": {},
     "output_type": "execute_result"
    }
   ],
   "source": [
    "df.head()"
   ]
  },
  {
   "cell_type": "code",
   "execution_count": 4,
   "metadata": {},
   "outputs": [
    {
     "data": {
      "text/plain": [
       "<matplotlib.axes._subplots.AxesSubplot at 0x7eff1977d470>"
      ]
     },
     "execution_count": 4,
     "metadata": {},
     "output_type": "execute_result"
    },
    {
     "data": {
      "image/png": "[encoded data removed]",
      "text/plain": [
       "<matplotlib.figure.Figure at 0x7eff19767da0>"
      ]
     },
     "metadata": {},
     "output_type": "display_data"
    }
   ],
   "source": [
    "df.plot()"
   ]
  },
  {
   "cell_type": "code",
   "execution_count": 5,
   "metadata": {},
   "outputs": [],
   "source": [
    "df_0 = df[(df[\"optim\"] == 0)].groupby(by=\"n_functions\").agg(np.mean)\n",
    "df_1 = df[(df[\"optim\"] == 1)].groupby(by=\"n_functions\").agg(np.mean)\n",
    "df_2 = df[(df[\"optim\"] == 2)].groupby(by=\"n_functions\").agg(np.mean)\n",
    "df_3 = df[(df[\"optim\"] == 3)].groupby(by=\"n_functions\").agg(np.mean)"
   ]
  },
  {
   "cell_type": "code",
   "execution_count": 6,
   "metadata": {},
   "outputs": [],
   "source": [
    "df_0 = df_0[df_0.index <= 33]\n",
    "df_1 = df_1[df_1.index <= 33]\n",
    "df_2 = df_2[df_2.index <= 33]\n",
    "df_3 = df_3[df_3.index <= 33]"
   ]
  },
  {
   "cell_type": "code",
   "execution_count": 7,
   "metadata": {},
   "outputs": [],
   "source": [
    "data0 = Scatter(x=df_0.index, y=df_0.time, name='Without Rule Order Optimization')\n",
    "data1 = Scatter(x=df_1.index, y=df_1.time, name='With Reverse Order')\n",
    "data2 = Scatter(x=df_2.index, y=df_2.time, name='With Rule Core Number Ordering')\n",
    "data3 = Scatter(x=df_3.index, y=df_3.time, name='With Reverse Rule Core Number Ordering')"
   ]
  },
  {
   "cell_type": "code",
   "execution_count": 8,
   "metadata": {},
   "outputs": [
    {
     "data": {
      "application/vnd.plotly.v1+json": {
       "data": [
        {
         "name": "Without Rule Order Optimization",
         "type": "scatter",
         "x": [
          1,
          2,
          3,
          4,
          5,
          6,
          7,
          8,
          9,
          10,
          11,
          12,
          13,
          14,
          15,
          16,
          17,
          18,
          19,
          20,
          21,
          22,
          23,
          24,
          25,
          26,
          27,
          28,
          29,
          30,
          31,
          32,
          33
         ],
         "y": [
          0.04336802959442139,
          0.13677384853363037,
          0.3437511682510376,
          0.6089012622833252,
          1.0074479103088378,
          1.393268895149231,
          2.342063808441162,
          2.8776227474212646,
          4.097116923332214,
          5.411021971702576,
          7.5018304824829105,
          9.453432297706604,
          11.100977230072022,
          14.225893831253051,
          18.73653907775879,
          22.565327429771422,
          27.475523042678834,
          31.81905357837677,
          37.976415276527405,
          39.1922269821167,
          49.23028280735016,
          59.584901785850526,
          66.90010979175568,
          75.27416191101074,
          89.70981788635254,
          99.41905515193939,
          112.2879817724228,
          126.39952349662781,
          140.41161074638367,
          169.0412024497986,
          188.66392669677734,
          204.2157572031021,
          222.30897245407104
         ]
        },
        {
         "name": "With Reverse Order",
         "type": "scatter",
         "x": [
          1,
          2,
          3,
          4,
          5,
          6,
          7,
          8,
          9,
          10,
          11,
          12,
          13,
          14,
          15,
          16,
          17,
          18,
          19,
          20,
          21,
          22,
          23,
          24,
          25,
          26,
          27,
          28,
          29,
          30,
          31,
          32,
          33
         ],
         "y": [
          0.045820999145507815,
          0.13557357788085939,
          0.33783533573150637,
          0.6112265825271607,
          1.0017369508743286,
          1.5129571199417113,
          2.53380343914032,
          2.922981834411621,
          4.086869597434998,
          5.3651073455810545,
          7.526496481895447,
          9.24672348499298,
          11.054851484298705,
          14.174113345146178,
          18.80360338687897,
          22.394830536842345,
          27.476424765586852,
          32.02145340442657,
          38.05225908756256,
          39.31745953559876,
          48.89339578151703,
          59.42475543022156,
          66.73722865581513,
          75.64008367061615,
          88.46942875385284,
          98.61149108409882,
          111.80980734825134,
          126.88589465618134,
          140.18378145694732,
          165.46377024650573,
          185.72416360378264,
          203.9316797733307,
          221.24266018867493
         ]
        },
        {
         "name": "With Rule Core Number Ordering",
         "type": "scatter",
         "x": [
          1,
          2,
          3,
          4,
          5,
          6,
          7,
          8,
          9,
          10,
          11,
          12,
          13,
          14,
          15,
          16,
          17,
          18,
          19,
          20,
          21,
          22,
          23,
          24,
          25,
          26,
          27,
          28,
          29,
          30,
          31,
          32,
          33
         ],
         "y": [
          0.04673116207122803,
          0.14082605838775636,
          0.31977095603942873,
          0.5861104488372803,
          1.0527810096740722,
          1.3974440574645997,
          2.111833333969116,
          2.599439334869385,
          3.9317537546157837,
          5.2312218189239506,
          6.989485740661621,
          8.399962091445923,
          9.660225129127502,
          12.536425828933716,
          16.582407546043395,
          18.641991090774535,
          22.49500708580017,
          26.009609174728393,
          32.33878953456879,
          33.39508745670319,
          40.64744770526886,
          49.09429519176483,
          56.781031894683835,
          61.46974444389343,
          72.26607630252838,
          80.94109864234925,
          96.40576963424682,
          110.13124322891235,
          120.00963592529297,
          136.52715661525727,
          143.29942140579223,
          155.69225022792816,
          171.27783761024475
         ]
        },
        {
         "name": "With Reverse Rule Core Number Ordering",
         "type": "scatter",
         "x": [
          1,
          2,
          3,
          4,
          5,
          6,
          7,
          8,
          9,
          10,
          11,
          12,
          13,
          14,
          15,
          16,
          17,
          18,
          19,
          20,
          21,
          22,
          23,
          24,
          25,
          26,
          27,
          28,
          29,
          30,
          31,
          32,
          33
         ],
         "y": [
          0.047402024269104004,
          0.14363949298858641,
          0.33363661766052244,
          0.5998193264007569,
          0.9851216793060302,
          1.2923645496368408,
          1.931023859977722,
          2.8029685258865356,
          3.56325101852417,
          4.4059487104415895,
          6.175005698204041,
          8.055434441566467,
          10.376115751266479,
          12.781866717338563,
          16.176216268539427,
          18.837977051734924,
          22.035518646240234,
          25.640119075775146,
          31.27866711616516,
          32.702305698394774,
          40.5487015247345,
          49.17009470462799,
          55.03922338485718,
          60.83589010238647,
          72.17590866088867,
          76.5403290271759,
          85.18525500297547,
          96.10894362926483,
          107.12056334018708,
          119.68270063400269,
          131.03279011249543,
          144.57780005931855,
          164.57675614356995
         ]
        }
       ],
       "layout": {
        "font": {
         "family": "Latin Modern Math",
         "size": 18
        },
        "legend": {
         "x": 0,
         "y": 1
        },
        "xaxis": {
         "autorange": true,
         "autotick": true,
         "showgrid": false,
         "showline": false,
         "showticklabels": true,
         "ticks": "",
         "title": "Number of Functions",
         "zeroline": true
        },
        "yaxis": {
         "autorange": true,
         "autotick": true,
         "showgrid": false,
         "showline": true,
         "showticklabels": true,
         "ticks": "",
         "title": "Time of Computation (in s)",
         "zeroline": true
        }
       }
      },
      "text/html": [
       "<div id=\"8ef30a37-5360-4252-a87a-f056e2fe15d8\" style=\"height: 525px; width: 100%;\" class=\"plotly-graph-div\"></div><script type=\"text/javascript\">require([\"plotly\"], function(Plotly) { window.PLOTLYENV=window.PLOTLYENV || {};window.PLOTLYENV.BASE_URL=\"https://plot.ly\";Plotly.newPlot(\"8ef30a37-5360-4252-a87a-f056e2fe15d8\", [{\"y\": [0.04336802959442139, 0.13677384853363037, 0.3437511682510376, 0.6089012622833252, 1.0074479103088378, 1.393268895149231, 2.342063808441162, 2.8776227474212646, 4.097116923332214, 5.411021971702576, 7.5018304824829105, 9.453432297706604, 11.100977230072022, 14.225893831253051, 18.73653907775879, 22.565327429771422, 27.475523042678834, 31.81905357837677, 37.976415276527405, 39.1922269821167, 49.23028280735016, 59.584901785850526, 66.90010979175568, 75.27416191101074, 89.70981788635254, 99.41905515193939, 112.2879817724228, 126.39952349662781, 140.41161074638367, 169.0412024497986, 188.66392669677734, 204.2157572031021, 222.30897245407104], \"type\": \"scatter\", \"x\": [1, 2, 3, 4, 5, 6, 7, 8, 9, 10, 11, 12, 13, 14, 15, 16, 17, 18, 19, 20, 21, 22, 23, 24, 25, 26, 27, 28, 29, 30, 31, 32, 33], \"name\": \"Without Rule Order Optimization\"}, {\"y\": [0.045820999145507815, 0.13557357788085939, 0.33783533573150637, 0.6112265825271607, 1.0017369508743286, 1.5129571199417113, 2.53380343914032, 2.922981834411621, 4.086869597434998, 5.3651073455810545, 7.526496481895447, 9.24672348499298, 11.054851484298705, 14.174113345146178, 18.80360338687897, 22.394830536842345, 27.476424765586852, 32.02145340442657, 38.05225908756256, 39.31745953559876, 48.89339578151703, 59.42475543022156, 66.73722865581513, 75.64008367061615, 88.46942875385284, 98.61149108409882, 111.80980734825134, 126.88589465618134, 140.18378145694732, 165.46377024650573, 185.72416360378264, 203.9316797733307, 221.24266018867493], \"type\": \"scatter\", \"x\": [1, 2, 3, 4, 5, 6, 7, 8, 9, 10, 11, 12, 13, 14, 15, 16, 17, 18, 19, 20, 21, 22, 23, 24, 25, 26, 27, 28, 29, 30, 31, 32, 33], \"name\": \"With Reverse Order\"}, {\"y\": [0.04673116207122803, 0.14082605838775636, 0.31977095603942873, 0.5861104488372803, 1.0527810096740722, 1.3974440574645997, 2.111833333969116, 2.599439334869385, 3.9317537546157837, 5.2312218189239506, 6.989485740661621, 8.399962091445923, 9.660225129127502, 12.536425828933716, 16.582407546043395, 18.641991090774535, 22.49500708580017, 26.009609174728393, 32.33878953456879, 33.39508745670319, 40.64744770526886, 49.09429519176483, 56.781031894683835, 61.46974444389343, 72.26607630252838, 80.94109864234925, 96.40576963424682, 110.13124322891235, 120.00963592529297, 136.52715661525727, 143.29942140579223, 155.69225022792816, 171.27783761024475], \"type\": \"scatter\", \"x\": [1, 2, 3, 4, 5, 6, 7, 8, 9, 10, 11, 12, 13, 14, 15, 16, 17, 18, 19, 20, 21, 22, 23, 24, 25, 26, 27, 28, 29, 30, 31, 32, 33], \"name\": \"With Rule Core Number Ordering\"}, {\"y\": [0.047402024269104004, 0.14363949298858641, 0.33363661766052244, 0.5998193264007569, 0.9851216793060302, 1.2923645496368408, 1.931023859977722, 2.8029685258865356, 3.56325101852417, 4.4059487104415895, 6.175005698204041, 8.055434441566467, 10.376115751266479, 12.781866717338563, 16.176216268539427, 18.837977051734924, 22.035518646240234, 25.640119075775146, 31.27866711616516, 32.702305698394774, 40.5487015247345, 49.17009470462799, 55.03922338485718, 60.83589010238647, 72.17590866088867, 76.5403290271759, 85.18525500297547, 96.10894362926483, 107.12056334018708, 119.68270063400269, 131.03279011249543, 144.57780005931855, 164.57675614356995], \"type\": \"scatter\", \"x\": [1, 2, 3, 4, 5, 6, 7, 8, 9, 10, 11, 12, 13, 14, 15, 16, 17, 18, 19, 20, 21, 22, 23, 24, 25, 26, 27, 28, 29, 30, 31, 32, 33], \"name\": \"With Reverse Rule Core Number Ordering\"}], {\"xaxis\": {\"title\": \"Number of Functions\", \"showline\": false, \"showgrid\": false, \"autotick\": true, \"autorange\": true, \"showticklabels\": true, \"zeroline\": true, \"ticks\": \"\"}, \"yaxis\": {\"title\": \"Time of Computation (in s)\", \"showline\": true, \"showgrid\": false, \"autotick\": true, \"autorange\": true, \"showticklabels\": true, \"zeroline\": true, \"ticks\": \"\"}, \"font\": {\"size\": 18, \"family\": \"Latin Modern Math\"}, \"legend\": {\"y\": 1, \"x\": 0}}, {\"showLink\": true, \"linkText\": \"Export to plot.ly\"})});</script>"
      ],
      "text/vnd.plotly.v1+html": [
       "<div id=\"8ef30a37-5360-4252-a87a-f056e2fe15d8\" style=\"height: 525px; width: 100%;\" class=\"plotly-graph-div\"></div><script type=\"text/javascript\">require([\"plotly\"], function(Plotly) { window.PLOTLYENV=window.PLOTLYENV || {};window.PLOTLYENV.BASE_URL=\"https://plot.ly\";Plotly.newPlot(\"8ef30a37-5360-4252-a87a-f056e2fe15d8\", [{\"y\": [0.04336802959442139, 0.13677384853363037, 0.3437511682510376, 0.6089012622833252, 1.0074479103088378, 1.393268895149231, 2.342063808441162, 2.8776227474212646, 4.097116923332214, 5.411021971702576, 7.5018304824829105, 9.453432297706604, 11.100977230072022, 14.225893831253051, 18.73653907775879, 22.565327429771422, 27.475523042678834, 31.81905357837677, 37.976415276527405, 39.1922269821167, 49.23028280735016, 59.584901785850526, 66.90010979175568, 75.27416191101074, 89.70981788635254, 99.41905515193939, 112.2879817724228, 126.39952349662781, 140.41161074638367, 169.0412024497986, 188.66392669677734, 204.2157572031021, 222.30897245407104], \"type\": \"scatter\", \"x\": [1, 2, 3, 4, 5, 6, 7, 8, 9, 10, 11, 12, 13, 14, 15, 16, 17, 18, 19, 20, 21, 22, 23, 24, 25, 26, 27, 28, 29, 30, 31, 32, 33], \"name\": \"Without Rule Order Optimization\"}, {\"y\": [0.045820999145507815, 0.13557357788085939, 0.33783533573150637, 0.6112265825271607, 1.0017369508743286, 1.5129571199417113, 2.53380343914032, 2.922981834411621, 4.086869597434998, 5.3651073455810545, 7.526496481895447, 9.24672348499298, 11.054851484298705, 14.174113345146178, 18.80360338687897, 22.394830536842345, 27.476424765586852, 32.02145340442657, 38.05225908756256, 39.31745953559876, 48.89339578151703, 59.42475543022156, 66.73722865581513, 75.64008367061615, 88.46942875385284, 98.61149108409882, 111.80980734825134, 126.88589465618134, 140.18378145694732, 165.46377024650573, 185.72416360378264, 203.9316797733307, 221.24266018867493], \"type\": \"scatter\", \"x\": [1, 2, 3, 4, 5, 6, 7, 8, 9, 10, 11, 12, 13, 14, 15, 16, 17, 18, 19, 20, 21, 22, 23, 24, 25, 26, 27, 28, 29, 30, 31, 32, 33], \"name\": \"With Reverse Order\"}, {\"y\": [0.04673116207122803, 0.14082605838775636, 0.31977095603942873, 0.5861104488372803, 1.0527810096740722, 1.3974440574645997, 2.111833333969116, 2.599439334869385, 3.9317537546157837, 5.2312218189239506, 6.989485740661621, 8.399962091445923, 9.660225129127502, 12.536425828933716, 16.582407546043395, 18.641991090774535, 22.49500708580017, 26.009609174728393, 32.33878953456879, 33.39508745670319, 40.64744770526886, 49.09429519176483, 56.781031894683835, 61.46974444389343, 72.26607630252838, 80.94109864234925, 96.40576963424682, 110.13124322891235, 120.00963592529297, 136.52715661525727, 143.29942140579223, 155.69225022792816, 171.27783761024475], \"type\": \"scatter\", \"x\": [1, 2, 3, 4, 5, 6, 7, 8, 9, 10, 11, 12, 13, 14, 15, 16, 17, 18, 19, 20, 21, 22, 23, 24, 25, 26, 27, 28, 29, 30, 31, 32, 33], \"name\": \"With Rule Core Number Ordering\"}, {\"y\": [0.047402024269104004, 0.14363949298858641, 0.33363661766052244, 0.5998193264007569, 0.9851216793060302, 1.2923645496368408, 1.931023859977722, 2.8029685258865356, 3.56325101852417, 4.4059487104415895, 6.175005698204041, 8.055434441566467, 10.376115751266479, 12.781866717338563, 16.176216268539427, 18.837977051734924, 22.035518646240234, 25.640119075775146, 31.27866711616516, 32.702305698394774, 40.5487015247345, 49.17009470462799, 55.03922338485718, 60.83589010238647, 72.17590866088867, 76.5403290271759, 85.18525500297547, 96.10894362926483, 107.12056334018708, 119.68270063400269, 131.03279011249543, 144.57780005931855, 164.57675614356995], \"type\": \"scatter\", \"x\": [1, 2, 3, 4, 5, 6, 7, 8, 9, 10, 11, 12, 13, 14, 15, 16, 17, 18, 19, 20, 21, 22, 23, 24, 25, 26, 27, 28, 29, 30, 31, 32, 33], \"name\": \"With Reverse Rule Core Number Ordering\"}], {\"xaxis\": {\"title\": \"Number of Functions\", \"showline\": false, \"showgrid\": false, \"autotick\": true, \"autorange\": true, \"showticklabels\": true, \"zeroline\": true, \"ticks\": \"\"}, \"yaxis\": {\"title\": \"Time of Computation (in s)\", \"showline\": true, \"showgrid\": false, \"autotick\": true, \"autorange\": true, \"showticklabels\": true, \"zeroline\": true, \"ticks\": \"\"}, \"font\": {\"size\": 18, \"family\": \"Latin Modern Math\"}, \"legend\": {\"y\": 1, \"x\": 0}}, {\"showLink\": true, \"linkText\": \"Export to plot.ly\"})});</script>"
      ]
     },
     "metadata": {},
     "output_type": "display_data"
    }
   ],
   "source": [
    "layout = Layout(\n",
    "  #  title='Comparisation Performance With Rule Order Optimization',\n",
    "    font=dict(family='Latin Modern Math', size=6*3),\n",
    "    xaxis=dict(\n",
    "        title='Number of Functions',\n",
    "        autorange=True,\n",
    "        showgrid=False,\n",
    "        zeroline=True,\n",
    "        showline=False,\n",
    "        autotick=True,\n",
    "        ticks='',\n",
    "        showticklabels=True\n",
    "    ),\n",
    "    yaxis=dict(\n",
    "        title='Time of Computation (in s)',\n",
    "        autorange=True,\n",
    "        showgrid=False,\n",
    "        zeroline=True,\n",
    "        showline=True,\n",
    "        autotick=True,\n",
    "        ticks='',\n",
    "        showticklabels=True\n",
    "    ),\n",
    "    legend=dict(x=0, y=1)\n",
    ")\n",
    "fig = Figure(data=[data0, data1, data2, data3], layout=layout)\n",
    "iplot(fig)"
   ]
  },
  {
   "cell_type": "code",
   "execution_count": 9,
   "metadata": {},
   "outputs": [],
   "source": [
    "data3 = Scatter(x=df_0.index, y=(np.array(df_0.time)-np.array(df_2.time)))"
   ]
  },
  {
   "cell_type": "code",
   "execution_count": 10,
   "metadata": {},
   "outputs": [
    {
     "data": {
      "application/vnd.plotly.v1+json": {
       "data": [
        {
         "type": "scatter",
         "x": [
          1,
          2,
          3,
          4,
          5,
          6,
          7,
          8,
          9,
          10,
          11,
          12,
          13,
          14,
          15,
          16,
          17,
          18,
          19,
          20,
          21,
          22,
          23,
          24,
          25,
          26,
          27,
          28,
          29,
          30,
          31,
          32,
          33
         ],
         "y": [
          -0.0033631324768066406,
          -0.004052209854125993,
          0.023980212211608842,
          0.022790813446044944,
          -0.04533309936523433,
          -0.004175162315368741,
          0.2302304744720458,
          0.2781834125518796,
          0.1653631687164303,
          0.1798001527786255,
          0.5123447418212894,
          1.0534702062606804,
          1.44075210094452,
          1.6894680023193356,
          2.154131531715393,
          3.9233363389968865,
          4.980515956878662,
          5.809444403648378,
          5.637625741958615,
          5.797139525413513,
          8.582835102081297,
          10.490606594085698,
          10.119077897071847,
          13.804417467117304,
          17.443741583824163,
          18.477956509590143,
          15.882212138175973,
          16.268280267715454,
          20.401974821090704,
          32.51404583454132,
          45.36450529098511,
          48.523506975173945,
          51.031134843826294
         ]
        }
       ],
       "layout": {}
      },
      "text/html": [
       "<div id=\"4454dde7-054e-4ab9-b5a6-e0918617efb1\" style=\"height: 525px; width: 100%;\" class=\"plotly-graph-div\"></div><script type=\"text/javascript\">require([\"plotly\"], function(Plotly) { window.PLOTLYENV=window.PLOTLYENV || {};window.PLOTLYENV.BASE_URL=\"https://plot.ly\";Plotly.newPlot(\"4454dde7-054e-4ab9-b5a6-e0918617efb1\", [{\"y\": [-0.0033631324768066406, -0.004052209854125993, 0.023980212211608842, 0.022790813446044944, -0.04533309936523433, -0.004175162315368741, 0.2302304744720458, 0.2781834125518796, 0.1653631687164303, 0.1798001527786255, 0.5123447418212894, 1.0534702062606804, 1.44075210094452, 1.6894680023193356, 2.154131531715393, 3.9233363389968865, 4.980515956878662, 5.809444403648378, 5.637625741958615, 5.797139525413513, 8.582835102081297, 10.490606594085698, 10.119077897071847, 13.804417467117304, 17.443741583824163, 18.477956509590143, 15.882212138175973, 16.268280267715454, 20.401974821090704, 32.51404583454132, 45.36450529098511, 48.523506975173945, 51.031134843826294], \"type\": \"scatter\", \"x\": [1, 2, 3, 4, 5, 6, 7, 8, 9, 10, 11, 12, 13, 14, 15, 16, 17, 18, 19, 20, 21, 22, 23, 24, 25, 26, 27, 28, 29, 30, 31, 32, 33]}], {}, {\"showLink\": true, \"linkText\": \"Export to plot.ly\"})});</script>"
      ],
      "text/vnd.plotly.v1+html": [
       "<div id=\"4454dde7-054e-4ab9-b5a6-e0918617efb1\" style=\"height: 525px; width: 100%;\" class=\"plotly-graph-div\"></div><script type=\"text/javascript\">require([\"plotly\"], function(Plotly) { window.PLOTLYENV=window.PLOTLYENV || {};window.PLOTLYENV.BASE_URL=\"https://plot.ly\";Plotly.newPlot(\"4454dde7-054e-4ab9-b5a6-e0918617efb1\", [{\"y\": [-0.0033631324768066406, -0.004052209854125993, 0.023980212211608842, 0.022790813446044944, -0.04533309936523433, -0.004175162315368741, 0.2302304744720458, 0.2781834125518796, 0.1653631687164303, 0.1798001527786255, 0.5123447418212894, 1.0534702062606804, 1.44075210094452, 1.6894680023193356, 2.154131531715393, 3.9233363389968865, 4.980515956878662, 5.809444403648378, 5.637625741958615, 5.797139525413513, 8.582835102081297, 10.490606594085698, 10.119077897071847, 13.804417467117304, 17.443741583824163, 18.477956509590143, 15.882212138175973, 16.268280267715454, 20.401974821090704, 32.51404583454132, 45.36450529098511, 48.523506975173945, 51.031134843826294], \"type\": \"scatter\", \"x\": [1, 2, 3, 4, 5, 6, 7, 8, 9, 10, 11, 12, 13, 14, 15, 16, 17, 18, 19, 20, 21, 22, 23, 24, 25, 26, 27, 28, 29, 30, 31, 32, 33]}], {}, {\"showLink\": true, \"linkText\": \"Export to plot.ly\"})});</script>"
      ]
     },
     "metadata": {},
     "output_type": "display_data"
    }
   ],
   "source": [
    "iplot([data3])"
   ]
  },
  {
   "cell_type": "code",
   "execution_count": 11,
   "metadata": {},
   "outputs": [],
   "source": [
    "dt = (np.array(df_0.time)-np.array(df_2.time))"
   ]
  },
  {
   "cell_type": "code",
   "execution_count": 12,
   "metadata": {},
   "outputs": [],
   "source": [
    "window_size = 5\n",
    "dt_smooth = []"
   ]
  },
  {
   "cell_type": "code",
   "execution_count": 13,
   "metadata": {},
   "outputs": [],
   "source": [
    "for i in range(len(dt) - window_size):\n",
    "    dt_smooth.append(dt[i:i+5].mean())"
   ]
  },
  {
   "cell_type": "code",
   "execution_count": 14,
   "metadata": {},
   "outputs": [],
   "source": [
    "data4 = Scatter(x=np.array(range(len(dt_smooth))), y=dt_smooth)"
   ]
  },
  {
   "cell_type": "code",
   "execution_count": 15,
   "metadata": {},
   "outputs": [
    {
     "data": {
      "application/vnd.plotly.v1+json": {
       "data": [
        {
         "type": "scatter",
         "x": [
          0,
          1,
          2,
          3,
          4,
          5,
          6,
          7,
          8,
          9,
          10,
          11,
          12,
          13,
          14,
          15,
          16,
          17,
          18,
          19,
          20,
          21,
          22,
          23,
          24,
          25,
          26,
          27
         ],
         "y": [
          -0.0011954832077026357,
          -0.0013578891754150557,
          0.0454986476898193,
          0.09633928775787345,
          0.12485375881195053,
          0.1698804092407225,
          0.2731843900680541,
          0.43783233642578107,
          0.6703460741043091,
          0.9751670408248903,
          1.3700333166122438,
          2.052231636047363,
          2.8376407861709594,
          3.7113792467117306,
          4.501010794639587,
          5.229612393379211,
          6.1615121459960935,
          7.2635302734375005,
          8.125456972122194,
          9.758815317153932,
          12.088135728836061,
          14.06716001033783,
          15.145481119155885,
          16.375321593284607,
          17.694833064079287,
          20.70889391422272,
          26.08620367050171,
          32.614462637901305
         ]
        }
       ],
       "layout": {}
      },
      "text/html": [
       "<div id=\"baf8db04-c1b2-4876-8963-f272c1d4d458\" style=\"height: 525px; width: 100%;\" class=\"plotly-graph-div\"></div><script type=\"text/javascript\">require([\"plotly\"], function(Plotly) { window.PLOTLYENV=window.PLOTLYENV || {};window.PLOTLYENV.BASE_URL=\"https://plot.ly\";Plotly.newPlot(\"baf8db04-c1b2-4876-8963-f272c1d4d458\", [{\"y\": [-0.0011954832077026357, -0.0013578891754150557, 0.0454986476898193, 0.09633928775787345, 0.12485375881195053, 0.1698804092407225, 0.2731843900680541, 0.43783233642578107, 0.6703460741043091, 0.9751670408248903, 1.3700333166122438, 2.052231636047363, 2.8376407861709594, 3.7113792467117306, 4.501010794639587, 5.229612393379211, 6.1615121459960935, 7.2635302734375005, 8.125456972122194, 9.758815317153932, 12.088135728836061, 14.06716001033783, 15.145481119155885, 16.375321593284607, 17.694833064079287, 20.70889391422272, 26.08620367050171, 32.614462637901305], \"type\": \"scatter\", \"x\": [0, 1, 2, 3, 4, 5, 6, 7, 8, 9, 10, 11, 12, 13, 14, 15, 16, 17, 18, 19, 20, 21, 22, 23, 24, 25, 26, 27]}], {}, {\"showLink\": true, \"linkText\": \"Export to plot.ly\"})});</script>"
      ],
      "text/vnd.plotly.v1+html": [
       "<div id=\"baf8db04-c1b2-4876-8963-f272c1d4d458\" style=\"height: 525px; width: 100%;\" class=\"plotly-graph-div\"></div><script type=\"text/javascript\">require([\"plotly\"], function(Plotly) { window.PLOTLYENV=window.PLOTLYENV || {};window.PLOTLYENV.BASE_URL=\"https://plot.ly\";Plotly.newPlot(\"baf8db04-c1b2-4876-8963-f272c1d4d458\", [{\"y\": [-0.0011954832077026357, -0.0013578891754150557, 0.0454986476898193, 0.09633928775787345, 0.12485375881195053, 0.1698804092407225, 0.2731843900680541, 0.43783233642578107, 0.6703460741043091, 0.9751670408248903, 1.3700333166122438, 2.052231636047363, 2.8376407861709594, 3.7113792467117306, 4.501010794639587, 5.229612393379211, 6.1615121459960935, 7.2635302734375005, 8.125456972122194, 9.758815317153932, 12.088135728836061, 14.06716001033783, 15.145481119155885, 16.375321593284607, 17.694833064079287, 20.70889391422272, 26.08620367050171, 32.614462637901305], \"type\": \"scatter\", \"x\": [0, 1, 2, 3, 4, 5, 6, 7, 8, 9, 10, 11, 12, 13, 14, 15, 16, 17, 18, 19, 20, 21, 22, 23, 24, 25, 26, 27]}], {}, {\"showLink\": true, \"linkText\": \"Export to plot.ly\"})});</script>"
      ]
     },
     "metadata": {},
     "output_type": "display_data"
    }
   ],
   "source": [
    "iplot([data4])"
   ]
  },
  {
   "cell_type": "code",
   "execution_count": 16,
   "metadata": {},
   "outputs": [],
   "source": [
    "df05 = df[(df[\"n_relations\"] == 5)].groupby(by=\"n_functions\").agg(np.mean)\n",
    "df10 = df[(df[\"n_relations\"] == 10)].groupby(by=\"n_functions\").agg(np.mean)\n",
    "df15 = df[(df[\"n_relations\"] == 15)].groupby(by=\"n_functions\").agg(np.mean)\n",
    "df20 = df[(df[\"n_relations\"] == 20)].groupby(by=\"n_functions\").agg(np.mean)\n",
    "df30 = df[(df[\"n_relations\"] == 30)].groupby(by=\"n_functions\").agg(np.mean)"
   ]
  },
  {
   "cell_type": "code",
   "execution_count": 17,
   "metadata": {},
   "outputs": [],
   "source": [
    "data05 = Scatter(x=df05.index, y=df05.time, name=\"With 5 Relations\")\n",
    "data10 = Scatter(x=df10.index, y=df10.time, name=\"With 10 Relations\")\n",
    "data15 = Scatter(x=df15.index, y=df15.time, name=\"With 15 Relations\")\n",
    "data20 = Scatter(x=df20.index, y=df20.time, name=\"With 20 Relations\")\n",
    "data30 = Scatter(x=df30.index, y=df30.time, name=\"With 30 Relations\")"
   ]
  },
  {
   "cell_type": "code",
   "execution_count": 19,
   "metadata": {},
   "outputs": [
    {
     "data": {
      "application/vnd.plotly.v1+json": {
       "data": [
        {
         "name": "With 5 Relations",
         "type": "scatter",
         "x": [
          1,
          2,
          3,
          4,
          5,
          6,
          7,
          8,
          9,
          10,
          11,
          12,
          13,
          14,
          15,
          16,
          17,
          18,
          19,
          20,
          21,
          22,
          23,
          24,
          25,
          26,
          27,
          28,
          29,
          30,
          31,
          32,
          33
         ],
         "y": [
          0.06309711933135986,
          0.10659143328666687,
          0.2632282078266144,
          0.7227753400802612,
          1.1923618018627167,
          1.6627105474472046,
          1.9614786803722382,
          2.245090901851654,
          2.4439031779766083,
          5.234781414270401,
          8.381174713373184,
          10.835369229316711,
          14.430335998535156,
          18.552334785461426,
          25.7380131483078,
          34.211269438266754,
          41.20908918976784,
          43.68101453781128,
          56.32674694061279,
          58.62702485918999,
          73.67858466506004,
          96.85695597529411,
          105.63107752799988,
          117.03270754218102,
          147.53176966309547,
          162.85260021686554,
          199.3806679546833,
          236.55171939730644,
          263.65990152955055,
          323.8482367694378,
          346.978138923645,
          387.97603222727776,
          441.08099311590195
         ]
        },
        {
         "name": "With 10 Relations",
         "type": "scatter",
         "x": [
          1,
          2,
          3,
          4,
          5,
          6,
          7,
          8,
          9,
          10,
          11,
          12,
          13,
          14,
          15,
          16,
          17,
          18,
          19,
          20,
          21,
          22,
          23,
          24,
          25,
          26,
          27,
          28,
          29,
          30,
          31,
          32,
          33,
          34,
          35
         ],
         "y": [
          0.0289647380510966,
          0.1014455755551656,
          0.296828031539917,
          0.6134116252263387,
          1.1907071471214294,
          1.7210972309112549,
          2.584709326426188,
          3.8755462368329368,
          5.730266133944194,
          6.8323065638542175,
          9.63057521979014,
          12.219095488389334,
          12.86614422003428,
          17.711657484372456,
          24.120989720026653,
          27.49564814567566,
          33.771451572577156,
          39.49882256984711,
          45.703132013479866,
          46.01831499735514,
          59.63626426458359,
          71.12993506590526,
          81.98450499773026,
          93.45970624685287,
          106.27902468045552,
          112.27619423468907,
          125.11669113238652,
          136.80277067422867,
          145.93136324485144,
          165.53788862625757,
          196.29107201099396,
          207.5098486940066,
          218.55021653572717,
          232.88483158747354,
          253.6410358349482
         ]
        },
        {
         "name": "With 15 Relations",
         "type": "scatter",
         "x": [
          1,
          2,
          3,
          4,
          5,
          6,
          7,
          8,
          9,
          10,
          11,
          12,
          13,
          14,
          15,
          16,
          17,
          18,
          19,
          20,
          21,
          22,
          23,
          24,
          25,
          26,
          27,
          28,
          29,
          30,
          31,
          32,
          33,
          34,
          35
         ],
         "y": [
          0.0827450156211853,
          0.2422170639038086,
          0.5232430994510651,
          0.6437371075153351,
          0.8626865744590759,
          1.0274453461170197,
          1.3515115678310394,
          2.060828775167465,
          3.53803214430809,
          3.7429401576519012,
          4.117259204387665,
          4.55510139465332,
          7.347796201705933,
          9.299887031316757,
          11.153924196958542,
          11.664598494768143,
          15.63227066397667,
          21.94231817126274,
          27.108702808618546,
          29.91389936208725,
          33.01722940802574,
          36.68878337740898,
          42.487869173288345,
          47.14313554763794,
          52.552231311798096,
          64.04962491989136,
          65.48149758577347,
          72.05389603972435,
          87.90257659554482,
          97.87528443336487,
          100.55067449808121,
          104.42734783887863,
          117.41120409965515,
          122.93771979212761,
          131.2342658340931
         ]
        },
        {
         "name": "With 20 Relations",
         "type": "scatter",
         "x": [
          1,
          2,
          3,
          4,
          5,
          6,
          7,
          8,
          9,
          10,
          11,
          12,
          13,
          14,
          15,
          16,
          17,
          18,
          19,
          20,
          21,
          22,
          23,
          24,
          25,
          26,
          27,
          28,
          29,
          30,
          31,
          32,
          33,
          34,
          35
         ],
         "y": [
          0.02596735954284668,
          0.16514438390731812,
          0.3357713222503662,
          0.538621187210083,
          1.0181632041931152,
          1.4211198389530182,
          3.464200496673584,
          3.118157058954239,
          4.236885040998459,
          4.854467958211899,
          5.623332768678665,
          7.481594115495682,
          8.475635796785355,
          9.07267951965332,
          10.276087254285812,
          11.270134150981903,
          12.110249996185303,
          14.690796911716461,
          17.583046436309814,
          16.5930495262146,
          18.966255009174347,
          21.56678667664528,
          23.104919970035553,
          24.010380536317825,
          28.733607351779938,
          30.07342666387558,
          32.7520067691803,
          37.108446806669235,
          38.50752279162407,
          42.83070942759514,
          43.32925766706467,
          55.79686316847801,
          58.984496265649796,
          64.26362347602844,
          66.30434912443161
         ]
        }
       ],
       "layout": {
        "font": {
         "family": "Latin Modern Math",
         "size": 18
        },
        "legend": {
         "x": 0,
         "y": 1
        },
        "xaxis": {
         "autorange": true,
         "autotick": true,
         "showgrid": false,
         "showline": false,
         "showticklabels": true,
         "ticks": "",
         "title": "Number of Functions",
         "zeroline": true
        },
        "yaxis": {
         "autorange": true,
         "autotick": true,
         "showgrid": false,
         "showline": true,
         "showticklabels": true,
         "ticks": "",
         "title": "Time of Computation (in s)",
         "zeroline": true
        }
       }
      },
      "text/html": [
       "<div id=\"75213197-be96-4ad2-846b-abd63fd8db44\" style=\"height: 525px; width: 100%;\" class=\"plotly-graph-div\"></div><script type=\"text/javascript\">require([\"plotly\"], function(Plotly) { window.PLOTLYENV=window.PLOTLYENV || {};window.PLOTLYENV.BASE_URL=\"https://plot.ly\";Plotly.newPlot(\"75213197-be96-4ad2-846b-abd63fd8db44\", [{\"y\": [0.06309711933135986, 0.10659143328666687, 0.2632282078266144, 0.7227753400802612, 1.1923618018627167, 1.6627105474472046, 1.9614786803722382, 2.245090901851654, 2.4439031779766083, 5.234781414270401, 8.381174713373184, 10.835369229316711, 14.430335998535156, 18.552334785461426, 25.7380131483078, 34.211269438266754, 41.20908918976784, 43.68101453781128, 56.32674694061279, 58.62702485918999, 73.67858466506004, 96.85695597529411, 105.63107752799988, 117.03270754218102, 147.53176966309547, 162.85260021686554, 199.3806679546833, 236.55171939730644, 263.65990152955055, 323.8482367694378, 346.978138923645, 387.97603222727776, 441.08099311590195], \"type\": \"scatter\", \"x\": [1, 2, 3, 4, 5, 6, 7, 8, 9, 10, 11, 12, 13, 14, 15, 16, 17, 18, 19, 20, 21, 22, 23, 24, 25, 26, 27, 28, 29, 30, 31, 32, 33], \"name\": \"With 5 Relations\"}, {\"y\": [0.0289647380510966, 0.1014455755551656, 0.296828031539917, 0.6134116252263387, 1.1907071471214294, 1.7210972309112549, 2.584709326426188, 3.8755462368329368, 5.730266133944194, 6.8323065638542175, 9.63057521979014, 12.219095488389334, 12.86614422003428, 17.711657484372456, 24.120989720026653, 27.49564814567566, 33.771451572577156, 39.49882256984711, 45.703132013479866, 46.01831499735514, 59.63626426458359, 71.12993506590526, 81.98450499773026, 93.45970624685287, 106.27902468045552, 112.27619423468907, 125.11669113238652, 136.80277067422867, 145.93136324485144, 165.53788862625757, 196.29107201099396, 207.5098486940066, 218.55021653572717, 232.88483158747354, 253.6410358349482], \"type\": \"scatter\", \"x\": [1, 2, 3, 4, 5, 6, 7, 8, 9, 10, 11, 12, 13, 14, 15, 16, 17, 18, 19, 20, 21, 22, 23, 24, 25, 26, 27, 28, 29, 30, 31, 32, 33, 34, 35], \"name\": \"With 10 Relations\"}, {\"y\": [0.0827450156211853, 0.2422170639038086, 0.5232430994510651, 0.6437371075153351, 0.8626865744590759, 1.0274453461170197, 1.3515115678310394, 2.060828775167465, 3.53803214430809, 3.7429401576519012, 4.117259204387665, 4.55510139465332, 7.347796201705933, 9.299887031316757, 11.153924196958542, 11.664598494768143, 15.63227066397667, 21.94231817126274, 27.108702808618546, 29.91389936208725, 33.01722940802574, 36.68878337740898, 42.487869173288345, 47.14313554763794, 52.552231311798096, 64.04962491989136, 65.48149758577347, 72.05389603972435, 87.90257659554482, 97.87528443336487, 100.55067449808121, 104.42734783887863, 117.41120409965515, 122.93771979212761, 131.2342658340931], \"type\": \"scatter\", \"x\": [1, 2, 3, 4, 5, 6, 7, 8, 9, 10, 11, 12, 13, 14, 15, 16, 17, 18, 19, 20, 21, 22, 23, 24, 25, 26, 27, 28, 29, 30, 31, 32, 33, 34, 35], \"name\": \"With 15 Relations\"}, {\"y\": [0.02596735954284668, 0.16514438390731812, 0.3357713222503662, 0.538621187210083, 1.0181632041931152, 1.4211198389530182, 3.464200496673584, 3.118157058954239, 4.236885040998459, 4.854467958211899, 5.623332768678665, 7.481594115495682, 8.475635796785355, 9.07267951965332, 10.276087254285812, 11.270134150981903, 12.110249996185303, 14.690796911716461, 17.583046436309814, 16.5930495262146, 18.966255009174347, 21.56678667664528, 23.104919970035553, 24.010380536317825, 28.733607351779938, 30.07342666387558, 32.7520067691803, 37.108446806669235, 38.50752279162407, 42.83070942759514, 43.32925766706467, 55.79686316847801, 58.984496265649796, 64.26362347602844, 66.30434912443161], \"type\": \"scatter\", \"x\": [1, 2, 3, 4, 5, 6, 7, 8, 9, 10, 11, 12, 13, 14, 15, 16, 17, 18, 19, 20, 21, 22, 23, 24, 25, 26, 27, 28, 29, 30, 31, 32, 33, 34, 35], \"name\": \"With 20 Relations\"}], {\"xaxis\": {\"title\": \"Number of Functions\", \"showline\": false, \"showgrid\": false, \"autotick\": true, \"autorange\": true, \"showticklabels\": true, \"zeroline\": true, \"ticks\": \"\"}, \"yaxis\": {\"title\": \"Time of Computation (in s)\", \"showline\": true, \"showgrid\": false, \"autotick\": true, \"autorange\": true, \"showticklabels\": true, \"zeroline\": true, \"ticks\": \"\"}, \"font\": {\"size\": 18, \"family\": \"Latin Modern Math\"}, \"legend\": {\"y\": 1, \"x\": 0}}, {\"showLink\": true, \"linkText\": \"Export to plot.ly\"})});</script>"
      ],
      "text/vnd.plotly.v1+html": [
       "<div id=\"75213197-be96-4ad2-846b-abd63fd8db44\" style=\"height: 525px; width: 100%;\" class=\"plotly-graph-div\"></div><script type=\"text/javascript\">require([\"plotly\"], function(Plotly) { window.PLOTLYENV=window.PLOTLYENV || {};window.PLOTLYENV.BASE_URL=\"https://plot.ly\";Plotly.newPlot(\"75213197-be96-4ad2-846b-abd63fd8db44\", [{\"y\": [0.06309711933135986, 0.10659143328666687, 0.2632282078266144, 0.7227753400802612, 1.1923618018627167, 1.6627105474472046, 1.9614786803722382, 2.245090901851654, 2.4439031779766083, 5.234781414270401, 8.381174713373184, 10.835369229316711, 14.430335998535156, 18.552334785461426, 25.7380131483078, 34.211269438266754, 41.20908918976784, 43.68101453781128, 56.32674694061279, 58.62702485918999, 73.67858466506004, 96.85695597529411, 105.63107752799988, 117.03270754218102, 147.53176966309547, 162.85260021686554, 199.3806679546833, 236.55171939730644, 263.65990152955055, 323.8482367694378, 346.978138923645, 387.97603222727776, 441.08099311590195], \"type\": \"scatter\", \"x\": [1, 2, 3, 4, 5, 6, 7, 8, 9, 10, 11, 12, 13, 14, 15, 16, 17, 18, 19, 20, 21, 22, 23, 24, 25, 26, 27, 28, 29, 30, 31, 32, 33], \"name\": \"With 5 Relations\"}, {\"y\": [0.0289647380510966, 0.1014455755551656, 0.296828031539917, 0.6134116252263387, 1.1907071471214294, 1.7210972309112549, 2.584709326426188, 3.8755462368329368, 5.730266133944194, 6.8323065638542175, 9.63057521979014, 12.219095488389334, 12.86614422003428, 17.711657484372456, 24.120989720026653, 27.49564814567566, 33.771451572577156, 39.49882256984711, 45.703132013479866, 46.01831499735514, 59.63626426458359, 71.12993506590526, 81.98450499773026, 93.45970624685287, 106.27902468045552, 112.27619423468907, 125.11669113238652, 136.80277067422867, 145.93136324485144, 165.53788862625757, 196.29107201099396, 207.5098486940066, 218.55021653572717, 232.88483158747354, 253.6410358349482], \"type\": \"scatter\", \"x\": [1, 2, 3, 4, 5, 6, 7, 8, 9, 10, 11, 12, 13, 14, 15, 16, 17, 18, 19, 20, 21, 22, 23, 24, 25, 26, 27, 28, 29, 30, 31, 32, 33, 34, 35], \"name\": \"With 10 Relations\"}, {\"y\": [0.0827450156211853, 0.2422170639038086, 0.5232430994510651, 0.6437371075153351, 0.8626865744590759, 1.0274453461170197, 1.3515115678310394, 2.060828775167465, 3.53803214430809, 3.7429401576519012, 4.117259204387665, 4.55510139465332, 7.347796201705933, 9.299887031316757, 11.153924196958542, 11.664598494768143, 15.63227066397667, 21.94231817126274, 27.108702808618546, 29.91389936208725, 33.01722940802574, 36.68878337740898, 42.487869173288345, 47.14313554763794, 52.552231311798096, 64.04962491989136, 65.48149758577347, 72.05389603972435, 87.90257659554482, 97.87528443336487, 100.55067449808121, 104.42734783887863, 117.41120409965515, 122.93771979212761, 131.2342658340931], \"type\": \"scatter\", \"x\": [1, 2, 3, 4, 5, 6, 7, 8, 9, 10, 11, 12, 13, 14, 15, 16, 17, 18, 19, 20, 21, 22, 23, 24, 25, 26, 27, 28, 29, 30, 31, 32, 33, 34, 35], \"name\": \"With 15 Relations\"}, {\"y\": [0.02596735954284668, 0.16514438390731812, 0.3357713222503662, 0.538621187210083, 1.0181632041931152, 1.4211198389530182, 3.464200496673584, 3.118157058954239, 4.236885040998459, 4.854467958211899, 5.623332768678665, 7.481594115495682, 8.475635796785355, 9.07267951965332, 10.276087254285812, 11.270134150981903, 12.110249996185303, 14.690796911716461, 17.583046436309814, 16.5930495262146, 18.966255009174347, 21.56678667664528, 23.104919970035553, 24.010380536317825, 28.733607351779938, 30.07342666387558, 32.7520067691803, 37.108446806669235, 38.50752279162407, 42.83070942759514, 43.32925766706467, 55.79686316847801, 58.984496265649796, 64.26362347602844, 66.30434912443161], \"type\": \"scatter\", \"x\": [1, 2, 3, 4, 5, 6, 7, 8, 9, 10, 11, 12, 13, 14, 15, 16, 17, 18, 19, 20, 21, 22, 23, 24, 25, 26, 27, 28, 29, 30, 31, 32, 33, 34, 35], \"name\": \"With 20 Relations\"}], {\"xaxis\": {\"title\": \"Number of Functions\", \"showline\": false, \"showgrid\": false, \"autotick\": true, \"autorange\": true, \"showticklabels\": true, \"zeroline\": true, \"ticks\": \"\"}, \"yaxis\": {\"title\": \"Time of Computation (in s)\", \"showline\": true, \"showgrid\": false, \"autotick\": true, \"autorange\": true, \"showticklabels\": true, \"zeroline\": true, \"ticks\": \"\"}, \"font\": {\"size\": 18, \"family\": \"Latin Modern Math\"}, \"legend\": {\"y\": 1, \"x\": 0}}, {\"showLink\": true, \"linkText\": \"Export to plot.ly\"})});</script>"
      ]
     },
     "metadata": {},
     "output_type": "display_data"
    }
   ],
   "source": [
    "layout = Layout(\n",
    "    # title='Comparisation Performance With the Total Number of Relations',\n",
    "    font=dict(family='Latin Modern Math', size=6*3),\n",
    "    xaxis=dict(\n",
    "        title='Number of Functions',\n",
    "        autorange=True,\n",
    "        showgrid=False,\n",
    "        zeroline=True,\n",
    "        showline=False,\n",
    "        autotick=True,\n",
    "        ticks='',\n",
    "        showticklabels=True\n",
    "    ),\n",
    "    yaxis=dict(\n",
    "        title='Time of Computation (in s)',\n",
    "        autorange=True,\n",
    "        showgrid=False,\n",
    "        zeroline=True,\n",
    "        showline=True,\n",
    "        autotick=True,\n",
    "        ticks='',\n",
    "        showticklabels=True\n",
    "    ),\n",
    "    legend=dict(x=0, y=1)\n",
    ")\n",
    "fig = Figure(data=[data05, data10, data15, data20], layout=layout)\n",
    "iplot(fig)"
   ]
  },
  {
   "cell_type": "code",
   "execution_count": null,
   "metadata": {},
   "outputs": [],
   "source": []
  }
 ],
 "metadata": {
  "kernelspec": {
   "display_name": "Python 3",
   "language": "python",
   "name": "python3"
  },
  "language_info": {
   "codemirror_mode": {
    "name": "ipython",
    "version": 3
   },
   "file_extension": ".py",
   "mimetype": "text/x-python",
   "name": "python",
   "nbconvert_exporter": "python",
   "pygments_lexer": "ipython3",
   "version": "3.6.4"
  }
 },
 "nbformat": 4,
 "nbformat_minor": 2
}
