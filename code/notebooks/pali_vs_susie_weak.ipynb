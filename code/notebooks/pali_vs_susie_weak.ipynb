{
 "cells": [
  {
   "cell_type": "code",
   "execution_count": 1,
   "metadata": {},
   "outputs": [
    {
     "data": {
      "text/html": [
       "<script>requirejs.config({paths: { 'plotly': ['https://cdn.plot.ly/plotly-latest.min']},});if(!window.Plotly) {{require(['plotly'],function(plotly) {window.Plotly=plotly;});}}</script>"
      ],
      "text/vnd.plotly.v1+html": [
       "<script>requirejs.config({paths: { 'plotly': ['https://cdn.plot.ly/plotly-latest.min']},});if(!window.Plotly) {{require(['plotly'],function(plotly) {window.Plotly=plotly;});}}</script>"
      ]
     },
     "metadata": {},
     "output_type": "display_data"
    }
   ],
   "source": [
    "import pandas as pd\n",
    "%matplotlib inline\n",
    "from plotly.offline import download_plotlyjs, init_notebook_mode, plot, iplot\n",
    "import plotly\n",
    "import numpy as np\n",
    "from plotly.graph_objs import Scatter, Figure, Layout, Histogram, Box\n",
    "init_notebook_mode(connected=True)"
   ]
  },
  {
   "cell_type": "code",
   "execution_count": 2,
   "metadata": {},
   "outputs": [],
   "source": [
    "df = pd.read_csv(\"pali_vs_susie_weak.csv\", header=None, names=[\"pali_not_weak\", \"pali_weak\", \"susie\", \"t_pali_not_weak\",\n",
    "                                                               \"t_pali_weak\", \"t_susie\",\n",
    "                                                          \"n_relations\", \"size_max_function\", \"n_functions\"])"
   ]
  },
  {
   "cell_type": "code",
   "execution_count": 3,
   "metadata": {},
   "outputs": [],
   "source": [
    "df[\"pali_not_weak\"] = ~df[\"pali_not_weak\"]\n",
    "df[\"pali_weak\"] = ~df[\"pali_weak\"]\n",
    "df[\"susie\"] = ~df[\"susie\"]"
   ]
  },
  {
   "cell_type": "code",
   "execution_count": 4,
   "metadata": {},
   "outputs": [
    {
     "data": {
      "text/html": [
       "<div>\n",
       "<style scoped>\n",
       "    .dataframe tbody tr th:only-of-type {\n",
       "        vertical-align: middle;\n",
       "    }\n",
       "\n",
       "    .dataframe tbody tr th {\n",
       "        vertical-align: top;\n",
       "    }\n",
       "\n",
       "    .dataframe thead th {\n",
       "        text-align: right;\n",
       "    }\n",
       "</style>\n",
       "<table border=\"1\" class=\"dataframe\">\n",
       "  <thead>\n",
       "    <tr style=\"text-align: right;\">\n",
       "      <th></th>\n",
       "      <th>pali_not_weak</th>\n",
       "      <th>pali_weak</th>\n",
       "      <th>susie</th>\n",
       "      <th>t_pali_not_weak</th>\n",
       "      <th>t_pali_weak</th>\n",
       "      <th>t_susie</th>\n",
       "      <th>n_relations</th>\n",
       "      <th>size_max_function</th>\n",
       "      <th>n_functions</th>\n",
       "    </tr>\n",
       "  </thead>\n",
       "  <tbody>\n",
       "    <tr>\n",
       "      <th>0</th>\n",
       "      <td>False</td>\n",
       "      <td>False</td>\n",
       "      <td>False</td>\n",
       "      <td>0.000913</td>\n",
       "      <td>0.001382</td>\n",
       "      <td>0.001617</td>\n",
       "      <td>10</td>\n",
       "      <td>3</td>\n",
       "      <td>5</td>\n",
       "    </tr>\n",
       "    <tr>\n",
       "      <th>1</th>\n",
       "      <td>False</td>\n",
       "      <td>False</td>\n",
       "      <td>False</td>\n",
       "      <td>0.000662</td>\n",
       "      <td>0.001010</td>\n",
       "      <td>0.001062</td>\n",
       "      <td>10</td>\n",
       "      <td>3</td>\n",
       "      <td>5</td>\n",
       "    </tr>\n",
       "    <tr>\n",
       "      <th>2</th>\n",
       "      <td>False</td>\n",
       "      <td>False</td>\n",
       "      <td>False</td>\n",
       "      <td>0.000539</td>\n",
       "      <td>0.000793</td>\n",
       "      <td>0.000958</td>\n",
       "      <td>10</td>\n",
       "      <td>3</td>\n",
       "      <td>5</td>\n",
       "    </tr>\n",
       "    <tr>\n",
       "      <th>3</th>\n",
       "      <td>False</td>\n",
       "      <td>False</td>\n",
       "      <td>False</td>\n",
       "      <td>0.000649</td>\n",
       "      <td>0.001001</td>\n",
       "      <td>0.001257</td>\n",
       "      <td>10</td>\n",
       "      <td>3</td>\n",
       "      <td>5</td>\n",
       "    </tr>\n",
       "    <tr>\n",
       "      <th>4</th>\n",
       "      <td>False</td>\n",
       "      <td>False</td>\n",
       "      <td>False</td>\n",
       "      <td>0.000681</td>\n",
       "      <td>0.001044</td>\n",
       "      <td>0.000979</td>\n",
       "      <td>10</td>\n",
       "      <td>3</td>\n",
       "      <td>5</td>\n",
       "    </tr>\n",
       "  </tbody>\n",
       "</table>\n",
       "</div>"
      ],
      "text/plain": [
       "   pali_not_weak  pali_weak  susie  t_pali_not_weak  t_pali_weak   t_susie  \\\n",
       "0          False      False  False         0.000913     0.001382  0.001617   \n",
       "1          False      False  False         0.000662     0.001010  0.001062   \n",
       "2          False      False  False         0.000539     0.000793  0.000958   \n",
       "3          False      False  False         0.000649     0.001001  0.001257   \n",
       "4          False      False  False         0.000681     0.001044  0.000979   \n",
       "\n",
       "   n_relations  size_max_function  n_functions  \n",
       "0           10                  3            5  \n",
       "1           10                  3            5  \n",
       "2           10                  3            5  \n",
       "3           10                  3            5  \n",
       "4           10                  3            5  "
      ]
     },
     "execution_count": 4,
     "metadata": {},
     "output_type": "execute_result"
    }
   ],
   "source": [
    "df.head()"
   ]
  },
  {
   "cell_type": "code",
   "execution_count": 5,
   "metadata": {},
   "outputs": [
    {
     "data": {
      "text/html": [
       "<div>\n",
       "<style scoped>\n",
       "    .dataframe tbody tr th:only-of-type {\n",
       "        vertical-align: middle;\n",
       "    }\n",
       "\n",
       "    .dataframe tbody tr th {\n",
       "        vertical-align: top;\n",
       "    }\n",
       "\n",
       "    .dataframe thead th {\n",
       "        text-align: right;\n",
       "    }\n",
       "</style>\n",
       "<table border=\"1\" class=\"dataframe\">\n",
       "  <thead>\n",
       "    <tr style=\"text-align: right;\">\n",
       "      <th></th>\n",
       "      <th>pali_not_weak</th>\n",
       "      <th>pali_weak</th>\n",
       "      <th>susie</th>\n",
       "    </tr>\n",
       "  </thead>\n",
       "  <tbody>\n",
       "    <tr>\n",
       "      <th>count</th>\n",
       "      <td>33099</td>\n",
       "      <td>33099</td>\n",
       "      <td>33099</td>\n",
       "    </tr>\n",
       "    <tr>\n",
       "      <th>unique</th>\n",
       "      <td>2</td>\n",
       "      <td>2</td>\n",
       "      <td>2</td>\n",
       "    </tr>\n",
       "    <tr>\n",
       "      <th>top</th>\n",
       "      <td>False</td>\n",
       "      <td>False</td>\n",
       "      <td>False</td>\n",
       "    </tr>\n",
       "    <tr>\n",
       "      <th>freq</th>\n",
       "      <td>24292</td>\n",
       "      <td>23017</td>\n",
       "      <td>30499</td>\n",
       "    </tr>\n",
       "  </tbody>\n",
       "</table>\n",
       "</div>"
      ],
      "text/plain": [
       "       pali_not_weak pali_weak  susie\n",
       "count          33099     33099  33099\n",
       "unique             2         2      2\n",
       "top            False     False  False\n",
       "freq           24292     23017  30499"
      ]
     },
     "execution_count": 5,
     "metadata": {},
     "output_type": "execute_result"
    }
   ],
   "source": [
    "df[[\"pali_not_weak\", \"pali_weak\", \"susie\"]].describe()"
   ]
  },
  {
   "cell_type": "code",
   "execution_count": 6,
   "metadata": {},
   "outputs": [],
   "source": [
    "df_n_functions = df[df[\"n_relations\"] == 10]"
   ]
  },
  {
   "cell_type": "code",
   "execution_count": 7,
   "metadata": {},
   "outputs": [],
   "source": [
    "df_grouped = df_n_functions[[\"pali_not_weak\", \"pali_weak\", \"susie\", \"n_functions\"]].groupby(by=\"n_functions\")"
   ]
  },
  {
   "cell_type": "code",
   "execution_count": 8,
   "metadata": {},
   "outputs": [],
   "source": [
    "means = df_grouped.agg(\"mean\")"
   ]
  },
  {
   "cell_type": "code",
   "execution_count": 9,
   "metadata": {},
   "outputs": [
    {
     "data": {
      "text/plain": [
       "<matplotlib.axes._subplots.AxesSubplot at 0x7fd6314fa128>"
      ]
     },
     "execution_count": 9,
     "metadata": {},
     "output_type": "execute_result"
    },
    {
     "data": {
      "image/png": "[encoded data removed]",
      "text/plain": [
       "<Figure size 432x288 with 1 Axes>"
      ]
     },
     "metadata": {},
     "output_type": "display_data"
    }
   ],
   "source": [
    "means.plot(kind=\"line\")"
   ]
  },
  {
   "cell_type": "code",
   "execution_count": 10,
   "metadata": {},
   "outputs": [
    {
     "data": {
      "text/plain": [
       "Int64Index([5, 10, 15, 20, 25, 30, 35, 40, 45, 50, 55, 60, 65], dtype='int64', name='n_functions')"
      ]
     },
     "execution_count": 10,
     "metadata": {},
     "output_type": "execute_result"
    }
   ],
   "source": [
    "means.index"
   ]
  },
  {
   "cell_type": "code",
   "execution_count": 11,
   "metadata": {},
   "outputs": [],
   "source": [
    "data = []\n",
    "data.append(Scatter(x=means.index, y=100*np.array(means[\"pali_not_weak\"]), name=\"Pali not weak\",\n",
    "                   line = dict(\n",
    "        color = ('rgb(0, 0, 0)'),\n",
    "        width = 4))) # dash options include 'dash', 'dot', and 'dashdot'))\n",
    "data.append(Scatter(x=means.index, y=100*np.array(means[\"pali_weak\"]), name=\"Pali weak\",\n",
    "                   line = dict(\n",
    "        color = ('rgb(0, 0, 0)'),\n",
    "        width = 4, dash = \"dashdot\"))) # dash options include 'dash', 'dot', and 'dashdot\n",
    "data.append(Scatter(x=means.index, y=100*np.array(means[\"susie\"]), name=\"Susie\",\n",
    "                   line = dict(\n",
    "        color = ('rgb(0, 0, 0)'),\n",
    "        width = 4,\n",
    "        dash = 'dot')))"
   ]
  },
  {
   "cell_type": "code",
   "execution_count": 12,
   "metadata": {},
   "outputs": [
    {
     "data": {
      "application/vnd.plotly.v1+json": {
       "data": [
        {
         "line": {
          "color": "rgb(0, 0, 0)",
          "width": 4
         },
         "name": "Pali not weak",
         "type": "scatter",
         "x": [
          5,
          10,
          15,
          20,
          25,
          30,
          35,
          40,
          45,
          50,
          55,
          60,
          65
         ],
         "y": [
          2.772727272727273,
          3.5254883277751308,
          8.666666666666668,
          10.944444444444445,
          15,
          24.321428571428573,
          32.44444444444444,
          34.44444444444444,
          39.666666666666664,
          40,
          46,
          44.888888888888886,
          46.94444444444444
         ]
        },
        {
         "line": {
          "color": "rgb(0, 0, 0)",
          "dash": "dashdot",
          "width": 4
         },
         "name": "Pali weak",
         "type": "scatter",
         "x": [
          5,
          10,
          15,
          20,
          25,
          30,
          35,
          40,
          45,
          50,
          55,
          60,
          65
         ],
         "y": [
          3.1363636363636362,
          5.1929490233444495,
          11.444444444444445,
          15.611111111111112,
          20.38888888888889,
          30.214285714285715,
          38.27777777777778,
          40.55555555555556,
          44.72222222222222,
          43.833333333333336,
          49,
          48.72222222222222,
          49.22222222222222
         ]
        },
        {
         "line": {
          "color": "rgb(0, 0, 0)",
          "dash": "dot",
          "width": 4
         },
         "name": "Susie",
         "type": "scatter",
         "x": [
          5,
          10,
          15,
          20,
          25,
          30,
          35,
          40,
          45,
          50,
          55,
          60,
          65
         ],
         "y": [
          0.22727272727272727,
          0.4287756074321105,
          1.7222222222222223,
          1.8888888888888888,
          2.944444444444444,
          5.535714285714286,
          6.666666666666667,
          8,
          10.555555555555555,
          7.444444444444444,
          13.722222222222221,
          12.611111111111112,
          16.166666666666664
         ]
        }
       ],
       "layout": {
        "font": {
         "family": "Latin Modern Math",
         "size": 18
        },
        "legend": {
         "x": 0,
         "y": 1
        },
        "xaxis": {
         "autorange": true,
         "autotick": true,
         "showgrid": false,
         "showline": false,
         "showticklabels": true,
         "ticks": "",
         "title": "Number of Functions",
         "zeroline": false
        },
        "yaxis": {
         "autorange": true,
         "autotick": true,
         "showgrid": false,
         "showline": true,
         "showticklabels": true,
         "ticks": "",
         "title": "Percentage of Answered Queries",
         "zeroline": true
        }
       }
      },
      "text/html": [
       "<div id=\"15d01e82-016f-4b81-b7b9-78b812053d0e\" style=\"height: 525px; width: 100%;\" class=\"plotly-graph-div\"></div><script type=\"text/javascript\">require([\"plotly\"], function(Plotly) { window.PLOTLYENV=window.PLOTLYENV || {};window.PLOTLYENV.BASE_URL=\"https://plot.ly\";Plotly.newPlot(\"15d01e82-016f-4b81-b7b9-78b812053d0e\", [{\"type\": \"scatter\", \"x\": [5, 10, 15, 20, 25, 30, 35, 40, 45, 50, 55, 60, 65], \"y\": [2.772727272727273, 3.5254883277751308, 8.666666666666668, 10.944444444444445, 15.0, 24.321428571428573, 32.44444444444444, 34.44444444444444, 39.666666666666664, 40.0, 46.0, 44.888888888888886, 46.94444444444444], \"name\": \"Pali not weak\", \"line\": {\"color\": \"rgb(0, 0, 0)\", \"width\": 4}}, {\"type\": \"scatter\", \"x\": [5, 10, 15, 20, 25, 30, 35, 40, 45, 50, 55, 60, 65], \"y\": [3.1363636363636362, 5.1929490233444495, 11.444444444444445, 15.611111111111112, 20.38888888888889, 30.214285714285715, 38.27777777777778, 40.55555555555556, 44.72222222222222, 43.833333333333336, 49.0, 48.72222222222222, 49.22222222222222], \"name\": \"Pali weak\", \"line\": {\"color\": \"rgb(0, 0, 0)\", \"width\": 4, \"dash\": \"dashdot\"}}, {\"type\": \"scatter\", \"x\": [5, 10, 15, 20, 25, 30, 35, 40, 45, 50, 55, 60, 65], \"y\": [0.22727272727272727, 0.4287756074321105, 1.7222222222222223, 1.8888888888888888, 2.944444444444444, 5.535714285714286, 6.666666666666667, 8.0, 10.555555555555555, 7.444444444444444, 13.722222222222221, 12.611111111111112, 16.166666666666664], \"name\": \"Susie\", \"line\": {\"color\": \"rgb(0, 0, 0)\", \"width\": 4, \"dash\": \"dot\"}}], {\"font\": {\"family\": \"Latin Modern Math\", \"size\": 18}, \"xaxis\": {\"title\": \"Number of Functions\", \"autorange\": true, \"showgrid\": false, \"zeroline\": false, \"showline\": false, \"autotick\": true, \"ticks\": \"\", \"showticklabels\": true}, \"yaxis\": {\"title\": \"Percentage of Answered Queries\", \"autorange\": true, \"showgrid\": false, \"zeroline\": true, \"showline\": true, \"autotick\": true, \"ticks\": \"\", \"showticklabels\": true}, \"legend\": {\"x\": 0, \"y\": 1}}, {\"showLink\": true, \"linkText\": \"Export to plot.ly\"})});</script>"
      ],
      "text/vnd.plotly.v1+html": [
       "<div id=\"15d01e82-016f-4b81-b7b9-78b812053d0e\" style=\"height: 525px; width: 100%;\" class=\"plotly-graph-div\"></div><script type=\"text/javascript\">require([\"plotly\"], function(Plotly) { window.PLOTLYENV=window.PLOTLYENV || {};window.PLOTLYENV.BASE_URL=\"https://plot.ly\";Plotly.newPlot(\"15d01e82-016f-4b81-b7b9-78b812053d0e\", [{\"type\": \"scatter\", \"x\": [5, 10, 15, 20, 25, 30, 35, 40, 45, 50, 55, 60, 65], \"y\": [2.772727272727273, 3.5254883277751308, 8.666666666666668, 10.944444444444445, 15.0, 24.321428571428573, 32.44444444444444, 34.44444444444444, 39.666666666666664, 40.0, 46.0, 44.888888888888886, 46.94444444444444], \"name\": \"Pali not weak\", \"line\": {\"color\": \"rgb(0, 0, 0)\", \"width\": 4}}, {\"type\": \"scatter\", \"x\": [5, 10, 15, 20, 25, 30, 35, 40, 45, 50, 55, 60, 65], \"y\": [3.1363636363636362, 5.1929490233444495, 11.444444444444445, 15.611111111111112, 20.38888888888889, 30.214285714285715, 38.27777777777778, 40.55555555555556, 44.72222222222222, 43.833333333333336, 49.0, 48.72222222222222, 49.22222222222222], \"name\": \"Pali weak\", \"line\": {\"color\": \"rgb(0, 0, 0)\", \"width\": 4, \"dash\": \"dashdot\"}}, {\"type\": \"scatter\", \"x\": [5, 10, 15, 20, 25, 30, 35, 40, 45, 50, 55, 60, 65], \"y\": [0.22727272727272727, 0.4287756074321105, 1.7222222222222223, 1.8888888888888888, 2.944444444444444, 5.535714285714286, 6.666666666666667, 8.0, 10.555555555555555, 7.444444444444444, 13.722222222222221, 12.611111111111112, 16.166666666666664], \"name\": \"Susie\", \"line\": {\"color\": \"rgb(0, 0, 0)\", \"width\": 4, \"dash\": \"dot\"}}], {\"font\": {\"family\": \"Latin Modern Math\", \"size\": 18}, \"xaxis\": {\"title\": \"Number of Functions\", \"autorange\": true, \"showgrid\": false, \"zeroline\": false, \"showline\": false, \"autotick\": true, \"ticks\": \"\", \"showticklabels\": true}, \"yaxis\": {\"title\": \"Percentage of Answered Queries\", \"autorange\": true, \"showgrid\": false, \"zeroline\": true, \"showline\": true, \"autotick\": true, \"ticks\": \"\", \"showticklabels\": true}, \"legend\": {\"x\": 0, \"y\": 1}}, {\"showLink\": true, \"linkText\": \"Export to plot.ly\"})});</script>"
      ]
     },
     "metadata": {},
     "output_type": "display_data"
    }
   ],
   "source": [
    "layout = Layout(\n",
    "  #  title='Comparisation Performance With Rule Order Optimization',\n",
    "    font=dict(family='Latin Modern Math', size=6*3),\n",
    "    xaxis=dict(\n",
    "        title='Number of Functions',\n",
    "        autorange=True,\n",
    "        showgrid=False,\n",
    "        zeroline=False,\n",
    "        showline=False,\n",
    "        autotick=True,\n",
    "        ticks='',\n",
    "        showticklabels=True\n",
    "    ),\n",
    "    yaxis=dict(\n",
    "        title='Percentage of Answered Queries',\n",
    "        autorange=True,\n",
    "        showgrid=False,\n",
    "        zeroline=True,\n",
    "        showline=True,\n",
    "        autotick=True,\n",
    "        ticks='',\n",
    "        showticklabels=True\n",
    "    ),\n",
    "    legend=dict(x=0, y=1)\n",
    ")\n",
    "fig = Figure(data=data, layout=layout)\n",
    "iplot(fig)"
   ]
  },
  {
   "cell_type": "code",
   "execution_count": 13,
   "metadata": {},
   "outputs": [],
   "source": [
    "df_n_relations = df[df[\"n_functions\"] == 30]"
   ]
  },
  {
   "cell_type": "code",
   "execution_count": 14,
   "metadata": {},
   "outputs": [],
   "source": [
    "df_grouped = df_n_relations[[\"pali_not_weak\", \"pali_weak\", \"susie\", \"n_relations\"]].groupby(by=\"n_relations\")"
   ]
  },
  {
   "cell_type": "code",
   "execution_count": 15,
   "metadata": {},
   "outputs": [],
   "source": [
    "means = df_grouped.agg(\"mean\")"
   ]
  },
  {
   "cell_type": "code",
   "execution_count": 16,
   "metadata": {},
   "outputs": [
    {
     "data": {
      "text/plain": [
       "<matplotlib.axes._subplots.AxesSubplot at 0x7fd66e8908d0>"
      ]
     },
     "execution_count": 16,
     "metadata": {},
     "output_type": "execute_result"
    },
    {
     "data": {
      "image/png": "[encoded data removed]",
      "text/plain": [
       "<Figure size 432x288 with 1 Axes>"
      ]
     },
     "metadata": {},
     "output_type": "display_data"
    }
   ],
   "source": [
    "means.plot(kind=\"line\")"
   ]
  },
  {
   "cell_type": "code",
   "execution_count": 17,
   "metadata": {},
   "outputs": [],
   "source": [
    "data = []\n",
    "data.append(Scatter(x=means.index, y=100*np.array(means[\"pali_not_weak\"]), name=\"Pali not weak\",\n",
    "                   line = dict(\n",
    "        color = ('rgb(0, 0, 0)'),\n",
    "        width = 4))) # dash options include 'dash', 'dot', and 'dashdot'))\n",
    "data.append(Scatter(x=means.index, y=100*np.array(means[\"pali_weak\"]), name=\"Pali weak\",\n",
    "                   line = dict(\n",
    "        color = ('rgb(0, 0, 0)'),\n",
    "        width = 4,\n",
    "        dash = \"dashdot\"))) # dash options include 'dash', 'dot', and 'dashdot'))\n",
    "data.append(Scatter(x=means.index, y=100*np.array(means[\"susie\"]), name=\"Susie\",\n",
    "                   line = dict(\n",
    "        color = ('rgb(0, 0, 0)'),\n",
    "        width = 4,\n",
    "        dash = 'dot')))"
   ]
  },
  {
   "cell_type": "code",
   "execution_count": 18,
   "metadata": {},
   "outputs": [
    {
     "data": {
      "application/vnd.plotly.v1+json": {
       "data": [
        {
         "line": {
          "color": "rgb(0, 0, 0)",
          "width": 4
         },
         "name": "Pali not weak",
         "type": "scatter",
         "x": [
          2,
          4,
          6,
          8,
          10,
          12,
          14,
          16,
          18
         ],
         "y": [
          50.4,
          49.2,
          41,
          33.2,
          24.321428571428573,
          22.400000000000002,
          13.700000000000001,
          8.799999999999999,
          6.2
         ]
        },
        {
         "line": {
          "color": "rgb(0, 0, 0)",
          "dash": "dashdot",
          "width": 4
         },
         "name": "Pali weak",
         "type": "scatter",
         "x": [
          2,
          4,
          6,
          8,
          10,
          12,
          14,
          16,
          18
         ],
         "y": [
          50.4,
          50.2,
          47.099999999999994,
          38.5,
          30.214285714285715,
          27.800000000000004,
          19.2,
          12.4,
          9
         ]
        },
        {
         "line": {
          "color": "rgb(0, 0, 0)",
          "dash": "dot",
          "width": 4
         },
         "name": "Susie",
         "type": "scatter",
         "x": [
          2,
          4,
          6,
          8,
          10,
          12,
          14,
          16,
          18
         ],
         "y": [
          47.099999999999994,
          18.7,
          11.799999999999999,
          9.1,
          5.535714285714286,
          5,
          1.9,
          1.7000000000000002,
          0.7000000000000001
         ]
        }
       ],
       "layout": {
        "font": {
         "family": "Latin Modern Math",
         "size": 18
        },
        "legend": {
         "x": 1,
         "y": 1
        },
        "xaxis": {
         "autorange": true,
         "autotick": true,
         "showgrid": false,
         "showline": false,
         "showticklabels": true,
         "ticks": "",
         "title": "Number of Relations",
         "zeroline": false
        },
        "yaxis": {
         "autorange": true,
         "autotick": true,
         "showgrid": false,
         "showline": true,
         "showticklabels": true,
         "ticks": "",
         "title": "Percentage of Answered Queries",
         "zeroline": true
        }
       }
      },
      "text/html": [
       "<div id=\"50d5a1c8-67b6-4b75-91c2-63cd21d87bfa\" style=\"height: 525px; width: 100%;\" class=\"plotly-graph-div\"></div><script type=\"text/javascript\">require([\"plotly\"], function(Plotly) { window.PLOTLYENV=window.PLOTLYENV || {};window.PLOTLYENV.BASE_URL=\"https://plot.ly\";Plotly.newPlot(\"50d5a1c8-67b6-4b75-91c2-63cd21d87bfa\", [{\"type\": \"scatter\", \"x\": [2, 4, 6, 8, 10, 12, 14, 16, 18], \"y\": [50.4, 49.2, 41.0, 33.2, 24.321428571428573, 22.400000000000002, 13.700000000000001, 8.799999999999999, 6.2], \"name\": \"Pali not weak\", \"line\": {\"color\": \"rgb(0, 0, 0)\", \"width\": 4}}, {\"type\": \"scatter\", \"x\": [2, 4, 6, 8, 10, 12, 14, 16, 18], \"y\": [50.4, 50.2, 47.099999999999994, 38.5, 30.214285714285715, 27.800000000000004, 19.2, 12.4, 9.0], \"name\": \"Pali weak\", \"line\": {\"color\": \"rgb(0, 0, 0)\", \"width\": 4, \"dash\": \"dashdot\"}}, {\"type\": \"scatter\", \"x\": [2, 4, 6, 8, 10, 12, 14, 16, 18], \"y\": [47.099999999999994, 18.7, 11.799999999999999, 9.1, 5.535714285714286, 5.0, 1.9, 1.7000000000000002, 0.7000000000000001], \"name\": \"Susie\", \"line\": {\"color\": \"rgb(0, 0, 0)\", \"width\": 4, \"dash\": \"dot\"}}], {\"font\": {\"family\": \"Latin Modern Math\", \"size\": 18}, \"xaxis\": {\"title\": \"Number of Relations\", \"autorange\": true, \"showgrid\": false, \"zeroline\": false, \"showline\": false, \"autotick\": true, \"ticks\": \"\", \"showticklabels\": true}, \"yaxis\": {\"title\": \"Percentage of Answered Queries\", \"autorange\": true, \"showgrid\": false, \"zeroline\": true, \"showline\": true, \"autotick\": true, \"ticks\": \"\", \"showticklabels\": true}, \"legend\": {\"x\": 1, \"y\": 1}}, {\"showLink\": true, \"linkText\": \"Export to plot.ly\"})});</script>"
      ],
      "text/vnd.plotly.v1+html": [
       "<div id=\"50d5a1c8-67b6-4b75-91c2-63cd21d87bfa\" style=\"height: 525px; width: 100%;\" class=\"plotly-graph-div\"></div><script type=\"text/javascript\">require([\"plotly\"], function(Plotly) { window.PLOTLYENV=window.PLOTLYENV || {};window.PLOTLYENV.BASE_URL=\"https://plot.ly\";Plotly.newPlot(\"50d5a1c8-67b6-4b75-91c2-63cd21d87bfa\", [{\"type\": \"scatter\", \"x\": [2, 4, 6, 8, 10, 12, 14, 16, 18], \"y\": [50.4, 49.2, 41.0, 33.2, 24.321428571428573, 22.400000000000002, 13.700000000000001, 8.799999999999999, 6.2], \"name\": \"Pali not weak\", \"line\": {\"color\": \"rgb(0, 0, 0)\", \"width\": 4}}, {\"type\": \"scatter\", \"x\": [2, 4, 6, 8, 10, 12, 14, 16, 18], \"y\": [50.4, 50.2, 47.099999999999994, 38.5, 30.214285714285715, 27.800000000000004, 19.2, 12.4, 9.0], \"name\": \"Pali weak\", \"line\": {\"color\": \"rgb(0, 0, 0)\", \"width\": 4, \"dash\": \"dashdot\"}}, {\"type\": \"scatter\", \"x\": [2, 4, 6, 8, 10, 12, 14, 16, 18], \"y\": [47.099999999999994, 18.7, 11.799999999999999, 9.1, 5.535714285714286, 5.0, 1.9, 1.7000000000000002, 0.7000000000000001], \"name\": \"Susie\", \"line\": {\"color\": \"rgb(0, 0, 0)\", \"width\": 4, \"dash\": \"dot\"}}], {\"font\": {\"family\": \"Latin Modern Math\", \"size\": 18}, \"xaxis\": {\"title\": \"Number of Relations\", \"autorange\": true, \"showgrid\": false, \"zeroline\": false, \"showline\": false, \"autotick\": true, \"ticks\": \"\", \"showticklabels\": true}, \"yaxis\": {\"title\": \"Percentage of Answered Queries\", \"autorange\": true, \"showgrid\": false, \"zeroline\": true, \"showline\": true, \"autotick\": true, \"ticks\": \"\", \"showticklabels\": true}, \"legend\": {\"x\": 1, \"y\": 1}}, {\"showLink\": true, \"linkText\": \"Export to plot.ly\"})});</script>"
      ]
     },
     "metadata": {},
     "output_type": "display_data"
    }
   ],
   "source": [
    "layout = Layout(\n",
    "  #  title='Comparisation Performance With Rule Order Optimization',\n",
    "    font=dict(family='Latin Modern Math', size=6*3),\n",
    "    xaxis=dict(\n",
    "        title='Number of Relations',\n",
    "        autorange=True,\n",
    "        showgrid=False,\n",
    "        zeroline=False,\n",
    "        showline=False,\n",
    "        autotick=True,\n",
    "        ticks='',\n",
    "        showticklabels=True\n",
    "    ),\n",
    "    yaxis=dict(\n",
    "        title='Percentage of Answered Queries',\n",
    "        autorange=True,\n",
    "        showgrid=False,\n",
    "        zeroline=True,\n",
    "        showline=True,\n",
    "        autotick=True,\n",
    "        ticks='',\n",
    "        showticklabels=True\n",
    "    ),\n",
    "    legend=dict(x=1, y=1)\n",
    ")\n",
    "fig = Figure(data=data, layout=layout)\n",
    "iplot(fig)"
   ]
  },
  {
   "cell_type": "code",
   "execution_count": null,
   "metadata": {},
   "outputs": [],
   "source": []
  },
  {
   "cell_type": "code",
   "execution_count": null,
   "metadata": {},
   "outputs": [],
   "source": []
  }
 ],
 "metadata": {
  "kernelspec": {
   "display_name": "Python 3",
   "language": "python",
   "name": "python3"
  },
  "language_info": {
   "codemirror_mode": {
    "name": "ipython",
    "version": 3
   },
   "file_extension": ".py",
   "mimetype": "text/x-python",
   "name": "python",
   "nbconvert_exporter": "python",
   "pygments_lexer": "ipython3",
   "version": "3.6.4"
  }
 },
 "nbformat": 4,
 "nbformat_minor": 2
}
